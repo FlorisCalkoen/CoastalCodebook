{
 "cells": [
  {
   "attachments": {},
   "cell_type": "markdown",
   "id": "7fd0662f-d6ca-4fd2-97fe-3806ff4f90e9",
   "metadata": {},
   "source": [
    "# Coastal classification "
   ]
  },
  {
   "cell_type": "code",
   "execution_count": 6,
   "id": "f151b6d8-923d-4849-a76e-cadf45c61fac",
   "metadata": {},
   "outputs": [],
   "source": [
    "import os\n",
    "import pathlib\n",
    "import sys\n",
    "\n",
    "# Make coastmonitor library importable by appending root to path\n",
    "cwd = pathlib.Path().resolve()\n",
    "sys.path.append(str(cwd.parent))\n",
    "\n",
    "from utils.geometries import geo_bbox"
   ]
  }
 ],
 "metadata": {
  "kernelspec": {
   "display_name": "planetary",
   "language": "python",
   "name": "python3"
  },
  "language_info": {
   "codemirror_mode": {
    "name": "ipython",
    "version": 3
   },
   "file_extension": ".py",
   "mimetype": "text/x-python",
   "name": "python",
   "nbconvert_exporter": "python",
   "pygments_lexer": "ipython3",
   "version": "3.10.6"
  },
  "vscode": {
   "interpreter": {
    "hash": "67a9153964334593357d2ebb2599fb692c1ad5f30ed4723a62c74e7b3163b0c5"
   }
  }
 },
 "nbformat": 4,
 "nbformat_minor": 5
}
