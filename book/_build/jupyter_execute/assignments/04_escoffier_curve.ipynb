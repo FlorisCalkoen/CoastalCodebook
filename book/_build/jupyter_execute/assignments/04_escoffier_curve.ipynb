{
 "cells": [
  {
   "cell_type": "markdown",
   "metadata": {},
   "source": [
    "# Coastal Systems Notebook 3 (week 9): Escoffier curve\n",
    "\n",
    "In chapter 9 of the book and slides, we learned about tidal inlets and their stability. Tidal inlets are very dynamic and their stability depend on a lot of factors. Escoffier was the first to study the stability of tidal inlets. More specifically, he studied the cross-sectional area of tidal inlets as they change throughout the tidal cycle. From his studies, Escoffier developed the now well-known Escoffier curve. In this notebook we will use an interactive approach to better understand the Escoffier curve. Afterwards you are tasked to answer some questions to verify your knowledge on the topic.\n",
    "\n",
    "Before starting this notebook, make sure you followed the lectures on chapter 9 (or read the slides) and read section 9.5.1 of the book. Also, run the code below to import and check the necessary packages."
   ]
  },
  {
   "cell_type": "code",
   "execution_count": 1,
   "metadata": {
    "execution": {
     "iopub.execute_input": "2023-02-16T12:05:01.214875Z",
     "iopub.status.busy": "2023-02-16T12:05:01.214759Z",
     "iopub.status.idle": "2023-02-16T12:05:01.221527Z",
     "shell.execute_reply": "2023-02-16T12:05:01.220506Z",
     "shell.execute_reply.started": "2023-02-16T12:05:01.214863Z"
    },
    "tags": []
   },
   "outputs": [],
   "source": [
    "import os\n",
    "import pathlib\n",
    "import sys\n",
    "\n",
    "# make coastpy library importable by appending root to path\n",
    "cwd = pathlib.Path().resolve()\n",
    "proj_dir = cwd.parent.parent  # this is the root of the CoastalCodeBook\n",
    "sys.path.append(str(proj_dir / \"src\"))"
   ]
  },
  {
   "cell_type": "code",
   "execution_count": 2,
   "metadata": {
    "execution": {
     "iopub.execute_input": "2023-02-16T12:05:13.705204Z",
     "iopub.status.busy": "2023-02-16T12:05:13.704712Z",
     "iopub.status.idle": "2023-02-16T12:05:13.713533Z",
     "shell.execute_reply": "2023-02-16T12:05:13.710779Z",
     "shell.execute_reply.started": "2023-02-16T12:05:13.705178Z"
    },
    "tags": []
   },
   "outputs": [],
   "source": [
    "import numpy as np\n",
    "import matplotlib.pyplot as plt\n",
    "from ipywidgets import interact, interactive, fixed, interact_manual\n",
    "import ipywidgets as widgets\n",
    "from coastalcodebook.hidden import *\n",
    "\n",
    "DATA_DIR = proj_dir / \"data\"\n",
    "FIG_DIR = proj_dir / \"coastalcodebook\" / \"assignments\" / \"figures\""
   ]
  },
  {
   "cell_type": "markdown",
   "metadata": {},
   "source": [
    "## 1. Creating an Escoffier curve\n",
    "\n",
    "Escoffier’s curve is a so-called closure curve and describes the relationship between maximum channel velocity $u_e$ and the parameter $X$, which is primarily, but not solely, a function of the channel cross-section. If we consider a sinusoidal tidal velocity signal:\n",
    "\n",
    "$$\n",
    "\\begin{aligned}\n",
    "u_e = \\hat{u}_e = \\frac{\\pi P}{A_e T}\n",
    "\\end{aligned}\n",
    "$$\n",
    "\n",
    "Where $\\hat{u}_e$ is the tidal signal amplitude, $P$ the tidal prism, $A_e$ the channel cross-section and $T$ the tidal period (see Intermezzo 9.4 of the book, equation 9.5).\n",
    "\n",
    "\n",
    "The process that leads to the Escoffier curve is explained in the book. In this notebook we provide a short visualisation, see the interactive plot below. We start with an imaginary channel cross-section that is very small, close to point A, such that the tidal difference in the estuary is smaller than the tidal range. Increasing the cross-section ($A_e$) results in an increase of the tidal prism ($P$) so large that $u_e$ increases too (recall eq. 9.5). At some point the tidal difference in the estuary is equal to the tidal range and we reach the peak of the closure curve. A larger cross-section now reduces $u_e$ as $P$ remains constant (again, recall eq. 9.5)."
   ]
  },
  {
   "cell_type": "markdown",
   "metadata": {},
   "source": [
    "```\n",
    "=> @DANIEL: Please insert the interactive plot in the codeblock below. You can find the figures necessary in the folder of this assignment. The idea is to simply display a figure using a slider widget. So in essence you shouldn't have to code anything to create the graphs of the figure, just display the right image when the slider is moved. I suggest to use ipywidgets, see https://github.com/jupyter-widgets/ipywidge\n",
    "ts#readme. Importing the package is done above. I got an error when importing the package because it wasn't installed in the environment. I installed it using Anaconda prompt, activating the environment and running 'pip install ipywidgets'.\n",
    "```"
   ]
  },
  {
   "cell_type": "code",
   "execution_count": 3,
   "metadata": {
    "execution": {
     "iopub.execute_input": "2023-02-16T12:05:14.842608Z",
     "iopub.status.busy": "2023-02-16T12:05:14.842223Z",
     "iopub.status.idle": "2023-02-16T12:05:14.848692Z",
     "shell.execute_reply": "2023-02-16T12:05:14.847964Z",
     "shell.execute_reply.started": "2023-02-16T12:05:14.842584Z"
    },
    "tags": []
   },
   "outputs": [],
   "source": [
    "# from dash import dcc, html, Input, Output,Dash\n",
    "\n",
    "# external_stylesheets = ['https://codepen.io/chriddyp/pen/bWLwgP.css']\n",
    "\n",
    "# app = Dash(__name__, external_stylesheets=external_stylesheets)\n",
    "\n",
    "# app.layout = html.Div([\n",
    "#     dcc.Slider(0, 20, 5,\n",
    "#                value=10,\n",
    "#                id='my-slider'\n",
    "#     ),\n",
    "#     html.Div(id='slider-output-container')\n",
    "# ])\n",
    "\n",
    "# @app.callback(\n",
    "#     Output('slider-output-container', 'children'),\n",
    "#     Input('my-slider', 'value'))\n",
    "# def update_output(value):\n",
    "#     return 'You have selected \"{}\"'.format(value)\n",
    "\n",
    "# if __name__ == '__main__':\n",
    "#     app.run_server(debug=True)"
   ]
  },
  {
   "cell_type": "code",
   "execution_count": 4,
   "metadata": {
    "execution": {
     "iopub.execute_input": "2023-02-16T12:05:15.183175Z",
     "iopub.status.busy": "2023-02-16T12:05:15.182497Z",
     "iopub.status.idle": "2023-02-16T12:05:15.610932Z",
     "shell.execute_reply": "2023-02-16T12:05:15.610564Z",
     "shell.execute_reply.started": "2023-02-16T12:05:15.183146Z"
    },
    "tags": []
   },
   "outputs": [
    {
     "data": {
      "text/plain": [
       "<matplotlib.image.AxesImage at 0x12a7859f0>"
      ]
     },
     "execution_count": 4,
     "metadata": {},
     "output_type": "execute_result"
    },
    {
     "data": {
      "image/png": "[encoded data removed]",
      "text/plain": [
       "<Figure size 600x400 with 2 Axes>"
      ]
     },
     "metadata": {
      "filenames": {
       "image/png": "/Users/calkoen/dev/CoastalCodebook/coastalcodebook/_build/jupyter_execute/assignments/04_escoffier_curve_6_1.png"
      }
     },
     "output_type": "display_data"
    }
   ],
   "source": [
    "# @DANIEL: this is the codeblock for the interactive plot\n",
    "%matplotlib notebook\n",
    "# %%capture\n",
    "%matplotlib inline\n",
    "from ipywidgets import interact, widgets\n",
    "from IPython.display import display\n",
    "import matplotlib.pyplot as plt\n",
    "import warnings\n",
    "\n",
    "from skimage.morphology import disk\n",
    "from skimage.filters import rank\n",
    "from skimage.color import rgb2gray\n",
    "import skimage.data\n",
    "\n",
    "\n",
    "def f(Median_Size):\n",
    "    selem = disk(int(Median_Size))\n",
    "    with warnings.catch_warnings():\n",
    "        warnings.simplefilter(\"ignore\")\n",
    "        img_median = rank.median(img_gray, selem=selem) \n",
    "\n",
    "    ax_neu.imshow(img_median, cmap=\"gray\")\n",
    "    fig.canvas.draw()\n",
    "    display(fig)\n",
    "\n",
    "image =  plt.imread(FIG_DIR / \"04_Ch9_Escoffier_interactive_3.png\")  #skimage.data.camera()\n",
    "img_gray = rgb2gray(image)\n",
    "\n",
    "fig = plt.figure(figsize=(6, 4))\n",
    "ax_orig = fig.add_subplot(121) \n",
    "ax_neu = fig.add_subplot(122) \n",
    "\n",
    "ax_orig.imshow(img_gray, cmap=\"gray\")\n",
    "ax_neu.imshow(img_gray, cmap=\"gray\")"
   ]
  },
  {
   "cell_type": "code",
   "execution_count": 5,
   "metadata": {
    "execution": {
     "iopub.execute_input": "2023-02-16T12:05:15.706291Z",
     "iopub.status.busy": "2023-02-16T12:05:15.706053Z",
     "iopub.status.idle": "2023-02-16T12:05:15.925034Z",
     "shell.execute_reply": "2023-02-16T12:05:15.924715Z",
     "shell.execute_reply.started": "2023-02-16T12:05:15.706274Z"
    },
    "tags": []
   },
   "outputs": [
    {
     "data": {
      "application/vnd.jupyter.widget-view+json": {
       "model_id": "3308e427bb4b43a1839bea24f597396a",
       "version_major": 2,
       "version_minor": 0
      },
      "text/plain": [
       "interactive(children=(IntSlider(value=1, description='Median_Size', max=21, min=1, step=2), Output()), _dom_cl…"
      ]
     },
     "metadata": {},
     "output_type": "display_data"
    }
   ],
   "source": [
    "interact(f, Median_Size=widgets.IntSlider(min=1,max=21,step=2,value=1));"
   ]
  },
  {
   "cell_type": "markdown",
   "metadata": {},
   "source": [
    "## TODO:\n",
    "\n",
    "The image viewer slider doesn't work really well on MacOS."
   ]
  },
  {
   "cell_type": "code",
   "execution_count": 6,
   "metadata": {
    "execution": {
     "iopub.execute_input": "2023-02-16T12:05:16.288886Z",
     "iopub.status.busy": "2023-02-16T12:05:16.288707Z",
     "iopub.status.idle": "2023-02-16T12:05:18.853018Z",
     "shell.execute_reply": "2023-02-16T12:05:18.852709Z",
     "shell.execute_reply.started": "2023-02-16T12:05:16.288873Z"
    },
    "tags": []
   },
   "outputs": [],
   "source": [
    "from tkinter import *\n",
    "root = Tk()\n",
    "root.title('Photo Slider')\n",
    "root.geometry('630x400')\n",
    "root.resizable(False, False)\n",
    "\n",
    "def on_next():\n",
    "    image_show_box_photo.configure(file=FIG_DIR / \"04_Ch9_Escoffier_interactive_1.png\")\n",
    "    next_button_label.bind(\"<Button>\", lambda e:onclick_back())\n",
    "\n",
    "def onclick_back():\n",
    "    image_show_box_photo.configure(file=FIG_DIR / \"Ch9_Escoffier_interactive_2.png\")\n",
    "    back_button_label.bind(\"<Button>\", lambda e:on_next())\n",
    "\n",
    "# back image button\n",
    "back_button_fig = PhotoImage(file=FIG_DIR / \"04_Back.png\")\n",
    "back_button_label = Label(root, image=back_button_fig, border=0)\n",
    "back_button_label.place(x=50,y=100)\n",
    "\n",
    "# next image button\n",
    "next_button_fig = PhotoImage(file=FIG_DIR / \"04_Next.png\")\n",
    "next_button_label = Label(root, image=next_button_fig, border=0)\n",
    "next_button_label.place(x=50,y=100)\n",
    "\n",
    "#image show box\n",
    "image_show_box_photo = PhotoImage(file=FIG_DIR / \"04_Ch9_Escoffier_interactive_1.png\")\n",
    "image_show_box_label = Label(root, image=image_show_box_photo)\n",
    "image_show_box_label.place(x=150,y=50)\n",
    "\n",
    "#label bind\n",
    "back_button_label.bind(\"<Button>\", lambda e:on_next())\n",
    "next_button_label.bind(\"<Button>\", lambda e:onclick_back())\n",
    "\n",
    "\n",
    "root.mainloop()"
   ]
  },
  {
   "cell_type": "markdown",
   "metadata": {},
   "source": [
    "The next step is to determine an equilibrium channel velocity $u_{eq}$ below which no erosion of the channel occurs. This velocity is only slightly dependent on the cross-section and can be approximated as just a function of sediment size. Larger sediment size leads to a larger $u_{eq}$ and vice versa.\n",
    "\n",
    "The closure curve and a value for u_eq leads to the well-known Escoffier curve as depicted in Figure 9.22 in the book.\n",
    "\n",
    "\n",
    "![](./figures/04_Ch9_Escoffier_type_1.png)\n",
    "```\n",
    "=> @DANIEL: Insert image \"Escoffier_curve_typical.png\"\n",
    "```\n"
   ]
  },
  {
   "cell_type": "markdown",
   "metadata": {},
   "source": [
    "## 2. Questions\n",
    "\n",
    "Now that you know how an Escoffier curve is created and some of the physical processes behind it, it's time to test your understanding. Try to answer the questions below and give your answers in the corresponding codeblock. Run the codeblock to validate your answers and view your feedback."
   ]
  },
  {
   "cell_type": "markdown",
   "metadata": {},
   "source": [
    "### Channel stability\n",
    "\n",
    "Consider the Escoffier curve below with points A, B, C, D and E. What happens to the channel cross-section ($X$) at locations 1, 2, 3, 4 and 5? Where does it move to, point A, B, C, D, E or neither (N)? ):\n",
    "```\n",
    "=> @DANIEL: Insert image \"Escoffier_curve_Qstability.png\"\n",
    "```\n",
    "\n",
    "![put fig title/label here](./figures/04_Ch9_Escoffier_stability_1.png)"
   ]
  },
  {
   "cell_type": "markdown",
   "metadata": {},
   "source": [
    "Put your answers here:\n",
    "\n",
    "```\n",
    "=> @DANIEL: Can you code the processing of the answers? Students give their answers below and run the block. Depending on their answer (correct or incorrect) they get to see a message. If correct something like \"That is correct!\". If incorrect each question should have some specific feedback, or if we want more detailed feedback each incorrect answer has some specific feedback. Feedback text is provided at the bottom of the notebook.\n",
    "```"
   ]
  },
  {
   "cell_type": "code",
   "execution_count": 7,
   "metadata": {
    "execution": {
     "iopub.execute_input": "2023-02-16T12:06:01.211929Z",
     "iopub.status.busy": "2023-02-16T12:06:01.211194Z",
     "iopub.status.idle": "2023-02-16T12:06:01.219380Z",
     "shell.execute_reply": "2023-02-16T12:06:01.218561Z",
     "shell.execute_reply.started": "2023-02-16T12:06:01.211874Z"
    },
    "tags": []
   },
   "outputs": [
    {
     "name": "stdout",
     "output_type": "stream",
     "text": [
      "Answer 1: \t Well done!\n",
      "Answer 2: \t Well done!\n",
      "Answer 3: \t Well done!\n",
      "Answer 4: \t Well done!\n",
      "Answer 5: \t Well done!\n",
      "Nice! You have understood this topic\n"
     ]
    }
   ],
   "source": [
    "ans0 = 'N'  # Example answer\n",
    "\n",
    "ans1 = 'A'  # Your answer for point 1\n",
    "ans2 = 'C'  # Your answer for point 2\n",
    "ans3 = 'D'  # Your answer for point 3\n",
    "ans4 = 'D'  # Your answer for point 4\n",
    "ans5 = 'D'  # Your answer for point 5\n",
    "\n",
    "Check1(ans1,ans2,ans3,ans4,ans5) # Example function to run to validate answers"
   ]
  },
  {
   "cell_type": "markdown",
   "metadata": {},
   "source": [
    "### Escoffier curve \"types\"\n",
    "\n",
    "Below three Escoffier curves are shown. So far we have only considered the scenario where $u_{eq}$ is lower than point C (scenario I). However, two other scenarios can also exist: II where point C coincides with $u_{eq}$ and III where point C is below $u_{eq}$. Similar to the previous question, what happens now at locations 1 and 2 for scenarios II and III?\n",
    "\n",
    "![](./figures/04_Ch9_Escoffier_type_1.png)\n",
    "\n",
    "![](./figures/04_Ch9_Escoffier_type_2.png)\n",
    "\n",
    "![](./figures/04_Ch9_Escoffier_type_3.png)\n",
    "\n",
    "```\n",
    "=> @DANIEL: Insert image \"Escoffier_curve_Qtypes.png\"\n",
    "```"
   ]
  },
  {
   "cell_type": "markdown",
   "metadata": {},
   "source": [
    "Put your answers here:"
   ]
  },
  {
   "cell_type": "code",
   "execution_count": 8,
   "metadata": {
    "execution": {
     "iopub.execute_input": "2023-02-16T12:06:05.354584Z",
     "iopub.status.busy": "2023-02-16T12:06:05.354191Z",
     "iopub.status.idle": "2023-02-16T12:06:05.360736Z",
     "shell.execute_reply": "2023-02-16T12:06:05.359390Z",
     "shell.execute_reply.started": "2023-02-16T12:06:05.354559Z"
    },
    "tags": []
   },
   "outputs": [
    {
     "name": "stdout",
     "output_type": "stream",
     "text": [
      "Answer 1: \t Ops! The answer is incorrect.\n",
      "Answer 2: \t Ops! The answer is incorrect.\n",
      "Answer 3: \t Ops! The answer is incorrect.\n",
      "Answer 4: \t Ops! The answer is incorrect.\n",
      "Mmm... I think you should check the section about this topic again.\n"
     ]
    }
   ],
   "source": [
    "ansII_1  = 'C'  # Your answer for point 1 scenario II\n",
    "ansII_2  = 'A'  # Your answer for point 2 scenario II\n",
    "ansIII_1 = 'A'  # Your answer for point 1 scenario III\n",
    "ansIII_2 = 'A'  # Your answer for point 2 scenario III\n",
    "\n",
    "Check2(ansII_1,ansII_2,ansIII_1,ansIII_2) # Example function to run to validate answers"
   ]
  },
  {
   "cell_type": "markdown",
   "metadata": {},
   "source": [
    "### Theory\n",
    "\n",
    "Answer the questions below and explain your reasoning.\n",
    "1. What would happen if $X$ becomes really large?\n",
    "2. Can $X$ go to inifinity?\n",
    "3. How can you modify the Escoffier curve through engineering?\n",
    "4. Can the (closure) curve vary in Time?"
   ]
  },
  {
   "cell_type": "code",
   "execution_count": 9,
   "metadata": {
    "execution": {
     "iopub.execute_input": "2023-02-16T11:00:12.947867Z",
     "iopub.status.busy": "2023-02-16T11:00:12.947465Z",
     "iopub.status.idle": "2023-02-16T11:00:12.951698Z",
     "shell.execute_reply": "2023-02-16T11:00:12.950837Z",
     "shell.execute_reply.started": "2023-02-16T11:00:12.947842Z"
    }
   },
   "outputs": [],
   "source": [
    "#Check3() # Example function to run to validate answers"
   ]
  },
  {
   "cell_type": "code",
   "execution_count": null,
   "metadata": {},
   "outputs": [],
   "source": []
  },
  {
   "cell_type": "code",
   "execution_count": null,
   "metadata": {},
   "outputs": [],
   "source": []
  },
  {
   "cell_type": "markdown",
   "metadata": {},
   "source": [
    "## TODO: \n",
    "\n",
    "Fucntions are now being called before they are defined. You could also consider to \"hide\" them in the source directory and import them using `from hidden` import check1, check2 etc. Where hidden is refers to `CoastalCodeBook/src/hidden.py` I just added this functionality and to hide it a bit more I did an asterix import instead of importing the functions (but this is really bad practice and should be avoided). I think that providing students feedback on their answers should be implementing using [nbgrader](https://github.com/jupyter/nbgrader), which started at the UvA Amsterdam, but is apparently being included in the Jupyter project. "
   ]
  },
  {
   "cell_type": "code",
   "execution_count": 10,
   "metadata": {
    "execution": {
     "iopub.execute_input": "2023-02-16T11:00:18.123802Z",
     "iopub.status.busy": "2023-02-16T11:00:18.123394Z",
     "iopub.status.idle": "2023-02-16T11:00:18.140480Z",
     "shell.execute_reply": "2023-02-16T11:00:18.139381Z",
     "shell.execute_reply.started": "2023-02-16T11:00:18.123773Z"
    },
    "tags": [
     "remove-cell"
    ]
   },
   "outputs": [],
   "source": [
    "#This is a test cell that should not be displayed because it has the tag \"remove-cell\".\n",
    "#\n",
    "#@DANIEL: Put your code for the questions here\n",
    "\n",
    "# Function for cheking the first exercise:\n",
    "def Check1(ans1,ans2,ans3,ans4,ans5):\n",
    "    c=0\n",
    "    # Checking answer 1:\n",
    "    if ans1=='A':\n",
    "        c=c+1\n",
    "        print('Answer 1: \\t Well done!')\n",
    "    if ans1!='A': print('Answer 1: \\t Ops! The answer is incorrect.')\n",
    "\n",
    "    # Checking answer 2:\n",
    "    if ans2=='C':\n",
    "        c=c+1\n",
    "        print('Answer 2: \\t Well done!')\n",
    "    if ans2!='C': print('Answer 2: \\t Ops! The answer is incorrect.')\n",
    "\n",
    "    # Checking answer 3:\n",
    "    if ans3=='D':\n",
    "        c=c+1\n",
    "        print('Answer 3: \\t Well done!')\n",
    "    if ans3!='D': print('Answer 3: \\t Ops! The answer is incorrect.')\n",
    "\n",
    "    # Checking answer 4:\n",
    "    if ans4=='D':\n",
    "        c=c+1\n",
    "        print('Answer 4: \\t Well done!')\n",
    "    if ans4!='D': print('Answer 4: \\t Ops! The answer is incorrect.')\n",
    "\n",
    "    # Checking answer 5:\n",
    "    if ans5=='D':\n",
    "        c=c+1\n",
    "        print('Answer 5: \\t Well done!')\n",
    "    if ans5!='D': print('Answer 5: \\t Ops! The answer is incorrect.')\n",
    "\n",
    "    if c==5: print('Nice! You have understood this topic')\n",
    "    if c==0: print('Mmm... I think you should check the section about this topic again.')\n",
    "\n",
    "# Function for cheking the second exercise:\n",
    "def Check2(ans1,ans2,ans3,ans4):\n",
    "    c=0\n",
    "    # Checking answer 1:\n",
    "    if ans1=='A':\n",
    "        c=c+1\n",
    "        print('Answer 1: \\t Well done!')\n",
    "    if ans1!='A': print('Answer 1: \\t Ops! The answer is incorrect.')\n",
    "\n",
    "    # Checking answer 2:\n",
    "    if ans2=='C':\n",
    "        c=c+1\n",
    "        print('Answer 2: \\t Well done!')\n",
    "    if ans2!='C': print('Answer 2: \\t Ops! The answer is incorrect.')\n",
    "\n",
    "    # Checking answer 3:\n",
    "    if ans3=='D':\n",
    "        c=c+1\n",
    "        print('Answer 3: \\t Well done!')\n",
    "    if ans3!='D': print('Answer 3: \\t Ops! The answer is incorrect.')\n",
    "\n",
    "    # Checking answer 4:\n",
    "    if ans4=='D':\n",
    "        c=c+1\n",
    "        print('Answer 4: \\t Well done!')\n",
    "    if ans4!='D': print('Answer 4: \\t Ops! The answer is incorrect.')\n",
    "\n",
    "    if c==4: print('Nice! You have understood this topic')\n",
    "    if c==0: print('Mmm... I think you should check the section about this topic again.')\n",
    "\n",
    "# Function for cheking the third exercise:\n",
    "def Check3(ans1,ans2,ans3,ans4):\n",
    "    c=0\n",
    "    # Checking answer 1:\n",
    "    if ans1=='A':\n",
    "        c=c+1\n",
    "        print('Answer 1: \\t Well done!')\n",
    "    if ans1!='A': print('Answer 1: \\t Ops! The answer is incorrect.')\n",
    "\n",
    "    # Checking answer 2:\n",
    "    if ans2=='C':\n",
    "        c=c+1\n",
    "        print('Answer 2: \\t Well done!')\n",
    "    if ans2!='C': print('Answer 2: \\t Ops! The answer is incorrect.')\n",
    "\n",
    "    # Checking answer 3:\n",
    "    if ans3=='D':\n",
    "        c=c+1\n",
    "        print('Answer 3: \\t Well done!')\n",
    "    if ans3!='D': print('Answer 3: \\t Ops! The answer is incorrect.')\n",
    "\n",
    "    # Checking answer 4:\n",
    "    if ans4=='D':\n",
    "        c=c+1\n",
    "        print('Answer 4: \\t Well done!')\n",
    "    if ans4!='D': print('Answer 4: \\t Ops! The answer is incorrect.')\n",
    "\n",
    "    if c==4: print('Nice! You have understood this topic')\n",
    "    if c==0: print('Mmm... I think you should check the section about this topic again.')\n"
   ]
  },
  {
   "cell_type": "code",
   "execution_count": 11,
   "metadata": {
    "execution": {
     "iopub.execute_input": "2023-02-16T11:00:19.188504Z",
     "iopub.status.busy": "2023-02-16T11:00:19.188063Z",
     "iopub.status.idle": "2023-02-16T11:00:19.197200Z",
     "shell.execute_reply": "2023-02-16T11:00:19.196390Z",
     "shell.execute_reply.started": "2023-02-16T11:00:19.188476Z"
    }
   },
   "outputs": [],
   "source": [
    "# Function for cheking the third exercise:\n",
    "def Check3(ans1,ans2,ans3,ans4):\n",
    "    c=0\n",
    "    # Checking answer 1:\n",
    "    if ans1=='A':\n",
    "        c=c+1\n",
    "        print('Answer 1: \\t Well done!')\n",
    "    if ans1!='A': print('Answer 1: \\t Ops! The answer is incorrect.')\n",
    "\n",
    "    # Checking answer 2:\n",
    "    if ans2=='C':\n",
    "        c=c+1\n",
    "        print('Answer 2: \\t Well done!')\n",
    "    if ans2!='C': print('Answer 2: \\t Ops! The answer is incorrect.')\n",
    "\n",
    "    # Checking answer 3:\n",
    "    if ans3=='D':\n",
    "        c=c+1\n",
    "        print('Answer 3: \\t Well done!')\n",
    "    if ans3!='D': print('Answer 3: \\t Ops! The answer is incorrect.')\n",
    "\n",
    "    # Checking answer 4:\n",
    "    if ans4=='D':\n",
    "        c=c+1\n",
    "        print('Answer 4: \\t Well done!')\n",
    "    if ans4!='D': print('Answer 4: \\t Ops! The answer is incorrect.')\n",
    "\n",
    "    if c==4: print('Nice! You have understood this topic')\n",
    "    if c==0: print('Mmm... I think you should check the section about this topic again.')\n",
    "\n"
   ]
  },
  {
   "cell_type": "code",
   "execution_count": null,
   "metadata": {},
   "outputs": [],
   "source": []
  }
 ],
 "metadata": {
  "kernelspec": {
   "display_name": "Python [conda env:coastal]",
   "language": "python",
   "name": "conda-env-coastal-py"
  },
  "language_info": {
   "codemirror_mode": {
    "name": "ipython",
    "version": 3
   },
   "file_extension": ".py",
   "mimetype": "text/x-python",
   "name": "python",
   "nbconvert_exporter": "python",
   "pygments_lexer": "ipython3",
   "version": "3.10.9"
  },
  "vscode": {
   "interpreter": {
    "hash": "552d26e24a5f022569f992dc6162a1ddcd276bc02983bfb314c82a5eb02cca6e"
   }
  },
  "widgets": {
   "application/vnd.jupyter.widget-state+json": {
    "state": {
     "3308e427bb4b43a1839bea24f597396a": {
      "model_module": "@jupyter-widgets/controls",
      "model_module_version": "1.5.0",
      "model_name": "VBoxModel",
      "state": {
       "_dom_classes": [
        "widget-interact"
       ],
       "_model_module": "@jupyter-widgets/controls",
       "_model_module_version": "1.5.0",
       "_model_name": "VBoxModel",
       "_view_count": null,
       "_view_module": "@jupyter-widgets/controls",
       "_view_module_version": "1.5.0",
       "_view_name": "VBoxView",
       "box_style": "",
       "children": [
        "IPY_MODEL_91a17979a37c44ab8b07a1b912a6c7e2",
        "IPY_MODEL_97d8e0ad01e040e98d6e113fa4a31676"
       ],
       "layout": "IPY_MODEL_c83c3e28958c43049710d314f3145932"
      }
     },
     "721c8132b02b40698c353d8293ac487d": {
      "model_module": "@jupyter-widgets/controls",
      "model_module_version": "1.5.0",
      "model_name": "SliderStyleModel",
      "state": {
       "_model_module": "@jupyter-widgets/controls",
       "_model_module_version": "1.5.0",
       "_model_name": "SliderStyleModel",
       "_view_count": null,
       "_view_module": "@jupyter-widgets/base",
       "_view_module_version": "1.2.0",
       "_view_name": "StyleView",
       "description_width": "",
       "handle_color": null
      }
     },
     "91a17979a37c44ab8b07a1b912a6c7e2": {
      "model_module": "@jupyter-widgets/controls",
      "model_module_version": "1.5.0",
      "model_name": "IntSliderModel",
      "state": {
       "_dom_classes": [],
       "_model_module": "@jupyter-widgets/controls",
       "_model_module_version": "1.5.0",
       "_model_name": "IntSliderModel",
       "_view_count": null,
       "_view_module": "@jupyter-widgets/controls",
       "_view_module_version": "1.5.0",
       "_view_name": "IntSliderView",
       "continuous_update": true,
       "description": "Median_Size",
       "description_tooltip": null,
       "disabled": false,
       "layout": "IPY_MODEL_a4318997148b4d848d04efe5f2872613",
       "max": 21,
       "min": 1,
       "orientation": "horizontal",
       "readout": true,
       "readout_format": "d",
       "step": 2,
       "style": "IPY_MODEL_721c8132b02b40698c353d8293ac487d",
       "value": 1
      }
     },
     "97d8e0ad01e040e98d6e113fa4a31676": {
      "model_module": "@jupyter-widgets/output",
      "model_module_version": "1.0.0",
      "model_name": "OutputModel",
      "state": {
       "_dom_classes": [],
       "_model_module": "@jupyter-widgets/output",
       "_model_module_version": "1.0.0",
       "_model_name": "OutputModel",
       "_view_count": null,
       "_view_module": "@jupyter-widgets/output",
       "_view_module_version": "1.0.0",
       "_view_name": "OutputView",
       "layout": "IPY_MODEL_b82b3fe828ab486a9022afc68f6c855d",
       "msg_id": "",
       "outputs": [
        {
         "data": {
          "image/png": "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\n",
          "text/plain": "<Figure size 600x400 with 2 Axes>"
         },
         "metadata": {},
         "output_type": "display_data"
        }
       ]
      }
     },
     "a4318997148b4d848d04efe5f2872613": {
      "model_module": "@jupyter-widgets/base",
      "model_module_version": "1.2.0",
      "model_name": "LayoutModel",
      "state": {
       "_model_module": "@jupyter-widgets/base",
       "_model_module_version": "1.2.0",
       "_model_name": "LayoutModel",
       "_view_count": null,
       "_view_module": "@jupyter-widgets/base",
       "_view_module_version": "1.2.0",
       "_view_name": "LayoutView",
       "align_content": null,
       "align_items": null,
       "align_self": null,
       "border": null,
       "bottom": null,
       "display": null,
       "flex": null,
       "flex_flow": null,
       "grid_area": null,
       "grid_auto_columns": null,
       "grid_auto_flow": null,
       "grid_auto_rows": null,
       "grid_column": null,
       "grid_gap": null,
       "grid_row": null,
       "grid_template_areas": null,
       "grid_template_columns": null,
       "grid_template_rows": null,
       "height": null,
       "justify_content": null,
       "justify_items": null,
       "left": null,
       "margin": null,
       "max_height": null,
       "max_width": null,
       "min_height": null,
       "min_width": null,
       "object_fit": null,
       "object_position": null,
       "order": null,
       "overflow": null,
       "overflow_x": null,
       "overflow_y": null,
       "padding": null,
       "right": null,
       "top": null,
       "visibility": null,
       "width": null
      }
     },
     "b82b3fe828ab486a9022afc68f6c855d": {
      "model_module": "@jupyter-widgets/base",
      "model_module_version": "1.2.0",
      "model_name": "LayoutModel",
      "state": {
       "_model_module": "@jupyter-widgets/base",
       "_model_module_version": "1.2.0",
       "_model_name": "LayoutModel",
       "_view_count": null,
       "_view_module": "@jupyter-widgets/base",
       "_view_module_version": "1.2.0",
       "_view_name": "LayoutView",
       "align_content": null,
       "align_items": null,
       "align_self": null,
       "border": null,
       "bottom": null,
       "display": null,
       "flex": null,
       "flex_flow": null,
       "grid_area": null,
       "grid_auto_columns": null,
       "grid_auto_flow": null,
       "grid_auto_rows": null,
       "grid_column": null,
       "grid_gap": null,
       "grid_row": null,
       "grid_template_areas": null,
       "grid_template_columns": null,
       "grid_template_rows": null,
       "height": null,
       "justify_content": null,
       "justify_items": null,
       "left": null,
       "margin": null,
       "max_height": null,
       "max_width": null,
       "min_height": null,
       "min_width": null,
       "object_fit": null,
       "object_position": null,
       "order": null,
       "overflow": null,
       "overflow_x": null,
       "overflow_y": null,
       "padding": null,
       "right": null,
       "top": null,
       "visibility": null,
       "width": null
      }
     },
     "c83c3e28958c43049710d314f3145932": {
      "model_module": "@jupyter-widgets/base",
      "model_module_version": "1.2.0",
      "model_name": "LayoutModel",
      "state": {
       "_model_module": "@jupyter-widgets/base",
       "_model_module_version": "1.2.0",
       "_model_name": "LayoutModel",
       "_view_count": null,
       "_view_module": "@jupyter-widgets/base",
       "_view_module_version": "1.2.0",
       "_view_name": "LayoutView",
       "align_content": null,
       "align_items": null,
       "align_self": null,
       "border": null,
       "bottom": null,
       "display": null,
       "flex": null,
       "flex_flow": null,
       "grid_area": null,
       "grid_auto_columns": null,
       "grid_auto_flow": null,
       "grid_auto_rows": null,
       "grid_column": null,
       "grid_gap": null,
       "grid_row": null,
       "grid_template_areas": null,
       "grid_template_columns": null,
       "grid_template_rows": null,
       "height": null,
       "justify_content": null,
       "justify_items": null,
       "left": null,
       "margin": null,
       "max_height": null,
       "max_width": null,
       "min_height": null,
       "min_width": null,
       "object_fit": null,
       "object_position": null,
       "order": null,
       "overflow": null,
       "overflow_x": null,
       "overflow_y": null,
       "padding": null,
       "right": null,
       "top": null,
       "visibility": null,
       "width": null
      }
     }
    },
    "version_major": 2,
    "version_minor": 0
   }
  }
 },
 "nbformat": 4,
 "nbformat_minor": 4
}
