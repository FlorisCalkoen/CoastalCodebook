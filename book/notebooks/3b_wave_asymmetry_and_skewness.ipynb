{
 "cells": [
  {
   "cell_type": "markdown",
   "id": "9a3b7540-f1c8-4188-9321-c162619892e7",
   "metadata": {},
   "source": [
    "# Wave asymmetry and skewness "
   ]
  },
  {
   "cell_type": "markdown",
   "id": "a57196e5-eb53-4eab-8bb2-b11c2a313e56",
   "metadata": {},
   "source": [
    "<figure>\n",
    "  <IMG SRC=\"https://raw.githubusercontent.com/mbakker7/exploratory_computing_with_python/master/tudelft_logo.png\" WIDTH=250 ALIGN=\"right\">\n",
    "</figure>"
   ]
  },
  {
   "cell_type": "code",
   "execution_count": null,
   "id": "fcad68ab-a006-40c5-93ad-5eb0a10e41e8",
   "metadata": {},
   "outputs": [],
   "source": [
    "%run initialize/init_3b.ipynb"
   ]
  },
  {
   "cell_type": "markdown",
   "id": "9c61dd36-8df2-48f7-b54e-a4f2f5af06a2",
   "metadata": {},
   "source": [
    "Wave asymmetry and skewness can be demonstrated by using a second order wave, as in equation 1. The phase difference between the wave components influences the shape of the combined wave. You can assess the impact of phase differences and the amplitudes on the asymmetry on skewness in the interactive graph below. The figures 5.13 and 5.16 of the book can be reproduced with this figure, without scaling the y-axis. What are the amplitudes and the phases of wave component 1 and 2 to reproduce these figures? You can check it below the graph.\n",
    "\n",
    "\\begin{equation}\n",
    "\\tag{1}\n",
    "\\eta = \\eta_1 cos(wt-kx-\\phi_1) + \\eta_2 cos(2(wt-kx)-\\phi_2)\n",
    "\\end{equation}"
   ]
  },
  {
   "cell_type": "code",
   "execution_count": null,
   "id": "d0ce79ef-1e0f-4a72-b152-4b71b46f5ab8",
   "metadata": {},
   "outputs": [],
   "source": [
    "second_order_waves()"
   ]
  },
  {
   "cell_type": "markdown",
   "id": "67ead777-88c0-4389-9998-f117368fae50",
   "metadata": {},
   "source": [
    "Can you make the left panel of figure 5.15, without scaling to (dividing by)  $\\eta_1$? You can rewrite equation 1 such that the surface elevation is a function of x/L. You may assume that t=0 to simplify the process. You can put this equation in the formula below to check your outcome, which will automatically be plotted for 3 wave lengths."
   ]
  },
  {
   "cell_type": "code",
   "execution_count": null,
   "id": "c1f2816b-95f2-4e6a-8606-5fb329f8b81f",
   "metadata": {},
   "outputs": [],
   "source": [
    "x_L = 1  # The ratio of x/L (an arbitrary value can be usefull to check your code)\n",
    "eta1 = 1\n",
    "eta2 = ...\n",
    "phi1 = ...\n",
    "phi2 = ...\n",
    "\n",
    "\n",
    "def second_order_waves_x_L(x_L, eta1, eta2, phi1, phi2):\n",
    "    ...\n",
    "    return eta\n",
    "\n",
    "\n",
    "show_second_order_waves_x_L()"
   ]
  },
  {
   "cell_type": "markdown",
   "id": "6cdff687-6362-43c1-834b-ab569f4d017c",
   "metadata": {},
   "source": [
    "Can you rewrite equation 1 now so that the surface elevation is a function of t/T? You may assume that x=0 to simplify the process. You can put this equation in the formula below to check your outcome."
   ]
  },
  {
   "cell_type": "code",
   "execution_count": null,
   "id": "ee83ee3c-a7fa-4f7a-80cb-cfb6fbdc3758",
   "metadata": {},
   "outputs": [],
   "source": [
    "t_T = 1  # t/T, an arbitrary value for testing\n",
    "\n",
    "\n",
    "def second_order_waves_t_T(t_T, more_arguments):\n",
    "    ...\n",
    "    return eta\n",
    "\n",
    "\n",
    "show_second_order_waves_t_T()"
   ]
  },
  {
   "cell_type": "markdown",
   "id": "5316412e-fd92-4d75-8e56-a5d077ed2404",
   "metadata": {},
   "source": [
    "## 2) Further Investigating Skewness & Asymmetry"
   ]
  },
  {
   "cell_type": "markdown",
   "id": "3dd5a640-f334-44b8-be34-9a8e70bb85f6",
   "metadata": {},
   "source": [
    "Later in this course we will consider how wave shape influences sediment transport. Sediment transport is proportional to higher powers of the orbital velocity signal, so as a first step, let us consider what higher powers of the surface elevation look like. Remember that under a progressive wave (like we see in the nearshore), velocity and surface elevation are in phase. Here we compare eta with $\\eta^3$ when we vary the phase of the first harmonic component, as in Figure 5.14 and 5.17. How do the peaks in  $\\eta^3$ change? What might this mean for the corresponding velocity signal and direction of sediment transport?”"
   ]
  },
  {
   "cell_type": "code",
   "execution_count": null,
   "id": "8a4143ae-5b9c-4011-86de-4f9a4ed9d646",
   "metadata": {},
   "outputs": [],
   "source": [
    "asymmetric()"
   ]
  },
  {
   "cell_type": "markdown",
   "id": "9c335ff3-8148-48eb-904e-2a440d1a41c3",
   "metadata": {},
   "source": [
    "A final thought provoking question on this section: what is the influence on the time/space averaged value of $\\eta^3$ when the amplitudes and phases of the wave components change"
   ]
  },
  {
   "cell_type": "code",
   "execution_count": null,
   "id": "5cb8a06c-c8b6-438a-b39c-227e2b6d7e47",
   "metadata": {},
   "outputs": [],
   "source": []
  },
  {
   "cell_type": "code",
   "execution_count": null,
   "id": "eb10efc8-2096-4121-92f0-40bbd542478a",
   "metadata": {},
   "outputs": [],
   "source": []
  },
  {
   "cell_type": "code",
   "execution_count": null,
   "id": "df87e918-a518-456e-a05b-985418369099",
   "metadata": {},
   "outputs": [],
   "source": []
  }
 ],
 "metadata": {
  "kernelspec": {
   "display_name": "Python [conda env:coastal]",
   "language": "python",
   "name": "conda-env-coastal-py"
  },
  "language_info": {
   "codemirror_mode": {
    "name": "ipython",
    "version": 3
   },
   "file_extension": ".py",
   "mimetype": "text/x-python",
   "name": "python",
   "nbconvert_exporter": "python",
   "pygments_lexer": "ipython3",
   "version": "3.11.7"
  }
 },
 "nbformat": 4,
 "nbformat_minor": 5
}
