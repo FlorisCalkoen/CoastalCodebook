{
 "cells": [
  {
   "attachments": {},
   "cell_type": "markdown",
   "metadata": {},
   "source": [
    "# Option B for Notebook about Escoffier curve: widgets"
   ]
  },
  {
   "cell_type": "code",
   "execution_count": null,
   "metadata": {},
   "outputs": [],
   "source": [
    "import tkinter as tk\n",
    "from PIL import ImageTk, Image\n",
    "\n",
    "\n",
    "class ImageSlider(tk.Frame):\n",
    "    def __init__(self, parent, images):\n",
    "        tk.Frame.__init__(self, parent)\n",
    "        self.images = images\n",
    "        self.current_image = 0\n",
    "        self.image_label = tk.Label(self)\n",
    "        self.image_label.pack()\n",
    "        self.update_image()\n",
    "        \n",
    "\n",
    "    def update_image(self):\n",
    "        image = Image.open(self.images[self.current_image])\n",
    "        image = image.resize((image.width, image.height), Image.LANCZOS)\n",
    "        global photo\n",
    "        photo = ImageTk.PhotoImage(image)\n",
    "        root.update()\n",
    "        self.image_label.configure(image=photo)\n",
    "\n",
    "    def next_image(self):\n",
    "        self.current_image = (self.current_image + 1) % len(self.images)\n",
    "        self.update_image()\n",
    "\n",
    "    def previous_image(self):\n",
    "        self.current_image = (self.current_image - 1) % len(self.images)\n",
    "        self.update_image()\n",
    "\n",
    "\n",
    "if __name__ == '__main__':\n",
    "    root = tk.Tk()\n",
    "    images = ['figures/04_Ch9_Escoffier_interactive_1.png', 'figures/04_Ch9_Escoffier_interactive_2.png',\n",
    "              'figures/04_Ch9_Escoffier_interactive_3.png', 'figures/04_Ch9_Escoffier_interactive_4.png']\n",
    "    image_slider = ImageSlider(root, images)\n",
    "    image_slider.pack()\n",
    "    next_button = tk.Button(root, text=\"Next\", command=image_slider.next_image)\n",
    "    next_button.pack(side=\"right\")\n",
    "    previous_button = tk.Button(root, text=\"Previous\", command=image_slider.previous_image)\n",
    "    previous_button.pack(side=\"left\")\n",
    "    root.mainloop()"
   ]
  }
 ],
 "metadata": {
  "language_info": {
   "name": "python"
  },
  "orig_nbformat": 4
 },
 "nbformat": 4,
 "nbformat_minor": 2
}
