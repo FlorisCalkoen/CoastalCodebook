{
 "cells": [
  {
   "cell_type": "markdown",
   "id": "a57196e5-eb53-4eab-8bb2-b11c2a313e56",
   "metadata": {},
   "source": [
    "<figure>\n",
    "  <IMG SRC=\"https://raw.githubusercontent.com/mbakker7/exploratory_computing_with_python/master/tudelft_logo.png\" WIDTH=250 ALIGN=\"right\">\n",
    "</figure>\n",
    "\n",
    "Before you is the Jupiter Notebook of week 3."
   ]
  },
  {
   "cell_type": "code",
   "execution_count": null,
   "id": "fcad68ab-a006-40c5-93ad-5eb0a10e41e8",
   "metadata": {},
   "outputs": [],
   "source": [
    "%run Initialize/Week_3_Initialize.ipynb"
   ]
  },
  {
   "cell_type": "markdown",
   "id": "673bd911-7c75-425e-8dc2-9173df6c452d",
   "metadata": {},
   "source": [
    "# This document is not completely updated, week_3-Answered is the latest version. Below you can find how the coding questions are when these are not answered."
   ]
  },
  {
   "cell_type": "markdown",
   "id": "9a3b7540-f1c8-4188-9321-c162619892e7",
   "metadata": {},
   "source": [
    "## 3.1) Wave and tidal information"
   ]
  },
  {
   "cell_type": "raw",
   "id": "68cd6b43-9174-4862-a334-331835a54184",
   "metadata": {},
   "source": []
  },
  {
   "cell_type": "markdown",
   "id": "217ae4a8-cc7b-41a5-98be-d3e3e02b0b5d",
   "metadata": {},
   "source": [
    "### Part 1 - section B"
   ]
  },
  {
   "cell_type": "code",
   "execution_count": null,
   "id": "d1d7ed5b-ccab-495d-9e35-540916da0d7d",
   "metadata": {},
   "outputs": [],
   "source": [
    "W3_fig_5_13()"
   ]
  },
  {
   "cell_type": "code",
   "execution_count": null,
   "id": "a1bcfe0d-c962-4b5a-8fdb-e4569f7c9ade",
   "metadata": {},
   "outputs": [],
   "source": [
    "W3_fig_5_14()"
   ]
  },
  {
   "cell_type": "code",
   "execution_count": null,
   "id": "3342b456-bb2e-4005-984f-11883b57934b",
   "metadata": {},
   "outputs": [],
   "source": [
    "W3_fig_5_15()\n",
    "# Let op phase!"
   ]
  },
  {
   "cell_type": "code",
   "execution_count": null,
   "id": "d64c2f49-8e30-4a81-9d21-a8ea3f88bcd4",
   "metadata": {},
   "outputs": [],
   "source": [
    "W3_fig_5_16()"
   ]
  },
  {
   "cell_type": "code",
   "execution_count": null,
   "id": "43b3e750-dade-4da5-b55e-ebeca19cebad",
   "metadata": {},
   "outputs": [],
   "source": [
    "W3_fig_5_17()"
   ]
  },
  {
   "cell_type": "raw",
   "id": "15e07b62-2f43-4e34-a97d-2f09027c3af5",
   "metadata": {},
   "source": [
    "Question: What is the phase difference between wave component 1 and 2 for skewed waves. And what for assymetric waves?"
   ]
  },
  {
   "cell_type": "markdown",
   "id": "55200145-c32c-444e-b925-9e73e173cf2a",
   "metadata": {},
   "source": [
    "## 3.2) Wave transformation in the near-shore "
   ]
  },
  {
   "cell_type": "markdown",
   "id": "75e92d3c-f6b9-40c4-9fe1-3082483a6ff7",
   "metadata": {},
   "source": [
    "We continue on the application of the dispersion relationship in the cross-shore, which was discussed in week 3 and the Wave course."
   ]
  },
  {
   "cell_type": "markdown",
   "id": "17205ca8-dfd6-4622-8482-c64cfd445857",
   "metadata": {},
   "source": [
    "### 3.2.1) Normal indicent waves"
   ]
  },
  {
   "cell_type": "markdown",
   "id": "e5dd8576-5be2-40dd-916d-32d9d8453cfc",
   "metadata": {},
   "source": [
    "In Waves you should have programmed a function to compute the wave height along the cross-shore for normal incident waves. A similar function is defined below, together with a function to calculate the wavelength. "
   ]
  },
  {
   "cell_type": "code",
   "execution_count": null,
   "id": "a903c1f3-af10-46e5-bfc3-8d086a18923b",
   "metadata": {},
   "outputs": [],
   "source": [
    "# This function will be replaced with the one from Waves, by Jaime or otherwise in the course Ocean Waves from Marion Tissier\n",
    "\n",
    "def wave_length(T, h):\n",
    "    L = 9.81 * T**2 / (2 * np.pi)\n",
    "    L_all = [L]\n",
    "\n",
    "    for i in range(1500):\n",
    "        L = 9.81 * T**2 / (2 * np.pi) * np.tanh(2 * np.pi * h / L)\n",
    "        L_all.append(L)\n",
    "\n",
    "        # stop the iteration when the error is sufficiently small\n",
    "        if np.abs(L_all[-1] - L_all[-2]) < 0.0005:\n",
    "            break\n",
    "            \n",
    "    return round(L, 13)"
   ]
  },
  {
   "cell_type": "code",
   "execution_count": null,
   "id": "6b4b0fb3-dbac-40cd-b494-57a143b711b4",
   "metadata": {},
   "outputs": [],
   "source": [
    "def W3_normal_indicent_waves(H0, T, d0, slope):\n",
    "\n",
    "    # The environmental conditons\n",
    "    x = np.arange(0,900,.1)   # the horizontal axis\n",
    "    zbed = -(d0 - slope * x)  # bed elevation [m]\n",
    "    h = -zbed                 # still water depth [m]\n",
    "    h[h < 0] = 0              # no negative depths\n",
    "\n",
    "    # given:\n",
    "    gamma = 0.8               # wave breaking ratio\n",
    "    \n",
    "    # The wave characteristics at every location in the cross-section\n",
    "    L = np.array([wave_length(T, h) for h in h])  # The wave length\n",
    "    c = L/T                                       # The wave celerity\n",
    "    k = 2*np.pi/L                                 # The wave number\n",
    "    n = 0.5 + (k*h/np.sinh(2*k*h))                \n",
    "    cg = n*c                                      # The wave group celerity\n",
    "    Ksh = np.sqrt(cg[0]/cg)                       # The shoaling parameter  \n",
    "    H = H0*Ksh                                    # The wave height due to shoaling (only)\n",
    "    Hbreaking = gamma * h                         # The wave-breaking height\n",
    "    H[H>Hbreaking]=Hbreaking[H>Hbreaking]         # The wave height"
   ]
  },
  {
   "cell_type": "markdown",
   "id": "d226190a-a118-413e-87cb-8237866feeff",
   "metadata": {},
   "source": [
    "The graph below shows the outcome of the calculation. Can you use it to answer the questions?"
   ]
  },
  {
   "cell_type": "code",
   "execution_count": null,
   "id": "aadfa6d4-c1f3-4cd6-a67e-0fba4638c737",
   "metadata": {},
   "outputs": [],
   "source": [
    "W3_Q4()"
   ]
  },
  {
   "cell_type": "markdown",
   "id": "42bbaabc-6522-4f63-91ef-82616506db41",
   "metadata": {},
   "source": [
    "### 3.2.2) Wave height for oblique waves"
   ]
  },
  {
   "cell_type": "markdown",
   "id": "7514bb6e-75a4-4580-aff7-6809c44fc018",
   "metadata": {},
   "source": [
    "The influence of refraction should also be considered for waves that approach the shore under an angle. This process should be considered in the functions for oblique waves, in contrast to normal incident waves. Can you include the impact of refraction on the wave height in the function below by completing the code at the dots? The function W3_plot_oblique_waves() will plot the wave height calculated in W3_oblique_waves(), together with the answer. This function will give a runtime warning when the water depth (h) is 0, which is not solved to keep the code as straightforward as possible. "
   ]
  },
  {
   "cell_type": "code",
   "execution_count": null,
   "id": "29643432-a621-4d60-97ff-567b4226f77f",
   "metadata": {},
   "outputs": [],
   "source": [
    "H0, T, d0, slope, angle = 1.5, 6, 20, 1/30, 10\n",
    "x_range = np.arange(0,900,1)\n",
    "\n",
    "def W3_oblique_waves(x_range, H0, T, d0, slope, angle):\n",
    "\n",
    "    # The environmental conditions\n",
    "    x = x_range               # the horizontal axis\n",
    "    zbed = -(d0 - slope * x)  # bed elevation [m]\n",
    "    h = -zbed                 # still water depth [m]\n",
    "    h[h < 0] = 0              # no negative depths\n",
    "\n",
    "    # given conditions\n",
    "    gamma = 0.8               # wave breaking ratio\n",
    "    \n",
    "    # The wave characteristics at every location in the cross-section\n",
    "    L = np.array([wave_length(T, h) for h in h])  # The wavelength\n",
    "    c = L/T                                       # The wave celerity\n",
    "    k = 2*np.pi/L                                 # The wave number\n",
    "    n = 0.5 + (k*h/np.sinh(2*k*h))                \n",
    "    cg = n*c                                      # The wave group celerity\n",
    "    Ksh = np.sqrt(cg[0]/cg)                       # The shoaling parameter  \n",
    "\n",
    "    '''Complete the code here'''\n",
    "    \n",
    "    H = ...                                       # The wave height due to shoaling (only)\n",
    "    Hbreaking = gamma * h                         # The wave-breaking height\n",
    "    H[H>Hbreaking]=Hbreaking[H>Hbreaking]         # Adjusting the wave height\n",
    "\n",
    "    return"
   ]
  },
  {
   "cell_type": "code",
   "execution_count": null,
   "id": "d054a0a3-e844-41cf-8f54-0a683dff6c25",
   "metadata": {},
   "outputs": [],
   "source": [
    "W3_plot_oblique_waves()"
   ]
  },
  {
   "cell_type": "markdown",
   "id": "978e948d-ea85-42f4-a026-156fe103c8e0",
   "metadata": {},
   "source": [
    "The code below can be used to assess the influence of changing conditions on the wave height."
   ]
  },
  {
   "cell_type": "code",
   "execution_count": null,
   "id": "21a178a0-661a-4389-b5d4-c86f81da0aa2",
   "metadata": {},
   "outputs": [],
   "source": [
    "angle2 = 45\n",
    "\n",
    "H1 = W3_oblique_waves(x_range, H0 = 1.5, T = 6, d0 = 20 , slope = 1/30, angle = 0)\n",
    "H2 = W3_oblique_waves(x_range, H0 = 1.5, T = 6, d0 = 20 , slope = 1/30, angle = angle2)\n",
    "\n",
    "plt.figure(figsize = (5,3))\n",
    "plt.plot(H1, label = '0 degrees')\n",
    "plt.plot(H2, label = str(angle2) + 'degrees')\n",
    "plt.legend();"
   ]
  },
  {
   "cell_type": "raw",
   "id": "22db5b54-72e6-49eb-b2aa-9269724f2be7",
   "metadata": {},
   "source": [
    "--> Add some reflective questions."
   ]
  },
  {
   "cell_type": "markdown",
   "id": "a6835219-6247-45d7-a269-752c309909a5",
   "metadata": {},
   "source": [
    "### 3.2.3) radiation stress (Sxx) for oblique waves"
   ]
  },
  {
   "cell_type": "markdown",
   "id": "63bcf370-31d3-48da-9a0f-f59a233a071c",
   "metadata": {},
   "source": [
    "Can you calculate the crossshore distribution of the radiation stress (Sxx) for oblique waves by completing the code below?"
   ]
  },
  {
   "cell_type": "code",
   "execution_count": null,
   "id": "f7711ede-62f4-41d7-8115-95d17fb662fe",
   "metadata": {},
   "outputs": [],
   "source": [
    "H0, T, d0, slope, angle, rho = 1.5, 6, 20, 1/30, 10, 1025\n",
    "x_range = np.arange(0,900,1)\n",
    "\n",
    "def W3_radiation_stres_Sxx(x_range, H0, T, d0, slope, angle, rho):\n",
    "\n",
    "    # The environmental conditions\n",
    "    x = x_range               # the horizontal axis\n",
    "    zbed = -(d0 - slope * x)  # bed elevation [m]\n",
    "    h = -zbed                 # still water depth [m]\n",
    "    h[h < 0] = 0              # no negative depths\n",
    "\n",
    "    # given conditions\n",
    "    gamma = 0.8               # wave breaking ratio\n",
    "    \n",
    "    # The wave characteristics at every location in the cross-section\n",
    "    L = np.array([wave_length(T, h) for h in h])  # The wavelength\n",
    "    c = L/T                                       # The wave celerity\n",
    "    k = 2*np.pi/L                                 # The wave number\n",
    "    n = 0.5 + (k*h/np.sinh(2*k*h))                \n",
    "    cg = n*c                                      # The wave group celerity\n",
    "    Ksh = np.sqrt(cg[0]/cg)                       # The shoaling parameter  \n",
    "\n",
    "    '''Complete the code to calculate the wave height of oblique waves here'''\n",
    "    \n",
    "    H = ...                                       # The wave height\n",
    "    Hbreaking = gamma * h                         # The wave-breaking height\n",
    "    H[H>Hbreaking]=Hbreaking[H>Hbreaking]         # Adjusting the wave height\n",
    "\n",
    "    ''' Complete the code to calculate the radiations stresses (Sxx)'''\n",
    "\n",
    "    return Sxx"
   ]
  },
  {
   "cell_type": "code",
   "execution_count": null,
   "id": "b1aa6e2b-95bd-4e49-b39e-2ee263be2339",
   "metadata": {},
   "outputs": [],
   "source": [
    "W3_plot_radiation_stres_Sxx()"
   ]
  },
  {
   "cell_type": "markdown",
   "id": "40fa2cef-7f5d-4fe6-a90d-aa0ea9d43e0e",
   "metadata": {},
   "source": [
    "### 3.2.4) Mean water level under influence of oblique waves"
   ]
  },
  {
   "cell_type": "markdown",
   "id": "8ab74425-7e60-489d-a7dd-d15004c9c6a5",
   "metadata": {},
   "source": [
    "The wave-induced setup and setdown can be calculated by the radiation stress $S_{xx}$ and the depth (h) according to:\n",
    "\n",
    "\\begin{equation}\n",
    "\\frac{d \\overline{\\eta}}{dx} = - \\frac{1}{\\rho g d} \\frac{dS_{xx}}{dx}\n",
    "\\end{equation} \n",
    "\n",
    "It is not the radiation stress itself but <strong>its gradient</strong> what triggers a change in the mean water level.<br>\n",
    "    Following week 1.5 of the MUDE and Waves, the equation can be discretized using forward Euler: \n",
    "\\begin{equation}\n",
    "\\overline{\\eta}_{i+1}=\\overline{\\eta}_{i} - \\frac{S_{xx,i+1}-S_{xx,i}}{\\rho g d_i}\n",
    "\\end{equation} \n",
    "\n"
   ]
  },
  {
   "cell_type": "code",
   "execution_count": null,
   "id": "1bd52489-1aa1-41fc-82bd-f5576b70fb13",
   "metadata": {},
   "outputs": [],
   "source": [
    "H0, T, d0, slope, angle, rho = 1.5, 6, 20, 1/30, 10, 1025\n",
    "x_range = np.arange(0,900,1)\n",
    "def W3_wave_setup(x_range, H0, T, d0, slope, angle):\n",
    "\n",
    "    # The environmental conditions\n",
    "    x = x_range               # the horizontal axis\n",
    "    zbed = -(d0 - slope * x)  # bed elevation [m]\n",
    "    h = -zbed                 # still water depth [m]\n",
    "    h[h < 0] = 0              # no negative depths\n",
    "\n",
    "    # given conditions\n",
    "    gamma = 0.8               # wave breaking ratio\n",
    "    \n",
    "    # The wave characteristics at every location in the cross-section\n",
    "    L = np.array([wave_length(T, h) for h in h])  # The wavelength\n",
    "    c = L/T                                       # The wave celerity\n",
    "    k = 2*np.pi/L                                 # The wave number\n",
    "    n = 0.5 + (k*h/np.sinh(2*k*h))                \n",
    "    cg = n*c                                      # The wave group celerity\n",
    "    Ksh = np.sqrt(cg[0]/cg)                       # The shoaling parameter  \n",
    "\n",
    "    '''Complete the code to calculate the wave height of oblique waves here'''\n",
    "    \n",
    "    H = ...                                       # The wave height\n",
    "    Hbreaking = gamma * h                         # The wave-breaking height\n",
    "    H[H>Hbreaking]=Hbreaking[H>Hbreaking]         # Adjusting the wave height\n",
    "\n",
    "    ''' Complete the code to calculate the radiations stresses (Sxx)'''\n",
    "\n",
    "    ''' Adjust the code to implement oblique waves, if necessary'''\n",
    "    setup = np.zeros(Sxx.shape) # here we create a vector for the mean water level  \n",
    "    for i in range(len(setup)-1):# key here is that setup[0] = 0 \n",
    "        setup[i+1] = setup[i] - (Sxx[i+1]-Sxx[i])/(1000*g*h[i])\n",
    "        \n",
    "    return setup"
   ]
  },
  {
   "cell_type": "code",
   "execution_count": null,
   "id": "b63c3983-287d-4437-80e7-997d2206a5d6",
   "metadata": {},
   "outputs": [],
   "source": [
    "W3_plot_wave_setup()"
   ]
  },
  {
   "cell_type": "markdown",
   "id": "bb378c1f-7267-4ab0-a15b-eb1cbee22bf3",
   "metadata": {},
   "source": [
    "### 3.2.5) The shorewards directed force (Fx)"
   ]
  },
  {
   "cell_type": "markdown",
   "id": "32cd7ecc-7ee1-4883-9125-735f3cfae4e9",
   "metadata": {},
   "source": [
    "We dive a bit deeper into the force in cross-shore direction that drives the wave setup (Fx). Can you calculate this force along the cross-shore for an alongshore uniform coast? For this question, you can consider using a similar approach as the setup is calculated, by using forward euler."
   ]
  },
  {
   "cell_type": "code",
   "execution_count": null,
   "id": "0bf515d7-a7e6-4bab-b108-4f258ce9f90c",
   "metadata": {},
   "outputs": [],
   "source": [
    "H0, T, d0, slope, angle, rho = 1.5, 6, 20, 1/30, 10, 1025\n",
    "x_range = np.arange(0,900,1)\n",
    "def W3_Fx(x_range, H0, T, d0, slope, angle):\n",
    "\n",
    "    # The environmental conditions\n",
    "    x = x_range               # the horizontal axis\n",
    "    zbed = -(d0 - slope * x)  # bed elevation [m]\n",
    "    h = -zbed                 # still water depth [m]\n",
    "    h[h < 0] = 0              # no negative depths\n",
    "\n",
    "    # given conditions\n",
    "    gamma = 0.8               # wave breaking ratio\n",
    "    \n",
    "    # The wave characteristics at every location in the cross-section\n",
    "    L = np.array([wave_length(T, h) for h in h])  # The wavelength\n",
    "    c = L/T                                       # The wave celerity\n",
    "    k = 2*np.pi/L                                 # The wave number\n",
    "    n = 0.5 + (k*h/np.sinh(2*k*h))                \n",
    "    cg = n*c                                      # The wave group celerity\n",
    "    Ksh = np.sqrt(cg[0]/cg)                       # The shoaling parameter  \n",
    "\n",
    "    '''Complete the code to calculate the wave height of oblique waves here'''\n",
    "    H = ...                                       # The wave height\n",
    "    Hbreaking = gamma * h                         # The wave-breaking height\n",
    "    H[H>Hbreaking]=Hbreaking[H>Hbreaking]         # Adjusting the wave height\n",
    "\n",
    "    ''' Complete the code to calculate the radiations stresses (Sxx)'''\n",
    "\n",
    "    ''' Adjust the code to implement oblique waves, if necessary'''\n",
    "    setup = np.zeros(Sxx.shape) # here we create a vector for the mean water level  \n",
    "    for i in range(len(setup)-1):# key here is that setup[0] = 0 \n",
    "        setup[i+1] = setup[i] - (Sxx[i+1]-Sxx[i])/(1000*g*h[i])\n",
    "\n",
    "    ''' Complete the code to calculate Fx'''\n",
    "    Fx = np.zeros(setup.shape)\n",
    "    for i in range(len(Fx)-1):\n",
    "        Fx[i] = ... \n",
    "    \n",
    "    return Fx"
   ]
  },
  {
   "cell_type": "code",
   "execution_count": null,
   "id": "584e6e74-6301-4607-9f4c-a1c8b6afe052",
   "metadata": {},
   "outputs": [],
   "source": [
    "W3_plot_Fx()"
   ]
  },
  {
   "cell_type": "raw",
   "id": "3e14b008-c2ed-472d-8c7e-0a838f7793be",
   "metadata": {},
   "source": [
    "[ reflective questions to be added]"
   ]
  },
  {
   "cell_type": "markdown",
   "id": "40a688e5-8544-4fc1-9637-edf792b6c5d6",
   "metadata": {},
   "source": [
    "### 3.2.6) Alongshore stresses (Syx, Syy) and forces (Fy)."
   ]
  },
  {
   "cell_type": "markdown",
   "id": "428d376f-71d5-4b4c-8fa2-6c8448cfc898",
   "metadata": {},
   "source": [
    "Can you compute the radiation shear stress in y direction (Syx)?"
   ]
  },
  {
   "cell_type": "code",
   "execution_count": null,
   "id": "f1f3b159-8f30-43e2-9c6b-d958f4297d01",
   "metadata": {},
   "outputs": [],
   "source": [
    "def W3_Syx(x_range, H0, T, d0, slope, angle):\n",
    "\n",
    "    # The environmental conditions\n",
    "    x = x_range               # the horizontal axis\n",
    "    zbed = -(d0 - slope * x)  # bed elevation [m]\n",
    "    h = -zbed                 # still water depth [m]\n",
    "    h[h < 0] = 0              # no negative depths\n",
    "\n",
    "    # given conditions\n",
    "    gamma = 0.8               # wave breaking ratio\n",
    "    \n",
    "    # The wave characteristics at every location in the cross-section\n",
    "    L = np.array([wave_length(T, h) for h in h])  # The wavelength\n",
    "    c = L/T                                       # The wave celerity\n",
    "    k = 2*np.pi/L                                 # The wave number\n",
    "    n = 0.5 + (k*h/np.sinh(2*k*h))                \n",
    "    cg = n*c                                      # The wave group celerity\n",
    "    Ksh = np.sqrt(cg[0]/cg)                       # The shoaling parameter\n",
    "   \n",
    "    '''Complete the code to calculate the wave height of oblique waves here'''\n",
    "    H = ...                                       # The wave height\n",
    "    Hbreaking = gamma * h                         # The wave-breaking height\n",
    "    H[H>Hbreaking]=Hbreaking[H>Hbreaking]         # Adjusting the wave height\n",
    "\n",
    "    '''finish the code here'''\n",
    "    \n",
    "    E = ...                                        # The wave energy\n",
    "\n",
    "    Syx = ...\n",
    "    \n",
    "    return Syx"
   ]
  },
  {
   "cell_type": "code",
   "execution_count": null,
   "id": "f1069314-a353-4440-af7d-c3ca504e6683",
   "metadata": {},
   "outputs": [],
   "source": [
    "W3_plot_Syx()"
   ]
  },
  {
   "cell_type": "markdown",
   "id": "c448338b-3a5e-42a1-9f1e-8e586d0ee600",
   "metadata": {},
   "source": [
    "And can you compute the alongshore force (Fy) for an alongshore uniform coast?"
   ]
  },
  {
   "cell_type": "code",
   "execution_count": null,
   "id": "c555c3e7-ac1e-414d-91af-0dcd8ac4b0d5",
   "metadata": {},
   "outputs": [],
   "source": [
    "def W3_Fy(x_range, H0, T, d0, slope, angle):\n",
    "\n",
    "    # The environmental conditions\n",
    "    x = x_range               # the horizontal axis\n",
    "    zbed = -(d0 - slope * x)  # bed elevation [m]\n",
    "    h = -zbed                 # still water depth [m]\n",
    "    h[h < 0] = 0              # no negative depths\n",
    "\n",
    "    # given conditions\n",
    "    gamma = 0.8               # wave breaking ratio\n",
    "    \n",
    "    # The wave characteristics at every location in the cross-section\n",
    "    L = np.array([wave_length(T, h) for h in h])  # The wavelength\n",
    "    c = L/T                                       # The wave celerity\n",
    "    k = 2*np.pi/L                                 # The wave number\n",
    "    n = 0.5 + (k*h/np.sinh(2*k*h))                \n",
    "    cg = n*c                                      # The wave group celerity\n",
    "    Ksh = np.sqrt(cg[0]/cg)                       # The shoaling parameter\n",
    "    \n",
    "    '''Complete the code to calculate the wave height of oblique waves here'''\n",
    "    H = ...                                       # The wave height due to shoaling (only)\n",
    "    Hbreaking = gamma * h                         # The wave-breaking height\n",
    "    H[H>Hbreaking]=Hbreaking[H>Hbreaking]         # Adjusting the wave height\n",
    "\n",
    "    E = ...                                        # The wave energy\n",
    "    \n",
    "    'complete the code here'\n",
    "    \n",
    "    return Fy"
   ]
  },
  {
   "cell_type": "code",
   "execution_count": null,
   "id": "36297ace-9346-447f-9004-40094884703d",
   "metadata": {},
   "outputs": [],
   "source": [
    "W3_plot_Fy()"
   ]
  },
  {
   "cell_type": "markdown",
   "id": "262420b5-5d7e-4d45-b4b8-43275aa1cb97",
   "metadata": {},
   "source": [
    "### 3.2.7) Longshore current"
   ]
  },
  {
   "cell_type": "markdown",
   "id": "af022363-dffb-48da-acb8-40f5f3007d70",
   "metadata": {},
   "source": [
    "Can you calculate the distribution of the longshore current, when a bottom roughness (r) of 6 cm is used in the friction factor $c_f$?"
   ]
  },
  {
   "cell_type": "code",
   "execution_count": null,
   "id": "0be6cbd7-0b05-44f5-a847-b459c5b316b9",
   "metadata": {},
   "outputs": [],
   "source": [
    "H0, T, d0, slope, angle, rho, r = 1.5, 6, 20, 1/30, 10, 1025, 0.06\n",
    "x_range = np.arange(0,900,1)\n",
    "\n",
    "def W3_V(x_range, H0, T, d0, slope, angle, r):\n",
    "\n",
    "    # The environmental conditions\n",
    "    x = x_range               # the horizontal axis\n",
    "    zbed = -(d0 - slope * x)  # bed elevation [m]\n",
    "    h = -zbed                 # still water depth [m]\n",
    "    h[h < 0] = 0              # no negative depths\n",
    "\n",
    "    # given conditions\n",
    "    gamma = 0.8               # wave breaking ratio\n",
    "    \n",
    "    # The wave characteristics at every location in the cross-section\n",
    "    L = np.array([wave_length(T, h) for h in h])  # The wavelength\n",
    "    c = L/T                                       # The wave celerity\n",
    "    k = 2*np.pi/L                                 # The wave number\n",
    "    n = 0.5 + (k*h/np.sinh(2*k*h))                \n",
    "    cg = n*c                                      # The wave group celerity\n",
    "    Ksh = np.sqrt(cg[0]/cg)                       # The shoaling parameter\n",
    "    \n",
    "    '''Completed the code here'''\n",
    "    \n",
    "    H = ...                                 # The wave height due to shoaling and refraction\n",
    "    Hbreaking = gamma * h                         # The wave-breaking height\n",
    "    H[H>Hbreaking]=Hbreaking[H>Hbreaking]         # Adjusting the wave height\n",
    "\n",
    "    '''Finish the code over here'''\n",
    "\n",
    "    E = ...                           # The wave energy\n",
    "\n",
    "    V = ...\n",
    "\n",
    "    \n",
    "    return V"
   ]
  },
  {
   "cell_type": "code",
   "execution_count": null,
   "id": "700763e5-8ac7-429e-b521-17358a00fb1f",
   "metadata": {},
   "outputs": [],
   "source": [
    "W3_plot_V()"
   ]
  },
  {
   "cell_type": "markdown",
   "id": "69c8fab3-bdad-47ab-8ec4-ed637fcca545",
   "metadata": {},
   "source": [
    "### 3.2.8) Wave induced local current"
   ]
  },
  {
   "cell_type": "markdown",
   "id": "47795cf9-506e-4717-91a5-dc5ee1102ef9",
   "metadata": {},
   "source": [
    "Can you calculate the amplitude of the velocity (u0) near the bed through the linear wave theory?"
   ]
  },
  {
   "cell_type": "code",
   "execution_count": null,
   "id": "c5550679-5d39-405f-b8e4-9e0ba12d46b8",
   "metadata": {},
   "outputs": [],
   "source": [
    "def W3_u0(x_range, H0, T, d0, slope, angle):\n",
    "\n",
    "    # The environmental conditions\n",
    "    x = x_range               # the horizontal axis\n",
    "    zbed = -(d0 - slope * x)  # bed elevation [m]\n",
    "    h = -zbed                 # still water depth [m]\n",
    "    h[h < 0] = 0              # no negative depths\n",
    "\n",
    "    # given conditions\n",
    "    gamma = 0.8               # wave breaking ratio\n",
    "    \n",
    "    # The wave characteristics at every location in the cross-section\n",
    "    L = np.array([wave_length(T, h) for h in h])  # The wavelength\n",
    "    c = L/T                                       # The wave celerity\n",
    "    k = 2*np.pi/L                                 # The wave number\n",
    "    n = 0.5 + (k*h/np.sinh(2*k*h))                \n",
    "    cg = n*c                                      # The wave group celerity\n",
    "    Ksh = np.sqrt(cg[0]/cg)                       # The shoaling parameter\n",
    "    \n",
    "    '''Completed the code here'''\n",
    "    \n",
    "    H = ...                                 # The wave height due to shoaling and refraction\n",
    "    Hbreaking = gamma * h                         # The wave-breaking height\n",
    "    H[H>Hbreaking]=Hbreaking[H>Hbreaking]         # Adjusting the wave height\n",
    "\n",
    "    '''finish the code here'''\n",
    "    u0 = ...\n",
    "    \n",
    "    return u0"
   ]
  },
  {
   "cell_type": "code",
   "execution_count": null,
   "id": "8ddce739-bd70-4ce9-9896-dbdc9b337f5f",
   "metadata": {},
   "outputs": [],
   "source": [
    "W3_plot_u0()"
   ]
  },
  {
   "cell_type": "markdown",
   "id": "2b3a17e1-d5de-4c6b-82c0-5a3e4a629512",
   "metadata": {},
   "source": [
    "### 3.2.9) Undertow velocity under wave through"
   ]
  },
  {
   "cell_type": "markdown",
   "id": "c13311d3-e599-4d22-8d73-40252f7c215a",
   "metadata": {},
   "source": [
    "In breaking waves, the mass transport towards the coast between wave crest and wave\n",
    "trough may be quite large, resulting in rather large seaward-directed velocities under\n",
    "the wave trough level"
   ]
  },
  {
   "cell_type": "code",
   "execution_count": null,
   "id": "6038a3d5-d4b6-47b7-b08d-1cc103bcafed",
   "metadata": {},
   "outputs": [],
   "source": [
    "# page 202"
   ]
  },
  {
   "cell_type": "code",
   "execution_count": null,
   "id": "36c795f3-29ae-45a0-bd68-4a8cdaedc3ad",
   "metadata": {},
   "outputs": [],
   "source": [
    "def W3_u0(x_range, H0, T, d0, slope, angle):\n",
    "\n",
    "    # The environmental conditions\n",
    "    x = x_range               # the horizontal axis\n",
    "    zbed = -(d0 - slope * x)  # bed elevation [m]\n",
    "    h = -zbed                 # still water depth [m]\n",
    "    h[h < 0] = 0              # no negative depths\n",
    "\n",
    "    # given conditions\n",
    "    gamma = 0.8               # wave breaking ratio\n",
    "    rho = 1025                # Density of water [kg/m3]\n",
    "    \n",
    "    # The wave characteristics at every location in the cross-section\n",
    "    L = np.array([wave_length(T, h) for h in h])  # The wavelength\n",
    "    c = L/T                                       # The wave celerity\n",
    "    k = 2*np.pi/L                                 # The wave number\n",
    "    n = 0.5 + (k*h/np.sinh(2*k*h))                \n",
    "    cg = n*c                                      # The wave group celerity\n",
    "    Ksh = np.sqrt(cg[0]/cg)                       # The shoaling parameter\n",
    "    \n",
    "    '''Completed the code here'''\n",
    "    \n",
    "    H = ...                                 # The wave height due to shoaling and refraction\n",
    "    Hbreaking = gamma * h                         # The wave-breaking height\n",
    "    H[H>Hbreaking]=Hbreaking[H>Hbreaking]         # Adjusting the wave height\n",
    "    g = 9.81\n",
    "    E = 1/8*rho*g*H**2                            # The wave energy\n",
    "\n",
    "    ''' finish the code here'''\n",
    "    \n",
    "    alpha = 1\n",
    "    Er = ...\n",
    "    \n",
    "    q_non_break = ... = E/c\n",
    "    q_roller = ... = alpha*Er/C\n",
    "    q_drift = q_non_break + q_roller\n",
    "\n",
    "    q_drift = q_drift[H == Hbreaking]\n",
    "\n",
    "    u_trough = q_drift*np.cos(np.deg2rad(angle))/(rho*h)\n",
    "    \n",
    "    \n",
    "    \n",
    "    return u_trough"
   ]
  },
  {
   "cell_type": "markdown",
   "id": "0a564dc4-d23b-46fd-9332-f751de69299e",
   "metadata": {},
   "source": [
    "### 3.2.10) The influence of wave setup"
   ]
  },
  {
   "cell_type": "markdown",
   "id": "53958f41-010d-40c5-b96c-092ba8c2c8a5",
   "metadata": {},
   "source": [
    "The setup caused by waves influences the water depth. This might influence the waves as they propagate, especially in shallow water, were the setup is . The code below calculates the water depth iterative, if you complete it with the code you made before."
   ]
  },
  {
   "cell_type": "code",
   "execution_count": null,
   "id": "2b379d26-2b4d-409b-8b83-c47ef9776ea7",
   "metadata": {},
   "outputs": [],
   "source": [
    "def W3_wave_setup2(x_range, H0, T, d0, slope, angle):\n",
    "\n",
    "        # The environmental conditions\n",
    "        x = x_range.copy()        # the horizontal axis\n",
    "        zbed = -(d0 - slope * x)  # bed elevation [m]\n",
    "        h = -zbed                 # still water depth [m]\n",
    "        h[h < 0] = 0              # no negative depths\n",
    "        setup = np.zeros(len(h))  # initial wave-induced setup\n",
    "    \n",
    "        # given conditions\n",
    "        gamma = 0.8               # wave breaking ratio\n",
    "\n",
    "        for i in range(3): # number of iterations considered\n",
    "         \n",
    "            # The wave characteristics at every location in the cross-section\n",
    "            L = np.array([wave_length(T, h) for h in h])  # The wavelength\n",
    "            c = L/T                                       # The wave celerity\n",
    "            k = 2*np.pi/L                                 # The wave number\n",
    "            n = 0.5 + (k*h/np.sinh(2*k*h))                \n",
    "            cg = n*c                                      # The wave group celerity\n",
    "            Ksh = np.sqrt(cg[0]/cg)                       # The shoaling parameter\n",
    "            \n",
    "            '''Complete the code to calculate the wave height of oblique waves here'''\n",
    "            \n",
    "            H = ...                                  # The wave height due to shoaling and refraction\n",
    "            Hbreaking = gamma * h                         # The wave-breaking height\n",
    "            H[H>Hbreaking]=Hbreaking[H>Hbreaking]         # Adjusting the wave height\n",
    "\n",
    "            ''' Complete the code to calculate the radiations stresses (Sxx)'''\n",
    "            Sxx = ...\n",
    "\n",
    "            ''' Adjust the code to implement oblique waves, if necessary'''\n",
    "            setup = np.zeros(Sxx.shape) # here we create a vector for the mean water level  \n",
    "            for i in range(len(setup)-1):# key here is that setup[0] = 0 \n",
    "                setup[i+1] = setup[i] - (Sxx[i+1]-Sxx[i])/(1000*g*h[i])\n",
    "\n",
    "            setup_shoreline = setup[~np.isnan(setup)][-1] # get setup at the initial shoreline, which is the last non-Nan value\n",
    "            setup[np.isnan(setup)] = setup_shoreline # apply the setup at the shoreline on the land side of the initial shoreline\n",
    "\n",
    "            h = -zbed + setup         # the still water depth + setup\n",
    "            h[np.isnan(h)] = 0        # replace nan values with 0\n",
    "            h[h < 0] = 0              # no negative water depths are possible\n",
    "            \n",
    "            #plt.plot(h)              # optionally, plot the updated water depth after each iteration\n",
    "    \n",
    "        return setup"
   ]
  },
  {
   "cell_type": "code",
   "execution_count": null,
   "id": "3a225713-3ee1-4e8a-906e-0f2bf6c84cbb",
   "metadata": {},
   "outputs": [],
   "source": [
    "W3_plot_wave_setup2()"
   ]
  },
  {
   "cell_type": "markdown",
   "id": "2d3a01a8-f602-4266-8d39-0acb7b607eb6",
   "metadata": {},
   "source": [
    "# Overview of content"
   ]
  },
  {
   "cell_type": "raw",
   "id": "4877cc39-712f-4539-8d3f-1eeb94cf1d36",
   "metadata": {},
   "source": [
    "PART 1:\n",
    "part 1 wel, figure pagian 186,187etc/. Hoeven nog niet te progermeeren, moeten wel snappen met tootlje.\n",
    "\n",
    "PART 2:\n",
    "1.\tContinue from the notebook in week 3 on the Application of dispersion relationship in the cross-shore (could make sense to have it in the same notebook). \n",
    "2.\tProvide students with the code that they should have programmed in Waves to obtain the cross-shore distribution of H for normal incident waves.\n",
    "3.\tVisualize their answers\n",
    "4.\tAsk students to reflect on H(x) for different variables (slope, H0, gamma, T, mean water level) by means of multiple choice or multiple selection questions. In order to answer these questions let students vary their code in step 2. and redo step 3 (or if handier with sliders). For instance: which of the following changes in parameters will increase the width of the surf zone (give multiple answer options, more than one can be correct, for instance, increase H, decrease slope)\n",
    "5.\tNow change to obliquely incident waves and ask students to add the effect of refraction in the code and replot H(x). \n",
    "6.\tAsk a reflective question about the effect of refraction (we will add this later)\n",
    "7.\tContinue with same wave conditions or repeat. Provide students with the code that they should have programmed in Waves to obtain the cross-shore distribution of Sxx. Ask them to adjust this for obliquely incident waves. \n",
    "8.\tVisualize their code\n",
    "9.\tProvide students with the code that they should have programmed to obtain the cross-shore distribution of mean water level eta (discretizing forward Euler from week 1.5 MUDE) and visualize this. Ask them to:\n",
    "a.\tAdjust this for obliquely incident waves. \n",
    "b.\tAdd the computation and plot of Fx as an intermediate step. \n",
    "10.\tAsk some reflective questions (we will add these later)\n",
    "11.\tLet students add code and plot Syx and Fy (varying on the above code)\n",
    "12.\tAdd reflective questions\n",
    "13.\tLet students add code and plot V(x) according to Eq. 5.82\n",
    "14.\tAdd reflective question\n",
    "15.\tLet students add code and plot orbital velocity magnitude in the cross-shore direction \n",
    "16.\tTo be detailed: provide code and plot for undertow velocity (Eq. 5.41, the latter needs an estimation of the roller energy dissipation and roller area, I will provide the equations)\n",
    "--> 16 Doet Judith uitdenken (dus voor nu evne)"
   ]
  },
  {
   "cell_type": "raw",
   "id": "c9b72d80-1bf1-4693-a1ef-a152395802c1",
   "metadata": {},
   "source": [
    "tot 2.7 computerlab, maak functies, daarna  reflective . what is the effect of ...\n",
    "refraction coeficient for refraction.  refractie op golfhoogte --> wordt kleiner\n",
    "3.1 gegeven, aanpassen... \n",
    "8) plot tegenoverelkaar.\n",
    "9) 3.3 (computerlab) eta --> pagina 215.  Fx --> daarna eta uitrekenenen.\n",
    "11) uit boek/slides. (voorkeur zelfde waar als slides.)"
   ]
  },
  {
   "cell_type": "code",
   "execution_count": null,
   "id": "5588ebbe-8d34-4bb9-8cd6-2350c0fb5b9d",
   "metadata": {},
   "outputs": [],
   "source": []
  },
  {
   "cell_type": "markdown",
   "id": "1091162f-11da-40d7-84ed-e21911f92e6a",
   "metadata": {},
   "source": [
    "# Volgende stap, week 4: Chapter 5"
   ]
  },
  {
   "cell_type": "raw",
   "id": "53970be3-e2b2-4f18-89df-14b0e7d18971",
   "metadata": {},
   "source": [
    "slide 21\n",
    "slide 22-> fluctuatie enegery golfgroepschaal (zelf codereren --> plot)\n",
    "slide 26, sxx --> formule foto\n",
    "als voor 9 januari klaar, laat weten.\n",
    "\n",
    "deze week status update. op 9e "
   ]
  },
  {
   "cell_type": "code",
   "execution_count": null,
   "id": "3206e466-84e8-450e-9552-eb5937bbf349",
   "metadata": {},
   "outputs": [],
   "source": []
  },
  {
   "cell_type": "code",
   "execution_count": null,
   "id": "211e97dc-15ac-40c1-a459-e5445e8cdf26",
   "metadata": {},
   "outputs": [],
   "source": []
  }
 ],
 "metadata": {
  "kernelspec": {
   "display_name": "Python 3 (ipykernel)",
   "language": "python",
   "name": "python3"
  },
  "language_info": {
   "codemirror_mode": {
    "name": "ipython",
    "version": 3
   },
   "file_extension": ".py",
   "mimetype": "text/x-python",
   "name": "python",
   "nbconvert_exporter": "python",
   "pygments_lexer": "ipython3",
   "version": "3.11.6"
  }
 },
 "nbformat": 4,
 "nbformat_minor": 5
}
