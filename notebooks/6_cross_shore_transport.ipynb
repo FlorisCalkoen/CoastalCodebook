{
 "cells": [
  {
   "cell_type": "markdown",
   "id": "3396e7c4-001d-4929-8755-c279a566e9c1",
   "metadata": {},
   "source": [
    "## First import some necessary packages"
   ]
  },
  {
   "cell_type": "code",
   "execution_count": null,
   "id": "643c6c52-340d-4e3f-8de7-b4a587b8e009",
   "metadata": {},
   "outputs": [],
   "source": [
    "import logging\n",
    "import pathlib\n",
    "import sys\n",
    "\n",
    "import colorcet as cc\n",
    "import dotenv\n",
    "import geopandas as gpd\n",
    "import holoviews as hv\n",
    "import hvplot.pandas  # noqa: API import\n",
    "import numpy as np\n",
    "import pandas as pd\n",
    "import panel as pn\n",
    "import pooch\n",
    "from bokeh.models import PanTool, WheelZoomTool\n",
    "\n",
    "import coastal_dynamics as cd\n",
    "\n",
    "# Activate Panel extension to make interactive visualizations\n",
    "pn.extension()"
   ]
  },
  {
   "cell_type": "code",
   "execution_count": null,
   "id": "b3cf9e29-7be5-4921-acc9-88a5d680fc91",
   "metadata": {},
   "outputs": [],
   "source": [
    "# # Read questions from cloud storage\n",
    "questions = cd.read_questions(\n",
    "    \"./questions/6_cross_shore_transport.json\"\n",
    "    # \"az://coastal-dynamics/questions/5_morphodynamics_upper_shoreface.json\",\n",
    "    # storage_options={\"account_name\": \"coclico\"},\n",
    ")"
   ]
  },
  {
   "cell_type": "markdown",
   "id": "212ca8b3-d02c-46f9-bc00-0634245f1831",
   "metadata": {},
   "source": [
    "# (Cross-shore) sediment transport\n",
    "Welcome to the notebook of week 6! The main topic of this ntoebook is cross-shore sediment transport (chapter 7 of the book, with some extra attention for section 7.5 specifically). We will start with a small introduction, followed by a more detailed look into figure 7.21 from the book."
   ]
  },
  {
   "cell_type": "markdown",
   "id": "8886cf2b-46e1-4228-8972-cff7e19801c7",
   "metadata": {},
   "source": [
    "## Introduction\n",
    "Remember from chapter 5 that the velocity $u$ close to the bed can be assumed to consists of a wave group-averaged component $\\bar{u}$, a short-wave-averaged oscillatory component $u_{lo}$ and a short-wave component $u_{hi}$:\n",
    "$$\n",
    "u = \\bar{u} + u_{lo} + u_{hi}\n",
    "$$\n",
    "We are interested in net sediment transport. We can use the third odd velocity moment as a proxy for this (which is a gross simplification, but a workable one):\n",
    "$$\n",
    "\\left\\langle u \\left|u\\right|^2\\right\\rangle = 3 \\left\\langle \\bar{u} \\left|u_{hi}\\right|^2\\right\\rangle + \\left\\langle u_{hi} \\left|u_{hi}\\right|^2\\right\\rangle + 3 \\left\\langle u_{lo} \\left|u_{hi}\\right|^2\\right\\rangle + ...\n",
    "$$\n",
    "Each of these terms is fully explained in the book (so you should definitly read up on this), but in short, each of these terms refers to the following process:\n",
    "* $3 \\left\\langle \\bar{u} \\left|u_{hi}\\right|^2\\right\\rangle$ : transport related to the mean current (stirred up by short waves)\n",
    "* $\\left\\langle u_{hi} \\left|u_{hi}\\right|^2\\right\\rangle$ : transport related to high-frequency waves (stirred up by short waves)\n",
    "* $3 \\left\\langle u_{lo} \\left|u_{hi}\\right|^2\\right\\rangle$ : transport related to low-frequency waves (stirred up by short waves)\n",
    "\n",
    "Each of the velocity moments can be directly measured in a flume, which is what Roelvink and Stive (1989) did. In quasi-steady sediment transport formulations, one can recognize the velocity moments. For instance, have a look at Eqs. 6.48a and 6.48b in this book. \n",
    "\n",
    "It is possible to derive an equillibrium profile mathematically by balancing onshore and offshore terms. Bowen (1980) does this analytically for the middle and lower shoreface by balancing onshore transport by short waves and and offshore transport by gravity."
   ]
  },
  {
   "cell_type": "markdown",
   "id": "8d032011-4109-47b7-9f06-aa79990ec48c",
   "metadata": {},
   "source": [
    "For the present exercise, we are interested in figure 7.21 and how it changes for different wave conditions and bathymetry. However, we are limited by the lack of direct observations. Tinker et al (2009) presents a solution. They performed a large amount of measurements and fitted a shape function for both mean and oscillatory flow in the surf/shoaling zone, as well as onshore and offshore transport in the swash/surf zone. Though the paper is very interesting (and we definitly recommend checking it out), you are not required to know it for this exercise. You will hear more about it in the Coastal module as well, should you choose it!\n",
    "\n",
    "**Here we could start by asking a few questions about figure 7.21 (before loading the shape functions):**\n",
    "Use the velocity moments as a proxy for sediment transport. The total (net) transport consists of multiple gross contributions. \n",
    "* What is the direction of the net transport? (**offshore**/onshore/depends on the distance from the shore)\n",
    "* What is the direction of the transport by undertow (**offshore**/onshore/depends on the distance from the shore)\n",
    "* What is the direction of the transport by skewness (offshore/**onshore**/depends on the distance from the shore)\n",
    "* What is the direction of the transport by long waves (offshore/onshore/**depends on the distance from the shore**)\n",
    "* Open question: Can you explain the direction of the transport due to long waves from the correlation between the bound long waves and the wave group? Hint: look at Figure 7.20 for this and read Section 5.8.2 in the textbook.\n",
    "* For what conditions is figure 7.21 representative? (**storm conditions**, calm conditions)\n",
    "* What morphological response can be expected? (**erosion higher in the profile**, erosion lower in the profile, **sedimentation lower in the profile**, sedimentation higher in the profile, **profile flattens**, profile steepens)"
   ]
  },
  {
   "cell_type": "markdown",
   "id": "7b664253-fbf3-4b0e-b5fc-ea34fd67342b",
   "metadata": {},
   "source": [
    "## Define shape functions\n",
    "Below the shape functions by Tinker et al (2009) are defined. You are not expected to know or remember these, they are just here to help us with the exercise.\n",
    "**give equations here and briefly say something about shoaling/surf versus swash**"
   ]
  },
  {
   "cell_type": "code",
   "execution_count": null,
   "id": "90f9a67c-5d2c-4139-9377-e350e62fffdb",
   "metadata": {},
   "outputs": [],
   "source": [
    "def Tinker_mean(h, h_b):\n",
    "    return (-120 * h_b**2) * (h / h_b)**4.3 * np.exp(-9.4 * h / h_b**0.75)\n",
    "\n",
    "def Tinker_osci(h, h_b):\n",
    "    return (2.75 * h_b**0.6) * (h / h_b)**3.5 * np.exp(-4.2 * h / h_b**1.05)\n",
    "\n",
    "def Tinker_onsh(h, h_b):\n",
    "    return 3.5 * h_b**1.9 * (h / h_b)**1.1 * np.exp(-31 * (h / h_b)**1.1)**(h_b**1.1)\n",
    "\n",
    "def Tinker_offs(h, h_b):\n",
    "    \n",
    "    if h_b > 2.15:\n",
    "        a_off = -3 * h_b + 4\n",
    "    elif h_b <= 0.75:\n",
    "        a_off = 0\n",
    "    else:\n",
    "        a_off = -1.25 * (h_b - 0.75)**2\n",
    "        \n",
    "    return a_off * h_b**1.1 * (h / h_b)**1.1 * np.exp(-5.7 * (h/h_b)**1.1)**(h_b**1.1)\n",
    "\n",
    "def Tinker_total(h, h_b):\n",
    "    return Tinker_mean(h, h_b) + Tinker_osci(h, h_b) + Tinker_onsh(h, h_b) + Tinker_offs(h, h_b)"
   ]
  },
  {
   "cell_type": "markdown",
   "id": "b66dbd8c-8d83-4628-a71e-08c6ecc7a123",
   "metadata": {},
   "source": [
    "Let's try these functions for a for different types of bathymetry, assuming some breakpoint depth $h_b$! \n",
    "**maybe with text link to 3c notebook where based on H0 and T we calculate hb**"
   ]
  },
  {
   "cell_type": "markdown",
   "id": "c39f019d-308d-4804-86ff-5c7e538664a3",
   "metadata": {},
   "source": [
    "### Define bathymetry functions\n",
    "The functions below define the bathymetry. You can select the bathymetry you want to look at using the selector menu in the plot that is to be generated.\n",
    "**I did not get a selector menu, I also did not get a plot**\n",
    "**Therefore I cannot really look at the notebook in depth. But here are some ideas for the story line of the remainder of the notebook:**\n",
    "* First we have to explain some of the assumptions behind the Tinker paper: suspended sediment transport only, we are now using waves (short + long combined) and mean current as opposed to figure 7.21, bed profile and grain-size at the measurement location (could we have this profile as part of the bathymetries to be selected) and the range of hb values in the measurements.\n",
    "* Explain the approach to the swash zone (which extends beyond the focus of 7.21)  \n",
    "* Ask students to first select the profile for the measurement location and a hb to represent erosive conditions with net offshore transport. Ask questions about: -range of hb values for which erosive conditions, -for a particular hb in this range: width of surf zone (in m), direction of transport due waves and due to undertow, zones in which onshore and offshore transport are significant (as a function of cross-shore distance and/or h/hb) and direction of net transport (also as a function of cross-shore distance and/or h/hb)\n",
    "* Let them compare the results to Figure 7.21.\n",
    "* Now let them determine the hb range for accretive conditions. Choose a certain hb and answer again the questions about width of surf zone (in m), direction of transport due waves and due to undertow, zones in which onshore and offshore transport are significant (as a function of cross-shore distance and/or h/hb) and direction of net transport (also as a function of cross-shore distance and/or h/hb)\n",
    "* Now ask reflective questions about the difference between the accretive conditions and erosive conditions\n",
    "* Now discuss validity for different situations and let them choose a typical Dutch profile. Now let them again find the range of hb for which there are typical erosive and accretive conditions.\n",
    "* Let them compare the UK situation to the Dutch situation\n",
    "* Now introduce the way of plotting in terms of h/hb in the paper and show these plots. Maybe somne questions to interpret this.\n",
    "* To be determined: which role do we have for the various bathymetries"
   ]
  },
  {
   "cell_type": "code",
   "execution_count": null,
   "id": "8f26105d-7b7e-4fe7-b203-3b54988e32fc",
   "metadata": {},
   "outputs": [],
   "source": [
    "def linear(x, max_depth, margin=0.1):\n",
    "    i_start = round(margin*len(x))\n",
    "    i_end = round((1-margin)*len(x))\n",
    "\n",
    "    linear_bath = np.zeros(x.shape)\n",
    "    linear_bath[i_start:i_end] = np.linspace(0, max_depth, len(x[i_start:i_end]))\n",
    "    linear_bath[i_end:] = max_depth\n",
    "\n",
    "    return linear_bath\n",
    "\n",
    "\n",
    "def double_linear(x, max_depth, margin=0.1):\n",
    "    i_start = round(margin*len(x))\n",
    "    i_low   = round((0.4) * len(x))\n",
    "    i_high  = round((0.6) * len(x))\n",
    "    i_end   = round((1-margin)*len(x))\n",
    "\n",
    "    dl_bath = np.zeros(x.shape)\n",
    "    dl_bath[i_start:i_low] = np.linspace(0, max_depth/2, len(x[i_start:i_low]))\n",
    "    dl_bath[i_low:i_high]  = max_depth/2\n",
    "    dl_bath[i_high:i_end]  = np.linspace(max_depth/2, max_depth, len(x[i_high:i_end]))\n",
    "    dl_bath[i_end:]        = max_depth\n",
    "\n",
    "    return dl_bath\n",
    "\n",
    "\n",
    "def sigmoid(x, max_depth, margin=0.1):\n",
    "\n",
    "    def smooth_step(length):\n",
    "        dummy = np.linspace(0, 1, length)\n",
    "        return 3*dummy**2 - 2*dummy**3\n",
    "    \n",
    "    i_start = round(margin*len(x))\n",
    "    i_end = round((1-margin)*len(x))\n",
    "\n",
    "    sig_bath = np.zeros(x.shape)\n",
    "    sig_bath[i_start:i_end] = smooth_step(len(x[i_start:i_end])) * max_depth\n",
    "    sig_bath[i_end:] = max_depth\n",
    "\n",
    "    return sig_bath\n",
    "\n",
    "\n",
    "def bar(x, max_depth, margin=0.1, bar_height=1):\n",
    "    i_start_beach = round(margin*len(x))\n",
    "    i_end_beach   = round((0.5 - margin)*len(x))\n",
    "    \n",
    "    i_start_bar1 = round((0.5 - margin * 0.5) * len(x))\n",
    "    i_start_bar2 = round((0.5 + margin * 0.5) * len(x))\n",
    "    i_end_bar1   = round((0.6 - margin * 0.5) * len(x))\n",
    "    i_end_bar2   = round((0.6 + margin * 0.5) * len(x))\n",
    "\n",
    "    bar_depth = max_depth - bar_height\n",
    "\n",
    "    bar_bath = np.zeros(x.shape)\n",
    "    bar_bath[i_start_beach:i_end_beach] = np.linspace(0, max_depth, len(x[i_start_beach:i_end_beach]))\n",
    "    bar_bath[i_end_beach:i_start_bar1]  = max_depth\n",
    "    bar_bath[i_start_bar1:i_start_bar2] = np.linspace(max_depth, bar_depth, len(x[i_start_bar1:i_start_bar2]))\n",
    "    bar_bath[i_start_bar2:i_end_bar1]   = bar_depth\n",
    "    bar_bath[i_end_bar1:i_end_bar2]     = np.linspace(bar_depth, max_depth, len(x[i_end_bar1:i_end_bar2]))\n",
    "    bar_bath[i_end_bar2:]               = max_depth\n",
    "\n",
    "    return bar_bath\n",
    "\n",
    "\n",
    "def double_bar(x, max_depth, margin=0.1, bar_height1=1, bar_height2=1):\n",
    "    i_start_beach = round(margin*len(x))\n",
    "    i_end_beach   = round((0.4)*len(x))\n",
    "    \n",
    "    i_start_bar11 = round((0.5 - margin * 0.5) * len(x))\n",
    "    i_start_bar12 = round((0.5 + margin * 0.5) * len(x))\n",
    "    i_end_bar11   = round((0.6 - margin * 0.5) * len(x))\n",
    "    i_end_bar12   = round((0.6 + margin * 0.5) * len(x))\n",
    "\n",
    "    i_start_bar21 = round((0.75 - margin * 0.5) * len(x))\n",
    "    i_start_bar22 = round((0.75 + margin * 0.5) * len(x))\n",
    "    i_end_bar21   = round((0.85 - margin * 0.5) * len(x))\n",
    "    i_end_bar22   = round((0.85 + margin * 0.5) * len(x))\n",
    "\n",
    "    bar_depth1 = max_depth - bar_height1\n",
    "    bar_depth2 = max_depth - bar_height2\n",
    "\n",
    "    bar_bath = np.zeros(x.shape)\n",
    "    bar_bath[i_start_beach:i_end_beach]   = np.linspace(0, max_depth, len(x[i_start_beach:i_end_beach]))\n",
    "    bar_bath[i_end_beach:i_start_bar11]   = max_depth\n",
    "    bar_bath[i_start_bar11:i_start_bar12] = np.linspace(max_depth, bar_depth1, len(x[i_start_bar11:i_start_bar12]))\n",
    "    bar_bath[i_start_bar12:i_end_bar11]   = bar_depth1\n",
    "    bar_bath[i_end_bar11:i_end_bar12]     = np.linspace(bar_depth1, max_depth, len(x[i_end_bar11:i_end_bar12]))\n",
    "    bar_bath[i_end_bar12:i_start_bar21]   = max_depth\n",
    "    bar_bath[i_start_bar21:i_start_bar22] = np.linspace(max_depth, bar_depth2, len(x[i_start_bar21:i_start_bar22]))\n",
    "    bar_bath[i_start_bar22:i_end_bar21]   = bar_depth2\n",
    "    bar_bath[i_end_bar21:i_end_bar22]     = np.linspace(bar_depth2, max_depth, len(x[i_end_bar21:i_end_bar22]))\n",
    "    bar_bath[i_end_bar22:]                = max_depth\n",
    "\n",
    "    return bar_bath"
   ]
  },
  {
   "cell_type": "code",
   "execution_count": null,
   "id": "06aa8cb7-a31a-460d-808d-61a580d0f85f",
   "metadata": {},
   "outputs": [],
   "source": [
    "## About the bars: From Tinker \"The h/hb approach is generally inapplicable on beaches with a distinct bar–troughsystem as the effective hb changes as the waves re-\n",
    "## shoal, a problem overcome by Masselink (2004) by calculating a new hb value everytime a trough was encountered.\" Since we are not doing this at the moment I think we should leave out the barred beaches for now\n",
    "def generate_bathymetry(type, x, max_depth, margin=0.05):\n",
    "    if type == 'Linear':\n",
    "        bath = linear(x, max_depth, margin=margin)\n",
    "    elif type == 'Double linear':\n",
    "        bath = double_linear(x, max_depth, margin=margin)    \n",
    "    elif type == 'Sigmoid':\n",
    "        bath = sigmoid(x, max_depth, margin=margin)\n",
    "    elif type == 'Bar':\n",
    "        bath = bar(x, max_depth, margin=margin)\n",
    "    elif type == 'Double bar':\n",
    "        bath = double_bar(x, max_depth, margin=margin)\n",
    "    return bath"
   ]
  },
  {
   "cell_type": "markdown",
   "id": "d40dcfb5-c452-45e0-8614-7c18e37176fc",
   "metadata": {},
   "source": [
    "### Define plot function\n",
    "\n",
    "**Note**: Although you don't have to understand the plot method, we include it here so you can see how these interactive plots are made! !"
   ]
  },
  {
   "cell_type": "code",
   "execution_count": null,
   "id": "32242662-227c-47d8-920c-75e665ee6a29",
   "metadata": {},
   "outputs": [],
   "source": [
    "def show_transport(x, plot_where=\"pop-out\", n_values=100, hb_start=0.8, max_depth=3, margin=0.05):\n",
    "    \"\"\"\n",
    "    change value of 'plot_where' to:\n",
    "    'inline' if you would like the plot to show in the notebook\n",
    "    'pop-out' if you would like the plot to show in a new tab (i.e. seperate window)\n",
    "    \"\"\"\n",
    "    \n",
    "    # hb_slider = pn.widgets.FloatSlider(name=\"Breaking depth\", start=h[1], end=h[-2], value=h[int(0.8*len(h))], step=h[2] - h[1])\n",
    "    hb_slider = pn.widgets.FloatSlider(name=\"Breaking depth\", start=0.1 * max_depth, end=0.9 * max_depth, step=0.05, value=hb_start)\n",
    "\n",
    "    bath_dropdown =  pn.widgets.Select(name=\"Bathymetry select\", options=[\"Linear\", \"Double linear\", \"Sigmoid\", \"Bar\", \"Double bar\"], value=\"Linear\")\n",
    "\n",
    "    @pn.depends(hb_slider.param.value, bath_dropdown.param.value)\n",
    "    def plot(h_b, bath_type):\n",
    "        h = generate_bathymetry(bath_type, x, max_depth, margin=margin)\n",
    "\n",
    "        x_b = x[np.argmin(np.abs(h - h_b))]\n",
    "        \n",
    "        # print(x[np.argwhere(h==h_b)])\n",
    "        # x_b = x[np.argwhere(h==h_b)][0,0]\n",
    "        \n",
    "        bath_plot = hv.Curve((x, -h), label='Bathymetry').opts(xlabel='x [m]', ylabel='z [m]') * \\\n",
    "                    hv.HLine(0, label='water level').opts(line_dash='dashed') * \\\n",
    "                    hv.VLine(x_b, label='location of breaking').opts(line_dash='dashed')\n",
    "\n",
    "        bath_plot = bath_plot.opts(show_legend=True)\n",
    "        \n",
    "        mean_transport = Tinker_mean(h, h_b)\n",
    "        osci_transport = Tinker_osci(h, h_b)\n",
    "        total_transport = Tinker_total(h, h_b)\n",
    "        \n",
    "        transport_curves = hv.Curve((x, mean_transport), label='mean transport') * \\\n",
    "                           hv.Curve((x, osci_transport), label='oscillatory transport') * \\\n",
    "                           hv.Curve((x, total_transport), label='total transport')\n",
    "        \n",
    "        transport_plot = transport_curves.opts(xlabel='', ylabel='')\n",
    "        \n",
    "        p = (bath_plot.opts(\n",
    "            height=250, width=800, show_grid=True) + \\\n",
    "         transport_plot.opts(\n",
    "             height=250, width=1200, show_grid=True)).opts(shared_axes=False).cols(1)\n",
    "\n",
    "        return p\n",
    "\n",
    "    app = pn.Column(bath_dropdown, hb_slider, plot)\n",
    "    \n",
    "    if plot_where == \"inline\":\n",
    "        return app\n",
    "    elif plot_where == \"pop-out\":\n",
    "        app.show()\n",
    "    else:\n",
    "        print(\"please use either inline or pop-out for the plot_where variable\")"
   ]
  },
  {
   "cell_type": "markdown",
   "id": "698cde2c-7eac-4628-9f35-53796d436cec",
   "metadata": {},
   "source": [
    "### Define cross-shore domain\n",
    "Finally, we define our cross-shore domain."
   ]
  },
  {
   "cell_type": "code",
   "execution_count": null,
   "id": "11c628e3-b95f-47bc-8f83-1dc76a72047f",
   "metadata": {},
   "outputs": [],
   "source": [
    "# Set x-domain\n",
    "x = np.linspace(0, 50, 1000)"
   ]
  },
  {
   "cell_type": "markdown",
   "id": "6dd65bc8-839d-49f3-9698-c977acc91b8c",
   "metadata": {},
   "source": [
    "### Now plot the results\n",
    "\n",
    "Execute the cell below to generate the plot by using the function we defined above. Please note that altering the slider positions or selecting different options from the dropdown menus may trigger a warning; it can safely be ignored, and possibly silenced by the adjusting the logging warning level. "
   ]
  },
  {
   "cell_type": "code",
   "execution_count": null,
   "id": "735a0f6e-d76a-4550-9f08-1d3734263fce",
   "metadata": {},
   "outputs": [],
   "source": [
    "logging.getLogger().setLevel(logging.ERROR)\n",
    "\n",
    "show_transport(x, plot_where=\"inline\", max_depth=3)\n",
    "\n",
    "\n",
    "# LOOK AT DIFFERENT UNIQUE VALUES IN H ARRAY, AND USE THOSE AS OPTIONS FOR H_B SLIDER!!!"
   ]
  },
  {
   "cell_type": "markdown",
   "id": "c9fca3ec-37ed-4bb6-82db-ea3dfcd995d0",
   "metadata": {},
   "source": [
    "TODOS:\n",
    "* FIX AXIS TOGETHER\n",
    "* MAKE FIGURE NON-INTERACTABLE\n",
    "* MAKE FIGURES MOVE TOGETHER\n",
    "* PLOT OTHER TRANSPORT COMPONENTS\n",
    "* ADD TINKER PLOT WHERE EVERYTHING IS STACKED TOGETHER\n",
    "* PRESENT IN TWO FIGURES TO HELP STUDENTS COMPARE HIGH WAVES VS LOW WAVES\n",
    "\n",
    "* MAKE QUESTIONS (idea: focus on when these shape functions might be valid or not, i.e. different situations)\n",
    "* ADD MARKDOWNS\n"
   ]
  },
  {
   "cell_type": "code",
   "execution_count": null,
   "id": "6fcae460-3652-410e-a64f-3322d769aba2",
   "metadata": {},
   "outputs": [],
   "source": []
  },
  {
   "cell_type": "markdown",
   "id": "611fb790-ad1e-4279-b047-f3bee93b5a40",
   "metadata": {},
   "source": [
    "# Questions about:\n",
    "- unit of Q\n",
    "- interpretation of different scenarios"
   ]
  },
  {
   "cell_type": "code",
   "execution_count": null,
   "id": "14fc2bcd-ec85-4077-890b-cfd3bce01f23",
   "metadata": {},
   "outputs": [],
   "source": []
  },
  {
   "cell_type": "code",
   "execution_count": null,
   "id": "aa306a1e-a841-4c03-ad9e-fc5d509be1ea",
   "metadata": {},
   "outputs": [],
   "source": []
  },
  {
   "cell_type": "code",
   "execution_count": null,
   "id": "d63fb315-69cf-4fa6-8b53-48a8db175c80",
   "metadata": {},
   "outputs": [],
   "source": []
  },
  {
   "cell_type": "code",
   "execution_count": null,
   "id": "d96c7e55-0bb9-4e40-9b31-a681aa789da9",
   "metadata": {},
   "outputs": [],
   "source": []
  }
 ],
 "metadata": {
  "kernelspec": {
   "display_name": "Python 3 (ipykernel)",
   "language": "python",
   "name": "python3"
  },
  "language_info": {
   "codemirror_mode": {
    "name": "ipython",
    "version": 3
   },
   "file_extension": ".py",
   "mimetype": "text/x-python",
   "name": "python",
   "nbconvert_exporter": "python",
   "pygments_lexer": "ipython3",
   "version": "3.11.8"
  }
 },
 "nbformat": 4,
 "nbformat_minor": 5
}
