{
 "cells": [
  {
   "cell_type": "markdown",
   "id": "3396e7c4-001d-4929-8755-c279a566e9c1",
   "metadata": {},
   "source": [
    "## First import some necessary packages"
   ]
  },
  {
   "cell_type": "code",
   "execution_count": null,
   "id": "643c6c52-340d-4e3f-8de7-b4a587b8e009",
   "metadata": {},
   "outputs": [],
   "source": [
    "import logging\n",
    "import pathlib\n",
    "import sys\n",
    "\n",
    "import colorcet as cc\n",
    "import dask.dataframe as dd\n",
    "import dotenv\n",
    "import geopandas as gpd\n",
    "import holoviews as hv\n",
    "import hvplot.pandas  # noqa: API import\n",
    "import numpy as np\n",
    "import pandas as pd\n",
    "import panel as pn\n",
    "import pooch\n",
    "from bokeh.models import PanTool, WheelZoomTool\n",
    "\n",
    "import coastal_dynamics as cd\n",
    "\n",
    "# Activate Panel extension to make interactive visualizations\n",
    "pn.extension()\n",
    "\n",
    "# Read questions from cloud storage\n",
    "questions = cd.read_questions(\n",
    "    \"az://coastal-dynamics/questions/1_coastal_classification_hashed.json\",\n",
    "    storage_options={\"account_name\": \"coclico\"},\n",
    ")"
   ]
  }
 ],
 "metadata": {
  "kernelspec": {
   "display_name": "Python 3 (ipykernel)",
   "language": "python",
   "name": "python3"
  },
  "language_info": {
   "codemirror_mode": {
    "name": "ipython",
    "version": 3
   },
   "file_extension": ".py",
   "mimetype": "text/x-python",
   "name": "python",
   "nbconvert_exporter": "python",
   "pygments_lexer": "ipython3",
   "version": "3.11.7"
  }
 },
 "nbformat": 4,
 "nbformat_minor": 5
}
