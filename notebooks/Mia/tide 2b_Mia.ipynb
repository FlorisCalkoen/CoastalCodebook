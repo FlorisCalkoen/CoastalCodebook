{
 "cells": [
  {
   "cell_type": "markdown",
   "id": "070a3d1e-3e53-4d9d-adf0-1100343150ea",
   "metadata": {},
   "source": [
    "# Costal Systems Notebook 2b: Astronomical Tidal Constituents"
   ]
  },
  {
   "cell_type": "markdown",
   "id": "1959f106-45cf-4939-b19f-da5a4438e564",
   "metadata": {},
   "source": [
    "In Chapter 3 of the book and slides, we learned that the tide is generated through the interplay between gravitational attraction forces in the Earth-Moon and Earth-Sun systems respectively. In this notebook we will explore these concepts in a more interactive way, with some exercises, visualizations, and code. We will not repeat the whole theory, however, so make sure you have followed the lectures for this week and read the relevant pages in chapter 3 of the book.\n",
    "\n",
    "Earth has continents, oceans with varying water depths, and a complex gravitational field, hence the tidal signals we observe around the planet are complex. Fortunately, we can break them down into multiple harmonic components, called ***tidal constituents***. These can either be diurnal, semi-diurnal, short-, or long-period constituents. Each constituent is characterized by an amplitude, frequency and phase, and individually looks like a smooth sin/cosine curve. When we sum up all the individual components we observe signal beating resulting in complex tidal signals with spring-neap cycles, daily inequalities, and longer-term variations.\n",
    "\n",
    "A table of principal tidal constituents (Table 3.5) is provided below.\n",
    "\n",
    "|Tidal constituents | Name | Equil. <br> Amplitude [m] | Period [h] |\n",
    "|-|-|-|-|\n",
    "| **Semi-diurnal** |\n",
    "| Principal lunar | M2 | 0.24 | 12.42 |\n",
    "| Principal solar | S2 | 0.11 | 12.00 |\n",
    "| Lunar elliptical | N2 | 0.046 | 12.66 |\n",
    "| Lunar-solar declinational | K2 | 0.031 | 11.97 |\n",
    "| **Diurnal** |\n",
    "| Lunar-solar declinational | K1 | 0.14 | 23.93 |\n",
    "| Principal lunar | O1 | 0.10 | 25.82 | \n",
    "| Principal solar | P1 | 0.047 | 24.07 | \n",
    "| Lunar elliptical | Q1 | 0.019 | 26.87 |\n",
    "| **Long period** |\n",
    "| Fortnightly | Mf | 0.042 | 327.9 |\n",
    "| Monthly | Mm | 0.022 | 661.3 | \n",
    "| Semi-annual | Ssa | 0.019 | 4383 | \n",
    "\n",
    "<br><br>"
   ]
  },
  {
   "cell_type": "code",
   "execution_count": 9,
   "id": "9b2ce2ff-523a-4801-9dce-e70af8c20a05",
   "metadata": {},
   "outputs": [
    {
     "ename": "NameError",
     "evalue": "name 'proj_dir' is not defined",
     "output_type": "error",
     "traceback": [
      "\u001b[0;31m---------------------------------------------------------------------------\u001b[0m",
      "\u001b[0;31mNameError\u001b[0m                                 Traceback (most recent call last)",
      "Cell \u001b[0;32mIn[9], line 21\u001b[0m\n\u001b[1;32m     19\u001b[0m cwd \u001b[38;5;241m=\u001b[39m pathlib\u001b[38;5;241m.\u001b[39mPath()\u001b[38;5;241m.\u001b[39mresolve()\n\u001b[1;32m     20\u001b[0m \u001b[38;5;66;03m#proj_dir = cwd.parent  # this is the root of the CoastalCodeBook\u001b[39;00m\n\u001b[0;32m---> 21\u001b[0m DATA_DIR \u001b[38;5;241m=\u001b[39m \u001b[43mproj_dir\u001b[49m \u001b[38;5;241m/\u001b[39m \u001b[38;5;124m\"\u001b[39m\u001b[38;5;124mdata\u001b[39m\u001b[38;5;124m\"\u001b[39m\n\u001b[1;32m     22\u001b[0m \u001b[38;5;66;03m#image_path = '/Users/mpupicvurilj/Library/CloudStorage/OneDrive-DelftUniversityofTechnology/Documents/TU Delft/Coastal Systems/Model points_globe.png'\u001b[39;00m\n",
      "\u001b[0;31mNameError\u001b[0m: name 'proj_dir' is not defined"
     ]
    }
   ],
   "source": [
    "# Run this to import modules\n",
    "\n",
    "import pathlib\n",
    "from pathlib import Path\n",
    "import sys\n",
    "from warnings import filterwarnings\n",
    "import ipywidgets as widgets\n",
    "import matplotlib.patches as mpatches\n",
    "import matplotlib.pyplot as plt\n",
    "import numpy as np\n",
    "import pandas as pd\n",
    "import cartopy.crs as ccrs\n",
    "import cartopy.feature as cfeature\n",
    "import xarray as xr\n",
    "from datetime import datetime, timedelta\n",
    "from IPython.display import display, Image\n",
    "import math\n",
    "\n",
    "cwd = pathlib.Path().resolve()\n",
    "#proj_dir = cwd.parent  # this is the root of the CoastalCodeBook\n",
    "DATA_DIR = proj_dir / \"data\"\n",
    "#image_path = '/Users/mpupicvurilj/Library/CloudStorage/OneDrive-DelftUniversityofTechnology/Documents/TU Delft/Coastal Systems/Model points_globe.png'"
   ]
  },
  {
   "cell_type": "markdown",
   "id": "0b449051-d42e-4735-ab2c-60477c8701d3",
   "metadata": {},
   "source": [
    "\n",
    "<br><br>\n",
    "## 1. Visualisation of Astronomical Constituents\n",
    "\n",
    "Now that we are more familiar with the principal tidal constituents, we will visualise them at four different locations for better understanding. To accomplish this, we will use the [FES2014 Global Tide data](https://www.aviso.altimetry.fr/en/data/products/auxiliary-products/global-tide-fes/description-fes2014.html), which provides amplitude and phase information for 34 tidal constituents, distributed on 1/16˚ grids. At the end of this codebook, you can find a short script on how to load the FES2014 dataset by yourselves.\n",
    "\n",
    "First, let's have a look at the amplitudes of the constituents at each location. They are proved in the table below, in cm. Can you already determine which components will be dominant at the different locations? Also, take a look at the main lunar **M2** and solar **S2** components. In chapter 3 we determined that the moon is responsible for about 70% of the tidal mechanism, while the sun contributes only about 30%, meaning that the lunar tide should be around 2.3 times the solar tide. Does that apply at the four locations? If not, can you think of reasons why the ratio would be different?\n",
    "\n",
    "|Tidal amplitudes [cm]| M2 | S2 | N2 | K2 | K1 | O1 | P1 |  Q1 |\n",
    "|----------------|:--:|:--:|:--:|----|:--:|:--:|----|:---:|\n",
    "| North Sea   | 26 | 4 | 3  |  2 | 9 | 12  |  4 |  4 |\n",
    "| North Atlantic | 39 | 9 | 9  |  3 | 7 | 5  |  2  |  1 |\n",
    "| South Atlantic | 13 | 7 | 4  |  2 | 5 | 8  |  1.4  |  2 |\n",
    "| Indian Ocean | 44 |  26 | 8  | 7 | 3.5 | 3  | 1 |  1 |\n",
    "\n",
    "\n",
    "<br> In the figure below, you can see where are the four model points located.\n",
    "\n",
    "![image](book/assignments/figures/02_model_points_globe.png)\n"
   ]
  },
  {
   "cell_type": "markdown",
   "id": "aabecdb1-75a9-438d-88a1-e268af67134b",
   "metadata": {},
   "source": [
    "<br><br><br>\n",
    "Let's now visualise the constituents! Take a look at the function below and run the cell, we will need it in the next steps."
   ]
  },
  {
   "cell_type": "code",
   "execution_count": 4,
   "id": "1024701a-29a7-4a59-90f6-dc0874bf59b7",
   "metadata": {},
   "outputs": [],
   "source": [
    "### Functions\n",
    "def harmonic(a, phi, w, t):\n",
    "    \"\"\"\n",
    "    This function calculates the value of a harmonic function at a given time t.\n",
    "\n",
    "    Parameters:\n",
    "    a (float):      amplitude of the harmonic function.\n",
    "    phi (float):    phase angle of the harmonic function.\n",
    "    w (float):      angular frequency of the harmonic function.\n",
    "    t (float):      time at which the function is evaluated.\n",
    "\n",
    "    Returns:\n",
    "    float:          the value of the harmonic function at the given time.\n",
    "    \"\"\"\n",
    "    return a * np.cos(w * t + phi)"
   ]
  },
  {
   "cell_type": "markdown",
   "id": "c92d99f9-41b1-4d82-9c71-fd9c7b679bb4",
   "metadata": {},
   "source": [
    "<br> <br><br>\n",
    "In the code below we load the data (phase and amplitude of each constituent) and plot the tidal signal at each location. For each location, the individual components are plotted (upper plot, colors) and then the combined tidal signal (lower plot, black). It is an interactive plot, you can adjust the plotted time range using the slider (from 1 day to 1 year), and you can select which tidal constituents should be plotted with the tick boxes. This way you can play around with the different constituents and see what kind of signal you get."
   ]
  },
  {
   "cell_type": "code",
   "execution_count": 5,
   "id": "8188bf5e-1644-4840-bb4f-e1db8ab5e3ba",
   "metadata": {},
   "outputs": [],
   "source": [
    "# Tidal components and their angular frequencies (2pi divided by the period in days (= hours * 24)). Periods can be found in Table 3.5.\n",
    "comps = {\n",
    "    \"M2\": [2 * np.pi / 12.42 * 24, \"C0\"],  \n",
    "    \"S2\": [2 * np.pi / 12 * 24, \"C1\"],   \n",
    "    \"N2\": [2 * np.pi / 12.66 * 24, \"C7\"],\n",
    "    \"K2\": [2 * np.pi / 11.97 * 24, \"C2\"],   \n",
    "    \"K1\": [2 * np.pi / 23.93 * 24, \"C3\"], \n",
    "    \"O1\": [2 * np.pi / 25.82 * 24, \"C4\"],  \n",
    "    \"P1\": [2 * np.pi / 24.07 * 24, \"C5\"],  \n",
    "    \"Q1\": [2 * np.pi / 26.87 * 24, \"C6\"],  \n",
    "}\n",
    "\n",
    "locs = [\"North Sea\", \"North Atlantic\", \"South Atlantic\", \"Indian Ocean\"]\n",
    "\n",
    "# List of the tidal components\n",
    "list_comp = [comp for comp in comps]\n",
    "\n",
    "# Time window for which we will compute the tidal components. We will use one year, \n",
    "# but in the graph we can manually adjust the plotted time window\n",
    "t = np.linspace(0, 365, 20000)\n",
    "\n",
    "# Create a time array using Julian days since 1970\n",
    "start_date = datetime(1950, 1, 1)\n",
    "end_date = start_date + timedelta(days=365)\n",
    "num_points = 20000\n",
    "julian_days = np.linspace(0, (end_date - start_date).days, num_points)\n",
    "\n",
    "# Convert Julian days to datetime\n",
    "time_array = start_date + np.array([timedelta(days=float(day)) for day in julian_days])\n"
   ]
  },
  {
   "cell_type": "code",
   "execution_count": 6,
   "id": "435446c1-cd57-480f-ab08-8ea7fb81d19b",
   "metadata": {},
   "outputs": [
    {
     "data": {
      "application/vnd.jupyter.widget-view+json": {
       "model_id": "15ed15f2716f404eaa4097d04f6d4f4d",
       "version_major": 2,
       "version_minor": 0
      },
      "text/plain": [
       "VBox(children=(IntRangeSlider(value=(0, 365), description='Time [d]', layout=Layout(width='50%'), max=365), HB…"
      ]
     },
     "execution_count": 6,
     "metadata": {},
     "output_type": "execute_result"
    }
   ],
   "source": [
    "# Now we load the data into a dictionary so that we have one dataframe for each component (M2, S2, ...)\n",
    "data_dir_path = Path(DATA_DIR)\n",
    "tide = {}\n",
    "for comp in comps.keys():\n",
    "    #fp = (DATA_DIR / (\"02_\" + comp)).with_suffix(\".p\")\n",
    "    fp = data_dir_path / (\"02_\" + comp + \".p\")\n",
    "    tide[comp] = pd.read_pickle(fp)\n",
    "\n",
    "### Plotting widgets to make an interactive plot\n",
    "# Time range slider\n",
    "range_slider = widgets.IntRangeSlider(\n",
    "    value=[0, int(max(t))],\n",
    "    min=int(min(t)),\n",
    "    max=int(max(t)),\n",
    "    description=\"Time [d]\",\n",
    "    layout=widgets.Layout(width='50%')\n",
    ")\n",
    "\n",
    "# Tick boxes to select tidal components that should be plotted\n",
    "M2 = widgets.Checkbox(description=\"M2\")\n",
    "S2 = widgets.Checkbox(description=\"S2\")\n",
    "N2 = widgets.Checkbox(description=\"N2\")\n",
    "K2 = widgets.Checkbox(description=\"K2\")\n",
    "K1 = widgets.Checkbox(description=\"K1\")\n",
    "O1 = widgets.Checkbox(description=\"O1\")\n",
    "P1 = widgets.Checkbox(description=\"P1\")\n",
    "Q1 = widgets.Checkbox(description=\"Q1\")\n",
    "\n",
    "comp_boxes = [widgets.Checkbox(description=comp) for comp in comps.keys()]\n",
    "\n",
    "# Now we plot for each location a plot with the individual components and a plot for the total tidal water level\n",
    "def plot(lims_x_axis, M2, S2, N2, K2, K1, O1, P1, Q1):\n",
    "    height_ratios = [1, 1, 1.5, 1]\n",
    "    fig, axs = plt.subplots(4, 2, sharex=True, figsize=(15, 8), constrained_layout=False)\n",
    "    ax = axs.flatten()\n",
    "    \n",
    "    # We first create a dictionary with the tidal components that should be plotted,\n",
    "    # based on the selected tick boxes (if a box is sleected the value for that compnent is True)\n",
    "    comp2plot = dict()\n",
    "    if M2 == True:\n",
    "        comp2plot[list(comps.keys())[0]] = list(comps.values())[0]\n",
    "    if S2 == True:\n",
    "        comp2plot[list(comps.keys())[1]] = list(comps.values())[1] \n",
    "    if N2 == True:\n",
    "        comp2plot[list(comps.keys())[2]] = list(comps.values())[2]\n",
    "    if K2 == True:\n",
    "        comp2plot[list(comps.keys())[3]] = list(comps.values())[3]\n",
    "    if K1 == True:\n",
    "        comp2plot[list(comps.keys())[4]] = list(comps.values())[4]\n",
    "    if O1 == True:\n",
    "        comp2plot[list(comps.keys())[5]] = list(comps.values())[5]\n",
    "    if P1 == True:\n",
    "        comp2plot[list(comps.keys())[6]] = list(comps.values())[6]\n",
    "    if Q1 == True:\n",
    "        comp2plot[list(comps.keys())[7]] = list(comps.values())[7]\n",
    "\n",
    "    \n",
    "    # Now we loop through the four locations (i) and the sub plots (j). Each location has two subplots, \n",
    "    # the upper showing the selected tidal components and the lower showing the combined tidal signal \n",
    "    # (sum of components).\n",
    "    for i, j in zip(range(len(locs)), [0, 1, 4, 5]):\n",
    "        \n",
    "        # dictionary to store the harmonics\n",
    "        harms = {}\n",
    "\n",
    "        # Loop through the selected tidal components\n",
    "        for comp in comp2plot.keys():\n",
    "\n",
    "            # Store data for current component in temporary numpy array\n",
    "            temp = tide[comp][tide[comp].index == locs[i].lower()].to_numpy()[0]\n",
    "\n",
    "            # Use harmonic() to compute the harmonic funciton of the component\n",
    "            harms[comp] = harmonic(temp[3], temp[2], comp2plot[comp][0], t)\n",
    "\n",
    "            # Plot each harmonic component in the upper subplot\n",
    "            ax[j].plot(time_array, harms[comp], \"-\", linewidth=1, c=comp2plot[comp][1])\n",
    "\n",
    "        # Plot the sum of the selected constituents in the lower subplot\n",
    "        if comp2plot:\n",
    "            ax[j + 2].plot(time_array, sum([harms[comp] for comp in comp2plot.keys()]), \"k\", linewidth=1)\n",
    "\n",
    "        # Axis settings\n",
    "        x1 = datetime(1950,1,1) + timedelta(days=lims_x_axis[0])\n",
    "        x2 = datetime(1950,1,1) + timedelta(days=lims_x_axis[1])\n",
    "        ax[j].set_xlim([x1,x2])\n",
    "        ax[j].set_title(locs[i], fontweight='bold')\n",
    "\n",
    "    # Axis labels\n",
    "    fig.text(0.5, -0.05, 'Time', ha='center', va='center', fontsize=14)\n",
    "    fig.text(-0.02, 0.5, 'Tidal elevation [cm]', ha='center', va='center', rotation='vertical', fontsize=14)\n",
    "\n",
    "    # Legend entries\n",
    "    list_comp = [comp for comp in comp2plot]\n",
    "    empty_str = [str(\"_nolegend_\") for comp in comp2plot]\n",
    "    list_comp += empty_str\n",
    "    list_comp += [\"Sum of components\"]\n",
    "    \n",
    "    # Create legend\n",
    "    fig.legend(\n",
    "        list_comp,\n",
    "        ncol=len(list_comp),\n",
    "        bbox_to_anchor=(1, -0.1),\n",
    "        fontsize=14,\n",
    "    )\n",
    "\n",
    "    # Tight plot layout format\n",
    "    plt.tight_layout()\n",
    "\n",
    "# Filter potential warnings for a clean output\n",
    "filterwarnings(\"ignore\", category=UserWarning)\n",
    "\n",
    "# Create the figure\n",
    "figure = widgets.interactive(plot,lims_x_axis=range_slider, M2=M2, S2=S2, N2=N2, K2=K2, K1=K1, O1=O1, P1=P1, Q1=Q1)\n",
    "figure.layout.height = '100%'\n",
    "time = figure.children[0]\n",
    "controls1 = widgets.HBox(figure.children[1:5])\n",
    "controls2 = widgets.HBox(figure.children[5:-1])\n",
    "out = figure.children[-1]\n",
    "widgets.VBox([time, controls1, controls2, out])\n"
   ]
  },
  {
   "cell_type": "markdown",
   "id": "b13c1e3c-a2d0-4097-bae3-e9bc54e2cbab",
   "metadata": {},
   "source": [
    "<br><br>\n",
    "## 2. Tidal Beating\n",
    "\n",
    "Using the knowledge gained from Chapter 3 of the textbook and the interactive figure above, try to answer the questions below. You can use the next cell as a calculator.\n",
    "\n"
   ]
  },
  {
   "cell_type": "code",
   "execution_count": 7,
   "id": "6df26e66-2615-4edf-85fa-6c7afb9b29d9",
   "metadata": {},
   "outputs": [
    {
     "ename": "NameError",
     "evalue": "name 'T' is not defined",
     "output_type": "error",
     "traceback": [
      "\u001b[0;31m---------------------------------------------------------------------------\u001b[0m",
      "\u001b[0;31mNameError\u001b[0m                                 Traceback (most recent call last)",
      "Cell \u001b[0;32mIn[7], line 8\u001b[0m\n\u001b[1;32m      1\u001b[0m \u001b[38;5;66;03m# Write your code here to get answers to questions 1 and 2. Use the table of principal constituents.\u001b[39;00m\n\u001b[1;32m      2\u001b[0m \n\u001b[1;32m      3\u001b[0m \u001b[38;5;66;03m# T_group = 2*math.pi / (omega2-omega1) #equation 3.24b from the textbook\u001b[39;00m\n\u001b[1;32m      4\u001b[0m \u001b[38;5;66;03m# omega2 = ?\u001b[39;00m\n\u001b[1;32m      5\u001b[0m \u001b[38;5;66;03m# omega1 = ?\u001b[39;00m\n\u001b[1;32m      6\u001b[0m \u001b[38;5;66;03m# T = ? [days]\u001b[39;00m\n\u001b[0;32m----> 8\u001b[0m \u001b[38;5;28mprint\u001b[39m(\u001b[43mT\u001b[49m)\n",
      "\u001b[0;31mNameError\u001b[0m: name 'T' is not defined"
     ]
    }
   ],
   "source": [
    "# Write your code here to get answers to questions 1 and 2. Use the table of principal constituents.\n",
    "\n",
    "# T_group = 2*math.pi / (omega2-omega1) #equation 3.24b from the textbook\n",
    "# omega2 = ?\n",
    "# omega1 = ?\n",
    "# T = ? [days]\n",
    "\n",
    "print(T)"
   ]
  },
  {
   "cell_type": "code",
   "execution_count": 8,
   "id": "24da13ab-4ebb-4ea6-b971-999a408f05e0",
   "metadata": {},
   "outputs": [
    {
     "name": "stdout",
     "output_type": "stream",
     "text": [
      "\n",
      "\n",
      "\u001b[1m1. In a semi-diurnal environment, spring tide occurs for tidal constituents A and B every N days. Set the time range to around 30 days, which phenomenon can you detect when looking at the combined signal of these two constituents?\u001b[0m\n"
     ]
    },
    {
     "data": {
      "application/vnd.jupyter.widget-view+json": {
       "model_id": "899afbea0b5544be8a4190e112063f0a",
       "version_major": 2,
       "version_minor": 0
      },
      "text/plain": [
       "VBox(children=(Label(value='A'), HBox(children=(Label(value='Answer:', layout=Layout(width='50px')), Text(valu…"
      ]
     },
     "metadata": {},
     "output_type": "display_data"
    },
    {
     "data": {
      "application/vnd.jupyter.widget-view+json": {
       "model_id": "c6ef73d2f0b84472bf0feef608820287",
       "version_major": 2,
       "version_minor": 0
      },
      "text/plain": [
       "VBox(children=(Label(value='B'), HBox(children=(Label(value='Answer:', layout=Layout(width='50px')), Text(valu…"
      ]
     },
     "metadata": {},
     "output_type": "display_data"
    },
    {
     "data": {
      "application/vnd.jupyter.widget-view+json": {
       "model_id": "38a89c47053e481384a7d24df67fadda",
       "version_major": 2,
       "version_minor": 0
      },
      "text/plain": [
       "VBox(children=(Label(value='N'), HBox(children=(Label(value='Answer:', layout=Layout(width='50px')), FloatText…"
      ]
     },
     "metadata": {},
     "output_type": "display_data"
    },
    {
     "name": "stdout",
     "output_type": "stream",
     "text": [
      "\n",
      "\n",
      "\u001b[1m2. In a diurnal environment, spring tide occurs for tidal constituents C and D every M days. What is the main difference to the signal from question 1?\u001b[0m\n"
     ]
    },
    {
     "data": {
      "application/vnd.jupyter.widget-view+json": {
       "model_id": "b18c182ffe1341f299d48f37e1f9dfbf",
       "version_major": 2,
       "version_minor": 0
      },
      "text/plain": [
       "VBox(children=(Label(value='C'), HBox(children=(Label(value='Answer:', layout=Layout(width='50px')), Text(valu…"
      ]
     },
     "metadata": {},
     "output_type": "display_data"
    },
    {
     "data": {
      "application/vnd.jupyter.widget-view+json": {
       "model_id": "3fe1009920f344cb86c797c29d2490e5",
       "version_major": 2,
       "version_minor": 0
      },
      "text/plain": [
       "VBox(children=(Label(value='D'), HBox(children=(Label(value='Answer:', layout=Layout(width='50px')), Text(valu…"
      ]
     },
     "metadata": {},
     "output_type": "display_data"
    },
    {
     "data": {
      "application/vnd.jupyter.widget-view+json": {
       "model_id": "43969f07aad346a68acc0a517b3db897",
       "version_major": 2,
       "version_minor": 0
      },
      "text/plain": [
       "VBox(children=(Label(value='M'), HBox(children=(Label(value='Answer:', layout=Layout(width='50px')), FloatText…"
      ]
     },
     "metadata": {},
     "output_type": "display_data"
    },
    {
     "name": "stdout",
     "output_type": "stream",
     "text": [
      "\n",
      "\n",
      "\u001b[1m3. Strongest semi-diurnal tides are in the months M1 and M2, as can be seen from adding constituents E and F.\u001b[0m\n"
     ]
    },
    {
     "data": {
      "application/vnd.jupyter.widget-view+json": {
       "model_id": "80d6837180fc433c8d46f476e0a634b6",
       "version_major": 2,
       "version_minor": 0
      },
      "text/plain": [
       "VBox(children=(Label(value='M1'), HBox(children=(Label(value='Answer:', layout=Layout(width='50px')), Text(val…"
      ]
     },
     "metadata": {},
     "output_type": "display_data"
    },
    {
     "data": {
      "application/vnd.jupyter.widget-view+json": {
       "model_id": "432eadd00558412b843fc5f46f60e952",
       "version_major": 2,
       "version_minor": 0
      },
      "text/plain": [
       "VBox(children=(Label(value='M2'), HBox(children=(Label(value='Answer:', layout=Layout(width='50px')), Text(val…"
      ]
     },
     "metadata": {},
     "output_type": "display_data"
    },
    {
     "data": {
      "application/vnd.jupyter.widget-view+json": {
       "model_id": "bd7f158ebddb41a68d81b21ccdc42f3d",
       "version_major": 2,
       "version_minor": 0
      },
      "text/plain": [
       "VBox(children=(Label(value='E'), HBox(children=(Label(value='Answer:', layout=Layout(width='50px')), Text(valu…"
      ]
     },
     "metadata": {},
     "output_type": "display_data"
    },
    {
     "data": {
      "application/vnd.jupyter.widget-view+json": {
       "model_id": "5f78c4765a48460c94c04d698be01095",
       "version_major": 2,
       "version_minor": 0
      },
      "text/plain": [
       "VBox(children=(Label(value='F'), HBox(children=(Label(value='Answer:', layout=Layout(width='50px')), Text(valu…"
      ]
     },
     "metadata": {},
     "output_type": "display_data"
    },
    {
     "name": "stdout",
     "output_type": "stream",
     "text": [
      "\n",
      "\n",
      "\u001b[1m4. Strongest diurnal tides are in the months M3 and M4, as can be seen from adding constituents G and H.\u001b[0m\n"
     ]
    },
    {
     "data": {
      "application/vnd.jupyter.widget-view+json": {
       "model_id": "4c977231dbbb4ca19ce395490de18b7e",
       "version_major": 2,
       "version_minor": 0
      },
      "text/plain": [
       "VBox(children=(Label(value='M3'), HBox(children=(Label(value='Answer:', layout=Layout(width='50px')), Text(val…"
      ]
     },
     "metadata": {},
     "output_type": "display_data"
    },
    {
     "data": {
      "application/vnd.jupyter.widget-view+json": {
       "model_id": "55d06f1e7bf140249d5fc92c242ce5a5",
       "version_major": 2,
       "version_minor": 0
      },
      "text/plain": [
       "VBox(children=(Label(value='M4'), HBox(children=(Label(value='Answer:', layout=Layout(width='50px')), Text(val…"
      ]
     },
     "metadata": {},
     "output_type": "display_data"
    },
    {
     "data": {
      "application/vnd.jupyter.widget-view+json": {
       "model_id": "f757dd44c2aa4303b406cb6a5dbb03c5",
       "version_major": 2,
       "version_minor": 0
      },
      "text/plain": [
       "VBox(children=(Label(value='G'), HBox(children=(Label(value='Answer:', layout=Layout(width='50px')), Text(valu…"
      ]
     },
     "metadata": {},
     "output_type": "display_data"
    },
    {
     "data": {
      "application/vnd.jupyter.widget-view+json": {
       "model_id": "53f58acff6dc4b38a852a8c29dd9df5a",
       "version_major": 2,
       "version_minor": 0
      },
      "text/plain": [
       "VBox(children=(Label(value='H'), HBox(children=(Label(value='Answer:', layout=Layout(width='50px')), Text(valu…"
      ]
     },
     "metadata": {},
     "output_type": "display_data"
    },
    {
     "name": "stdout",
     "output_type": "stream",
     "text": [
      "\n",
      "\n",
      "\u001b[1m5. The combinations we looked at above have periods of up to 2 weeks. But we also know that there are much longer variations. Set the time-range to 1 year and plot the combinations S2/K2 and K1/P1. What kind of combined signal can you see now?\u001b[0m\n",
      "\n",
      "\n",
      "\u001b[1m6. Finally activate all eight principal components and analyse the combined signals. What are the dominant components at each location?\u001b[0m\n",
      "\n"
     ]
    }
   ],
   "source": [
    "# Run this block to get questions\n",
    "\n",
    "from tide_initialize import init\n",
    "\n",
    "init()"
   ]
  },
  {
   "cell_type": "code",
   "execution_count": 13,
   "id": "900ca6b3-791b-419d-a5d1-13b75e15c41e",
   "metadata": {},
   "outputs": [],
   "source": [
    "# ## Script for loading FES2014 data\n",
    "\n",
    "# #%% Load tides\n",
    "# import xarray as xr\n",
    "# import pickle\n",
    "# import numpy as np\n",
    "# from os.path import join\n",
    "# import pandas as pd\n",
    "\n",
    "# path = 'path_to_data/ocean_tide_extrapolated/' #Put your path\n",
    "\n",
    "# #%% Load data \n",
    "# # You can choose between 34 tidal constituents\n",
    "# comps = ['m2', 's2','n2', 'k2', 'k1', 'o1', 'p1', 'q1',\n",
    "#          'm4', 'mf', 'mm', 'ssa', 'm6', 's4', 'mn4'\n",
    "#         ]\n",
    "\n",
    "# # Resolution of fes2014 is 0.0625x0.0625 (lat,lon), we choose a few \n",
    "# # locations and the closest model points. You can choose some\n",
    "# # other locations\n",
    "# locs = {\n",
    "#     'scheveningen'  :   [52.125, 4.25], #lat, lon\n",
    "#     'galveston'     :   [29.25, -94.6875],\n",
    "#     'rio de janeiro':   [-23, -43.125],\n",
    "#     'jakarta'       :   [-5.8125, 106.8125],\n",
    "#     'north sea' :  [52.375, 3.25],\n",
    "#     'north atlantic' : [36.25, -64],\n",
    "#     'south atlantic' : [-30.8125, -37.25], \n",
    "#     'indian ocean' : [-5.8125, 77.25],\n",
    "\n",
    "# }\n",
    "\n",
    "# tide = {}\n",
    "\n",
    "# # Extract constituents from FES2014 and store pickle files\n",
    "# for comp in comps:\n",
    "#     data = xr.open_dataset(join(path, comp + '.nc'))\n",
    "#     data.coords['lon'] = (data.coords['lon'] + 180) % 360 - 180 #lon=[0,360]\n",
    "\n",
    "#     # tide[comp] = pd.DataFrame(columns=)\n",
    "#     temp = {}\n",
    "\n",
    "#     for loc in locs.keys():\n",
    "#         temp[loc] = (data.sel(lat=locs[loc][0],lon=locs[loc][1])\n",
    "#         .to_dataframe()\n",
    "#         .drop(['lat_bnds', 'lon_bnds', 'crs'], axis=1)\n",
    "#         .drop(1)\n",
    "#         .assign(place=loc)\n",
    "#         .set_index('place', drop=True)\n",
    "#     )\n",
    "\n",
    "#     tide[comp] = pd.concat(temp.values())\n",
    "#     tide[comp].to_pickle('path_to_data/02_%s.p' % comp) #Put the path to your folder where you want your constituents saved\n",
    "    "
   ]
  }
 ],
 "metadata": {
  "kernelspec": {
   "display_name": "Python 3 (ipykernel)",
   "language": "python",
   "name": "python3"
  },
  "language_info": {
   "codemirror_mode": {
    "name": "ipython",
    "version": 3
   },
   "file_extension": ".py",
   "mimetype": "text/x-python",
   "name": "python",
   "nbconvert_exporter": "python",
   "pygments_lexer": "ipython3",
   "version": "3.11.7"
  }
 },
 "nbformat": 4,
 "nbformat_minor": 5
}
