{
 "cells": [
  {
   "cell_type": "markdown",
   "id": "08b7ff1c-1e3c-4917-bc39-d046ecfa68eb",
   "metadata": {},
   "source": [
    "<figure>\n",
    "  <IMG SRC=\"https://raw.githubusercontent.com/mbakker7/exploratory_computing_with_python/master/tudelft_logo.png\" WIDTH=250 ALIGN=\"right\">\n",
    "</figure>"
   ]
  },
  {
   "cell_type": "markdown",
   "id": "562c17ce-311a-46be-acdf-e360ce7dd3ee",
   "metadata": {},
   "source": [
    "# Week 2a: Pre-knowledge waves"
   ]
  },
  {
   "cell_type": "code",
   "execution_count": null,
   "id": "593e05c2-cc9c-4c0d-a9bb-bf0fee870c29",
   "metadata": {},
   "outputs": [],
   "source": [
    "%run Initialize/init_2a.ipynb"
   ]
  },
  {
   "cell_type": "markdown",
   "id": "adc11ad6-a933-4eb2-ae1e-c3ccc9282a81",
   "metadata": {},
   "source": [
    "This optional section focuses on the material studied in Waves that is related to the dispersion relationship.  A brief summary is given in Sections 3.2-2.6 of the Coastal Dynamics textbook. This notebook can be used to test whether you master the dispersion relationship sufficiently. We will discuss how the wavelength can be calculated through an iterative approach, by tables, and by an explicit formula and then ask you to calculate various wave parameters."
   ]
  },
  {
   "cell_type": "markdown",
   "id": "31bed71d-9b3b-4fa5-af1b-c10b831b92b4",
   "metadata": {},
   "source": [
    "## 1) Dispersion relation"
   ]
  },
  {
   "cell_type": "markdown",
   "id": "34b967c8-fb0d-4456-a1b8-96fc5b785c73",
   "metadata": {},
   "source": [
    "In the questions below will guide you through te different ways the wavelength can be computed through the dispersion relationship. You can fillin and check the answers individually by pressing the check buttons. The correct answer will be given after 3 attempts. You can then redo the question with different numbers by running the cell again."
   ]
  },
  {
   "cell_type": "markdown",
   "id": "2a114d05-5f24-4e67-9d96-db68b161b910",
   "metadata": {},
   "source": [
    "### 1.1) Iterative approach"
   ]
  },
  {
   "cell_type": "code",
   "execution_count": null,
   "id": "97b3d1ef-453f-4d14-8d9b-04f946859ff0",
   "metadata": {},
   "outputs": [],
   "source": [
    "W2_Q1()"
   ]
  },
  {
   "cell_type": "code",
   "execution_count": null,
   "id": "949fa014-71b0-4bab-a725-f4a9928c7a43",
   "metadata": {},
   "outputs": [],
   "source": [
    "# You can use this cell to answer the question"
   ]
  },
  {
   "cell_type": "markdown",
   "id": "571d9f63-5282-4b09-945b-b15a1b9e7f41",
   "metadata": {},
   "source": [
    "### 1.2) Wavelength through table"
   ]
  },
  {
   "cell_type": "code",
   "execution_count": null,
   "id": "9d501454-fe56-4519-a24f-c67031a4218c",
   "metadata": {},
   "outputs": [],
   "source": [
    "W2_Q2()"
   ]
  },
  {
   "cell_type": "code",
   "execution_count": null,
   "id": "6a6ed4f5-73a2-4608-9a0b-78604e6bb825",
   "metadata": {},
   "outputs": [],
   "source": [
    "# You can use this cell to answer the question"
   ]
  },
  {
   "cell_type": "markdown",
   "id": "0be84b2b-bce7-49f1-9886-9319d134191b",
   "metadata": {},
   "source": [
    "### 1.3) Explicit formula"
   ]
  },
  {
   "cell_type": "code",
   "execution_count": null,
   "id": "ee3b2444-0ade-4387-ae7a-97d86d803ec9",
   "metadata": {},
   "outputs": [],
   "source": [
    "W2_Q3()"
   ]
  },
  {
   "cell_type": "code",
   "execution_count": null,
   "id": "451e2351-93f3-48ba-85a5-d4da1023b2ea",
   "metadata": {},
   "outputs": [],
   "source": [
    "# You can use this cell to answer the question"
   ]
  },
  {
   "cell_type": "markdown",
   "id": "6ed154de-80a9-4b69-ab37-07aa09da42ee",
   "metadata": {},
   "source": [
    "## 2.1) The dispersion relation"
   ]
  },
  {
   "cell_type": "markdown",
   "id": "1396d7b3-fe65-4105-a1cc-03db7ff11489",
   "metadata": {},
   "source": [
    "Various wave characteristics can be computed given the water depth and wave period or wavelength. Can you calculate the wave characteristics asked in the questions below? "
   ]
  },
  {
   "cell_type": "code",
   "execution_count": null,
   "id": "426fe0d5-f7a5-4c7d-a5e7-8755c23a56f1",
   "metadata": {},
   "outputs": [],
   "source": [
    "W2_Q4()"
   ]
  },
  {
   "cell_type": "code",
   "execution_count": null,
   "id": "d15a07ab-14be-4228-85c4-36d4f5c850ed",
   "metadata": {},
   "outputs": [],
   "source": [
    "# You can use this cell to answer the question"
   ]
  },
  {
   "cell_type": "markdown",
   "id": "7f22d79a-8d43-4896-b945-60308b37e733",
   "metadata": {},
   "source": [
    "## 2.2) Shallow, intermediate, and deep water"
   ]
  },
  {
   "cell_type": "markdown",
   "id": "d087bc0d-2be5-4acb-9eb2-e2a3472a1053",
   "metadata": {},
   "source": [
    "The wave experiences deep, intermediate, or shallow water conditions. Can you asses which conditions the wave experiences? You can use the cell below for your computations."
   ]
  },
  {
   "cell_type": "code",
   "execution_count": null,
   "id": "ce0a360e-4558-4ebc-8b1b-f161cdd66608",
   "metadata": {},
   "outputs": [],
   "source": [
    "W2_Q5()"
   ]
  },
  {
   "cell_type": "code",
   "execution_count": null,
   "id": "fca378b7-7841-42a9-8f3f-83becd1a473c",
   "metadata": {},
   "outputs": [],
   "source": [
    "# You can use this cell to answer the question"
   ]
  }
 ],
 "metadata": {
  "kernelspec": {
   "display_name": "Python 3 (ipykernel)",
   "language": "python",
   "name": "python3"
  },
  "language_info": {
   "codemirror_mode": {
    "name": "ipython",
    "version": 3
   },
   "file_extension": ".py",
   "mimetype": "text/x-python",
   "name": "python",
   "nbconvert_exporter": "python",
   "pygments_lexer": "ipython3",
   "version": "3.11.6"
  }
 },
 "nbformat": 4,
 "nbformat_minor": 5
}
