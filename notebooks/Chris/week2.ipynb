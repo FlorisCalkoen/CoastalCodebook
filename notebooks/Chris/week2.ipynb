{
 "cells": [
  {
   "cell_type": "markdown",
   "id": "08b7ff1c-1e3c-4917-bc39-d046ecfa68eb",
   "metadata": {},
   "source": [
    "<figure>\n",
    "  <IMG SRC=\"https://raw.githubusercontent.com/mbakker7/exploratory_computing_with_python/master/tudelft_logo.png\" WIDTH=250 ALIGN=\"right\">\n",
    "</figure>\n",
    "\n",
    "Before you is the Jupiter Notebook of week 2. This notebook will be incorporated in a Jupiter Book, which has the option to hide the code of the cells. "
   ]
  },
  {
   "cell_type": "markdown",
   "id": "562c17ce-311a-46be-acdf-e360ce7dd3ee",
   "metadata": {},
   "source": [
    "# Week 2 Oceanic waves and tide"
   ]
  },
  {
   "cell_type": "code",
   "execution_count": null,
   "id": "593e05c2-cc9c-4c0d-a9bb-bf0fee870c29",
   "metadata": {},
   "outputs": [],
   "source": [
    "%run Initialize/Week_2_Initialize.ipynb"
   ]
  },
  {
   "cell_type": "markdown",
   "id": "ce68662a-75b4-482d-bb7f-81a4f8b5e1e1",
   "metadata": {},
   "source": [
    "Wind-generated and tidal waves can travel great distances until they finally reach the coast. In this section, we discuss the propagation of both individual waves and the behaviour of a group of waves together. It is recommended to read chapter ?3? of the book Coastal Dynamics when studying this codebook."
   ]
  },
  {
   "cell_type": "markdown",
   "id": "aff5fd63-f3ea-44f8-9f8e-7f5d3093b220",
   "metadata": {},
   "source": [
    "## 2.1) pre-knowledge on waves"
   ]
  },
  {
   "cell_type": "markdown",
   "id": "adc11ad6-a933-4eb2-ae1e-c3ccc9282a81",
   "metadata": {},
   "source": [
    "This optional section focuses on the material studied in the course waves (CIE....) that is related to the dispersion relationship. We will discuss how the wavelength can be calculated through an iterative approach, by tables, and by an explicit formula. It is recommended to make the calculations at least once manually before these functions are used to answer more complex questions."
   ]
  },
  {
   "cell_type": "code",
   "execution_count": null,
   "id": "f9c08572-902d-4dd6-b06d-c23726494a16",
   "metadata": {},
   "outputs": [],
   "source": [
    "W2_calculators()"
   ]
  },
  {
   "cell_type": "markdown",
   "id": "31bed71d-9b3b-4fa5-af1b-c10b831b92b4",
   "metadata": {},
   "source": [
    "### 2.1.1) Dispersion relation"
   ]
  },
  {
   "cell_type": "markdown",
   "id": "7f0bd34e-08c4-4982-896f-2048a7d66d13",
   "metadata": {},
   "source": [
    "We will discuss how the wavelength can be calculated through an iterative approach, by tables, and by an explicit formula."
   ]
  },
  {
   "cell_type": "markdown",
   "id": "2a114d05-5f24-4e67-9d96-db68b161b910",
   "metadata": {},
   "source": [
    "#### Iterative approach"
   ]
  },
  {
   "cell_type": "code",
   "execution_count": null,
   "id": "97b3d1ef-453f-4d14-8d9b-04f946859ff0",
   "metadata": {},
   "outputs": [],
   "source": [
    "W2_Q1()"
   ]
  },
  {
   "cell_type": "code",
   "execution_count": null,
   "id": "949fa014-71b0-4bab-a725-f4a9928c7a43",
   "metadata": {},
   "outputs": [],
   "source": []
  },
  {
   "cell_type": "markdown",
   "id": "571d9f63-5282-4b09-945b-b15a1b9e7f41",
   "metadata": {},
   "source": [
    "#### Wave length through table"
   ]
  },
  {
   "cell_type": "code",
   "execution_count": null,
   "id": "9d501454-fe56-4519-a24f-c67031a4218c",
   "metadata": {},
   "outputs": [],
   "source": [
    "W2_Q2()"
   ]
  },
  {
   "cell_type": "code",
   "execution_count": null,
   "id": "6a6ed4f5-73a2-4608-9a0b-78604e6bb825",
   "metadata": {},
   "outputs": [],
   "source": []
  },
  {
   "cell_type": "markdown",
   "id": "0be84b2b-bce7-49f1-9886-9319d134191b",
   "metadata": {},
   "source": [
    "#### Explicit formula"
   ]
  },
  {
   "cell_type": "code",
   "execution_count": null,
   "id": "ee3b2444-0ade-4387-ae7a-97d86d803ec9",
   "metadata": {},
   "outputs": [],
   "source": [
    "W2_Q3()"
   ]
  },
  {
   "cell_type": "code",
   "execution_count": null,
   "id": "451e2351-93f3-48ba-85a5-d4da1023b2ea",
   "metadata": {},
   "outputs": [],
   "source": []
  },
  {
   "cell_type": "markdown",
   "id": "6ed154de-80a9-4b69-ab37-07aa09da42ee",
   "metadata": {},
   "source": [
    "### 2.1.2) Wave characteristics"
   ]
  },
  {
   "cell_type": "markdown",
   "id": "1396d7b3-fe65-4105-a1cc-03db7ff11489",
   "metadata": {},
   "source": [
    "The dispersion relation can be used to calculate and interchange between the wave length and wave period and thereby asses their related parameters. Can you calculate the asked wave characteristics in the questions below? "
   ]
  },
  {
   "cell_type": "code",
   "execution_count": null,
   "id": "426fe0d5-f7a5-4c7d-a5e7-8755c23a56f1",
   "metadata": {},
   "outputs": [],
   "source": [
    "W2_Q4()"
   ]
  },
  {
   "cell_type": "markdown",
   "id": "7f22d79a-8d43-4896-b945-60308b37e733",
   "metadata": {},
   "source": [
    "### 2.1.3) Shallow, intermediate, and deep water"
   ]
  },
  {
   "cell_type": "markdown",
   "id": "d087bc0d-2be5-4acb-9eb2-e2a3472a1053",
   "metadata": {},
   "source": [
    "The wave experiences deep, intermediate, or shallow water conditions. Can you asses which conditions the wave experiences?"
   ]
  },
  {
   "cell_type": "code",
   "execution_count": null,
   "id": "ce0a360e-4558-4ebc-8b1b-f161cdd66608",
   "metadata": {},
   "outputs": [],
   "source": [
    "W2_Q5()"
   ]
  },
  {
   "cell_type": "markdown",
   "id": "9121657e-c30b-4690-a84c-cdc1719ebcb5",
   "metadata": {},
   "source": [
    "## 2.2) Dispersion relation for tsunami waves"
   ]
  },
  {
   "cell_type": "markdown",
   "id": "ca701a8c-c317-479e-9286-70f894afe575",
   "metadata": {},
   "source": [
    "The dispersion relation can be used for all kind of waves, including tsunami waves. Can you asses the characteristic for tsunami waves at various water depth classifications?"
   ]
  },
  {
   "cell_type": "code",
   "execution_count": null,
   "id": "cf276d18-2b08-445f-ae9a-60c76fc7e3f8",
   "metadata": {},
   "outputs": [],
   "source": [
    "W2_Q6()"
   ]
  },
  {
   "cell_type": "markdown",
   "id": "22671e3e-a2c0-4b12-883d-c405d476e939",
   "metadata": {},
   "source": [
    "## 2.3) Dispersion relation in the cross-shore direction"
   ]
  },
  {
   "cell_type": "markdown",
   "id": "011ad064-a9f8-4da1-90e9-603a9e76a8f7",
   "metadata": {},
   "source": [
    "The water depth can sometimes influence the wave propagation speed, as we have seen in the previous question. There are two types of exceptions, namely deep water and shallow water. In deep water is the depth so large that the orbital velocities of the wave do not reach the bottom and no interaction between the waves and the bed is possible. In this case, the wave celerity is only affected by the wave period. The other extreme is in shallow water, where only the water depth influences the wave celerity, and the wave period is irrelevant. This can lead to waves with the same celerity (non-dispersive waves) even though they have different characteristics. Both of these waves should meet the requirements for shallow water conditions. In other words, although both waves are in the same location, one of them can be in shallow water while the other is not, which results in that both waves have a different celerity. \n",
    "\n",
    "You check the wavelength and celerity for 3 wave components in the cross-shore direction in the interactive graph below. At the deep water location is the wave celerity constant, then the wave celerity decreases in the intermediate water depth. In one section of the graphs, the celerity for all 3 wave components is equal, which indicates that all the 3 wave components experience shallow water. "
   ]
  },
  {
   "cell_type": "code",
   "execution_count": null,
   "id": "0faea40d-0f0d-4d05-a35a-9dbd53ee8e31",
   "metadata": {},
   "outputs": [],
   "source": [
    "W2_Q7()"
   ]
  },
  {
   "cell_type": "markdown",
   "id": "b259f53e-1b63-4719-a79b-1d7cd47484fe",
   "metadata": {},
   "source": [
    "The "
   ]
  },
  {
   "cell_type": "markdown",
   "id": "54250805-5302-4c09-a3f9-03f7b164d2c2",
   "metadata": {},
   "source": [
    "## 2.4) Wave groups"
   ]
  },
  {
   "cell_type": "code",
   "execution_count": null,
   "id": "8ce476e0-35a7-40bb-9d8f-e550f3f49460",
   "metadata": {},
   "outputs": [],
   "source": []
  },
  {
   "cell_type": "code",
   "execution_count": null,
   "id": "3a6941ad-6e2a-4d76-b657-f0a43d6ca14b",
   "metadata": {},
   "outputs": [],
   "source": []
  }
 ],
 "metadata": {
  "kernelspec": {
   "display_name": "Python 3 (ipykernel)",
   "language": "python",
   "name": "python3"
  },
  "language_info": {
   "codemirror_mode": {
    "name": "ipython",
    "version": 3
   },
   "file_extension": ".py",
   "mimetype": "text/x-python",
   "name": "python",
   "nbconvert_exporter": "python",
   "pygments_lexer": "ipython3",
   "version": "3.11.6"
  }
 },
 "nbformat": 4,
 "nbformat_minor": 5
}
