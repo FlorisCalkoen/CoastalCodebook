{
 "cells": [
  {
   "cell_type": "markdown",
   "id": "7bf40c0a-d649-486f-a208-03167a6b5d68",
   "metadata": {},
   "source": [
    "# Cook-book"
   ]
  },
  {
   "cell_type": "markdown",
   "id": "97e40bde-a643-4046-97e9-ab3f85001e11",
   "metadata": {},
   "source": [
    "In this notebook are the basics for various question types shown. The widgets can be shown through different packages, namely through IPy Widgets and Panel. The coding structure of these two is quite similar."
   ]
  },
  {
   "cell_type": "markdown",
   "id": "bc37e6cf-6d09-4e48-81ce-6a6eaecfdf15",
   "metadata": {},
   "source": [
    "More information on the implementation of IPY Widgets in panel can be found at:<br>\n",
    "https://panel.holoviz.org/reference/panes/IPyWidget.html\n",
    "\n",
    "All the possible widgets are explained at:<br>\n",
    "https://ipywidgets.readthedocs.io/en/stable/examples/Widget%20List.html <be>\n",
    "Combining these with other utilities in panel gives the possibility to ask a large variety of questions to students."
   ]
  },
  {
   "cell_type": "code",
   "execution_count": null,
   "id": "dc783d4f-02db-42ac-bd85-c294b4f00153",
   "metadata": {},
   "outputs": [],
   "source": [
    "import numpy as np\n",
    "import matplotlib.pyplot as plt\n",
    "\n",
    "import panel as pn\n",
    "pn.extension(\"ipywidgets\")\n",
    "import ipywidgets as ipw\n",
    "from matplotlib.animation import FuncAnimation\n",
    "from matplotlib.ticker import MultipleLocator\n",
    "\n",
    "from random import shuffle"
   ]
  },
  {
   "cell_type": "markdown",
   "id": "095ced43-3bb6-4a96-b0ba-1e6d87c57d66",
   "metadata": {},
   "source": [
    "## Multiple choice"
   ]
  },
  {
   "cell_type": "markdown",
   "id": "65f97d58-82cf-468d-b37c-5e45a9abb3ad",
   "metadata": {},
   "source": [
    "Here is an example of a multiple-choice selection question. It does not focus on the layout of the widgets. The layout can further be improved by aligning the question_widget and choices_widget (and submit button and feedback widget) through one HBox and by setting the width and optionally colors etc of the widgets."
   ]
  },
  {
   "cell_type": "markdown",
   "id": "9bfdf346-bfd3-4758-96ae-f5b65fda3122",
   "metadata": {},
   "source": [
    "### Single question"
   ]
  },
  {
   "cell_type": "markdown",
   "id": "d1d5d45a-e6a5-4daa-a84e-c9e51814a15a",
   "metadata": {},
   "source": [
    "Give a single question where students can select one answer from a pull-down list."
   ]
  },
  {
   "cell_type": "markdown",
   "id": "784c1f99-af5d-4258-99c0-10c440f51936",
   "metadata": {},
   "source": [
    "#### Using IPY widgets"
   ]
  },
  {
   "cell_type": "markdown",
   "id": "16a91b7d-06b7-414f-b6e9-c049aeefe08e",
   "metadata": {},
   "source": [
    "Make the questions with IPY widgets."
   ]
  },
  {
   "cell_type": "code",
   "execution_count": null,
   "id": "55f4f8b9-e2fc-4adc-881c-8f1f868fa450",
   "metadata": {},
   "outputs": [],
   "source": [
    "# the information of the question\n",
    "question_1 = \"A large continental shelf width is at a:\"\n",
    "choices_1 = [\"Leading edge\", \"Trailing edge\", \"marginal sea\"]\n",
    "answer_1 = choices_1[1]\n",
    "hint_1 = \"Unfortunately not, here is a hint ...\"\n",
    "comment_1 = \"Indeed, .. some additional information ... \"\n",
    "\n",
    "# make the required widgets\n",
    "question_widget = ipw.Label(value=question_1)\n",
    "choices_widget = ipw.Dropdown(options=choices_1, description=\"Choices:\", disabled=False)\n",
    "submit_button = ipw.Button(description=\"Submit\")\n",
    "feedback_widget = ipw.Text(\n",
    "    value=\"\",\n",
    "    placeholder=\"\",\n",
    "    description=\"Feedback:\",\n",
    "    disabled=False,\n",
    "    layout=ipw.Layout(width=\"500px\"),\n",
    ")\n",
    "\n",
    "# align the widgets vertically\n",
    "quiz_widget = ipw.VBox(\n",
    "    [question_widget] + [choices_widget] + [submit_button] + [feedback_widget]\n",
    ")\n",
    "\n",
    "# display the widgets\n",
    "display(quiz_widget)\n",
    "\n",
    "\n",
    "def check_answers(button):\n",
    "    chosen_answer = choices_widget.value\n",
    "    correct_answer = answer_1\n",
    "\n",
    "    if chosen_answer == correct_answer:\n",
    "        feedback_widget.value = comment_1\n",
    "    else:\n",
    "        feedback_widget.value = hint_1\n",
    "\n",
    "\n",
    "# Run the function check_answers when the submit button is pressed\n",
    "submit_button.on_click(check_answers)"
   ]
  },
  {
   "cell_type": "markdown",
   "id": "9286ae2d-27c4-463f-9c82-857999bf84eb",
   "metadata": {},
   "source": [
    "#### Using panel widgets"
   ]
  },
  {
   "cell_type": "markdown",
   "id": "e4133142-a6d1-427d-8b51-970c6e751f52",
   "metadata": {},
   "source": [
    "It displays the output in a separate window."
   ]
  },
  {
   "cell_type": "code",
   "execution_count": null,
   "id": "aec2e474-b0f0-42b8-b0f8-3520bb6d509a",
   "metadata": {},
   "outputs": [],
   "source": [
    "# The information of the question\n",
    "question_1 = \"A large continental shelf width is at a:\"\n",
    "choices_1 = [\"Leading edge\", \"Trailing edge\", \"Marginal sea\"]\n",
    "answer_1 = choices_1[1]\n",
    "hint_1 = \"Unfortunately not, here is a hint ...\"\n",
    "comment_1 = \"Indeed, some additional information...\"\n",
    "\n",
    "# Make the required widgets\n",
    "question_widget = pn.widgets.StaticText(value=question_1)\n",
    "choices_widget = pn.widgets.Select(options=choices_1, name=\"Choices:\")\n",
    "submit_button = pn.widgets.Button(name=\"Submit\")\n",
    "feedback_widget = pn.widgets.TextInput(value=\"\", name=\"Feedback:\", width=500)\n",
    "\n",
    "# Align the widgets vertically\n",
    "quiz_widget = pn.Column(question_widget, choices_widget, submit_button, feedback_widget)\n",
    "\n",
    "def check_answers(event):\n",
    "    chosen_answer = choices_widget.value\n",
    "    correct_answer = answer_1\n",
    "\n",
    "    if chosen_answer == correct_answer:\n",
    "        feedback_widget.value = comment_1\n",
    "    else:\n",
    "        feedback_widget.value = hint_1\n",
    "\n",
    "# Run the function check_answers when the submit button is pressed\n",
    "submit_button.on_click(check_answers)\n",
    "\n",
    "# display the panel\n",
    "pn.panel(quiz_widget).servable()"
   ]
  },
  {
   "cell_type": "markdown",
   "id": "ba862327-c012-41c1-aa98-959261de608f",
   "metadata": {},
   "source": [
    "### Multiple questions"
   ]
  },
  {
   "cell_type": "markdown",
   "id": "b9409067-354c-44f5-be2b-14d5d81414ce",
   "metadata": {},
   "source": [
    "Ask multiple questions and give the total number of correct answers in the score."
   ]
  },
  {
   "cell_type": "markdown",
   "id": "11932070-e2d1-452d-975f-fd214c63ebdf",
   "metadata": {},
   "source": [
    "#### Using IPY Widgets"
   ]
  },
  {
   "cell_type": "code",
   "execution_count": null,
   "id": "25c289be-5cc5-42c9-901b-70937618f41f",
   "metadata": {},
   "outputs": [],
   "source": [
    "# the information of the questions\n",
    "question_1 = \"A large continental shelf width is at a:\"\n",
    "choices_1 = [\"Leading edge\", \"Trailing edge\", \"marginal sea\"]\n",
    "answer_1 = choices_1[1]\n",
    "hint_1 = \"Unfortunately not, here is a hint ...\"\n",
    "comment_1 = \"Indeed, .. some additional information ... \"\n",
    "\n",
    "question_2 = \"The oceanic geoid is: \"\n",
    "choices_2 = [\n",
    "    \"An oval shape\",\n",
    "    \"The shape of the ocean surface under only gravity forces\",\n",
    "    \"A geo triangle with a different shape\",\n",
    "    \"The actual ocean surface\",\n",
    "]\n",
    "answer_2 = choices_2[1]\n",
    "hint_2 = \"Unfortunately not, here is a hint ...\"\n",
    "comment_2 = \"Indeed, .. some additional information ... \"\n",
    "\n",
    "# store the questions in a list\n",
    "questions = [question_1, question_2]\n",
    "choices = [choices_1, choices_2]\n",
    "answers = [answer_1, answer_2]\n",
    "hints = [hint_1, hint_2]\n",
    "comments = [comment_1, comment_2]\n",
    "\n",
    "# an empty list to store the widgets\n",
    "all_widgets = []  # for visualization, store all the widgets in the order they are going to be displayed\n",
    "question_widgets = []  # store all the question widgets in a list\n",
    "choices_widgets = []  # store all the choices widgets in a list\n",
    "\n",
    "# make the widgets in a loop, one widget states the question and one shows the options that can be selected.\n",
    "for question, choice, answer, hint, comment in zip(\n",
    "    questions, choices, answers, hints, comments\n",
    "):\n",
    "    question_widget = ipw.Label(value=question,layout=ipw.Layout(width=\"300px\"))\n",
    "    choices_widget = ipw.Dropdown(\n",
    "        options=choice, description=\"Choices:\", disabled=False, layout=ipw.Layout(width=\"300px\"))\n",
    "\n",
    "    all_widgets.append(question_widget)\n",
    "    all_widgets.append(choices_widget)\n",
    "    question_widgets.append(question_widget)\n",
    "    choices_widgets.append(choices_widget)\n",
    "\n",
    "# make a submit button and a feedback button\n",
    "submit_button = ipw.Button(description=\"Submit\")\n",
    "feedback_widget = ipw.Text(value=\"\", placeholder=\"\",description=\"Feedback:\",disabled=False, layout=ipw.Layout(width=\"500px\"))\n",
    "\n",
    "# allign the submit button and the feedback widget horizontally\n",
    "HBox_check = ipw.HBox([submit_button, feedback_widget])\n",
    "\n",
    "# allign the widgets vertically and display them.\n",
    "Vbox = ipw.VBox(all_widgets + [HBox_check])\n",
    "display(Vbox)\n",
    "\n",
    "\n",
    "# make a function to calculate the score and to give feedback\n",
    "def check_answers(button):\n",
    "    score = 0\n",
    "\n",
    "    for i in range(len(questions)):\n",
    "        answer = choices_widgets[i].value\n",
    "        correct_answer = answers[i]\n",
    "\n",
    "        if answer == correct_answer:\n",
    "            score += 1\n",
    "\n",
    "    feedback_widget.value = \"Your score is \" + str(score) + \"/\" + str(len(questions))\n",
    "\n",
    "\n",
    "submit_button.on_click(check_answers)"
   ]
  },
  {
   "cell_type": "markdown",
   "id": "7d0ac2f6-4328-4d0d-8359-d984c78e97e4",
   "metadata": {},
   "source": [
    "#### Using panel"
   ]
  },
  {
   "cell_type": "markdown",
   "id": "091877d4-d236-4e79-a341-7b604ebc97b9",
   "metadata": {},
   "source": [
    "The could below should provide the same outcome as the version of IPY Widgets. Unfortunately is now only tekst plotted."
   ]
  },
  {
   "cell_type": "code",
   "execution_count": null,
   "id": "014aaffd-6391-413e-b862-690bf03a7ae4",
   "metadata": {},
   "outputs": [],
   "source": [
    "# the information of the questions\n",
    "question_1 = \"A large continental shelf width is at a:\"\n",
    "choices_1 = [\"Leading edge\", \"Trailing edge\", \"marginal sea\"]\n",
    "answer_1 = choices_1[1]\n",
    "hint_1 = \"Unfortunately not, here is a hint ...\"\n",
    "comment_1 = \"Indeed, .. some additional information ... \"\n",
    "\n",
    "question_2 = \"The oceanic geoid is: \"\n",
    "choices_2 = [\n",
    "    \"An oval shape\",\n",
    "    \"The shape of the ocean surface under only gravity forces\",\n",
    "    \"A geo triangle with a different shape\",\n",
    "    \"The actual ocean surface\",\n",
    "]\n",
    "answer_2 = choices_2[1]\n",
    "hint_2 = \"Unfortunately not, here is a hint ...\"\n",
    "comment_2 = \"Indeed, .. some additional information ... \"\n",
    "\n",
    "# store the questions in a list\n",
    "questions = [question_1, question_2]\n",
    "choices = [choices_1, choices_2]\n",
    "answers = [answer_1, answer_2]\n",
    "hints = [hint_1, hint_2]\n",
    "comments = [comment_1, comment_2]\n",
    "\n",
    "# an empty list to store the widgets\n",
    "all_widgets = []  # for visualization, store all the widgets in the order they are going to be displayed\n",
    "question_widgets = []  # store all the question widgets in a list\n",
    "choices_widgets = []  # store all the choices widgets in a list\n",
    "\n",
    "# make the widgets in a loop, one widget states the question and one shows the options that can be selected.\n",
    "for question, choice, answer, hint, comment in zip(\n",
    "    questions, choices, answers, hints, comments\n",
    "):\n",
    "    question_widget = pn.widgets.StaticText(value=question)\n",
    "    choices_widget = pn.widgets.Select(options=choice, name=\"Choices\")\n",
    "\n",
    "    all_widgets.append(question_widget)\n",
    "    all_widgets.append(choices_widget)\n",
    "\n",
    "# make a submit button and a feedback button\n",
    "submit_button = pn.widgets.Button(name=\"Submit\")\n",
    "feedback_widget = pn.widgets.TextInput(value=\"\", name=\"Feedback:\")\n",
    "\n",
    "# allign the submit button and the feedback widget horizontally, THIS SHOULD BE ADDED\n",
    "#HBox_check = pn.Row(submit_button, feedback_widget)\n",
    "#all_widgets.append(HBox_check)\n",
    "\n",
    "# NOTE: what about unpacking the list into widgets? I've added an \n",
    "# asterisk operator for that - so the * before all_widgets is new and\n",
    "# unpacks the list\n",
    "quiz_widget = pn.Column(*all_widgets)\n",
    "\n",
    "# make a function to calculate the score and to give feedback\n",
    "def check_answers(event):\n",
    "    score = 0\n",
    "\n",
    "    for i in range(len(questions)):\n",
    "        answer = choices_widgets[i].value\n",
    "        correct_answer = answers[i]\n",
    "\n",
    "        if answer == correct_answer:\n",
    "            score += 1\n",
    "\n",
    "    feedback_widget.value = \"Your score is \" + str(score) + \"/\" + str(len(questions))\n",
    "\n",
    "\n",
    "submit_button.on_click(check_answers)\n",
    "\n",
    "# display the panel\n",
    "pn.panel(quiz_widget).servable()"
   ]
  },
  {
   "cell_type": "markdown",
   "id": "3dac822e-63dd-4d82-a843-8fe26e67e035",
   "metadata": {},
   "source": [
    "## Multiple selection"
   ]
  },
  {
   "cell_type": "markdown",
   "id": "5a4940c9-597b-460b-8e9e-0fd74d272c58",
   "metadata": {},
   "source": [
    "In the code below are correct and false statements presented. Students have to select the check boxes related to correct answers. Students gain points when they choose the correct answers but loose points if they check incorrect answers."
   ]
  },
  {
   "cell_type": "code",
   "execution_count": null,
   "id": "d3fcf1b2-b535-40ca-8005-d72add83bbeb",
   "metadata": {},
   "outputs": [],
   "source": [
    "correct_statements = [\"Correct\", \"The earth is round\", \"Good\"]\n",
    "false_statements = [\"False\", \"The earth is a cube\"]\n",
    "\n",
    "# Make empty list to store the widgets (refences), checkbox and true/false statements sorted.\n",
    "check_boxes = []  # all the boxes to click\n",
    "all_statements = []  # all the statements\n",
    "\n",
    "# An empty list for visualization to store the Hboxes that contains the widgets, one statement and the corresponding checkbox\n",
    "all_widgets = []\n",
    "\n",
    "for statement in correct_statements + false_statements:\n",
    "    add_statement = ipw.Label(value=statement, layout=ipw.Layout(width=\"150px\"))\n",
    "    check_box_widget = ipw.Checkbox(value=False, description=\"\", layout=ipw.Layout(width=\"120px\"))\n",
    "    HBox1 = ipw.HBox([add_statement] + [check_box_widget])\n",
    "\n",
    "    all_statements.append(add_statement)\n",
    "    check_boxes.append(check_box_widget)\n",
    "    all_widgets.append(HBox1)\n",
    "\n",
    "# randomize the order of statements\n",
    "shuffle(all_widgets)\n",
    "\n",
    "# add submit button and output with, which come on the bottom \n",
    "submit_button = ipw.Button(description='Submit')\n",
    "output_widget = ipw.Text(value= '', placeholder='', description='', disabled=False)\n",
    "\n",
    "# make an additional Hbox for alligning the submit button and the output widget\n",
    "HBox2 = ipw.HBox([submit_button] + [output_widget])\n",
    "all_widgets.append(HBox2)\n",
    "\n",
    "# allign all the Hboxes beneath each other (oldest below if not randomized) and display them.\n",
    "quiz_widget = ipw.VBox(all_widgets)\n",
    "display(quiz_widget)\n",
    "\n",
    "# Check the checkbox for each statement and calculate the score.\n",
    "def check_answers(button):\n",
    "    score = 0\n",
    "\n",
    "    for i in range(len(check_boxes)):    \n",
    "        check_box = check_boxes[i]\n",
    "        statement = all_statements[i].value\n",
    "\n",
    "        if statement in correct_statements:\n",
    "            \n",
    "            if check_box.value == True:\n",
    "                score += 1  \n",
    "                #print(\"Checkbox is checked for: \", statement, '+1=', score)\n",
    "            else:\n",
    "                score -= 0\n",
    "                #print(\"Checkbox is checked for: \", statement, '-0=', score)\n",
    "                \n",
    "        if statement not in correct_statements:\n",
    "            if check_box.value == True:\n",
    "                score -= 1\n",
    "                #print(\"Checkbox is unchecked for: \", statement, '-1=', score)\n",
    "                \n",
    "            else:\n",
    "                score -= 0\n",
    "                #print(\"Checkbox is unchecked for: \", statement, '+0=', score)\n",
    "    \n",
    "    score = np.max([score, 0])\n",
    "    output_widget.value = str('Your final score is:' +  str(score))\n",
    "    #print('Your final score is:', score)\n",
    "\n",
    "submit_button.on_click(check_answers)\n"
   ]
  },
  {
   "cell_type": "markdown",
   "id": "00cfbb95-4fa6-445c-8940-80aa70a3db1d",
   "metadata": {},
   "source": [
    "## Select figures"
   ]
  },
  {
   "cell_type": "markdown",
   "id": "da18023f-e902-4008-8b37-f8e66bd99346",
   "metadata": {},
   "source": [
    "make a slider in which students can use a slider to select a figure. How path_figures can be defined using Git Hub have to be coordinated. The code is now as raw text to prevent it from running and giving an error notification that the figures are not found.\n",
    "\n",
    "The figures and code that displays them through widgets was made by Mario van den Berg, for the test notebook about the escofier curves."
   ]
  },
  {
   "cell_type": "raw",
   "id": "a4663ef6-38c7-4d71-98e3-f08b8721bc32",
   "metadata": {},
   "source": [
    "# Load the images\n",
    "images = [\n",
    "    Image.open(Path.joinpath(path_figures, \"04_Escoffier_interactive_1.png\")),\n",
    "    Image.open(Path.joinpath(path_figures, \"04_Escoffier_interactive_2.png\")),\n",
    "    Image.open(Path.joinpath(path_figures, \"04_Escoffier_interactive_3.png\")),\n",
    "    Image.open(Path.joinpath(path_figures, \"04_Escoffier_interactive_4.png\")),\n",
    "    Image.open(Path.joinpath(path_figures, \"04_Escoffier_interactive_5.png\")),\n",
    "    Image.open(Path.joinpath(path_figures, \"04_Escoffier_interactive_6.png\")),\n",
    "    Image.open(Path.joinpath(path_figures, \"04_Escoffier_interactive_7.png\"))\n",
    "]\n",
    "\n",
    "# Create the slider widget\n",
    "slider = ipw.IntSlider(min=0, max=len(images)-1, step=1, value=0)\n",
    "\n",
    "# Display the current image\n",
    "image_widget = ipw.Image(value=images[slider.value]._repr_png_(), format='png', width='95%')\n",
    "\n",
    "# Define the update function\n",
    "def update_image(change):\n",
    "    image_widget.value = images[change.new]._repr_png_()\n",
    "\n",
    "# Attach the update function to the slider\n",
    "slider.observe(update_image, names='value')\n",
    "\n",
    "# Display the widgets\n",
    "display(slider, image_widget)"
   ]
  },
  {
   "cell_type": "markdown",
   "id": "5547238e-d5b9-43ab-a9e7-73a0bacb0677",
   "metadata": {},
   "source": [
    "## Moving graph"
   ]
  },
  {
   "cell_type": "markdown",
   "id": "fa0ac595-096f-48a4-a2ab-271de816d470",
   "metadata": {},
   "source": [
    "The FuncAnimation works to make graphs, the challenge is to stop the graph (for which automatically a button came in %notebook). So for this is a self-made button required.\n",
    "\n",
    "ipw.Play() may be a good alternative. However, the challenge is here if you want to have steps smaller than 1."
   ]
  },
  {
   "cell_type": "markdown",
   "id": "0686b157-0155-405b-b9c1-818bedc1ea01",
   "metadata": {},
   "source": [
    "### FuncAnimation"
   ]
  },
  {
   "cell_type": "code",
   "execution_count": null,
   "id": "9e0e3437-63e5-41b2-acce-888574c944be",
   "metadata": {},
   "outputs": [],
   "source": [
    "%matplotlib widget\n",
    "# manual set interval between frames in seconds\n",
    "delta_t = 0.1\n",
    "\n",
    "# setup linear mesh (x) and duration before time (t) is reset\n",
    "x = np.linspace(0, 100, 1000)#  m\n",
    "t = np.arange(0,1000,delta_t) #\n",
    "\n",
    "a = 1\n",
    "w = 0.35\n",
    "k = 0.25\n",
    "\n",
    "# Create figure and axes\n",
    "fig, ax = plt.subplots()\n",
    "\n",
    "# Compute initial displacement\n",
    "eta =  a*np.sin(k*x)\n",
    "\n",
    "# Plot initial wave\n",
    "line, = ax.plot(x, eta)\n",
    "\n",
    "# update the line for each frame\n",
    "def update(frame):\n",
    "    t = delta_t * frame\n",
    "    eta = a*np.sin(w*t-k*x)\n",
    "    line.set_ydata(eta)\n",
    "\n",
    "    # usefull in testing, stop the graph at frame 100 without the need for a button/widget\n",
    "    #if frame > 50:\n",
    "    #    animation.event_source.stop()\n",
    "\n",
    "# Create animation\n",
    "animation = FuncAnimation(fig, update, frames=len(t), interval=delta_t*1000)\n",
    "\n",
    "# create stop button that stops the graph\n",
    "stop_button = ipw.Button(description=\"stop\")\n",
    "display(stop_button)\n",
    "\n",
    "def stop_graph(button):\n",
    "    animation.event_source.stop()\n",
    "    plt.close() #  deletes the graph that has been stopped, to prevent making multiple graphs that fill the memory)\n",
    "    \n",
    "stop_button.on_click(stop_graph)"
   ]
  },
  {
   "cell_type": "markdown",
   "id": "a6bf3aa7-ed7b-43fb-b4a8-1b1d93d07fb0",
   "metadata": {},
   "source": [
    "### play widget"
   ]
  },
  {
   "cell_type": "code",
   "execution_count": null,
   "id": "00a364f6-1989-4850-bd83-ea3f62d6b8e4",
   "metadata": {},
   "outputs": [],
   "source": [
    "%matplotlib widget\n",
    "# set input parameters (can be made with widgets)\n",
    "a = 1\n",
    "w = 0.35\n",
    "k = 0.25\n",
    "\n",
    "# Set inital conditions\n",
    "t = 0\n",
    "x = np.linspace(0, 100, 1000)  # m\n",
    "eta = a * np.sin(w*t - k*x)\n",
    "\n",
    "# Create figure, axes, and initial values\n",
    "fig, ax = plt.subplots()\n",
    "line, = ax.plot(x, eta)\n",
    "\n",
    "play = ipw.Play(\n",
    "    value=0,\n",
    "    min=0,\n",
    "    max=100,\n",
    "    step=1,\n",
    "    interval=1000, #  miliseconds\n",
    "    description=\"Press play\",\n",
    "    disabled=False,\n",
    ")\n",
    "\n",
    "slider = ipw.FloatSlider(min=0, max=100, step=0.1)\n",
    "ipw.jslink((play, 'value'), (slider, 'value'))\n",
    "\n",
    "\n",
    "def update_line(change):\n",
    "    t = change.new\n",
    "    eta = a * np.sin(w * t - k * x)\n",
    "    line.set_ydata(eta)\n",
    "    fig.canvas.draw()\n",
    "\n",
    "\n",
    "slider.observe(update_line, names='value')\n",
    "\n",
    "ipw.HBox([play, slider])"
   ]
  },
  {
   "cell_type": "code",
   "execution_count": null,
   "id": "7d2f1aa7-0f15-40d5-a07f-75c80adb1fb3",
   "metadata": {},
   "outputs": [],
   "source": []
  },
  {
   "cell_type": "code",
   "execution_count": null,
   "id": "ec5f9b86-834e-44d1-9550-544ad84bf69c",
   "metadata": {},
   "outputs": [],
   "source": []
  },
  {
   "cell_type": "code",
   "execution_count": null,
   "id": "f936d2f7-7381-4c7c-8cc7-4eb6bf148f05",
   "metadata": {},
   "outputs": [],
   "source": []
  }
 ],
 "metadata": {
  "kernelspec": {
   "display_name": "Python [conda env:coastal] *",
   "language": "python",
   "name": "conda-env-coastal-py"
  },
  "language_info": {
   "codemirror_mode": {
    "name": "ipython",
    "version": 3
   },
   "file_extension": ".py",
   "mimetype": "text/x-python",
   "name": "python",
   "nbconvert_exporter": "python",
   "pygments_lexer": "ipython3",
   "version": "3.11.6"
  }
 },
 "nbformat": 4,
 "nbformat_minor": 5
}
