{
 "cells": [
  {
   "cell_type": "code",
   "execution_count": null,
   "id": "089a7b55",
   "metadata": {},
   "outputs": [],
   "source": [
    "import numpy as np\n",
    "import matplotlib.pyplot as plt\n",
    "from matplotlib.animation import FuncAnimation\n",
    "\n",
    "#import IPython"
   ]
  },
  {
   "cell_type": "code",
   "execution_count": null,
   "id": "44d86a01",
   "metadata": {},
   "outputs": [],
   "source": [
    "%matplotlib notebook\n",
    "# manual set interval between frames in secondes\n",
    "delta_t = 0.1\n",
    "\n",
    "# setup linear mesh (x) and duration before time (t) is reset\n",
    "x = np.linspace(0, 100, 1000)\n",
    "t = np.arange(0,1000,delta_t)\n",
    "\n",
    "a = 1\n",
    "w = 0.35\n",
    "k = 0.25\n",
    "\n",
    "# Create figure and axes\n",
    "fig, ax = plt.subplots()\n",
    "\n",
    "# Compute initial displacement\n",
    "eta =  a*np.sin(k*x)\n",
    "\n",
    "# Plot initial wave\n",
    "line, = ax.plot(x, eta)\n",
    "\n",
    "# update the line for each frame\n",
    "def update(frame):\n",
    "    t = delta_t * frame\n",
    "    eta = a*np.sin(w*t-k*x)\n",
    "    line.set_ydata(eta)\n",
    "\n",
    "# Create animation\n",
    "animation = FuncAnimation(fig, update, frames=len(t), interval=delta_t*1000)\n",
    "\n",
    "# Show animation\n",
    "plt.show()\n",
    "\n"
   ]
  },
  {
   "cell_type": "code",
   "execution_count": null,
   "id": "4f1db5f8",
   "metadata": {},
   "outputs": [],
   "source": []
  }
 ],
 "metadata": {
  "kernelspec": {
   "display_name": "Python 3 (ipykernel)",
   "language": "python",
   "name": "python3"
  },
  "language_info": {
   "codemirror_mode": {
    "name": "ipython",
    "version": 3
   },
   "file_extension": ".py",
   "mimetype": "text/x-python",
   "name": "python",
   "nbconvert_exporter": "python",
   "pygments_lexer": "ipython3",
   "version": "3.11.6"
  }
 },
 "nbformat": 4,
 "nbformat_minor": 5
}
