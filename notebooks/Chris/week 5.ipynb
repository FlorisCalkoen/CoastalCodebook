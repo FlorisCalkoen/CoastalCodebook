{
 "cells": [
  {
   "cell_type": "markdown",
   "id": "851d7f66",
   "metadata": {},
   "source": [
    "# Wave phases (chapter 5)"
   ]
  },
  {
   "cell_type": "code",
   "execution_count": null,
   "id": "5fee2fbc",
   "metadata": {},
   "outputs": [],
   "source": [
    "%run Initialize/Week_5_Initialize.ipynb"
   ]
  },
  {
   "cell_type": "code",
   "execution_count": null,
   "id": "c35968f9",
   "metadata": {},
   "outputs": [],
   "source": [
    "Q1()"
   ]
  },
  {
   "cell_type": "code",
   "execution_count": null,
   "id": "9cad33b5",
   "metadata": {},
   "outputs": [],
   "source": []
  }
 ],
 "metadata": {
  "kernelspec": {
   "display_name": "Python 3 (ipykernel)",
   "language": "python",
   "name": "python3"
  },
  "language_info": {
   "codemirror_mode": {
    "name": "ipython",
    "version": 3
   },
   "file_extension": ".py",
   "mimetype": "text/x-python",
   "name": "python",
   "nbconvert_exporter": "python",
   "pygments_lexer": "ipython3",
   "version": "3.11.4"
  }
 },
 "nbformat": 4,
 "nbformat_minor": 5
}
