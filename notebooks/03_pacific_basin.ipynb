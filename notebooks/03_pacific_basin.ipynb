{
 "cells": [
  {
   "cell_type": "code",
   "execution_count": null,
   "id": "ee2ffe05-66ec-43f8-b7e6-2db9302dee83",
   "metadata": {
    "tags": []
   },
   "outputs": [],
   "source": [
    "# definitly not a best practice, but a workaround to avoid many warnings caused by shapely 2.0 release\n",
    "import io\n",
    "import socket\n",
    "import warnings\n",
    "import pathlib\n",
    "import sys\n",
    "\n",
    "import cartopy.crs as ccrs\n",
    "import geopandas as gpd\n",
    "import geoviews as gv\n",
    "import geoviews.tile_sources as gvts\n",
    "import holoviews as hv\n",
    "import hvplot.pandas\n",
    "import hvplot.xarray\n",
    "import matplotlib.pyplot as plt\n",
    "import numpy as np\n",
    "import pandas as pd\n",
    "import panel as pn\n",
    "import requests\n",
    "import rioxarray\n",
    "import shapely\n",
    "import xarray as xr\n",
    "from tqdm import tqdm\n",
    "\n",
    "from coastalbook.geometries import geo_bbox\n",
    "\n",
    "cwd = pathlib.Path().resolve()\n",
    "proj_dir = cwd.parent"
   ]
  },
  {
   "cell_type": "code",
   "execution_count": null,
   "id": "eef7b1a0-2e6a-4d51-8160-6d85c6798d21",
   "metadata": {
    "tags": []
   },
   "outputs": [],
   "source": [
    "DATA_DIR = proj_dir / \"data\"\n",
    "coastsat_metadata_pacific_fp = DATA_DIR / \"03_CoastSat_metadata_layer_Pacific.geojson\"\n",
    "metadata = gpd.read_file(coastsat_metadata_pacific_fp)\n",
    "\n",
    "for c in [\"Tier1Images\", \"Tier2Images\", \"S2Images\", \"pk\"]:\n",
    "    metadata[c] = metadata[c].astype(\"i8\")\n",
    "\n",
    "for c in [\"TideRange\", \"WaveHeight\", \"RelativeTideRange\"]:\n",
    "    metadata[c] = metadata[c].astype(\"f8\")\n",
    "\n",
    "metadata.head()"
   ]
  },
  {
   "cell_type": "markdown",
   "id": "b4c27671-c5a9-4bc6-860a-564e50971c48",
   "metadata": {},
   "source": [
    "## Part 1: compute relative tidal range with respect to waves\n",
    "\n",
    "todo: check with Kilian which waves heights he used\n",
    "mean_tidal_range / mean_wave_height               "
   ]
  },
  {
   "cell_type": "code",
   "execution_count": null,
   "id": "9d8fafc4-73cf-42d3-bb4d-cce4923841e0",
   "metadata": {
    "tags": []
   },
   "outputs": [],
   "source": [
    "metadata[\"RelativeTideRange\"] = metadata[\"TideRange\"] / metadata[\"WaveHeight\"]\n",
    "# metadata[\"RelativeTideRange\"] = ...  # your code to compute tidal range over the wave height"
   ]
  },
  {
   "cell_type": "code",
   "execution_count": null,
   "id": "1246a4cc-4892-4a19-b963-aab9ab1aa710",
   "metadata": {
    "tags": []
   },
   "outputs": [],
   "source": [
    "pn.extension()\n",
    "title_bar = pn.Row(\n",
    "    pn.pane.Markdown(\n",
    "        \"## Tide versus wave dominated coasts\",\n",
    "        styles={\"color\": \"black\"},\n",
    "        width=500,\n",
    "        sizing_mode=\"fixed\",\n",
    "        margin=(10, 5, 10, 15),\n",
    "    ),\n",
    "    pn.Spacer(),\n",
    ")\n",
    "\n",
    "w_threshold = pn.widgets.FloatSlider(\n",
    "    name=\"Threshold\", start=0.1, end=10.0, step=0.1, value=1\n",
    ")\n",
    "\n",
    "\n",
    "@pn.depends(w_threshold.param.value)\n",
    "def plot(threshold):\n",
    "    wave_dominated = metadata[metadata[\"RelativeTideRange\"] < threshold].copy()\n",
    "    tide_dominated = metadata[metadata[\"RelativeTideRange\"] > threshold].copy()\n",
    "\n",
    "    wave_dominated = gv.Points(wave_dominated, vdims=[\"RelativeTideRange\"], label=\"Wave Dominated\").opts(\n",
    "        color=\"blue\", size=5, legend_position=\"bottom_right\"\n",
    "    )\n",
    "    tide_dominated = gv.Points(tide_dominated, vdims=[\"RelativeTideRange\"], label=\"Tide Dominated\").opts(\n",
    "        color=\"green\", size=5, legend_position=\"bottom_right\"\n",
    "    )\n",
    "\n",
    "    base_layer = gvts.EsriImagery()\n",
    "    return (base_layer * wave_dominated * tide_dominated).opts(\n",
    "        width=750\n",
    "    )\n",
    "\n",
    "\n",
    "app = pn.Column(\n",
    "    title_bar,\n",
    "    pn.Row(w_threshold),\n",
    "    pn.Row(plot),\n",
    ")\n",
    "app"
   ]
  },
  {
   "cell_type": "code",
   "execution_count": null,
   "id": "e7f3569f-0abf-44c5-b0d9-20c00ef6eef8",
   "metadata": {
    "tags": []
   },
   "outputs": [],
   "source": [
    "from ipyleaflet import Map, basemaps\n",
    "\n",
    "m = Map(basemap=basemaps.Esri.WorldImagery, scroll_wheel_zoom=True)\n",
    "m.center = 37.768137, -122.511066\n",
    "m.zoom = 16\n",
    "m.layout.height = \"800px\"\n",
    "m"
   ]
  },
  {
   "cell_type": "code",
   "execution_count": null,
   "id": "5b5c201f-22d9-40ae-9616-68c13ed928e7",
   "metadata": {
    "tags": []
   },
   "outputs": [],
   "source": [
    "bbox = geo_bbox(m.west, m.south, m.east, m.north)"
   ]
  },
  {
   "cell_type": "code",
   "execution_count": null,
   "id": "5affcea9-597b-4a64-8107-77f271d0ffad",
   "metadata": {
    "tags": []
   },
   "outputs": [],
   "source": [
    "bbox.explore()"
   ]
  },
  {
   "cell_type": "code",
   "execution_count": null,
   "id": "10c9b52e-2cc8-466f-ba06-69a21d1c9c53",
   "metadata": {
    "tags": []
   },
   "outputs": [],
   "source": [
    "transects = gpd.read_file(DATA_DIR / \"03_CoastSat_transect_layer.geojson\")\n",
    "transects_roi = gpd.sjoin(transects, bbox)"
   ]
  },
  {
   "cell_type": "code",
   "execution_count": null,
   "id": "de689e86-8823-409b-ac67-9fefa94214f1",
   "metadata": {
    "tags": []
   },
   "outputs": [],
   "source": [
    "transects_roi.explore()"
   ]
  },
  {
   "cell_type": "code",
   "execution_count": null,
   "id": "fad1b8b1-7eb9-42a5-8a41-ec400f66b692",
   "metadata": {
    "tags": []
   },
   "outputs": [],
   "source": [
    "TIMEOUT_SEC = 5  # default timeount in seconds\n",
    "\n",
    "# Get the transect id's by saving the transects in our region of interest as a list.\n",
    "transect_ids = transects_roi.TransectId.to_list()\n",
    "\n",
    "# Here we download the data per transect, but if it takes too long we default to Ocean beach, California.\n",
    "try:\n",
    "    data = []\n",
    "    for transect_id in tqdm(transect_ids):\n",
    "        url = url = f\"http://coastsat.wrl.unsw.edu.au/time-series/{transect_id}/\"\n",
    "        # Pandas.read_csv() can handle url's but it doesn't accept a timeout argument,\n",
    "        # so we download the data via requests.\n",
    "        r = requests.get(url, timeout=TIMEOUT_SEC).content\n",
    "        s = pd.read_csv(\n",
    "            io.StringIO(r.decode(\"utf-8\")),\n",
    "            header=None,\n",
    "            names=[\"date\", \"shoreline_position\"],\n",
    "        )\n",
    "        s[\"date\"] = pd.to_datetime(s[\"date\"])\n",
    "        s = s.set_index(\"date\").replace({\"None\": np.nan}).astype(\"f8\")\n",
    "        s.name = transect_id\n",
    "        data.append(s)\n",
    "    column_names = [s.name for s in data]\n",
    "    shorelines = pd.concat(data, axis=1)\n",
    "    shorelines.columns = column_names\n",
    "\n",
    "except:\n",
    "    # If it takes too long to get the data from the server, default to Ocean Beach, California.\n",
    "    # First set the map to that area, so that we have the correct bbox.\n",
    "    m.center = 37.768137, -122.511066\n",
    "    m.zoom = 16\n",
    "    m.layout.height = \"800px\"\n",
    "    bbox = geo_bbox(m.west, m.south, m.east, m.north)\n",
    "    transects_roi = gpd.sjoin(transects, bbox)\n",
    "    shorelines_fp = DATA_DIR / \"03_shorelines_ocean_beach.parquet\"\n",
    "    shorelines = pd.read_parquet(shorelines_fp)"
   ]
  },
  {
   "cell_type": "code",
   "execution_count": null,
   "id": "b1c5d910-1f8b-4217-97ea-52d3fc94e3c8",
   "metadata": {
    "tags": []
   },
   "outputs": [],
   "source": [
    "shorelines.head()"
   ]
  },
  {
   "cell_type": "markdown",
   "id": "b2f4ef5a-1e0f-4600-99e7-993384153f9d",
   "metadata": {},
   "source": [
    "## "
   ]
  },
  {
   "cell_type": "code",
   "execution_count": null,
   "id": "621c8fbd-bfcc-4c1d-92bd-29a907185c7a",
   "metadata": {
    "tags": []
   },
   "outputs": [],
   "source": [
    "transects_roi.loc[transects_roi[\"TransectId\"] == transect_id].crs"
   ]
  },
  {
   "cell_type": "markdown",
   "id": "bf6a112a",
   "metadata": {},
   "source": [
    "# check this for inspiration on how to clor the plot> https://foundations.projectpythia.org/core/xarray/enso-xarray.html"
   ]
  },
  {
   "cell_type": "code",
   "execution_count": null,
   "id": "fa468b88-d38d-45c2-b07d-02afc07dc33c",
   "metadata": {
    "tags": []
   },
   "outputs": [],
   "source": [
    "pn.extension()\n",
    "title_bar = pn.Row(\n",
    "    pn.pane.Markdown(\n",
    "        \"## Historical shoreline series\",\n",
    "        style={\"color\": \"black\"},\n",
    "        width=500,\n",
    "        sizing_mode=\"fixed\",\n",
    "        margin=(10, 5, 10, 15),\n",
    "    ),\n",
    "    pn.Spacer(),\n",
    ")\n",
    "\n",
    "options = transects_roi.TransectId.to_list()\n",
    "transect_slider = pn.widgets.Select(\n",
    "    name=\"Transect\", options=options, value=np.random.choice(options)\n",
    ")\n",
    "\n",
    "\n",
    "@pn.depends(transect_slider.param.value)\n",
    "def plot_transects(transect_id):\n",
    "    transect = transects_roi.loc[transects_roi[\"TransectId\"] == transect_id].copy()\n",
    "\n",
    "    return (\n",
    "        gvts.EsriImagery()\n",
    "        * transects_roi.hvplot(geo=True, color=\"blue\")\n",
    "        * transect.hvplot(geo=True, color=\"red\")\n",
    "    )\n",
    "\n",
    "\n",
    "@pn.depends(transect_slider.param.value)\n",
    "def plot_series(transect_id):\n",
    "    shoreline_selected = shorelines.hvplot(x=\"date\", y=[transect_id], color=\"red\")\n",
    "    shorelines_ = shorelines[\n",
    "        shorelines.columns.difference([transect_slider.value])\n",
    "    ].hvplot(x=\"date\", alpha=0.4)\n",
    "\n",
    "    return shorelines_ * shoreline_selected\n",
    "\n",
    "\n",
    "app = pn.Column(\n",
    "    title_bar,\n",
    "    pn.Row(transect_slider),\n",
    "    pn.Row(pn.Column(plot_transects), plot_series),\n",
    ")\n",
    "app"
   ]
  },
  {
   "cell_type": "code",
   "execution_count": null,
   "id": "047aa3fa-d8d3-49e2-84cc-465ccb43c248",
   "metadata": {
    "tags": []
   },
   "outputs": [],
   "source": [
    "mei_fp = DATA_DIR / \"03_meiv2.data\"\n",
    "mei = (\n",
    "    pd.read_csv(mei_fp, delim_whitespace=True, index_col=0, header=None)\n",
    "    .reset_index()\n",
    "    .rename({0: \"year\"}, axis=\"columns\")\n",
    "    .melt(id_vars=\"year\", var_name=\"month\")\n",
    ")\n",
    "mei[\"date\"] = pd.to_datetime(mei[\"year\"].astype(str) + \"-\" + mei[\"month\"].astype(str))\n",
    "mei = (\n",
    "    mei.drop([\"year\", \"month\"], axis=\"columns\")\n",
    "    .set_index(\"date\")\n",
    "    .sort_index()\n",
    "    .replace({-999: np.nan})\n",
    ")\n",
    "mei.hvplot(x=\"date\")"
   ]
  },
  {
   "cell_type": "code",
   "execution_count": null,
   "id": "74c2b83c-0c43-46c7-8d11-b529e8cc6d97",
   "metadata": {
    "tags": []
   },
   "outputs": [],
   "source": [
    "mei_interp = mei.reindex(shorelines.index, method=\"nearest\")"
   ]
  },
  {
   "cell_type": "code",
   "execution_count": null,
   "id": "a714eb15-491e-47de-9d9c-9c0957e31452",
   "metadata": {
    "tags": []
   },
   "outputs": [],
   "source": [
    "shorelines_ = shorelines.copy()\n",
    "shorelines_.index = mei_interp.value.to_list()\n",
    "shorelines_.hvplot(kind=\"scatter\")"
   ]
  },
  {
   "cell_type": "code",
   "execution_count": null,
   "id": "c49ee147-27d3-4632-854d-e7e351d7421d",
   "metadata": {
    "tags": []
   },
   "outputs": [],
   "source": [
    "shorelines_ = shorelines.diff().copy()\n",
    "shorelines_.index = mei_interp.value.to_list()\n",
    "shorelines_.hvplot(kind=\"scatter\", alpha=0.2, color=\"blue\")"
   ]
  },
  {
   "cell_type": "code",
   "execution_count": null,
   "id": "7b38a690-6408-4b4d-a891-a1201b38d1a7",
   "metadata": {},
   "outputs": [],
   "source": []
  },
  {
   "cell_type": "code",
   "execution_count": null,
   "id": "efb9583b-7298-4a5a-80d1-cfbfba158cc3",
   "metadata": {},
   "outputs": [],
   "source": []
  },
  {
   "cell_type": "code",
   "execution_count": null,
   "id": "6a0650cc-b904-402a-9161-2d0876712e45",
   "metadata": {},
   "outputs": [],
   "source": []
  },
  {
   "cell_type": "code",
   "execution_count": null,
   "id": "cccb7286-a20c-43ed-8de5-8f8896957ee6",
   "metadata": {},
   "outputs": [],
   "source": []
  }
 ],
 "metadata": {
  "kernelspec": {
   "display_name": "coastal",
   "language": "python",
   "name": "python3"
  },
  "language_info": {
   "codemirror_mode": {
    "name": "ipython",
    "version": 3
   },
   "file_extension": ".py",
   "mimetype": "text/x-python",
   "name": "python",
   "nbconvert_exporter": "python",
   "pygments_lexer": "ipython3",
   "version": "3.11.6"
  }
 },
 "nbformat": 4,
 "nbformat_minor": 5
}
