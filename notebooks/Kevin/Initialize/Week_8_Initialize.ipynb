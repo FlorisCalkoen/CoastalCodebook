{
 "cells": [
  {
   "cell_type": "code",
   "execution_count": null,
   "id": "b52b50dc-b572-4bc7-9168-424f1ef5b94b",
   "metadata": {},
   "outputs": [],
   "source": [
    "from random import shuffle, uniform\n",
    "\n",
    "import IPython\n",
    "import ipywidgets as widgets\n",
    "import matplotlib.animation as animation\n",
    "import matplotlib.pyplot as plt\n",
    "import numpy as np\n",
    "from IPython.display import HTML, display\n",
    "from ipywidgets import interact\n",
    "from matplotlib.animation import FuncAnimation\n",
    "from matplotlib.ticker import MultipleLocator\n",
    "\n",
    "import panel as pn\n",
    "\n",
    "print(\"Packages succesfully loaded\")"
   ]
  },
  {
   "cell_type": "code",
   "execution_count": null,
   "id": "8b27eeb8-285e-451f-91cf-0d5ce6bef1fc",
   "metadata": {},
   "outputs": [],
   "source": [
    "import pathlib\n",
    "import sys\n",
    "\n",
    "from PIL import Image\n",
    "from coastal_dynamics.hidden import *\n",
    "\n",
    "# make functions for src folder importable\n",
    "cwd = pathlib.Path().resolve()\n",
    "proj_dir = cwd.parent  # this is the root of the CoastalCodeBook\n",
    "sys.path.append(str(proj_dir / \"src\"))"
   ]
  },
  {
   "cell_type": "code",
   "execution_count": null,
   "id": "b5e7a1e4-1061-4998-8bc1-11d93ed29b76",
   "metadata": {},
   "outputs": [],
   "source": [
    "from coastal_dynamics.questions.multiple_choice import MultipleChoiceQuestion\n",
    "from coastal_dynamics.questions.multiple_selection import MultipleSelectionQuestion\n",
    "from coastal_dynamics.questions.numeric import NumericQuestion\n",
    "from coastal_dynamics.questions.text import TextQuestion"
   ]
  },
  {
   "cell_type": "code",
   "execution_count": null,
   "id": "8ee00f0f-577f-41f3-a031-dfb21d68c27e",
   "metadata": {},
   "outputs": [],
   "source": [
    "from ipywidgets import interact, interactive, fixed, interact_manual\n",
    "\n",
    "DATA_DIR = proj_dir / \"data\"\n",
    "FIG_DIR = proj_dir / \"coastalcodebook\" / \"assignments\" / \"figures\""
   ]
  },
  {
   "cell_type": "code",
   "execution_count": null,
   "id": "f3a72f57-9ca1-42b6-9bdd-3cbdeb45ff15",
   "metadata": {},
   "outputs": [],
   "source": [
    "pn.extension()"
   ]
  },
  {
   "cell_type": "code",
   "execution_count": null,
   "id": "3a037b5e-18db-4014-962f-bf7cbae620fa",
   "metadata": {},
   "outputs": [],
   "source": []
  }
 ],
 "metadata": {
  "kernelspec": {
   "display_name": "Python 3 (ipykernel)",
   "language": "python",
   "name": "python3"
  },
  "language_info": {
   "codemirror_mode": {
    "name": "ipython",
    "version": 3
   },
   "file_extension": ".py",
   "mimetype": "text/x-python",
   "name": "python",
   "nbconvert_exporter": "python",
   "pygments_lexer": "ipython3",
   "version": "3.11.6"
  }
 },
 "nbformat": 4,
 "nbformat_minor": 5
}
