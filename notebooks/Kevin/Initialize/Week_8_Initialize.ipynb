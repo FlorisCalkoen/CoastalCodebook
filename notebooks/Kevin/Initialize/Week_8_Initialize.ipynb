{
 "cells": [
  {
   "cell_type": "markdown",
   "id": "297694e4-4215-4f65-aecc-afd612b34310",
   "metadata": {},
   "source": [
    "### Import Packages\n",
    "Start with some generally useful packages."
   ]
  },
  {
   "cell_type": "code",
   "execution_count": null,
   "id": "b52b50dc-b572-4bc7-9168-424f1ef5b94b",
   "metadata": {},
   "outputs": [],
   "source": [
    "from random import shuffle, uniform\n",
    "\n",
    "import IPython\n",
    "import ipywidgets as widgets\n",
    "import matplotlib.animation as animation\n",
    "import matplotlib.pyplot as plt\n",
    "import numpy as np\n",
    "from IPython.display import HTML, display\n",
    "from ipywidgets import interact\n",
    "from matplotlib.animation import FuncAnimation\n",
    "from matplotlib.ticker import MultipleLocator\n",
    "\n",
    "import pandas as pd\n",
    "import hvplot.pandas\n",
    "import panel as pn\n",
    "import holoviews as hv"
   ]
  },
  {
   "cell_type": "markdown",
   "id": "f5a9dc63-e0ea-4ed4-9c5a-8e1b64a5b784",
   "metadata": {},
   "source": [
    "Import other packages in order to let the different question classes run."
   ]
  },
  {
   "cell_type": "code",
   "execution_count": null,
   "id": "8b27eeb8-285e-451f-91cf-0d5ce6bef1fc",
   "metadata": {},
   "outputs": [],
   "source": [
    "import pathlib\n",
    "import sys\n",
    "\n",
    "from PIL import Image\n",
    "from coastal_dynamics.hidden import *\n",
    "\n",
    "# make functions for src folder importable\n",
    "cwd = pathlib.Path().resolve()\n",
    "proj_dir = cwd.parent  # this is the root of the CoastalCodeBook\n",
    "sys.path.append(str(proj_dir / \"src\"))"
   ]
  },
  {
   "cell_type": "markdown",
   "id": "494b923e-ecee-4fb9-a3fe-b9ba9c4ff200",
   "metadata": {},
   "source": [
    "And import the question types."
   ]
  },
  {
   "cell_type": "code",
   "execution_count": null,
   "id": "b5e7a1e4-1061-4998-8bc1-11d93ed29b76",
   "metadata": {},
   "outputs": [],
   "source": [
    "from coastal_dynamics.questions.multiple_choice import MultipleChoiceQuestion\n",
    "from coastal_dynamics.questions.multiple_selection import MultipleSelectionQuestion\n",
    "from coastal_dynamics.questions.numeric import NumericQuestion\n",
    "from coastal_dynamics.questions.text import TextQuestion"
   ]
  },
  {
   "cell_type": "markdown",
   "id": "140c4563-0cc2-439f-895f-61e3e6d576b6",
   "metadata": {},
   "source": [
    "Finally import the imports for the widgets."
   ]
  },
  {
   "cell_type": "code",
   "execution_count": null,
   "id": "8ee00f0f-577f-41f3-a031-dfb21d68c27e",
   "metadata": {},
   "outputs": [],
   "source": [
    "from ipywidgets import interact, interactive, fixed, interact_manual\n",
    "from ipywidgets import interact\n",
    "import ipywidgets as ipw"
   ]
  },
  {
   "cell_type": "code",
   "execution_count": null,
   "id": "ddcc66a5-4b10-4d6f-a225-00d88c854897",
   "metadata": {},
   "outputs": [],
   "source": [
    "print(\"Packages succesfully loaded\")"
   ]
  },
  {
   "cell_type": "markdown",
   "id": "bf87ab4c-e627-4e7e-b2c9-53e264fbc98d",
   "metadata": {},
   "source": [
    "### Directories\n",
    "Set the right directories such that the figures work correctly."
   ]
  },
  {
   "cell_type": "code",
   "execution_count": null,
   "id": "5893e3ca-edfe-48f4-9313-74dbdfe55084",
   "metadata": {},
   "outputs": [],
   "source": [
    "DATA_DIR = proj_dir / \"data\"\n",
    "FIG_DIR = proj_dir / \"coastalcodebook\" / \"assignments\" / \"figures\""
   ]
  },
  {
   "cell_type": "markdown",
   "id": "93f25bc4-d826-44e5-a965-fe63499bd321",
   "metadata": {},
   "source": [
    "### Initialize\n",
    "Initialize such that the panel works."
   ]
  },
  {
   "cell_type": "code",
   "execution_count": null,
   "id": "f3a72f57-9ca1-42b6-9bdd-3cbdeb45ff15",
   "metadata": {},
   "outputs": [],
   "source": [
    "pn.extension()"
   ]
  },
  {
   "cell_type": "markdown",
   "id": "94ce6db2-e8b4-445c-ba93-069798a97a80",
   "metadata": {},
   "source": [
    "### Question types\n",
    "Below the functions for producing the different question types are defined."
   ]
  },
  {
   "cell_type": "code",
   "execution_count": null,
   "id": "2ebca2ef-1b8d-4956-b4d6-c305b9db4248",
   "metadata": {},
   "outputs": [],
   "source": [
    "def MC(question_data):\n",
    "    Q = MultipleChoiceQuestion(\n",
    "        question_name=question_data[\"name\"],\n",
    "        question_text=question_data[\"question\"],\n",
    "        question_options=question_data[\"options\"],\n",
    "        question_answer=question_data[\"answer\"],\n",
    "        question_feedback=question_data[\"feedback\"]\n",
    "    )\n",
    "\n",
    "    Q.create_widgets()\n",
    "    return Q.serve()\n",
    "\n",
    "def MS(question_data):\n",
    "    Q = MultipleSelectionQuestion(\n",
    "        question_name=question_data[\"name\"],\n",
    "        question_text=question_data[\"question\"],\n",
    "        question_options=question_data[\"options\"],\n",
    "        question_answers=question_data[\"answers\"],\n",
    "        question_feedback=question_data[\"feedback\"]\n",
    "    )\n",
    "    Q.create_widgets()\n",
    "    return Q.serve()\n",
    "\n",
    "def num(question_data):\n",
    "    Q = NumericQuestion(\n",
    "        question_name=question_data[\"name\"],\n",
    "        question_text=question_data[\"question\"],\n",
    "        question_answer=question_data[\"answer\"],\n",
    "        question_feedback=question_data[\"feedback\"],\n",
    "        precision=question_data[\"precision\"]\n",
    "    )\n",
    "\n",
    "    Q.create_widgets()\n",
    "    return Q.serve()\n",
    "\n",
    "def text(question_data):\n",
    "    Q = TextQuestion(\n",
    "        question_name=question_data[\"name\"],\n",
    "        question_text=question_data[\"question\"],\n",
    "        question_answer=question_data[\"answer\"],\n",
    "        question_feedback=question_data[\"feedback\"],\n",
    "    )\n",
    "\n",
    "    Q.create_widgets()\n",
    "    return Q.serve()"
   ]
  },
  {
   "cell_type": "markdown",
   "id": "d5a7bcbf-1cc2-4760-91c5-537ec76bfe3d",
   "metadata": {},
   "source": [
    "### Question data & functions\n",
    "Below the question data is defined (seperated by section). The questions where students are asked to reproduce plots contain functions, which are also defined below. The question data and functions are defined in the same order as they are asked in the notebook."
   ]
  },
  {
   "cell_type": "markdown",
   "id": "5c550559-452a-4d20-bd94-005fa0572047",
   "metadata": {},
   "source": [
    "#### Section 1\n",
    "Question data for questions in section 1."
   ]
  },
  {
   "cell_type": "code",
   "execution_count": null,
   "id": "2de38515-e7fc-4d75-97c3-b97fba421e85",
   "metadata": {},
   "outputs": [],
   "source": [
    "# To be moved to initializer"
   ]
  },
  {
   "cell_type": "markdown",
   "id": "38056b14-eabc-4a13-bd11-84e9bc5bc9f2",
   "metadata": {},
   "source": [
    "#### Section 2\n",
    "Question data for questions in section 2."
   ]
  },
  {
   "cell_type": "code",
   "execution_count": null,
   "id": "6ccfe4d0-ecf6-4151-8aa8-48fdeded821e",
   "metadata": {},
   "outputs": [],
   "source": [
    "# To be moved to initializer"
   ]
  },
  {
   "cell_type": "markdown",
   "id": "8d815686-287a-480b-8fa5-6cbcd60d2d87",
   "metadata": {},
   "source": [
    "#### Section 3\n",
    "Question data for questions in section 3."
   ]
  },
  {
   "cell_type": "code",
   "execution_count": null,
   "id": "b4682b7d-362f-4576-9d55-4940c9818aa4",
   "metadata": {},
   "outputs": [],
   "source": [
    "# To be moved to initializer"
   ]
  },
  {
   "cell_type": "markdown",
   "id": "cbb8f876-9991-40b0-9112-3d8d60e63345",
   "metadata": {},
   "source": [
    "#### Section  4\n",
    "Question data for questions in section 4."
   ]
  },
  {
   "cell_type": "code",
   "execution_count": null,
   "id": "01bbe544-8686-4bfa-90f5-bf45c3f4afaf",
   "metadata": {},
   "outputs": [],
   "source": [
    "# To be moved to initializer"
   ]
  },
  {
   "cell_type": "code",
   "execution_count": null,
   "id": "e302a97a-aa10-4150-8782-a3e336ecde95",
   "metadata": {},
   "outputs": [],
   "source": [
    "print(\"Questions succesfully loaded\")"
   ]
  }
 ],
 "metadata": {
  "kernelspec": {
   "display_name": "Python 3 (ipykernel)",
   "language": "python",
   "name": "python3"
  },
  "language_info": {
   "codemirror_mode": {
    "name": "ipython",
    "version": 3
   },
   "file_extension": ".py",
   "mimetype": "text/x-python",
   "name": "python",
   "nbconvert_exporter": "python",
   "pygments_lexer": "ipython3",
   "version": "3.11.6"
  }
 },
 "nbformat": 4,
 "nbformat_minor": 5
}
