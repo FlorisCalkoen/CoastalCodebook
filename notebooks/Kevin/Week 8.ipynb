{
 "cells": [
  {
   "cell_type": "code",
   "execution_count": null,
   "metadata": {
    "tags": []
   },
   "outputs": [],
   "source": [
    "%run Initialize/Week_8_Initialize.ipynb"
   ]
  },
  {
   "cell_type": "markdown",
   "metadata": {},
   "source": [
    "# Week 8"
   ]
  },
  {
   "cell_type": "markdown",
   "metadata": {},
   "source": [
    "Before you is the Jupiter Notebook of week 8. This notebook consists of 4 parts:\n",
    "\n",
    "1. Escoffier curve\n",
    "2. Van de Kreeke and Robaczewska\n",
    "3. Equilibrium concentration versus lag\n",
    "4. Interventions\n",
    "\n",
    "\n",
    "The student will practice with these topics through questions and interactive figures."
   ]
  },
  {
   "cell_type": "markdown",
   "metadata": {},
   "source": [
    "## Part 1: Escoffier curve\n",
    "\n",
    "In chapter 9 of the [Coastal Dynamics Open Textbook](https://textbooks.open.tudelft.nl/textbooks/catalog/view/37/92/383-1), we learned about tidal inlets and their stability. Tidal inlets are very dynamic and their stability depends on a lot of factors. Escoffier was the first to study the stability of tidal inlets. More specifically, he studied the cross-sectional area of tidal inlets as they change throughout the tidal cycle. From his studies, Escoffier developed the now well-known Escoffier curve. In this notebook we will use an interactive approach to better understand the Escoffier curve. Afterwards you are tasked to answer some questions to verify your knowledge on the topic.\n",
    "\n",
    "Before starting this notebook, make sure you followed the lectures on chapter 9 (or read the slides) and read section 9.5.1 of the book."
   ]
  },
  {
   "cell_type": "markdown",
   "metadata": {},
   "source": [
    "Escoffier’s curve is a so-called closure curve and describes the relationship between maximum channel velocity $u_e$ and the parameter $X$, which is primarily, but not solely, a function of the channel cross-section. If we consider a sinusoidal tidal velocity signal:\n",
    "\n",
    "$$\n",
    "\\begin{aligned}\n",
    "u_e = \\hat{u}_e = \\frac{\\pi P}{A_e T}\n",
    "\\end{aligned}\n",
    "$$\n",
    "\n",
    "Where $\\hat{u}_e$ is the tidal signal amplitude, $P$ the tidal prism, $A_e$ the channel cross-section and $T$ the tidal period (see Intermezzo 9.4 of the book, equation 9.5).\n",
    "\n",
    "\n",
    "The process that leads to the Escoffier curve is explained in the book. In this notebook we provide a short visualisation, see the interactive plot below. We start with an imaginary channel cross-section that is very small, close to point A, such that the tidal difference in the estuary is smaller than the tidal range. Increasing the cross-section ($A_e$) results in an increase of the tidal prism ($P$) so large that $u_e$ increases too (recall eq. 9.5). At some point the tidal difference in the estuary is equal to the tidal range and we reach the peak of the closure curve. A larger cross-section now reduces $u_e$ as $P$ remains constant (again, recall eq. 9.5)."
   ]
  },
  {
   "cell_type": "code",
   "execution_count": null,
   "metadata": {
    "tags": []
   },
   "outputs": [],
   "source": [
    "# Load the images\n",
    "images = [\n",
    "    Image.open('figures/04_Escoffier_interactive_1.png'),\n",
    "    Image.open('figures/04_Escoffier_interactive_2.png'),\n",
    "    Image.open('figures/04_Escoffier_interactive_3.png'),\n",
    "    Image.open('figures/04_Escoffier_interactive_4.png'),\n",
    "    Image.open('figures/04_Escoffier_interactive_5.png'),\n",
    "    Image.open('figures/04_Escoffier_interactive_6.png'),\n",
    "    Image.open('figures/04_Escoffier_interactive_7.png')\n",
    "]\n",
    "\n",
    "# Create the slider widget\n",
    "slider = widgets.IntSlider(min=0, max=len(images)-1, step=1, value=0)\n",
    "\n",
    "# Display the current image\n",
    "image_widget = widgets.Image(value=images[slider.value]._repr_png_(), format='png', width='95%')\n",
    "\n",
    "# Define the update function\n",
    "def update_image(change):\n",
    "    image_widget.value = images[change.new]._repr_png_()\n",
    "\n",
    "# Attach the update function to the slider\n",
    "slider.observe(update_image, names='value')\n",
    "\n",
    "# Display the widgets\n",
    "display(slider)\n",
    "display(image_widget)"
   ]
  },
  {
   "cell_type": "markdown",
   "metadata": {},
   "source": [
    "The next step is to determine an equilibrium channel velocity $u_{eq}$ below which no erosion of the channel occurs. This velocity is only slightly dependent on the cross-section and can be approximated as just a function of sediment size. Larger sediment size leads to a larger $u_{eq}$ and vice versa. The closure curve and a value for $u_{eq}$ leads to the well-known Escoffier curve as depicted in Figure 9.22 in the book, as depicted below:\n",
    "\n",
    "![04_Ch9_Escoffier_type_1.png](./figures/04_Ch9_Escoffier_type_1.png)\n"
   ]
  },
  {
   "cell_type": "markdown",
   "metadata": {},
   "source": [
    "### Questions\n",
    "\n",
    "Now that you know how an Escoffier curve is created and some of the physical processes behind it, it's time to test your understanding. Try to answer the questions below and give your answers in the corresponding codeblock."
   ]
  },
  {
   "cell_type": "markdown",
   "metadata": {},
   "source": [
    "#### Channel stability\n",
    "\n",
    "Consider the Escoffier curve below with points A, B, C, D and E. What happens to the channel cross-section ($X$) at locations 1, 2, 3, 4 and 5? Where does it move to, point A, B, C, D, E or neither (N)? Give your answers below and run the codeblock to validate your answers and view your feedback.\n",
    "\n",
    "![04_Ch9_Escoffier_stability_1](./figures/04_Ch9_Escoffier_stability_1.png)"
   ]
  },
  {
   "cell_type": "code",
   "execution_count": null,
   "metadata": {
    "nbgrader": {
     "grade": true,
     "grade_id": "cell-01496058bec596fd",
     "locked": true,
     "points": 5,
     "schema_version": 3,
     "solution": false,
     "task": false
    },
    "tags": []
   },
   "outputs": [],
   "source": [
    "#answers can be 'A', 'B', 'C', 'D', 'E' or 'N'\n",
    "\n",
    "ans1 = 'A'  # Your answer for point 1\n",
    "ans2 = 'D'  # Your answer for point 2\n",
    "ans3 = 'D'  # Your answer for point 3\n",
    "ans4 = 'D'  # Your answer for point 4\n",
    "ans5 = 'D'  # Your answer for point 5\n",
    "\n",
    "#The function bewow returns your result\n",
    "Check1(ans1,ans2,ans3,ans4,ans5)"
   ]
  },
  {
   "cell_type": "markdown",
   "metadata": {},
   "source": [
    "#### Escoffier curve \"types\"\n",
    "\n",
    "Below three Escoffier curves are shown. So far we have only considered the scenario where Point C lies above $u_{eq}$ (scenario I). However, two other scenarios can also exist: II where point C coincides with $u_{eq}$ and III where point C is below $u_{eq}$. Similar to the previous question, what happens now at locations 1 and 2 for scenarios II and III?\n",
    "\n",
    "![04_Ch9_Escoffier_type_1.png](./figures/04_Ch9_Escoffier_type_1.png)\n",
    "\n",
    "![04_Ch9_Escoffier_type_2.png](./figures/04_Ch9_Escoffier_type_2.png)\n",
    "\n",
    "![04_Ch9_Escoffier_type_3.png](./figures/04_Ch9_Escoffier_type_3.png)"
   ]
  },
  {
   "cell_type": "markdown",
   "metadata": {},
   "source": [
    "Put your answers here:"
   ]
  },
  {
   "cell_type": "code",
   "execution_count": null,
   "metadata": {
    "tags": []
   },
   "outputs": [],
   "source": [
    "ansII_1  = 'A'  # Your answer for point 1 scenario II\n",
    "ansII_2  = 'A'  # Your answer for point 2 scenario II\n",
    "ansII_3  = 'A'  # Your answer for point 3 scenario II\n",
    "ansIII_1 = 'A'  # Your answer for point 1 scenario III\n",
    "ansIII_2 = 'A'  # Your answer for point 2 scenario III\n",
    "ansIII_3 = 'A'  # Your answer for point 3 scenario III\n",
    "\n",
    "#The function below returns your result\n",
    "Check2(ansII_1,ansII_2,ansII_3,ansIII_1,ansIII_2,ansIII_3)"
   ]
  },
  {
   "cell_type": "markdown",
   "metadata": {
    "tags": []
   },
   "source": [
    "#### Changes to the Escoffier curve\n",
    "\n",
    "So far we have considered the typical Escoffier curve and asked you some questions on what happens with the tidal inlet. You have mastered working with the Escoffier curve, but are you also able to answer the questions below? Write down the answers for yourself and verify them with our answers. Were you correct or not? Discuss with your peers, or ask us for help.\n",
    "\n",
    "1. What would happen if $X$ becomes really large?\n",
    "2. Can $X$ go to inifinity?\n",
    "3. How can you modify the Escoffier curve through engineering?\n",
    "4. Can the closure curve vary in Time?"
   ]
  },
  {
   "cell_type": "code",
   "execution_count": null,
   "metadata": {
    "tags": []
   },
   "outputs": [],
   "source": [
    "Check3()"
   ]
  },
  {
   "cell_type": "code",
   "execution_count": null,
   "metadata": {},
   "outputs": [],
   "source": [
    "# ## TODO: \n",
    "\n",
    "# I think that providing students feedback on their answers should be implementing using [nbgrader](https://github.com/jupyter/nbgrader), which started at the UvA Amsterdam, but is apparently being included in the Jupyter project. "
   ]
  },
  {
   "cell_type": "markdown",
   "metadata": {},
   "source": [
    "## Part 2: Van de Kreeke and Robaczewska\n",
    "(introduce students to topic, show formula from Van de Kreeke and Robaczewska)"
   ]
  },
  {
   "cell_type": "markdown",
   "metadata": {},
   "source": [
    "Insert plot (u and u^3) here with sliders for [u0, um2, um4, um6, phi42 and phi62])."
   ]
  },
  {
   "cell_type": "markdown",
   "metadata": {},
   "source": [
    "Show figures 9.28 - 9.31 here, and ask questions (related to reproducing the plots)."
   ]
  },
  {
   "cell_type": "markdown",
   "metadata": {},
   "source": [
    "The table below contains velocity and phase data for an (imaginary) estuary. \\\\\n",
    "\n",
    "(insert table here)\n",
    "\n",
    "Compute the total transport, as well as the M2/M0, M4/M2, M2/M4/M6 contributions. Consider the equation with all components. Compute all individual contributions."
   ]
  },
  {
   "cell_type": "markdown",
   "metadata": {},
   "source": [
    "What does (some contribution of an overtide) mean?\n",
    "\n",
    "Why is the transport high for (some specific overtide)?"
   ]
  },
  {
   "cell_type": "markdown",
   "metadata": {},
   "source": [
    "In the book some assumptions were made about neglecting some of the components. Which components are neglected in the book? \n",
    "Which components can be neglected with respect to the total transport?\n",
    "Which components are most important? compare with equation from the book."
   ]
  },
  {
   "cell_type": "markdown",
   "metadata": {},
   "source": [
    "## Part 3: Equilibrium concentration versus lag\n",
    "Introduce topic here."
   ]
  },
  {
   "cell_type": "markdown",
   "metadata": {},
   "source": [
    "The table below gives velocity amplitudes and phases of the first and second harmonic of the tide.\n",
    "\n",
    "(insert table here)"
   ]
  },
  {
   "cell_type": "markdown",
   "metadata": {},
   "source": [
    "Complete the code below to plot the tidal velocities."
   ]
  },
  {
   "cell_type": "code",
   "execution_count": null,
   "metadata": {},
   "outputs": [],
   "source": [
    "u = ..."
   ]
  },
  {
   "cell_type": "code",
   "execution_count": null,
   "metadata": {},
   "outputs": [],
   "source": []
  },
  {
   "cell_type": "code",
   "execution_count": null,
   "metadata": {},
   "outputs": [],
   "source": [
    "### Hidden codeblock\n",
    "\n",
    "# plt.plot(t, u)"
   ]
  },
  {
   "cell_type": "markdown",
   "metadata": {},
   "source": [
    "Use equation 9.29 to plot the equillibrium concentration."
   ]
  },
  {
   "cell_type": "code",
   "execution_count": null,
   "metadata": {},
   "outputs": [],
   "source": [
    "c_eq = ..."
   ]
  },
  {
   "cell_type": "code",
   "execution_count": null,
   "metadata": {},
   "outputs": [],
   "source": [
    "### Hidden codeblock\n",
    "\n",
    "# plt.plot(t, c_eq)"
   ]
  },
  {
   "cell_type": "markdown",
   "metadata": {},
   "source": [
    "Imagine we increase the sediment size. What happens to:\n",
    "\n",
    "Sediment response?\n",
    "Sediment transport magnitude?"
   ]
  },
  {
   "cell_type": "markdown",
   "metadata": {},
   "source": [
    "Complete the code below to plot the concentration as a function of time.\n",
    "\n",
    "(add some guidance for discretization here)"
   ]
  },
  {
   "cell_type": "code",
   "execution_count": null,
   "metadata": {},
   "outputs": [],
   "source": [
    "c = ..."
   ]
  },
  {
   "cell_type": "code",
   "execution_count": null,
   "metadata": {},
   "outputs": [],
   "source": [
    "### Hidden codeblock\n",
    "\n",
    "# plt.plot(t, c_eq)"
   ]
  },
  {
   "cell_type": "code",
   "execution_count": null,
   "metadata": {},
   "outputs": [],
   "source": [
    "Reflective questions:\n",
    "Sediment size, sediment response, lag effect, sediment transport magnitude."
   ]
  },
  {
   "cell_type": "markdown",
   "metadata": {},
   "source": [
    "If we remove the phase difference, i.e. $\\phi=0$, the sediment response is expected to change. Adjust the code above to reflect this. What happens?\n",
    "\n",
    "Add questions here...\n",
    "\n",
    "Compare to figure 9.32 of the textbook."
   ]
  },
  {
   "cell_type": "markdown",
   "metadata": {},
   "source": [
    "## Part 4: Interventions\n",
    "Introduce topic here."
   ]
  },
  {
   "cell_type": "markdown",
   "metadata": {},
   "source": [
    "Show figures 9.35 and 9.36. Also give (part of) table 9.6 below."
   ]
  },
  {
   "cell_type": "markdown",
   "metadata": {},
   "source": [
    "Complete the code below to calculate the Vod and Vc."
   ]
  },
  {
   "cell_type": "code",
   "execution_count": null,
   "metadata": {},
   "outputs": [],
   "source": [
    "Vod = ...\n",
    "Vc = ..."
   ]
  },
  {
   "cell_type": "code",
   "execution_count": null,
   "metadata": {},
   "outputs": [],
   "source": [
    "### Hidden code block to automatically plot Vod and Vc"
   ]
  },
  {
   "cell_type": "markdown",
   "metadata": {},
   "source": [
    "Give opportunity to vary axes type (linear and log-log ), range, coefficients and power and then replot. Use HOLOVIZ plot!"
   ]
  },
  {
   "cell_type": "code",
   "execution_count": null,
   "metadata": {},
   "outputs": [],
   "source": [
    "### Hidden code block with different options to accomodate for the above changes"
   ]
  },
  {
   "cell_type": "markdown",
   "metadata": {},
   "source": [
    "Here we ask some questions:\n",
    "What is the advantage of the log-scale?\n",
    "What determines the steepness of the curve?\n",
    "What determines the intercept with the vertical axis?"
   ]
  },
  {
   "cell_type": "code",
   "execution_count": null,
   "metadata": {},
   "outputs": [],
   "source": [
    "# (verify final code and figure here)"
   ]
  },
  {
   "cell_type": "markdown",
   "metadata": {},
   "source": [
    "Now we describe one of the closures from the book (9.35b) and ask students to recreate the numbers. Let's start with giving them the interactive figure again. Ask them to compmlete the code below."
   ]
  },
  {
   "cell_type": "markdown",
   "metadata": {},
   "source": [
    "Ask students for Vc and P before and directly after intervention. Let them compute it using the Python code. Verify their numbers and plot their answers in the plot."
   ]
  },
  {
   "cell_type": "code",
   "execution_count": null,
   "metadata": {},
   "outputs": [],
   "source": [
    "Vc_before = ...\n",
    "Vc_after = ...\n",
    "\n",
    "P_before = ...\n",
    "P_after = ..."
   ]
  },
  {
   "cell_type": "code",
   "execution_count": null,
   "metadata": {},
   "outputs": [],
   "source": [
    "# (automatic verification and add to plot)"
   ]
  },
  {
   "cell_type": "markdown",
   "metadata": {},
   "source": [
    "Ask students to compute the new equilibrium values for Vc and Vod using Python code. Verify their numbers. Provide plot function/button to plot these values in the figures too (with the arrows etc. like in the book).\n"
   ]
  },
  {
   "cell_type": "code",
   "execution_count": null,
   "metadata": {},
   "outputs": [],
   "source": [
    "Vod_before = ...\n",
    "Vod_after = ..."
   ]
  },
  {
   "cell_type": "code",
   "execution_count": null,
   "metadata": {},
   "outputs": [],
   "source": [
    "# (automatic verification and add to plot)"
   ]
  },
  {
   "cell_type": "markdown",
   "metadata": {},
   "source": [
    "Some reflective MC and open questions, both with feedback after clicking: \n",
    "* what happens to the outer delta?\n",
    "* What happens to channels?\n",
    "* What happens to adjacent coast?\n",
    "* what is the role of the flats?\n",
    "* What is the link to tidal asymmetry?\n",
    "* import or export?"
   ]
  },
  {
   "cell_type": "markdown",
   "metadata": {},
   "source": [
    "Now give a second closure with the behaviour of 9.35a but different numbers and ask the same questions. Complete code below:?\r\n"
   ]
  },
  {
   "cell_type": "code",
   "execution_count": null,
   "metadata": {},
   "outputs": [],
   "source": [
    "Vc_before = ...\n",
    "Vc_after = ...\n",
    "\n",
    "P_before = ...\n",
    "P_after = ...\n",
    "\n",
    "Vod_before = ...\n",
    "Vod_after = ..."
   ]
  },
  {
   "cell_type": "code",
   "execution_count": null,
   "metadata": {},
   "outputs": [],
   "source": [
    "# (automatic verification and plot)"
   ]
  },
  {
   "cell_type": "markdown",
   "metadata": {},
   "source": [
    "Similar for a land reclamation like in 9.36 but with different numbers"
   ]
  },
  {
   "cell_type": "code",
   "execution_count": null,
   "metadata": {},
   "outputs": [],
   "source": [
    "Vc_before = ...\n",
    "Vc_after = ...\n",
    "\n",
    "P_before = ...\n",
    "P_after = ...\n",
    "\n",
    "Vod_before = ...\n",
    "Vod_after = ..."
   ]
  },
  {
   "cell_type": "code",
   "execution_count": null,
   "metadata": {},
   "outputs": [],
   "source": [
    "# (automatic verification and plot)"
   ]
  },
  {
   "cell_type": "markdown",
   "metadata": {},
   "source": [
    "Similar procedure for a case based on Section 9.8.3 "
   ]
  },
  {
   "cell_type": "code",
   "execution_count": null,
   "metadata": {},
   "outputs": [],
   "source": [
    "Vc_before = ...\n",
    "Vc_after = ...\n",
    "\n",
    "P_before = ...\n",
    "P_after = ...\n",
    "\n",
    "Vod_before = ...\n",
    "Vod_after = ..."
   ]
  },
  {
   "cell_type": "code",
   "execution_count": null,
   "metadata": {},
   "outputs": [],
   "source": [
    "# (automatic verification and plot)"
   ]
  },
  {
   "cell_type": "markdown",
   "metadata": {},
   "source": [
    "Wrap-up text"
   ]
  },
  {
   "cell_type": "code",
   "execution_count": null,
   "metadata": {},
   "outputs": [],
   "source": []
  }
 ],
 "metadata": {
  "kernelspec": {
   "display_name": "Python [conda env:coastal] *",
   "language": "python",
   "name": "conda-env-coastal-py"
  },
  "language_info": {
   "codemirror_mode": {
    "name": "ipython",
    "version": 3
   },
   "file_extension": ".py",
   "mimetype": "text/x-python",
   "name": "python",
   "nbconvert_exporter": "python",
   "pygments_lexer": "ipython3",
   "version": "3.11.6"
  },
  "vscode": {
   "interpreter": {
    "hash": "c4f1a03a2decb15b8959128502e8669e58fcf5cfa6b940068ba2ce59115bdbbc"
   }
  }
 },
 "nbformat": 4,
 "nbformat_minor": 4
}
