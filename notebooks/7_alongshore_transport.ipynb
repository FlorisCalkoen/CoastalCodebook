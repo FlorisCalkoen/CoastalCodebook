{
 "cells": [
  {
   "cell_type": "markdown",
   "id": "45d5d526-02fc-4a48-ae9e-eefadf1116ed",
   "metadata": {},
   "source": [
    "# Alongshore transport"
   ]
  },
  {
   "cell_type": "markdown",
   "id": "5deb9fd0-bc1a-4041-b543-582c154ee46e",
   "metadata": {},
   "source": [
    "## First import some necessary packages"
   ]
  },
  {
   "cell_type": "code",
   "execution_count": null,
   "id": "28f630ce-af5d-4344-8f85-422ddc7a990c",
   "metadata": {},
   "outputs": [],
   "source": [
    "import logging\n",
    "import pathlib\n",
    "import sys\n",
    "import warnings\n",
    "\n",
    "import colorcet as cc\n",
    "import dotenv\n",
    "import geopandas as gpd\n",
    "import holoviews as hv\n",
    "import hvplot.pandas  # noqa: API import\n",
    "import numpy as np\n",
    "import pandas as pd\n",
    "import panel as pn\n",
    "import pooch\n",
    "\n",
    "from bokeh.models import PanTool, WheelZoomTool, HoverTool\n",
    "from bokeh.resources import INLINE\n",
    "import bokeh.io\n",
    "\n",
    "import coastal_dynamics as cd\n",
    "\n",
    "# Activate Panel extension to make interactive visualizations\n",
    "pn.extension()"
   ]
  },
  {
   "cell_type": "code",
   "execution_count": null,
   "id": "60e482f0-a6ac-4a23-959e-42dc9f36864f",
   "metadata": {},
   "outputs": [],
   "source": [
    "# # Read questions from cloud storage\n",
    "questions = cd.read_questions(\n",
    "    \"./7_alongshore_transport.json\"\n",
    "    # \"az://coastal-dynamics/questions/5_morphodynamics_upper_shoreface.json\",\n",
    "    # storage_options={\"account_name\": \"coclico\"},\n",
    ")"
   ]
  },
  {
   "cell_type": "markdown",
   "id": "92498551-5eb6-4347-9fd2-47aa7d295f11",
   "metadata": {},
   "source": [
    "# Alongshore sediment transport\n",
    "\n",
    "Welcome to the notebook of week 6! The main topic of this notebook is cross-shore sediment transport. This notebook is relatively short. We will look into the CERC formula, and how to use it to obtain an (S, $\\phi$-curve. Afterwards, we will use the (S, $\\phi$-curve to determine coastal evolution around a breakwater."
   ]
  },
  {
   "cell_type": "markdown",
   "id": "53fd4788-c212-43b5-acd9-a3e1603446d0",
   "metadata": {},
   "source": [
    "## CERC formula and ($S$,$\\phi$)-curve\n",
    "Many different formulas exist to calculate bulk longshore sediment transport. One widely used formula is the CERC formula (Equation 8.4 in the book). We will use a version here which uses deep-water parameters. This formula, which is applicable for straight, parallel depth contours, is defined as:\n",
    "$$S = \\frac{K}{32(s-1)(1-p)} c_b \\sin{2 \\phi_0} H_0^2 $$\n",
    "For a complete description of each parameter, see section 8.2.3 of the book."
   ]
  },
  {
   "cell_type": "markdown",
   "id": "bf403dfa-f7e5-479c-a9b2-a2f05225b2b4",
   "metadata": {},
   "source": [
    "For simplicity, we will assume that the offshore wave height $H_0$ is equal to the deep-water root-mean-square wave height $H_{rms,0}$, and can be represented by a single value of 1.8 m, with a period T of 6.5 s. This gives a value for $K$ of 0.7.\n",
    "\n",
    "You might notice that the only variables left in the CERC formula are the breaking wave celerity $c_b$ and the offshore wave angle $\\phi_0$. Starting from our values for $H_0$ and $T$, we can infer values for $c_b$ using linear wave theory with the dispersion relation. The function below does exactly that. Each step in the function is explained. Note that the value for $c_b$ depends on the angle of incidence."
   ]
  },
  {
   "cell_type": "code",
   "execution_count": null,
   "id": "66b0582a-eaee-459f-8e7a-7a45615e34cf",
   "metadata": {},
   "outputs": [],
   "source": [
    "# Maybe we don't distribute this function, and instead keep it private :-)\n",
    "\n",
    "def disper(w, h, g=9.8):\n",
    "    '''\n",
    "    DISPER  Linear dispersion relation.\n",
    "    \n",
    "    absolute error in k*h < 5.0e-16 for all k*h\n",
    "    \n",
    "    Syntax:\n",
    "    k = disper(w, h, [g])\n",
    "    \n",
    "    Input:\n",
    "    w = 2*pi/T, were T is wave period\n",
    "    h = water depth\n",
    "    g = gravity constant\n",
    "    \n",
    "    Output:\n",
    "    k = wave number\n",
    "    \n",
    "    Example\n",
    "    k = disper(2*pi/5,5,g = 9.81);\n",
    "    \n",
    "    Copyright notice\n",
    "    --------------------------------------------------------------------\n",
    "    Copyright (C) \n",
    "    G. Klopman, Delft Hydraulics, 6 Dec 1994\n",
    "    M. van der Lugt conversion to python, 11 Jan 2021\n",
    "    \n",
    "    '''    \n",
    "    #make sure numpy array\n",
    "    listType = type([1,2])\n",
    "    Type = type(w)\n",
    "\n",
    "    w = np.atleast_1d(w)\n",
    "    \n",
    "    #check to see if warning disappears\n",
    "    wNul = w==0\n",
    "    w[w==0] = np.nan\n",
    "\n",
    "    \n",
    "    w2 = w**2*h/g\n",
    "    q = w2 / (1-np.exp(-w2**(5/4)))**(2/5)\n",
    "    \n",
    "    for j in np.arange(0,2):\n",
    "        thq = np.tanh(q)\n",
    "        thq2 = 1-thq**2\n",
    "        aa = (1 - q*thq) * thq2\n",
    "        \n",
    "        #prevent warnings, we don't apply aa<0 anyway\n",
    "        aa[aa<0] = 0\n",
    "        \n",
    "        bb = thq + q*thq2\n",
    "        cc = q*thq - w2\n",
    "        \n",
    "        \n",
    "        D = bb**2-4*aa*cc\n",
    "        \n",
    "        # initialize argument with the exception\n",
    "        arg = -cc/bb\n",
    "        \n",
    "        # only execute operation on those entries where no division by 0 \n",
    "        ix = np.abs(aa*cc)>=1e-8*bb**2 \n",
    "        arg[ix] = (-bb[ix]+np.sqrt(D[ix]))/(2*aa[ix]) \n",
    "\n",
    "                \n",
    "        q = q + arg\n",
    "\n",
    "              \n",
    "    k = np.sign(w)*q/h\n",
    "    \n",
    "    #set 0 back to 0\n",
    "    k = np.where(wNul,0,k)\n",
    "\n",
    "    #if input was a list, return also as list\n",
    "    if Type==listType:\n",
    "        k = list(k)\n",
    "    elif len(k)==1:\n",
    "        k = k[0]\n",
    "        \n",
    "    return k"
   ]
  },
  {
   "cell_type": "code",
   "execution_count": null,
   "id": "0700682e-af25-4a7f-b88f-3d6a63925e64",
   "metadata": {},
   "outputs": [],
   "source": [
    "def find_cb(phi0, H0, T, \n",
    "            g=9.81, gamma=0.8, hb=np.arange(0.1, 5.0, 0.01),\n",
    "            print_report=False):\n",
    "    \"\"\"\n",
    "    Returns breaking wave celerity cb [m/s] for given:\n",
    "    - phi0 : angle of incidence [degrees]\n",
    "    - H0   : deep water wave height [m]\n",
    "    - T    : period [s]\n",
    "\n",
    "    The parameter hb_guess is used as guessed values for the breaking depth. \n",
    "    From this array, the best-fitting value is chosen in the end. You can adjust this\n",
    "    array to make estimates more accurate at the cost of computational efficiency. \n",
    "    \"\"\"\n",
    "    # First convert the angle of incidence to radians\n",
    "    phi_rad = phi0 / 360 * 2 * np.pi\n",
    "    \n",
    "    # We start with calculating deep water celerity, wavelength, and angular frequency\n",
    "    c0 = g * T / (2 * np.pi)\n",
    "    L0 = c0 * T\n",
    "    w  = T / (2 * np.pi)\n",
    "\n",
    "    # For every value of hb_guess, the wavenumber k is determined using the dispersion relation\n",
    "    k = disper(w, hb, g=g)  # Feel free to use your own implementation from week 2!\n",
    "\n",
    "    # Next we calculate the celerity and group celerity for each breaking depth\n",
    "    c = np.sqrt(g / k * np.tanh(k * hb))\n",
    "    n = 1/2 * (1 + (2 * k * hb) / (np.sinh(2 * k * hb)))\n",
    "    cg = n * c\n",
    "\n",
    "    # In order to correctly shoal the waves, we also need the deep water group celerity\n",
    "    n0 = 1/2\n",
    "    cg0 = n0 * c0\n",
    "\n",
    "    # And to account for refraction we need the angle of incidence at breaking\n",
    "    phi = np.arcsin(np.sin(phi_rad) / c0 * c)\n",
    "    \n",
    "    # Shoaling & refraction coefficients\n",
    "    Ksh = np.sqrt(cg0 / cg)\n",
    "    Kref = np.sqrt(np.cos(phi_rad)/np.cos(phi))\n",
    "\n",
    "    # Wave heights Hb at depth hb\n",
    "    Hb = Ksh * Kref * H0\n",
    "\n",
    "    # We are looking for an hb where the breaker parameter is 0.8\n",
    "    # We can determine which value of hb in our array gets closest using the\n",
    "    # following line of code:\n",
    "    i = np.argmin(np.abs(Hb / hb - gamma))\n",
    "    Hb_pred, hb_pred = Hb[i], hb[i]\n",
    "\n",
    "    # Let's print what we found\n",
    "    if print_report:\n",
    "        print(f'predicted breaking depth: {hb_pred:.2f} m')\n",
    "        print(f'predicted breaking wave height: {Hb_pred:.2f} m')\n",
    "        print(f'gamma = {Hb_pred / hb_pred:.2f} [-]')\n",
    "\n",
    "    # And finally return the associated value for cb\n",
    "    return c[i]"
   ]
  },
  {
   "cell_type": "markdown",
   "id": "d25551d4-86b1-4bdf-adf1-1905fe48a54d",
   "metadata": {},
   "source": [
    "Let's check that it works. The cell below shows that for an offshore wave height of 2 m, a period of 7 s, and a angle of incidence of 5 degrees, we get a $c_b$ of 4.92 m/s. You can check that this is in reasonable agreement with Example 8.1 in the book."
   ]
  },
  {
   "cell_type": "code",
   "execution_count": null,
   "id": "dc573eba-306b-47fd-a278-94bf912861a7",
   "metadata": {},
   "outputs": [],
   "source": [
    "phi0 = 5  # degrees\n",
    "H0 = 2  # m\n",
    "T = 7  # s\n",
    "\n",
    "print(f'cb: {find_cb(phi0, H0, T, print_report=True):.2f}')"
   ]
  },
  {
   "cell_type": "markdown",
   "id": "9053a9b2-e412-4303-9fc6-9980918625c0",
   "metadata": {},
   "source": [
    "Now that we have this function, we can calculate a breaking wave celerity for each angle of incidence."
   ]
  },
  {
   "cell_type": "code",
   "execution_count": null,
   "id": "9a9cda92-3599-4ada-bb7f-51c96b565ba9",
   "metadata": {},
   "outputs": [],
   "source": [
    "# Set the range for which we want to calculate cb\n",
    "phi_array = np.arange(-80, 80, 1)\n",
    "\n",
    "# Initialize cb array\n",
    "cb_array  = np.zeros(phi_array.shape)\n",
    "\n",
    "# Loop through each phi and compute associated value for cb\n",
    "for i in range(len(phi_array)):\n",
    "    cb_array[i] = find_cb(phi_array[i], H0, T)"
   ]
  },
  {
   "cell_type": "markdown",
   "id": "5be28a22-f0d9-48a2-a57c-ef8661d7dc18",
   "metadata": {},
   "source": [
    "With cb, we can calculate our transport $S$ as a function of $\\phi$, which means we can generate an ($S$,$\\phi$)-curve! \n",
    "\n",
    "Remember that we can use the CERC formulation of Equation 8.10 for this. We use typical values of $K=0.7$, $p=0.4$, and $s=2.65$. \n",
    "\n",
    "Finish the equation below to compute the bulk sediment transport S."
   ]
  },
  {
   "cell_type": "code",
   "execution_count": null,
   "id": "df6aa53b-e8a4-4ad7-a61c-4c78dfa02f85",
   "metadata": {},
   "outputs": [],
   "source": [
    "def CERC(cb, phi0, H0,\n",
    "         K=0.7,\n",
    "         s=2.65,\n",
    "         p=0.4\n",
    "        ):\n",
    "    \n",
    "    S = K / (32 * (s - 1) * (1 - p)) * cb * np.sin(2*(phi0 / 360 * 2 * np.pi)) * H0**2\n",
    "\n",
    "    return S"
   ]
  },
  {
   "cell_type": "code",
   "execution_count": null,
   "id": "8abe9297-7b89-4637-aec1-bef9b7eb7b19",
   "metadata": {},
   "outputs": [],
   "source": [
    "S = CERC(cb_array, phi_array, H0)"
   ]
  },
  {
   "cell_type": "code",
   "execution_count": null,
   "id": "7f021d5d-76a1-4d8e-bb48-3769fed84ec7",
   "metadata": {},
   "outputs": [],
   "source": [
    "warnings.filterwarnings(\"ignore\")\n",
    "logging.getLogger().setLevel(logging.ERROR)\n",
    "\n",
    "(hv.Curve((phi_array, S)) * hv.HLine(0).opts(color='black') * hv.VLine(0).opts(color='black')).opts(xlabel='angle [degrees]', ylabel='S [m3/s]', title='(S, phi)-curve', width=800, height=400, show_grid=True)"
   ]
  },
  {
   "cell_type": "markdown",
   "id": "cab1b23d-d3ec-4829-b113-efd18fc68a5a",
   "metadata": {},
   "source": [
    "Using this plot and the code above, try to answer the questions below."
   ]
  },
  {
   "cell_type": "code",
   "execution_count": null,
   "id": "f7131b7b-5141-4145-aa94-58e8f52c6158",
   "metadata": {},
   "outputs": [],
   "source": [
    "q1 = cd.QuestionFactory(questions[\"Q7-1\"]).serve()\n",
    "q2 = cd.QuestionFactory(questions[\"Q7-2\"]).serve()\n",
    "q3 = cd.QuestionFactory(questions[\"Q7-3\"]).serve()\n",
    "q4 = cd.QuestionFactory(questions[\"Q7-4\"]).serve()\n",
    "\n",
    "pn.Column(q1, q2, q3, q4)"
   ]
  },
  {
   "cell_type": "markdown",
   "id": "cb65adf9-76b1-45a4-84cb-99710cd5fcbb",
   "metadata": {},
   "source": [
    "This is the end of the first part of this notebook."
   ]
  },
  {
   "cell_type": "markdown",
   "id": "0a01ade9-fb43-4876-8242-a83ba1b1c6e0",
   "metadata": {},
   "source": [
    "## Coastal evolution around a breakwater\n",
    "We will now use the ($S$,$\\phi$)-curve generated above to predict coastal evolution around a breakwater. Firstly, we need a wave climate. We use a simplified version of Table 8.2 from the book, with only two wave conditions:\n",
    "* Condition 1: $H_0=1.2$ m with $T=8$ s and $\\phi_0=40$ degrees. This condition occurs 15% of the time.\n",
    "* Condition 2: $H_0=0.6$ m with $T=12$ and $\\phi_0=-25$ degrees. This condition occurs 60% of the time.\n",
    "\n",
    "15% of the time, no significant waves are present. Remember that positive angles result in positive transport (see also the image in Table 8.2).\n",
    "\n",
    "Let's determine the average yearly transport for these conditions. For both conditions, we can determine the transport $S$."
   ]
  },
  {
   "cell_type": "code",
   "execution_count": null,
   "id": "1bac6a5c-b5e4-4c41-9188-592fe0a1e749",
   "metadata": {},
   "outputs": [],
   "source": [
    "# For condition 1\n",
    "cb1 = find_cb(40, 1.2, 8)\n",
    "S1  = CERC(cb1, 40, 1.2)\n",
    "\n",
    "# For condition 2\n",
    "cb2 = find_cb(-25, 0.6, 12)\n",
    "S2  = CERC(cb2, -25, 0.6)\n",
    "\n",
    "# These transports S are both given in m3/s. Remember that condition 1 occurs 15% of the year, and condition 2 occurs 60% of the year. For 1 year, the contributions are:\n",
    "S_total = (0.15 * S1 + 0.6 * S2) * 365.25 * 24 * 3600\n",
    "\n",
    "print(f'Contribution 1: {S1:.3f} m3/s')\n",
    "print(f'Contribution 2: {S2:.3f} m3/s')\n",
    "print(f'Total yearly transport: {S_total:.0f} m3/year')"
   ]
  },
  {
   "cell_type": "markdown",
   "id": "552c6d23-1976-4d05-a361-699e5b8f004b",
   "metadata": {},
   "source": [
    "This total transport is positive, which means the cumulative transport is in positive direction. But what does this actually mean for the coastal morphology? According to Equation 8.16, we know the coastline will evolve by:\n",
    "$$\\frac{\\partial Y}{\\partial t} + \\frac{1}{d} \\frac{\\partial S_x}{\\partial x}=0$$\n",
    "with $S_x$ the sediment transport in the $x$-direction. This equation means that the temporal evolution of the coastline position Y is determined by the *alongshore gradient* of the alongshore transport. For any location $x$ along the coastline, we can determine the coastline evolution through the following steps:\n",
    "1) Determine the local angle $\\phi$ of the coastline\n",
    "2) Determine the sediment transport distribution of the coastline, which is a function of the local angle $\\phi$\n",
    "3) Determine the alongshore gradient of the sediment transport distribution\n",
    "4) Determine the expected morphological change\n",
    "\n",
    "When repeated, for example through a numerical model, this strategy can help predict morphological changes. This is useful for predicting the shoreline evolution around human interventions as well! Let us for example consider a breakwater perpendicular to the shore. We will try to use a numerical model to determine the shoreline evolution. Don't worry too much about the numerical model for now, we will focus on the concepts here! You will learn more about the numerical modelling part in the Coastal Modelling unit of the Coastal Engineering track."
   ]
  },
  {
   "cell_type": "markdown",
   "id": "b7f6d5cf",
   "metadata": {},
   "source": [
    "Let's place the breakwater at $x=0$, and consider the domain $x \\leq 0$. The breakwater extends into the water from $y=0$ m to $y=100$ m. An overview of the situation is provided by running the cell below."
   ]
  },
  {
   "cell_type": "code",
   "execution_count": null,
   "id": "62b2d711-b2c0-4396-b920-218a5e7489ab",
   "metadata": {},
   "outputs": [],
   "source": [
    "breakwater = hv.Curve(((0,0),(0,100)), label='Breakwater').opts(color='black')\n",
    "shoreline  = hv.Curve(((-2500,500),(0,0)), label='Shoreline').opts(color='#D2B48C')\n",
    "(breakwater * shoreline).opts(width=1200, height=400, legend_position='top_left', xlabel='alongshore position [m]', ylabel='cross-shore position [m]')"
   ]
  },
  {
   "cell_type": "markdown",
   "id": "4ccf5398",
   "metadata": {},
   "source": [
    "Firstly, some assumptions need to be made. For simplicity, we will fix the depth of closure to a single value of $d=7$ m. Secondly, let's assume that the wave climate is given by the conditions described above (for which we already calculated the total yearly transport. We also need to impose initial and boundary conditions. These are thoroughly described by Equation 8.21 - 8.23. Briefly, for initial conditions, we assume a horizontal coastline (i.e $y=0$  along the coast). The following two boundary conditions are imposed:\n",
    "* $S_x = S$, for $x=-\\infty$ and for all $t$\n",
    "* $S_x = 0$, for $x=0$ and for all $t$\n",
    "\n",
    "With that, we are ready to do some modelling! We will look at a stretch of coast with a length of 10 km, with timesteps of 0.02 years.\n",
    "\n",
    "**Note:** be careful with changing numerical parameters in the cell below. A relatively small time step is required to ensure numerical stability, changing it could lead to wiggles in the solution. Do feel free to adjust the end time (20 years)!"
   ]
  },
  {
   "cell_type": "code",
   "execution_count": null,
   "id": "d5812ffd-d4ca-4cac-b53e-61d1605011f4",
   "metadata": {},
   "outputs": [],
   "source": [
    "# numerical parameters\n",
    "dx    = 100  # m\n",
    "xmin  = -2500\n",
    "dt    = 0.01  # year\n",
    "tend  = 20  # year\n",
    "\n",
    "# physical parameters\n",
    "d     = 7 #  m\n",
    "\n",
    "# space and time domain\n",
    "X = np.arange(xmin, 0+dx, dx)\n",
    "T = np.arange(0, tend, dt)\n",
    "\n",
    "print(\"x-shape: \", X.shape)\n",
    "print(\"t-shape: \", T.shape)"
   ]
  },
  {
   "cell_type": "markdown",
   "id": "5f3f5e2c-e413-4f2c-92cb-f3ca811abcd5",
   "metadata": {},
   "source": [
    "We create a quick function to determine the transport as a function of the angle of incidence relative to the angle of the coast. The angle phi is defined as positive when it induces positive transport, the same as the image in Table 8.2."
   ]
  },
  {
   "cell_type": "code",
   "execution_count": null,
   "id": "3dea3012-963b-4fd7-9ce9-a1d84fa433b6",
   "metadata": {},
   "outputs": [],
   "source": [
    "def get_S(phi):\n",
    "    \"\"\"\n",
    "    Returns yearly transport for angle phi [degrees]\n",
    "\n",
    "    Transport is already scaled for the relative occurrence of the two conditions.\n",
    "    \"\"\"\n",
    "    # For condition 1\n",
    "    cb1 = find_cb(40 - phi, 1.2, 8)\n",
    "    S1  = CERC(cb1, 40 - phi, 1.2)\n",
    "    \n",
    "    # For condition 2\n",
    "    cb2 = find_cb(-25 - phi, 0.6, 12)\n",
    "    S2  = CERC(cb2, -25 - phi, 0.6)\n",
    "    \n",
    "    return (0.15 * S1 + 0.6 * S2) * 365.25 * 24 * 3600"
   ]
  },
  {
   "cell_type": "markdown",
   "id": "8d9cf3fd-398f-4b1c-943b-ed6b04387743",
   "metadata": {},
   "source": [
    "**Note:** You do not need to understand the function used for numerical modelling. However, each step of the process is described qualitatively, so it might be interesting to go through the function once."
   ]
  },
  {
   "cell_type": "code",
   "execution_count": null,
   "id": "fc73b2ba-44f1-430a-bcf0-07e24385b126",
   "metadata": {},
   "outputs": [],
   "source": [
    "# Maybe don't include numerical model function? Students will spend the first few weeks of Sierd's course on this, so probably don't give students this code :-)\n",
    "\n",
    "def num_model_bw_updrift(X, T, d, print_info=False):\n",
    "\n",
    "    dx = X[1] - X[0]  # m\n",
    "    dt = T[1] - T[0]  # year\n",
    "\n",
    "    # spatial values \n",
    "    phi  = np.zeros(X.shape)\n",
    "    S    = np.zeros(X.shape)\n",
    "    dSdX = np.zeros(X.shape)\n",
    "    Y    = np.zeros((T.shape[0], X.shape[0]))  # 2D, to store all previous timesteps as well\n",
    "\n",
    "    for it in range(len(T)):  # loop through all time steps\n",
    "\n",
    "        for i in range(len(X)):  # loop through all locations to calculate alongshore transport\n",
    "\n",
    "            angle = phi[i]\n",
    "            S[i] = get_S(angle)\n",
    "\n",
    "        S[-1] = 0  # set last value to 0 (boundary condition at breakwater)\n",
    "\n",
    "        for i in range(1, len(X)-1):  # loop through all internal locations to calculate gradient alongshore transport\n",
    "\n",
    "            dSdX[i] = (S[i+1] - S[i-1]) / (2 * dx)\n",
    "\n",
    "        # Use up-/downwind scheme for boundaries\n",
    "        dSdX[0]  = (S[1] - S[0]) / dx\n",
    "        dSdX[-1] = (S[-1] - S[-2]) / dx\n",
    "\n",
    "        dYdt = -1/d * dSdX  # from Equation 8.16\n",
    "        Y[it] = Y[it-1] + dYdt * dt * 0.1  # superposition change with previous coastline\n",
    "\n",
    "        for i in range(1, len(X)-1):  # loop through all internal locations to update the angles of the coastline\n",
    "            phi[i] = np.arctan((Y[it, i+1] - Y[it, i-1]) / (2*dx)) * 360 / (2 * np.pi)\n",
    "        phi[0] = np.arctan((Y[it, 1] - Y[it, 0]) / dx) * 360 / (2 * np.pi)\n",
    "        phi[-1] = np.arctan((Y[it, -1] - Y[it, -2]) / dx) * 360 / (2 * np.pi)\n",
    "\n",
    "    return Y"
   ]
  },
  {
   "cell_type": "code",
   "execution_count": null,
   "id": "99a2f9f7-959c-4d69-802f-28740069a67a",
   "metadata": {},
   "outputs": [],
   "source": [
    "# Running this cell may take a minute. In order to ensure numerical stability for the shoreline angle we need a relatively small time step.\n",
    "\n",
    "Y_t = num_model_bw_updrift(X, T, d)"
   ]
  },
  {
   "cell_type": "markdown",
   "id": "292316f9-3198-4b3c-be18-03d209303745",
   "metadata": {},
   "source": [
    "Let's plot the results for a selection of years. You can modify which years to display if you want. Each line represents the coastline after a certain amount of years."
   ]
  },
  {
   "cell_type": "code",
   "execution_count": null,
   "id": "c09959fd-d39a-406c-9151-869d84e9346d",
   "metadata": {},
   "outputs": [],
   "source": [
    "curve = hv.Curve(((),()))\n",
    "\n",
    "years = [1, 2, 3, 4, 5, 20]\n",
    "# years = np.arange(0, 21, 1)\n",
    "\n",
    "for year in years:\n",
    "\n",
    "    id = np.argmin(np.abs(T - year))\n",
    "    \n",
    "    curve *= hv.Curve((X, Y_t[id]), label=f'Year = {year}') \n",
    "\n",
    "breakwater = hv.Curve(((0,0),(0,100)), label='Breakwater').opts(color='black')\n",
    "shoreline  = hv.Curve(((-2500,500),(0,0)), label='Shoreline').opts(color='#D2B48C')\n",
    "(curve * breakwater * shoreline).opts(width=1200, height=400, legend_position='top_left', xlabel='alongshore position [m]', ylabel='cross-shore position [m]')"
   ]
  },
  {
   "cell_type": "markdown",
   "id": "6b69ab57-38a6-47e7-9af0-3b35b8340252",
   "metadata": {},
   "source": [
    "We see that the angle the shoreline makes with the breakwater is fairly constant throughout the years. This is the angle that leads to zero alongshore transport for the given conditions! As a final step, let us plot the transport as a function of the *shoreline orientation*.\n",
    "\n",
    "**Note:** previously, we plotted the ($S$,$\\phi$)-curve for a single wave condition only. We will now include multiple wave conditions (the two used above). This will result in a different curve, as you will see."
   ]
  },
  {
   "cell_type": "code",
   "execution_count": null,
   "id": "a3ba55c0-d281-46f0-b168-077e8169e6db",
   "metadata": {},
   "outputs": [],
   "source": [
    "phi = np.linspace(-45, 120, 200)\n",
    "S = np.zeros(phi.shape)\n",
    "\n",
    "for i in range(len(phi)):\n",
    "    S[i] = get_S(phi[i])\n",
    "\n",
    "(hv.Curve((phi, S)) * hv.HLine(0).opts(color='black') * hv.VLine(0).opts(color='black')).opts(xlabel='angle [degrees]', ylabel='S [m3/year]', title='(S, phi)-curve', width=800, height=400, show_grid=True)"
   ]
  },
  {
   "cell_type": "markdown",
   "id": "9fce2867-0cf0-472b-9150-ec868d3275bd",
   "metadata": {},
   "source": [
    "Using the plots and code, try to answer the questions below."
   ]
  },
  {
   "cell_type": "code",
   "execution_count": null,
   "id": "308084c3-ef1f-4a63-9016-12bfa267d313",
   "metadata": {},
   "outputs": [],
   "source": [
    "q5 = cd.QuestionFactory(questions[\"Q7-5\"]).serve()\n",
    "q6 = cd.QuestionFactory(questions[\"Q7-6\"]).serve()\n",
    "q7 = cd.QuestionFactory(questions[\"Q7-7\"]).serve()\n",
    "q8 = cd.QuestionFactory(questions[\"Q7-8\"]).serve()\n",
    "\n",
    "pn.Column(q5, q6, q7, q8)"
   ]
  },
  {
   "cell_type": "markdown",
   "id": "a924d4f3-0aa7-4496-b84f-ea2edfe3e247",
   "metadata": {},
   "source": [
    "We have been working with very simple boundary conditions. We could improve this model further by using different boundary conditions. The questions below concern the improvement of boundary conditions."
   ]
  },
  {
   "cell_type": "code",
   "execution_count": null,
   "id": "66f711eb-ed69-4093-8303-7a89909d7a7b",
   "metadata": {},
   "outputs": [],
   "source": [
    "q9 = cd.QuestionFactory(questions[\"Q7-9\"]).serve()\n",
    "q10 = cd.QuestionFactory(questions[\"Q7-10\"]).serve()\n",
    "\n",
    "pn.Column(q9, q10)"
   ]
  },
  {
   "cell_type": "markdown",
   "id": "21b5799b-f284-4c0b-acaa-092eba70c5c0",
   "metadata": {},
   "source": [
    "We could extend this model with all sorts of additional functionality. Perhaps a first step would be to include the down-drift zone into the model. You will learn all about this in the Coastal Modelling unit! "
   ]
  },
  {
   "cell_type": "markdown",
   "id": "9751e401-6431-4760-bd81-3d501f7a217b",
   "metadata": {},
   "source": [
    "You have reached the end of this notebook."
   ]
  }
 ],
 "metadata": {
  "kernelspec": {
   "display_name": "Python 3 (ipykernel)",
   "language": "python",
   "name": "python3"
  },
  "language_info": {
   "codemirror_mode": {
    "name": "ipython",
    "version": 3
   },
   "file_extension": ".py",
   "mimetype": "text/x-python",
   "name": "python",
   "nbconvert_exporter": "python",
   "pygments_lexer": "ipython3",
   "version": "3.11.8"
  }
 },
 "nbformat": 4,
 "nbformat_minor": 5
}
