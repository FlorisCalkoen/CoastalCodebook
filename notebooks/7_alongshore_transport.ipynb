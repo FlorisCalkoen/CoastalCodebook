{
 "cells": [
  {
   "cell_type": "markdown",
   "id": "45d5d526-02fc-4a48-ae9e-eefadf1116ed",
   "metadata": {},
   "source": [
    "# Alongshore transport"
   ]
  },
  {
   "cell_type": "markdown",
   "id": "5deb9fd0-bc1a-4041-b543-582c154ee46e",
   "metadata": {},
   "source": [
    "## First import some necessary packages"
   ]
  },
  {
   "cell_type": "code",
   "execution_count": 1,
   "id": "28f630ce-af5d-4344-8f85-422ddc7a990c",
   "metadata": {},
   "outputs": [
    {
     "data": {
      "application/javascript": "(function(root) {\n  function now() {\n    return new Date();\n  }\n\n  var force = true;\n  var py_version = '3.3.4'.replace('rc', '-rc.').replace('.dev', '-dev.');\n  var reloading = false;\n  var Bokeh = root.Bokeh;\n\n  if (typeof (root._bokeh_timeout) === \"undefined\" || force) {\n    root._bokeh_timeout = Date.now() + 5000;\n    root._bokeh_failed_load = false;\n  }\n\n  function run_callbacks() {\n    try {\n      root._bokeh_onload_callbacks.forEach(function(callback) {\n        if (callback != null)\n          callback();\n      });\n    } finally {\n      delete root._bokeh_onload_callbacks;\n    }\n    console.debug(\"Bokeh: all callbacks have finished\");\n  }\n\n  function load_libs(css_urls, js_urls, js_modules, js_exports, callback) {\n    if (css_urls == null) css_urls = [];\n    if (js_urls == null) js_urls = [];\n    if (js_modules == null) js_modules = [];\n    if (js_exports == null) js_exports = {};\n\n    root._bokeh_onload_callbacks.push(callback);\n\n    if (root._bokeh_is_loading > 0) {\n      console.debug(\"Bokeh: BokehJS is being loaded, scheduling callback at\", now());\n      return null;\n    }\n    if (js_urls.length === 0 && js_modules.length === 0 && Object.keys(js_exports).length === 0) {\n      run_callbacks();\n      return null;\n    }\n    if (!reloading) {\n      console.debug(\"Bokeh: BokehJS not loaded, scheduling load and callback at\", now());\n    }\n\n    function on_load() {\n      root._bokeh_is_loading--;\n      if (root._bokeh_is_loading === 0) {\n        console.debug(\"Bokeh: all BokehJS libraries/stylesheets loaded\");\n        run_callbacks()\n      }\n    }\n    window._bokeh_on_load = on_load\n\n    function on_error() {\n      console.error(\"failed to load \" + url);\n    }\n\n    var skip = [];\n    if (window.requirejs) {\n      window.requirejs.config({'packages': {}, 'paths': {'jspanel': 'https://cdn.jsdelivr.net/npm/jspanel4@4.12.0/dist/jspanel', 'jspanel-modal': 'https://cdn.jsdelivr.net/npm/jspanel4@4.12.0/dist/extensions/modal/jspanel.modal', 'jspanel-tooltip': 'https://cdn.jsdelivr.net/npm/jspanel4@4.12.0/dist/extensions/tooltip/jspanel.tooltip', 'jspanel-hint': 'https://cdn.jsdelivr.net/npm/jspanel4@4.12.0/dist/extensions/hint/jspanel.hint', 'jspanel-layout': 'https://cdn.jsdelivr.net/npm/jspanel4@4.12.0/dist/extensions/layout/jspanel.layout', 'jspanel-contextmenu': 'https://cdn.jsdelivr.net/npm/jspanel4@4.12.0/dist/extensions/contextmenu/jspanel.contextmenu', 'jspanel-dock': 'https://cdn.jsdelivr.net/npm/jspanel4@4.12.0/dist/extensions/dock/jspanel.dock', 'gridstack': 'https://cdn.jsdelivr.net/npm/gridstack@7.2.3/dist/gridstack-all', 'notyf': 'https://cdn.jsdelivr.net/npm/notyf@3/notyf.min'}, 'shim': {'jspanel': {'exports': 'jsPanel'}, 'gridstack': {'exports': 'GridStack'}}});\n      require([\"jspanel\"], function(jsPanel) {\n\twindow.jsPanel = jsPanel\n\ton_load()\n      })\n      require([\"jspanel-modal\"], function() {\n\ton_load()\n      })\n      require([\"jspanel-tooltip\"], function() {\n\ton_load()\n      })\n      require([\"jspanel-hint\"], function() {\n\ton_load()\n      })\n      require([\"jspanel-layout\"], function() {\n\ton_load()\n      })\n      require([\"jspanel-contextmenu\"], function() {\n\ton_load()\n      })\n      require([\"jspanel-dock\"], function() {\n\ton_load()\n      })\n      require([\"gridstack\"], function(GridStack) {\n\twindow.GridStack = GridStack\n\ton_load()\n      })\n      require([\"notyf\"], function() {\n\ton_load()\n      })\n      root._bokeh_is_loading = css_urls.length + 9;\n    } else {\n      root._bokeh_is_loading = css_urls.length + js_urls.length + js_modules.length + Object.keys(js_exports).length;\n    }\n\n    var existing_stylesheets = []\n    var links = document.getElementsByTagName('link')\n    for (var i = 0; i < links.length; i++) {\n      var link = links[i]\n      if (link.href != null) {\n\texisting_stylesheets.push(link.href)\n      }\n    }\n    for (var i = 0; i < css_urls.length; i++) {\n      var url = css_urls[i];\n      if (existing_stylesheets.indexOf(url) !== -1) {\n\ton_load()\n\tcontinue;\n      }\n      const element = document.createElement(\"link\");\n      element.onload = on_load;\n      element.onerror = on_error;\n      element.rel = \"stylesheet\";\n      element.type = \"text/css\";\n      element.href = url;\n      console.debug(\"Bokeh: injecting link tag for BokehJS stylesheet: \", url);\n      document.body.appendChild(element);\n    }    if (((window['jsPanel'] !== undefined) && (!(window['jsPanel'] instanceof HTMLElement))) || window.requirejs) {\n      var urls = ['https://cdn.holoviz.org/panel/1.3.8/dist/bundled/floatpanel/jspanel4@4.12.0/dist/jspanel.js', 'https://cdn.holoviz.org/panel/1.3.8/dist/bundled/floatpanel/jspanel4@4.12.0/dist/extensions/modal/jspanel.modal.js', 'https://cdn.holoviz.org/panel/1.3.8/dist/bundled/floatpanel/jspanel4@4.12.0/dist/extensions/tooltip/jspanel.tooltip.js', 'https://cdn.holoviz.org/panel/1.3.8/dist/bundled/floatpanel/jspanel4@4.12.0/dist/extensions/hint/jspanel.hint.js', 'https://cdn.holoviz.org/panel/1.3.8/dist/bundled/floatpanel/jspanel4@4.12.0/dist/extensions/layout/jspanel.layout.js', 'https://cdn.holoviz.org/panel/1.3.8/dist/bundled/floatpanel/jspanel4@4.12.0/dist/extensions/contextmenu/jspanel.contextmenu.js', 'https://cdn.holoviz.org/panel/1.3.8/dist/bundled/floatpanel/jspanel4@4.12.0/dist/extensions/dock/jspanel.dock.js'];\n      for (var i = 0; i < urls.length; i++) {\n        skip.push(urls[i])\n      }\n    }    if (((window['GridStack'] !== undefined) && (!(window['GridStack'] instanceof HTMLElement))) || window.requirejs) {\n      var urls = ['https://cdn.holoviz.org/panel/1.3.8/dist/bundled/gridstack/gridstack@7.2.3/dist/gridstack-all.js'];\n      for (var i = 0; i < urls.length; i++) {\n        skip.push(urls[i])\n      }\n    }    if (((window['Notyf'] !== undefined) && (!(window['Notyf'] instanceof HTMLElement))) || window.requirejs) {\n      var urls = ['https://cdn.holoviz.org/panel/1.3.8/dist/bundled/notificationarea/notyf@3/notyf.min.js'];\n      for (var i = 0; i < urls.length; i++) {\n        skip.push(urls[i])\n      }\n    }    var existing_scripts = []\n    var scripts = document.getElementsByTagName('script')\n    for (var i = 0; i < scripts.length; i++) {\n      var script = scripts[i]\n      if (script.src != null) {\n\texisting_scripts.push(script.src)\n      }\n    }\n    for (var i = 0; i < js_urls.length; i++) {\n      var url = js_urls[i];\n      if (skip.indexOf(url) !== -1 || existing_scripts.indexOf(url) !== -1) {\n\tif (!window.requirejs) {\n\t  on_load();\n\t}\n\tcontinue;\n      }\n      var element = document.createElement('script');\n      element.onload = on_load;\n      element.onerror = on_error;\n      element.async = false;\n      element.src = url;\n      console.debug(\"Bokeh: injecting script tag for BokehJS library: \", url);\n      document.head.appendChild(element);\n    }\n    for (var i = 0; i < js_modules.length; i++) {\n      var url = js_modules[i];\n      if (skip.indexOf(url) !== -1 || existing_scripts.indexOf(url) !== -1) {\n\tif (!window.requirejs) {\n\t  on_load();\n\t}\n\tcontinue;\n      }\n      var element = document.createElement('script');\n      element.onload = on_load;\n      element.onerror = on_error;\n      element.async = false;\n      element.src = url;\n      element.type = \"module\";\n      console.debug(\"Bokeh: injecting script tag for BokehJS library: \", url);\n      document.head.appendChild(element);\n    }\n    for (const name in js_exports) {\n      var url = js_exports[name];\n      if (skip.indexOf(url) >= 0 || root[name] != null) {\n\tif (!window.requirejs) {\n\t  on_load();\n\t}\n\tcontinue;\n      }\n      var element = document.createElement('script');\n      element.onerror = on_error;\n      element.async = false;\n      element.type = \"module\";\n      console.debug(\"Bokeh: injecting script tag for BokehJS library: \", url);\n      element.textContent = `\n      import ${name} from \"${url}\"\n      window.${name} = ${name}\n      window._bokeh_on_load()\n      `\n      document.head.appendChild(element);\n    }\n    if (!js_urls.length && !js_modules.length) {\n      on_load()\n    }\n  };\n\n  function inject_raw_css(css) {\n    const element = document.createElement(\"style\");\n    element.appendChild(document.createTextNode(css));\n    document.body.appendChild(element);\n  }\n\n  var js_urls = [\"https://cdn.bokeh.org/bokeh/release/bokeh-3.3.4.min.js\", \"https://cdn.bokeh.org/bokeh/release/bokeh-gl-3.3.4.min.js\", \"https://cdn.bokeh.org/bokeh/release/bokeh-widgets-3.3.4.min.js\", \"https://cdn.bokeh.org/bokeh/release/bokeh-tables-3.3.4.min.js\", \"https://cdn.holoviz.org/panel/1.3.8/dist/panel.min.js\"];\n  var js_modules = [];\n  var js_exports = {};\n  var css_urls = [];\n  var inline_js = [    function(Bokeh) {\n      Bokeh.set_log_level(\"info\");\n    },\nfunction(Bokeh) {} // ensure no trailing comma for IE\n  ];\n\n  function run_inline_js() {\n    if ((root.Bokeh !== undefined) || (force === true)) {\n      for (var i = 0; i < inline_js.length; i++) {\n\ttry {\n          inline_js[i].call(root, root.Bokeh);\n\t} catch(e) {\n\t  if (!reloading) {\n\t    throw e;\n\t  }\n\t}\n      }\n      // Cache old bokeh versions\n      if (Bokeh != undefined && !reloading) {\n\tvar NewBokeh = root.Bokeh;\n\tif (Bokeh.versions === undefined) {\n\t  Bokeh.versions = new Map();\n\t}\n\tif (NewBokeh.version !== Bokeh.version) {\n\t  Bokeh.versions.set(NewBokeh.version, NewBokeh)\n\t}\n\troot.Bokeh = Bokeh;\n      }} else if (Date.now() < root._bokeh_timeout) {\n      setTimeout(run_inline_js, 100);\n    } else if (!root._bokeh_failed_load) {\n      console.log(\"Bokeh: BokehJS failed to load within specified timeout.\");\n      root._bokeh_failed_load = true;\n    }\n    root._bokeh_is_initializing = false\n  }\n\n  function load_or_wait() {\n    // Implement a backoff loop that tries to ensure we do not load multiple\n    // versions of Bokeh and its dependencies at the same time.\n    // In recent versions we use the root._bokeh_is_initializing flag\n    // to determine whether there is an ongoing attempt to initialize\n    // bokeh, however for backward compatibility we also try to ensure\n    // that we do not start loading a newer (Panel>=1.0 and Bokeh>3) version\n    // before older versions are fully initialized.\n    if (root._bokeh_is_initializing && Date.now() > root._bokeh_timeout) {\n      root._bokeh_is_initializing = false;\n      root._bokeh_onload_callbacks = undefined;\n      console.log(\"Bokeh: BokehJS was loaded multiple times but one version failed to initialize.\");\n      load_or_wait();\n    } else if (root._bokeh_is_initializing || (typeof root._bokeh_is_initializing === \"undefined\" && root._bokeh_onload_callbacks !== undefined)) {\n      setTimeout(load_or_wait, 100);\n    } else {\n      root._bokeh_is_initializing = true\n      root._bokeh_onload_callbacks = []\n      var bokeh_loaded = Bokeh != null && (Bokeh.version === py_version || (Bokeh.versions !== undefined && Bokeh.versions.has(py_version)));\n      if (!reloading && !bokeh_loaded) {\n\troot.Bokeh = undefined;\n      }\n      load_libs(css_urls, js_urls, js_modules, js_exports, function() {\n\tconsole.debug(\"Bokeh: BokehJS plotting callback run at\", now());\n\trun_inline_js();\n      });\n    }\n  }\n  // Give older versions of the autoload script a head-start to ensure\n  // they initialize before we start loading newer version.\n  setTimeout(load_or_wait, 100)\n}(window));",
      "application/vnd.holoviews_load.v0+json": ""
     },
     "metadata": {},
     "output_type": "display_data"
    },
    {
     "data": {
      "application/javascript": "\nif ((window.PyViz === undefined) || (window.PyViz instanceof HTMLElement)) {\n  window.PyViz = {comms: {}, comm_status:{}, kernels:{}, receivers: {}, plot_index: []}\n}\n\n\n    function JupyterCommManager() {\n    }\n\n    JupyterCommManager.prototype.register_target = function(plot_id, comm_id, msg_handler) {\n      if (window.comm_manager || ((window.Jupyter !== undefined) && (Jupyter.notebook.kernel != null))) {\n        var comm_manager = window.comm_manager || Jupyter.notebook.kernel.comm_manager;\n        comm_manager.register_target(comm_id, function(comm) {\n          comm.on_msg(msg_handler);\n        });\n      } else if ((plot_id in window.PyViz.kernels) && (window.PyViz.kernels[plot_id])) {\n        window.PyViz.kernels[plot_id].registerCommTarget(comm_id, function(comm) {\n          comm.onMsg = msg_handler;\n        });\n      } else if (typeof google != 'undefined' && google.colab.kernel != null) {\n        google.colab.kernel.comms.registerTarget(comm_id, (comm) => {\n          var messages = comm.messages[Symbol.asyncIterator]();\n          function processIteratorResult(result) {\n            var message = result.value;\n            console.log(message)\n            var content = {data: message.data, comm_id};\n            var buffers = []\n            for (var buffer of message.buffers || []) {\n              buffers.push(new DataView(buffer))\n            }\n            var metadata = message.metadata || {};\n            var msg = {content, buffers, metadata}\n            msg_handler(msg);\n            return messages.next().then(processIteratorResult);\n          }\n          return messages.next().then(processIteratorResult);\n        })\n      }\n    }\n\n    JupyterCommManager.prototype.get_client_comm = function(plot_id, comm_id, msg_handler) {\n      if (comm_id in window.PyViz.comms) {\n        return window.PyViz.comms[comm_id];\n      } else if (window.comm_manager || ((window.Jupyter !== undefined) && (Jupyter.notebook.kernel != null))) {\n        var comm_manager = window.comm_manager || Jupyter.notebook.kernel.comm_manager;\n        var comm = comm_manager.new_comm(comm_id, {}, {}, {}, comm_id);\n        if (msg_handler) {\n          comm.on_msg(msg_handler);\n        }\n      } else if ((plot_id in window.PyViz.kernels) && (window.PyViz.kernels[plot_id])) {\n        var comm = window.PyViz.kernels[plot_id].connectToComm(comm_id);\n        comm.open();\n        if (msg_handler) {\n          comm.onMsg = msg_handler;\n        }\n      } else if (typeof google != 'undefined' && google.colab.kernel != null) {\n        var comm_promise = google.colab.kernel.comms.open(comm_id)\n        comm_promise.then((comm) => {\n          window.PyViz.comms[comm_id] = comm;\n          if (msg_handler) {\n            var messages = comm.messages[Symbol.asyncIterator]();\n            function processIteratorResult(result) {\n              var message = result.value;\n              var content = {data: message.data};\n              var metadata = message.metadata || {comm_id};\n              var msg = {content, metadata}\n              msg_handler(msg);\n              return messages.next().then(processIteratorResult);\n            }\n            return messages.next().then(processIteratorResult);\n          }\n        }) \n        var sendClosure = (data, metadata, buffers, disposeOnDone) => {\n          return comm_promise.then((comm) => {\n            comm.send(data, metadata, buffers, disposeOnDone);\n          });\n        };\n        var comm = {\n          send: sendClosure\n        };\n      }\n      window.PyViz.comms[comm_id] = comm;\n      return comm;\n    }\n    window.PyViz.comm_manager = new JupyterCommManager();\n    \n\n\nvar JS_MIME_TYPE = 'application/javascript';\nvar HTML_MIME_TYPE = 'text/html';\nvar EXEC_MIME_TYPE = 'application/vnd.holoviews_exec.v0+json';\nvar CLASS_NAME = 'output';\n\n/**\n * Render data to the DOM node\n */\nfunction render(props, node) {\n  var div = document.createElement(\"div\");\n  var script = document.createElement(\"script\");\n  node.appendChild(div);\n  node.appendChild(script);\n}\n\n/**\n * Handle when a new output is added\n */\nfunction handle_add_output(event, handle) {\n  var output_area = handle.output_area;\n  var output = handle.output;\n  if ((output.data == undefined) || (!output.data.hasOwnProperty(EXEC_MIME_TYPE))) {\n    return\n  }\n  var id = output.metadata[EXEC_MIME_TYPE][\"id\"];\n  var toinsert = output_area.element.find(\".\" + CLASS_NAME.split(' ')[0]);\n  if (id !== undefined) {\n    var nchildren = toinsert.length;\n    var html_node = toinsert[nchildren-1].children[0];\n    html_node.innerHTML = output.data[HTML_MIME_TYPE];\n    var scripts = [];\n    var nodelist = html_node.querySelectorAll(\"script\");\n    for (var i in nodelist) {\n      if (nodelist.hasOwnProperty(i)) {\n        scripts.push(nodelist[i])\n      }\n    }\n\n    scripts.forEach( function (oldScript) {\n      var newScript = document.createElement(\"script\");\n      var attrs = [];\n      var nodemap = oldScript.attributes;\n      for (var j in nodemap) {\n        if (nodemap.hasOwnProperty(j)) {\n          attrs.push(nodemap[j])\n        }\n      }\n      attrs.forEach(function(attr) { newScript.setAttribute(attr.name, attr.value) });\n      newScript.appendChild(document.createTextNode(oldScript.innerHTML));\n      oldScript.parentNode.replaceChild(newScript, oldScript);\n    });\n    if (JS_MIME_TYPE in output.data) {\n      toinsert[nchildren-1].children[1].textContent = output.data[JS_MIME_TYPE];\n    }\n    output_area._hv_plot_id = id;\n    if ((window.Bokeh !== undefined) && (id in Bokeh.index)) {\n      window.PyViz.plot_index[id] = Bokeh.index[id];\n    } else {\n      window.PyViz.plot_index[id] = null;\n    }\n  } else if (output.metadata[EXEC_MIME_TYPE][\"server_id\"] !== undefined) {\n    var bk_div = document.createElement(\"div\");\n    bk_div.innerHTML = output.data[HTML_MIME_TYPE];\n    var script_attrs = bk_div.children[0].attributes;\n    for (var i = 0; i < script_attrs.length; i++) {\n      toinsert[toinsert.length - 1].childNodes[1].setAttribute(script_attrs[i].name, script_attrs[i].value);\n    }\n    // store reference to server id on output_area\n    output_area._bokeh_server_id = output.metadata[EXEC_MIME_TYPE][\"server_id\"];\n  }\n}\n\n/**\n * Handle when an output is cleared or removed\n */\nfunction handle_clear_output(event, handle) {\n  var id = handle.cell.output_area._hv_plot_id;\n  var server_id = handle.cell.output_area._bokeh_server_id;\n  if (((id === undefined) || !(id in PyViz.plot_index)) && (server_id !== undefined)) { return; }\n  var comm = window.PyViz.comm_manager.get_client_comm(\"hv-extension-comm\", \"hv-extension-comm\", function () {});\n  if (server_id !== null) {\n    comm.send({event_type: 'server_delete', 'id': server_id});\n    return;\n  } else if (comm !== null) {\n    comm.send({event_type: 'delete', 'id': id});\n  }\n  delete PyViz.plot_index[id];\n  if ((window.Bokeh !== undefined) & (id in window.Bokeh.index)) {\n    var doc = window.Bokeh.index[id].model.document\n    doc.clear();\n    const i = window.Bokeh.documents.indexOf(doc);\n    if (i > -1) {\n      window.Bokeh.documents.splice(i, 1);\n    }\n  }\n}\n\n/**\n * Handle kernel restart event\n */\nfunction handle_kernel_cleanup(event, handle) {\n  delete PyViz.comms[\"hv-extension-comm\"];\n  window.PyViz.plot_index = {}\n}\n\n/**\n * Handle update_display_data messages\n */\nfunction handle_update_output(event, handle) {\n  handle_clear_output(event, {cell: {output_area: handle.output_area}})\n  handle_add_output(event, handle)\n}\n\nfunction register_renderer(events, OutputArea) {\n  function append_mime(data, metadata, element) {\n    // create a DOM node to render to\n    var toinsert = this.create_output_subarea(\n    metadata,\n    CLASS_NAME,\n    EXEC_MIME_TYPE\n    );\n    this.keyboard_manager.register_events(toinsert);\n    // Render to node\n    var props = {data: data, metadata: metadata[EXEC_MIME_TYPE]};\n    render(props, toinsert[0]);\n    element.append(toinsert);\n    return toinsert\n  }\n\n  events.on('output_added.OutputArea', handle_add_output);\n  events.on('output_updated.OutputArea', handle_update_output);\n  events.on('clear_output.CodeCell', handle_clear_output);\n  events.on('delete.Cell', handle_clear_output);\n  events.on('kernel_ready.Kernel', handle_kernel_cleanup);\n\n  OutputArea.prototype.register_mime_type(EXEC_MIME_TYPE, append_mime, {\n    safe: true,\n    index: 0\n  });\n}\n\nif (window.Jupyter !== undefined) {\n  try {\n    var events = require('base/js/events');\n    var OutputArea = require('notebook/js/outputarea').OutputArea;\n    if (OutputArea.prototype.mime_types().indexOf(EXEC_MIME_TYPE) == -1) {\n      register_renderer(events, OutputArea);\n    }\n  } catch(err) {\n  }\n}\n",
      "application/vnd.holoviews_load.v0+json": ""
     },
     "metadata": {},
     "output_type": "display_data"
    },
    {
     "data": {
      "text/html": [
       "<style>*[data-root-id],\n",
       "*[data-root-id] > * {\n",
       "  box-sizing: border-box;\n",
       "  font-family: var(--jp-ui-font-family);\n",
       "  font-size: var(--jp-ui-font-size1);\n",
       "  color: var(--vscode-editor-foreground, var(--jp-ui-font-color1));\n",
       "}\n",
       "\n",
       "/* Override VSCode background color */\n",
       ".cell-output-ipywidget-background:has(\n",
       "    > .cell-output-ipywidget-background > .lm-Widget > *[data-root-id]\n",
       "  ),\n",
       ".cell-output-ipywidget-background:has(> .lm-Widget > *[data-root-id]) {\n",
       "  background-color: transparent !important;\n",
       "}\n",
       "</style>"
      ]
     },
     "metadata": {},
     "output_type": "display_data"
    },
    {
     "data": {
      "application/javascript": "(function(root) {\n  function now() {\n    return new Date();\n  }\n\n  var force = true;\n  var py_version = '3.3.4'.replace('rc', '-rc.').replace('.dev', '-dev.');\n  var reloading = true;\n  var Bokeh = root.Bokeh;\n\n  if (typeof (root._bokeh_timeout) === \"undefined\" || force) {\n    root._bokeh_timeout = Date.now() + 5000;\n    root._bokeh_failed_load = false;\n  }\n\n  function run_callbacks() {\n    try {\n      root._bokeh_onload_callbacks.forEach(function(callback) {\n        if (callback != null)\n          callback();\n      });\n    } finally {\n      delete root._bokeh_onload_callbacks;\n    }\n    console.debug(\"Bokeh: all callbacks have finished\");\n  }\n\n  function load_libs(css_urls, js_urls, js_modules, js_exports, callback) {\n    if (css_urls == null) css_urls = [];\n    if (js_urls == null) js_urls = [];\n    if (js_modules == null) js_modules = [];\n    if (js_exports == null) js_exports = {};\n\n    root._bokeh_onload_callbacks.push(callback);\n\n    if (root._bokeh_is_loading > 0) {\n      console.debug(\"Bokeh: BokehJS is being loaded, scheduling callback at\", now());\n      return null;\n    }\n    if (js_urls.length === 0 && js_modules.length === 0 && Object.keys(js_exports).length === 0) {\n      run_callbacks();\n      return null;\n    }\n    if (!reloading) {\n      console.debug(\"Bokeh: BokehJS not loaded, scheduling load and callback at\", now());\n    }\n\n    function on_load() {\n      root._bokeh_is_loading--;\n      if (root._bokeh_is_loading === 0) {\n        console.debug(\"Bokeh: all BokehJS libraries/stylesheets loaded\");\n        run_callbacks()\n      }\n    }\n    window._bokeh_on_load = on_load\n\n    function on_error() {\n      console.error(\"failed to load \" + url);\n    }\n\n    var skip = [];\n    if (window.requirejs) {\n      window.requirejs.config({'packages': {}, 'paths': {'jspanel': 'https://cdn.jsdelivr.net/npm/jspanel4@4.12.0/dist/jspanel', 'jspanel-modal': 'https://cdn.jsdelivr.net/npm/jspanel4@4.12.0/dist/extensions/modal/jspanel.modal', 'jspanel-tooltip': 'https://cdn.jsdelivr.net/npm/jspanel4@4.12.0/dist/extensions/tooltip/jspanel.tooltip', 'jspanel-hint': 'https://cdn.jsdelivr.net/npm/jspanel4@4.12.0/dist/extensions/hint/jspanel.hint', 'jspanel-layout': 'https://cdn.jsdelivr.net/npm/jspanel4@4.12.0/dist/extensions/layout/jspanel.layout', 'jspanel-contextmenu': 'https://cdn.jsdelivr.net/npm/jspanel4@4.12.0/dist/extensions/contextmenu/jspanel.contextmenu', 'jspanel-dock': 'https://cdn.jsdelivr.net/npm/jspanel4@4.12.0/dist/extensions/dock/jspanel.dock', 'gridstack': 'https://cdn.jsdelivr.net/npm/gridstack@7.2.3/dist/gridstack-all', 'notyf': 'https://cdn.jsdelivr.net/npm/notyf@3/notyf.min'}, 'shim': {'jspanel': {'exports': 'jsPanel'}, 'gridstack': {'exports': 'GridStack'}}});\n      require([\"jspanel\"], function(jsPanel) {\n\twindow.jsPanel = jsPanel\n\ton_load()\n      })\n      require([\"jspanel-modal\"], function() {\n\ton_load()\n      })\n      require([\"jspanel-tooltip\"], function() {\n\ton_load()\n      })\n      require([\"jspanel-hint\"], function() {\n\ton_load()\n      })\n      require([\"jspanel-layout\"], function() {\n\ton_load()\n      })\n      require([\"jspanel-contextmenu\"], function() {\n\ton_load()\n      })\n      require([\"jspanel-dock\"], function() {\n\ton_load()\n      })\n      require([\"gridstack\"], function(GridStack) {\n\twindow.GridStack = GridStack\n\ton_load()\n      })\n      require([\"notyf\"], function() {\n\ton_load()\n      })\n      root._bokeh_is_loading = css_urls.length + 9;\n    } else {\n      root._bokeh_is_loading = css_urls.length + js_urls.length + js_modules.length + Object.keys(js_exports).length;\n    }\n\n    var existing_stylesheets = []\n    var links = document.getElementsByTagName('link')\n    for (var i = 0; i < links.length; i++) {\n      var link = links[i]\n      if (link.href != null) {\n\texisting_stylesheets.push(link.href)\n      }\n    }\n    for (var i = 0; i < css_urls.length; i++) {\n      var url = css_urls[i];\n      if (existing_stylesheets.indexOf(url) !== -1) {\n\ton_load()\n\tcontinue;\n      }\n      const element = document.createElement(\"link\");\n      element.onload = on_load;\n      element.onerror = on_error;\n      element.rel = \"stylesheet\";\n      element.type = \"text/css\";\n      element.href = url;\n      console.debug(\"Bokeh: injecting link tag for BokehJS stylesheet: \", url);\n      document.body.appendChild(element);\n    }    if (((window['jsPanel'] !== undefined) && (!(window['jsPanel'] instanceof HTMLElement))) || window.requirejs) {\n      var urls = ['https://cdn.holoviz.org/panel/1.3.8/dist/bundled/floatpanel/jspanel4@4.12.0/dist/jspanel.js', 'https://cdn.holoviz.org/panel/1.3.8/dist/bundled/floatpanel/jspanel4@4.12.0/dist/extensions/modal/jspanel.modal.js', 'https://cdn.holoviz.org/panel/1.3.8/dist/bundled/floatpanel/jspanel4@4.12.0/dist/extensions/tooltip/jspanel.tooltip.js', 'https://cdn.holoviz.org/panel/1.3.8/dist/bundled/floatpanel/jspanel4@4.12.0/dist/extensions/hint/jspanel.hint.js', 'https://cdn.holoviz.org/panel/1.3.8/dist/bundled/floatpanel/jspanel4@4.12.0/dist/extensions/layout/jspanel.layout.js', 'https://cdn.holoviz.org/panel/1.3.8/dist/bundled/floatpanel/jspanel4@4.12.0/dist/extensions/contextmenu/jspanel.contextmenu.js', 'https://cdn.holoviz.org/panel/1.3.8/dist/bundled/floatpanel/jspanel4@4.12.0/dist/extensions/dock/jspanel.dock.js'];\n      for (var i = 0; i < urls.length; i++) {\n        skip.push(urls[i])\n      }\n    }    if (((window['GridStack'] !== undefined) && (!(window['GridStack'] instanceof HTMLElement))) || window.requirejs) {\n      var urls = ['https://cdn.holoviz.org/panel/1.3.8/dist/bundled/gridstack/gridstack@7.2.3/dist/gridstack-all.js'];\n      for (var i = 0; i < urls.length; i++) {\n        skip.push(urls[i])\n      }\n    }    if (((window['Notyf'] !== undefined) && (!(window['Notyf'] instanceof HTMLElement))) || window.requirejs) {\n      var urls = ['https://cdn.holoviz.org/panel/1.3.8/dist/bundled/notificationarea/notyf@3/notyf.min.js'];\n      for (var i = 0; i < urls.length; i++) {\n        skip.push(urls[i])\n      }\n    }    var existing_scripts = []\n    var scripts = document.getElementsByTagName('script')\n    for (var i = 0; i < scripts.length; i++) {\n      var script = scripts[i]\n      if (script.src != null) {\n\texisting_scripts.push(script.src)\n      }\n    }\n    for (var i = 0; i < js_urls.length; i++) {\n      var url = js_urls[i];\n      if (skip.indexOf(url) !== -1 || existing_scripts.indexOf(url) !== -1) {\n\tif (!window.requirejs) {\n\t  on_load();\n\t}\n\tcontinue;\n      }\n      var element = document.createElement('script');\n      element.onload = on_load;\n      element.onerror = on_error;\n      element.async = false;\n      element.src = url;\n      console.debug(\"Bokeh: injecting script tag for BokehJS library: \", url);\n      document.head.appendChild(element);\n    }\n    for (var i = 0; i < js_modules.length; i++) {\n      var url = js_modules[i];\n      if (skip.indexOf(url) !== -1 || existing_scripts.indexOf(url) !== -1) {\n\tif (!window.requirejs) {\n\t  on_load();\n\t}\n\tcontinue;\n      }\n      var element = document.createElement('script');\n      element.onload = on_load;\n      element.onerror = on_error;\n      element.async = false;\n      element.src = url;\n      element.type = \"module\";\n      console.debug(\"Bokeh: injecting script tag for BokehJS library: \", url);\n      document.head.appendChild(element);\n    }\n    for (const name in js_exports) {\n      var url = js_exports[name];\n      if (skip.indexOf(url) >= 0 || root[name] != null) {\n\tif (!window.requirejs) {\n\t  on_load();\n\t}\n\tcontinue;\n      }\n      var element = document.createElement('script');\n      element.onerror = on_error;\n      element.async = false;\n      element.type = \"module\";\n      console.debug(\"Bokeh: injecting script tag for BokehJS library: \", url);\n      element.textContent = `\n      import ${name} from \"${url}\"\n      window.${name} = ${name}\n      window._bokeh_on_load()\n      `\n      document.head.appendChild(element);\n    }\n    if (!js_urls.length && !js_modules.length) {\n      on_load()\n    }\n  };\n\n  function inject_raw_css(css) {\n    const element = document.createElement(\"style\");\n    element.appendChild(document.createTextNode(css));\n    document.body.appendChild(element);\n  }\n\n  var js_urls = [];\n  var js_modules = [];\n  var js_exports = {};\n  var css_urls = [];\n  var inline_js = [    function(Bokeh) {\n      Bokeh.set_log_level(\"info\");\n    },\nfunction(Bokeh) {} // ensure no trailing comma for IE\n  ];\n\n  function run_inline_js() {\n    if ((root.Bokeh !== undefined) || (force === true)) {\n      for (var i = 0; i < inline_js.length; i++) {\n\ttry {\n          inline_js[i].call(root, root.Bokeh);\n\t} catch(e) {\n\t  if (!reloading) {\n\t    throw e;\n\t  }\n\t}\n      }\n      // Cache old bokeh versions\n      if (Bokeh != undefined && !reloading) {\n\tvar NewBokeh = root.Bokeh;\n\tif (Bokeh.versions === undefined) {\n\t  Bokeh.versions = new Map();\n\t}\n\tif (NewBokeh.version !== Bokeh.version) {\n\t  Bokeh.versions.set(NewBokeh.version, NewBokeh)\n\t}\n\troot.Bokeh = Bokeh;\n      }} else if (Date.now() < root._bokeh_timeout) {\n      setTimeout(run_inline_js, 100);\n    } else if (!root._bokeh_failed_load) {\n      console.log(\"Bokeh: BokehJS failed to load within specified timeout.\");\n      root._bokeh_failed_load = true;\n    }\n    root._bokeh_is_initializing = false\n  }\n\n  function load_or_wait() {\n    // Implement a backoff loop that tries to ensure we do not load multiple\n    // versions of Bokeh and its dependencies at the same time.\n    // In recent versions we use the root._bokeh_is_initializing flag\n    // to determine whether there is an ongoing attempt to initialize\n    // bokeh, however for backward compatibility we also try to ensure\n    // that we do not start loading a newer (Panel>=1.0 and Bokeh>3) version\n    // before older versions are fully initialized.\n    if (root._bokeh_is_initializing && Date.now() > root._bokeh_timeout) {\n      root._bokeh_is_initializing = false;\n      root._bokeh_onload_callbacks = undefined;\n      console.log(\"Bokeh: BokehJS was loaded multiple times but one version failed to initialize.\");\n      load_or_wait();\n    } else if (root._bokeh_is_initializing || (typeof root._bokeh_is_initializing === \"undefined\" && root._bokeh_onload_callbacks !== undefined)) {\n      setTimeout(load_or_wait, 100);\n    } else {\n      root._bokeh_is_initializing = true\n      root._bokeh_onload_callbacks = []\n      var bokeh_loaded = Bokeh != null && (Bokeh.version === py_version || (Bokeh.versions !== undefined && Bokeh.versions.has(py_version)));\n      if (!reloading && !bokeh_loaded) {\n\troot.Bokeh = undefined;\n      }\n      load_libs(css_urls, js_urls, js_modules, js_exports, function() {\n\tconsole.debug(\"Bokeh: BokehJS plotting callback run at\", now());\n\trun_inline_js();\n      });\n    }\n  }\n  // Give older versions of the autoload script a head-start to ensure\n  // they initialize before we start loading newer version.\n  setTimeout(load_or_wait, 100)\n}(window));",
      "application/vnd.holoviews_load.v0+json": ""
     },
     "metadata": {},
     "output_type": "display_data"
    },
    {
     "data": {
      "application/javascript": "\nif ((window.PyViz === undefined) || (window.PyViz instanceof HTMLElement)) {\n  window.PyViz = {comms: {}, comm_status:{}, kernels:{}, receivers: {}, plot_index: []}\n}\n\n\n    function JupyterCommManager() {\n    }\n\n    JupyterCommManager.prototype.register_target = function(plot_id, comm_id, msg_handler) {\n      if (window.comm_manager || ((window.Jupyter !== undefined) && (Jupyter.notebook.kernel != null))) {\n        var comm_manager = window.comm_manager || Jupyter.notebook.kernel.comm_manager;\n        comm_manager.register_target(comm_id, function(comm) {\n          comm.on_msg(msg_handler);\n        });\n      } else if ((plot_id in window.PyViz.kernels) && (window.PyViz.kernels[plot_id])) {\n        window.PyViz.kernels[plot_id].registerCommTarget(comm_id, function(comm) {\n          comm.onMsg = msg_handler;\n        });\n      } else if (typeof google != 'undefined' && google.colab.kernel != null) {\n        google.colab.kernel.comms.registerTarget(comm_id, (comm) => {\n          var messages = comm.messages[Symbol.asyncIterator]();\n          function processIteratorResult(result) {\n            var message = result.value;\n            console.log(message)\n            var content = {data: message.data, comm_id};\n            var buffers = []\n            for (var buffer of message.buffers || []) {\n              buffers.push(new DataView(buffer))\n            }\n            var metadata = message.metadata || {};\n            var msg = {content, buffers, metadata}\n            msg_handler(msg);\n            return messages.next().then(processIteratorResult);\n          }\n          return messages.next().then(processIteratorResult);\n        })\n      }\n    }\n\n    JupyterCommManager.prototype.get_client_comm = function(plot_id, comm_id, msg_handler) {\n      if (comm_id in window.PyViz.comms) {\n        return window.PyViz.comms[comm_id];\n      } else if (window.comm_manager || ((window.Jupyter !== undefined) && (Jupyter.notebook.kernel != null))) {\n        var comm_manager = window.comm_manager || Jupyter.notebook.kernel.comm_manager;\n        var comm = comm_manager.new_comm(comm_id, {}, {}, {}, comm_id);\n        if (msg_handler) {\n          comm.on_msg(msg_handler);\n        }\n      } else if ((plot_id in window.PyViz.kernels) && (window.PyViz.kernels[plot_id])) {\n        var comm = window.PyViz.kernels[plot_id].connectToComm(comm_id);\n        comm.open();\n        if (msg_handler) {\n          comm.onMsg = msg_handler;\n        }\n      } else if (typeof google != 'undefined' && google.colab.kernel != null) {\n        var comm_promise = google.colab.kernel.comms.open(comm_id)\n        comm_promise.then((comm) => {\n          window.PyViz.comms[comm_id] = comm;\n          if (msg_handler) {\n            var messages = comm.messages[Symbol.asyncIterator]();\n            function processIteratorResult(result) {\n              var message = result.value;\n              var content = {data: message.data};\n              var metadata = message.metadata || {comm_id};\n              var msg = {content, metadata}\n              msg_handler(msg);\n              return messages.next().then(processIteratorResult);\n            }\n            return messages.next().then(processIteratorResult);\n          }\n        }) \n        var sendClosure = (data, metadata, buffers, disposeOnDone) => {\n          return comm_promise.then((comm) => {\n            comm.send(data, metadata, buffers, disposeOnDone);\n          });\n        };\n        var comm = {\n          send: sendClosure\n        };\n      }\n      window.PyViz.comms[comm_id] = comm;\n      return comm;\n    }\n    window.PyViz.comm_manager = new JupyterCommManager();\n    \n\n\nvar JS_MIME_TYPE = 'application/javascript';\nvar HTML_MIME_TYPE = 'text/html';\nvar EXEC_MIME_TYPE = 'application/vnd.holoviews_exec.v0+json';\nvar CLASS_NAME = 'output';\n\n/**\n * Render data to the DOM node\n */\nfunction render(props, node) {\n  var div = document.createElement(\"div\");\n  var script = document.createElement(\"script\");\n  node.appendChild(div);\n  node.appendChild(script);\n}\n\n/**\n * Handle when a new output is added\n */\nfunction handle_add_output(event, handle) {\n  var output_area = handle.output_area;\n  var output = handle.output;\n  if ((output.data == undefined) || (!output.data.hasOwnProperty(EXEC_MIME_TYPE))) {\n    return\n  }\n  var id = output.metadata[EXEC_MIME_TYPE][\"id\"];\n  var toinsert = output_area.element.find(\".\" + CLASS_NAME.split(' ')[0]);\n  if (id !== undefined) {\n    var nchildren = toinsert.length;\n    var html_node = toinsert[nchildren-1].children[0];\n    html_node.innerHTML = output.data[HTML_MIME_TYPE];\n    var scripts = [];\n    var nodelist = html_node.querySelectorAll(\"script\");\n    for (var i in nodelist) {\n      if (nodelist.hasOwnProperty(i)) {\n        scripts.push(nodelist[i])\n      }\n    }\n\n    scripts.forEach( function (oldScript) {\n      var newScript = document.createElement(\"script\");\n      var attrs = [];\n      var nodemap = oldScript.attributes;\n      for (var j in nodemap) {\n        if (nodemap.hasOwnProperty(j)) {\n          attrs.push(nodemap[j])\n        }\n      }\n      attrs.forEach(function(attr) { newScript.setAttribute(attr.name, attr.value) });\n      newScript.appendChild(document.createTextNode(oldScript.innerHTML));\n      oldScript.parentNode.replaceChild(newScript, oldScript);\n    });\n    if (JS_MIME_TYPE in output.data) {\n      toinsert[nchildren-1].children[1].textContent = output.data[JS_MIME_TYPE];\n    }\n    output_area._hv_plot_id = id;\n    if ((window.Bokeh !== undefined) && (id in Bokeh.index)) {\n      window.PyViz.plot_index[id] = Bokeh.index[id];\n    } else {\n      window.PyViz.plot_index[id] = null;\n    }\n  } else if (output.metadata[EXEC_MIME_TYPE][\"server_id\"] !== undefined) {\n    var bk_div = document.createElement(\"div\");\n    bk_div.innerHTML = output.data[HTML_MIME_TYPE];\n    var script_attrs = bk_div.children[0].attributes;\n    for (var i = 0; i < script_attrs.length; i++) {\n      toinsert[toinsert.length - 1].childNodes[1].setAttribute(script_attrs[i].name, script_attrs[i].value);\n    }\n    // store reference to server id on output_area\n    output_area._bokeh_server_id = output.metadata[EXEC_MIME_TYPE][\"server_id\"];\n  }\n}\n\n/**\n * Handle when an output is cleared or removed\n */\nfunction handle_clear_output(event, handle) {\n  var id = handle.cell.output_area._hv_plot_id;\n  var server_id = handle.cell.output_area._bokeh_server_id;\n  if (((id === undefined) || !(id in PyViz.plot_index)) && (server_id !== undefined)) { return; }\n  var comm = window.PyViz.comm_manager.get_client_comm(\"hv-extension-comm\", \"hv-extension-comm\", function () {});\n  if (server_id !== null) {\n    comm.send({event_type: 'server_delete', 'id': server_id});\n    return;\n  } else if (comm !== null) {\n    comm.send({event_type: 'delete', 'id': id});\n  }\n  delete PyViz.plot_index[id];\n  if ((window.Bokeh !== undefined) & (id in window.Bokeh.index)) {\n    var doc = window.Bokeh.index[id].model.document\n    doc.clear();\n    const i = window.Bokeh.documents.indexOf(doc);\n    if (i > -1) {\n      window.Bokeh.documents.splice(i, 1);\n    }\n  }\n}\n\n/**\n * Handle kernel restart event\n */\nfunction handle_kernel_cleanup(event, handle) {\n  delete PyViz.comms[\"hv-extension-comm\"];\n  window.PyViz.plot_index = {}\n}\n\n/**\n * Handle update_display_data messages\n */\nfunction handle_update_output(event, handle) {\n  handle_clear_output(event, {cell: {output_area: handle.output_area}})\n  handle_add_output(event, handle)\n}\n\nfunction register_renderer(events, OutputArea) {\n  function append_mime(data, metadata, element) {\n    // create a DOM node to render to\n    var toinsert = this.create_output_subarea(\n    metadata,\n    CLASS_NAME,\n    EXEC_MIME_TYPE\n    );\n    this.keyboard_manager.register_events(toinsert);\n    // Render to node\n    var props = {data: data, metadata: metadata[EXEC_MIME_TYPE]};\n    render(props, toinsert[0]);\n    element.append(toinsert);\n    return toinsert\n  }\n\n  events.on('output_added.OutputArea', handle_add_output);\n  events.on('output_updated.OutputArea', handle_update_output);\n  events.on('clear_output.CodeCell', handle_clear_output);\n  events.on('delete.Cell', handle_clear_output);\n  events.on('kernel_ready.Kernel', handle_kernel_cleanup);\n\n  OutputArea.prototype.register_mime_type(EXEC_MIME_TYPE, append_mime, {\n    safe: true,\n    index: 0\n  });\n}\n\nif (window.Jupyter !== undefined) {\n  try {\n    var events = require('base/js/events');\n    var OutputArea = require('notebook/js/outputarea').OutputArea;\n    if (OutputArea.prototype.mime_types().indexOf(EXEC_MIME_TYPE) == -1) {\n      register_renderer(events, OutputArea);\n    }\n  } catch(err) {\n  }\n}\n",
      "application/vnd.holoviews_load.v0+json": ""
     },
     "metadata": {},
     "output_type": "display_data"
    },
    {
     "data": {
      "text/html": [
       "<style>*[data-root-id],\n",
       "*[data-root-id] > * {\n",
       "  box-sizing: border-box;\n",
       "  font-family: var(--jp-ui-font-family);\n",
       "  font-size: var(--jp-ui-font-size1);\n",
       "  color: var(--vscode-editor-foreground, var(--jp-ui-font-color1));\n",
       "}\n",
       "\n",
       "/* Override VSCode background color */\n",
       ".cell-output-ipywidget-background:has(\n",
       "    > .cell-output-ipywidget-background > .lm-Widget > *[data-root-id]\n",
       "  ),\n",
       ".cell-output-ipywidget-background:has(> .lm-Widget > *[data-root-id]) {\n",
       "  background-color: transparent !important;\n",
       "}\n",
       "</style>"
      ]
     },
     "metadata": {},
     "output_type": "display_data"
    }
   ],
   "source": [
    "import logging\n",
    "import pathlib\n",
    "import sys\n",
    "import warnings\n",
    "\n",
    "import colorcet as cc\n",
    "import dotenv\n",
    "import geopandas as gpd\n",
    "import holoviews as hv\n",
    "import hvplot.pandas  # noqa: API import\n",
    "import numpy as np\n",
    "import pandas as pd\n",
    "import panel as pn\n",
    "import pooch\n",
    "\n",
    "from bokeh.models import PanTool, WheelZoomTool, HoverTool\n",
    "from bokeh.resources import INLINE\n",
    "import bokeh.io\n",
    "\n",
    "import coastal_dynamics as cd\n",
    "\n",
    "# Activate Panel extension to make interactive visualizations\n",
    "pn.extension()"
   ]
  },
  {
   "cell_type": "code",
   "execution_count": null,
   "id": "60e482f0-a6ac-4a23-959e-42dc9f36864f",
   "metadata": {},
   "outputs": [],
   "source": [
    "# # Read questions from cloud storage\n",
    "questions = cd.read_questions(\n",
    "    \"./7_alongshore_transport.json\"\n",
    "    # \"az://coastal-dynamics/questions/5_morphodynamics_upper_shoreface.json\",\n",
    "    # storage_options={\"account_name\": \"coclico\"},\n",
    ")"
   ]
  },
  {
   "cell_type": "markdown",
   "id": "92498551-5eb6-4347-9fd2-47aa7d295f11",
   "metadata": {},
   "source": [
    "# Alongshore sediment transport\n",
    "\n",
    "Welcome to the notebook of week 6! The main topic of this notebook is cross-shore sediment transport. This notebook is relatively short. We will look into the CERC formula, and how to use it to obtain an (S, $\\phi$-curve. Afterwards, we will use the (S, $\\phi$-curve to determine coastal evolution around a breakwater."
   ]
  },
  {
   "cell_type": "markdown",
   "id": "53fd4788-c212-43b5-acd9-a3e1603446d0",
   "metadata": {},
   "source": [
    "## CERC formula and ($S$,$\\phi$)-curve\n",
    "Many different formulas exist to calculate bulk longshore sediment transport. One widely used formula is the CERC formula (Equation 8.4 in the book). We will use a version here which uses deep-water parameters. This formula, which is applicable for straight, parallel depth contours, is defined as:\n",
    "$$S = \\frac{K}{32(s-1)(1-p)} c_b \\sin{2 \\phi_0} H_0^2 $$\n",
    "For a complete description of each parameter, see section 8.2.3 of the book."
   ]
  },
  {
   "cell_type": "markdown",
   "id": "bf403dfa-f7e5-479c-a9b2-a2f05225b2b4",
   "metadata": {},
   "source": [
    "For simplicity, we will assume that the offshore wave height $H_0$ is equal to the deep-water root-mean-square wave height $H_{rms,0}$, and can be represented by a single value of 1.8 m, with a period T of 6.5 s. This gives a value for $K$ of 0.7.\n",
    "\n",
    "You might notice that the only variables left in the CERC formula are the breaking wave celerity $c_b$ and the offshore wave angle $\\phi_0$. Starting from our values for $H_0$ and $T$, we can infer values for $c_b$ using linear wave theory with the dispersion relation. The function below does exactly that. Each step in the function is explained. Note that the value for $c_b$ depends on the angle of incidence."
   ]
  },
  {
   "cell_type": "code",
   "execution_count": null,
   "id": "66b0582a-eaee-459f-8e7a-7a45615e34cf",
   "metadata": {},
   "outputs": [],
   "source": [
    "# Maybe we don't distribute this function, and instead keep it private :-)\n",
    "\n",
    "def disper(w, h, g=9.8):\n",
    "    '''\n",
    "    DISPER  Linear dispersion relation.\n",
    "    \n",
    "    absolute error in k*h < 5.0e-16 for all k*h\n",
    "    \n",
    "    Syntax:\n",
    "    k = disper(w, h, [g])\n",
    "    \n",
    "    Input:\n",
    "    w = 2*pi/T, were T is wave period\n",
    "    h = water depth\n",
    "    g = gravity constant\n",
    "    \n",
    "    Output:\n",
    "    k = wave number\n",
    "    \n",
    "    Example\n",
    "    k = disper(2*pi/5,5,g = 9.81);\n",
    "    \n",
    "    Copyright notice\n",
    "    --------------------------------------------------------------------\n",
    "    Copyright (C) \n",
    "    G. Klopman, Delft Hydraulics, 6 Dec 1994\n",
    "    M. van der Lugt conversion to python, 11 Jan 2021\n",
    "    \n",
    "    '''    \n",
    "    #make sure numpy array\n",
    "    listType = type([1,2])\n",
    "    Type = type(w)\n",
    "\n",
    "    w = np.atleast_1d(w)\n",
    "    \n",
    "    #check to see if warning disappears\n",
    "    wNul = w==0\n",
    "    w[w==0] = np.nan\n",
    "\n",
    "    \n",
    "    w2 = w**2*h/g\n",
    "    q = w2 / (1-np.exp(-w2**(5/4)))**(2/5)\n",
    "    \n",
    "    for j in np.arange(0,2):\n",
    "        thq = np.tanh(q)\n",
    "        thq2 = 1-thq**2\n",
    "        aa = (1 - q*thq) * thq2\n",
    "        \n",
    "        #prevent warnings, we don't apply aa<0 anyway\n",
    "        aa[aa<0] = 0\n",
    "        \n",
    "        bb = thq + q*thq2\n",
    "        cc = q*thq - w2\n",
    "        \n",
    "        \n",
    "        D = bb**2-4*aa*cc\n",
    "        \n",
    "        # initialize argument with the exception\n",
    "        arg = -cc/bb\n",
    "        \n",
    "        # only execute operation on those entries where no division by 0 \n",
    "        ix = np.abs(aa*cc)>=1e-8*bb**2 \n",
    "        arg[ix] = (-bb[ix]+np.sqrt(D[ix]))/(2*aa[ix]) \n",
    "\n",
    "                \n",
    "        q = q + arg\n",
    "\n",
    "              \n",
    "    k = np.sign(w)*q/h\n",
    "    \n",
    "    #set 0 back to 0\n",
    "    k = np.where(wNul,0,k)\n",
    "\n",
    "    #if input was a list, return also as list\n",
    "    if Type==listType:\n",
    "        k = list(k)\n",
    "    elif len(k)==1:\n",
    "        k = k[0]\n",
    "        \n",
    "    return k"
   ]
  },
  {
   "cell_type": "code",
   "execution_count": null,
   "id": "0700682e-af25-4a7f-b88f-3d6a63925e64",
   "metadata": {},
   "outputs": [],
   "source": [
    "def find_cb(phi0, H0, T, \n",
    "            g=9.81, gamma=0.8, hb=np.arange(0.1, 5.0, 0.01),\n",
    "            print_report=False):\n",
    "    \"\"\"\n",
    "    Returns breaking wave celerity cb [m/s] for given:\n",
    "    - phi0 : angle of incidence [degrees]\n",
    "    - H0   : deep water wave height [m]\n",
    "    - T    : period [s]\n",
    "\n",
    "    The parameter hb_guess is used as guessed values for the breaking depth. \n",
    "    From this array, the best-fitting value is chosen in the end. You can adjust this\n",
    "    array to make estimates more accurate at the cost of computational efficiency. \n",
    "    \"\"\"\n",
    "    # First convert the angle of incidence to radians\n",
    "    phi_rad = phi0 / 360 * 2 * np.pi\n",
    "    \n",
    "    # We start with calculating deep water celerity, wavelength, and angular frequency\n",
    "    c0 = g * T / (2 * np.pi)\n",
    "    L0 = c0 * T\n",
    "    w  = T / (2 * np.pi)\n",
    "\n",
    "    # For every value of hb_guess, the wavenumber k is determined using the dispersion relation\n",
    "    k = disper(w, hb, g=g)  # Feel free to use your own implementation from week 2!\n",
    "\n",
    "    # Next we calculate the celerity and group celerity for each breaking depth\n",
    "    c = np.sqrt(g / k * np.tanh(k * hb))\n",
    "    n = 1/2 * (1 + (2 * k * hb) / (np.sinh(2 * k * hb)))\n",
    "    cg = n * c\n",
    "\n",
    "    # In order to correctly shoal the waves, we also need the deep water group celerity\n",
    "    n0 = 1/2\n",
    "    cg0 = n0 * c0\n",
    "\n",
    "    # And to account for refraction we need the angle of incidence at breaking\n",
    "    phi = np.arcsin(np.sin(phi_rad) / c0 * c)\n",
    "    \n",
    "    # Shoaling & refraction coefficients\n",
    "    Ksh = np.sqrt(cg0 / cg)\n",
    "    Kref = np.sqrt(np.cos(phi_rad)/np.cos(phi))\n",
    "\n",
    "    # Wave heights Hb at depth hb\n",
    "    Hb = Ksh * Kref * H0\n",
    "\n",
    "    # We are looking for an hb where the breaker parameter is 0.8\n",
    "    # We can determine which value of hb in our array gets closest using the\n",
    "    # following line of code:\n",
    "    i = np.argmin(np.abs(Hb / hb - gamma))\n",
    "    Hb_pred, hb_pred = Hb[i], hb[i]\n",
    "\n",
    "    # Let's print what we found\n",
    "    if print_report:\n",
    "        print(f'predicted breaking depth: {hb_pred:.2f} m')\n",
    "        print(f'predicted breaking wave height: {Hb_pred:.2f} m')\n",
    "        print(f'gamma = {Hb_pred / hb_pred:.2f} [-]')\n",
    "\n",
    "    # And finally return the associated value for cb\n",
    "    return c[i]"
   ]
  },
  {
   "cell_type": "markdown",
   "id": "d25551d4-86b1-4bdf-adf1-1905fe48a54d",
   "metadata": {},
   "source": [
    "Let's check that it works. The cell below shows that for an offshore wave height of 2 m, a period of 7 s, and a angle of incidence of 5 degrees, we get a $c_b$ of 4.92 m/s. You can check that this is in reasonable agreement with Example 8.1 in the book."
   ]
  },
  {
   "cell_type": "code",
   "execution_count": null,
   "id": "dc573eba-306b-47fd-a278-94bf912861a7",
   "metadata": {},
   "outputs": [],
   "source": [
    "phi0 = 5  # degrees\n",
    "H0 = 2  # m\n",
    "T = 7  # s\n",
    "\n",
    "print(f'cb: {find_cb(phi0, H0, T, print_report=True):.2f}')"
   ]
  },
  {
   "cell_type": "markdown",
   "id": "9053a9b2-e412-4303-9fc6-9980918625c0",
   "metadata": {},
   "source": [
    "Now that we have this function, we can calculate a breaking wave celerity for each angle of incidence."
   ]
  },
  {
   "cell_type": "code",
   "execution_count": null,
   "id": "9a9cda92-3599-4ada-bb7f-51c96b565ba9",
   "metadata": {},
   "outputs": [],
   "source": [
    "# Set the range for which we want to calculate cb\n",
    "phi_array = np.arange(-80, 80, 1)\n",
    "\n",
    "# Initialize cb array\n",
    "cb_array  = np.zeros(phi_array.shape)\n",
    "\n",
    "# Loop through each phi and compute associated value for cb\n",
    "for i in range(len(phi_array)):\n",
    "    cb_array[i] = find_cb(phi_array[i], H0, T)"
   ]
  },
  {
   "cell_type": "markdown",
   "id": "5be28a22-f0d9-48a2-a57c-ef8661d7dc18",
   "metadata": {},
   "source": [
    "With cb, we can calculate our transport $S$ as a function of $\\phi$, which means we can generate an ($S$,$\\phi$)-curve! \n",
    "\n",
    "Remember that we can use the CERC formulation of Equation 8.10 for this. We use typical values of $K=0.7$, $p=0.4$, and $s=2.65$. \n",
    "\n",
    "Finish the equation below to compute the bulk sediment transport S."
   ]
  },
  {
   "cell_type": "code",
   "execution_count": null,
   "id": "df6aa53b-e8a4-4ad7-a61c-4c78dfa02f85",
   "metadata": {},
   "outputs": [],
   "source": [
    "def CERC(cb, phi0, H0,\n",
    "         K=0.7,\n",
    "         s=2.65,\n",
    "         p=0.4\n",
    "        ):\n",
    "    \n",
    "    S = K / (32 * (s - 1) * (1 - p)) * cb * np.sin(2*(phi0 / 360 * 2 * np.pi)) * H0**2\n",
    "\n",
    "    return S"
   ]
  },
  {
   "cell_type": "code",
   "execution_count": null,
   "id": "8abe9297-7b89-4637-aec1-bef9b7eb7b19",
   "metadata": {},
   "outputs": [],
   "source": [
    "S = CERC(cb_array, phi_array, H0)"
   ]
  },
  {
   "cell_type": "code",
   "execution_count": null,
   "id": "7f021d5d-76a1-4d8e-bb48-3769fed84ec7",
   "metadata": {},
   "outputs": [],
   "source": [
    "warnings.filterwarnings(\"ignore\")\n",
    "logging.getLogger().setLevel(logging.ERROR)\n",
    "\n",
    "(hv.Curve((phi_array, S)) * hv.HLine(0).opts(color='black') * hv.VLine(0).opts(color='black')).opts(xlabel='angle [degrees]', ylabel='S [m3/s]', title='(S, phi)-curve', width=800, height=400, show_grid=True)"
   ]
  },
  {
   "cell_type": "markdown",
   "id": "cab1b23d-d3ec-4829-b113-efd18fc68a5a",
   "metadata": {},
   "source": [
    "Using this plot and the code above, try to answer the questions below."
   ]
  },
  {
   "cell_type": "code",
   "execution_count": null,
   "id": "f7131b7b-5141-4145-aa94-58e8f52c6158",
   "metadata": {},
   "outputs": [],
   "source": [
    "q1 = cd.QuestionFactory(questions[\"Q7-1\"]).serve()\n",
    "q2 = cd.QuestionFactory(questions[\"Q7-2\"]).serve()\n",
    "q3 = cd.QuestionFactory(questions[\"Q7-3\"]).serve()\n",
    "q4 = cd.QuestionFactory(questions[\"Q7-4\"]).serve()\n",
    "\n",
    "pn.Column(q1, q2, q3, q4)"
   ]
  },
  {
   "cell_type": "markdown",
   "id": "cb65adf9-76b1-45a4-84cb-99710cd5fcbb",
   "metadata": {},
   "source": [
    "This is the end of the first part of this notebook."
   ]
  },
  {
   "cell_type": "markdown",
   "id": "0a01ade9-fb43-4876-8242-a83ba1b1c6e0",
   "metadata": {},
   "source": [
    "## Coastal evolution around a breakwater\n",
    "We will now use the ($S$,$\\phi$)-curve generated above to predict coastal evolution around a breakwater. Firstly, we need a wave climate. We use a simplified version of Table 8.2 from the book, with only two wave conditions:\n",
    "* Condition 1: $H_0=1.2$ m with $T=8$ s and $\\phi_0=40$ degrees. This condition occurs 15% of the time.\n",
    "* Condition 2: $H_0=0.6$ m with $T=12$ and $\\phi_0=-25$ degrees. This condition occurs 60% of the time.\n",
    "\n",
    "15% of the time, no significant waves are present. Remember that positive angles result in positive transport (see also the image in Table 8.2).\n",
    "\n",
    "Let's determine the average yearly transport for these conditions. For both conditions, we can determine the transport $S$."
   ]
  },
  {
   "cell_type": "code",
   "execution_count": null,
   "id": "1bac6a5c-b5e4-4c41-9188-592fe0a1e749",
   "metadata": {},
   "outputs": [],
   "source": [
    "# For condition 1\n",
    "cb1 = find_cb(40, 1.2, 8)\n",
    "S1  = CERC(cb1, 40, 1.2)\n",
    "\n",
    "# For condition 2\n",
    "cb2 = find_cb(-25, 0.6, 12)\n",
    "S2  = CERC(cb2, -25, 0.6)\n",
    "\n",
    "# These transports S are both given in m3/s. Remember that condition 1 occurs 15% of the year, and condition 2 occurs 60% of the year. For 1 year, the contributions are:\n",
    "S_total = (0.15 * S1 + 0.6 * S2) * 365.25 * 24 * 3600\n",
    "\n",
    "print(f'Contribution 1: {S1:.3f} m3/s')\n",
    "print(f'Contribution 2: {S2:.3f} m3/s')\n",
    "print(f'Total yearly transport: {S_total:.0f} m3/year')"
   ]
  },
  {
   "cell_type": "markdown",
   "id": "552c6d23-1976-4d05-a361-699e5b8f004b",
   "metadata": {},
   "source": [
    "This total transport is positive, which means the cumulative transport is in positive direction. But what does this actually mean for the coastal morphology? According to Equation 8.16, we know the coastline will evolve by:\n",
    "$$\\frac{\\partial Y}{\\partial t} + \\frac{1}{d} \\frac{\\partial S_x}{\\partial x}=0$$\n",
    "with $S_x$ the sediment transport in the $x$-direction. This equation means that the temporal evolution of the coastline position Y is determined by the *alongshore gradient* of the alongshore transport. For any location $x$ along the coastline, we can determine the coastline evolution through the following steps:\n",
    "1) Determine the local angle $\\phi$ of the coastline\n",
    "2) Determine the sediment transport distribution of the coastline, which is a function of the local angle $\\phi$\n",
    "3) Determine the alongshore gradient of the sediment transport distribution\n",
    "4) Determine the expected morphological change\n",
    "\n",
    "When repeated, for example through a numerical model, this strategy can help predict morphological changes. This is useful for predicting the shoreline evolution around human interventions as well! Let us for example consider a breakwater perpendicular to the shore. We will try to use a numerical model to determine the shoreline evolution. Don't worry too much about the numerical model for now, we will focus on the concepts here! You will learn more about the numerical modelling part in the Coastal Modelling unit of the Coastal Engineering track."
   ]
  },
  {
   "cell_type": "markdown",
   "id": "b7f6d5cf",
   "metadata": {},
   "source": [
    "Let's place the breakwater at $x=0$, and consider the domain $x \\leq 0$. The breakwater extends into the water from $y=0$ m to $y=100$ m. An overview of the situation is provided by running the cell below."
   ]
  },
  {
   "cell_type": "code",
   "execution_count": 3,
   "id": "62b2d711-b2c0-4396-b920-218a5e7489ab",
   "metadata": {},
   "outputs": [
    {
     "name": "stderr",
     "output_type": "stream",
     "text": [
      "c:\\Users\\khdeb\\mambaforge\\envs\\coastal\\Lib\\site-packages\\holoviews\\core\\data\\pandas.py:39: FutureWarning: Series.__getitem__ treating keys as positions is deprecated. In a future version, integer keys will always be treated as labels (consistent with DataFrame behavior). To access a value by position, use `ser.iloc[pos]`\n",
      "  return dataset.data.dtypes[idx].type\n",
      "c:\\Users\\khdeb\\mambaforge\\envs\\coastal\\Lib\\site-packages\\holoviews\\core\\data\\pandas.py:39: FutureWarning: Series.__getitem__ treating keys as positions is deprecated. In a future version, integer keys will always be treated as labels (consistent with DataFrame behavior). To access a value by position, use `ser.iloc[pos]`\n",
      "  return dataset.data.dtypes[idx].type\n"
     ]
    },
    {
     "data": {},
     "metadata": {},
     "output_type": "display_data"
    },
    {
     "data": {
      "application/vnd.holoviews_exec.v0+json": "",
      "text/html": [
       "<div id='29d160cf-5d9e-435c-9682-3847e1a68dcc'>\n",
       "  <div id=\"f7d59046-f56e-4e97-b368-83e51af4b998\" data-root-id=\"29d160cf-5d9e-435c-9682-3847e1a68dcc\" style=\"display: contents;\"></div>\n",
       "</div>\n",
       "<script type=\"application/javascript\">(function(root) {\n",
       "  var docs_json = {\"54c5381e-8033-4545-bc56-48e261cbc444\":{\"version\":\"3.3.4\",\"title\":\"Bokeh Application\",\"roots\":[{\"type\":\"object\",\"name\":\"Row\",\"id\":\"29d160cf-5d9e-435c-9682-3847e1a68dcc\",\"attributes\":{\"name\":\"Row00876\",\"tags\":[\"embedded\"],\"stylesheets\":[\"\\n:host(.pn-loading.pn-arc):before, .pn-loading.pn-arc:before {\\n  background-image: url(\\\"data:image/svg+xml;base64,PHN2ZyB4bWxucz0iaHR0cDovL3d3dy53My5vcmcvMjAwMC9zdmciIHN0eWxlPSJtYXJnaW46IGF1dG87IGJhY2tncm91bmQ6IG5vbmU7IGRpc3BsYXk6IGJsb2NrOyBzaGFwZS1yZW5kZXJpbmc6IGF1dG87IiB2aWV3Qm94PSIwIDAgMTAwIDEwMCIgcHJlc2VydmVBc3BlY3RSYXRpbz0ieE1pZFlNaWQiPiAgPGNpcmNsZSBjeD0iNTAiIGN5PSI1MCIgZmlsbD0ibm9uZSIgc3Ryb2tlPSIjYzNjM2MzIiBzdHJva2Utd2lkdGg9IjEwIiByPSIzNSIgc3Ryb2tlLWRhc2hhcnJheT0iMTY0LjkzMzYxNDMxMzQ2NDE1IDU2Ljk3Nzg3MTQzNzgyMTM4Ij4gICAgPGFuaW1hdGVUcmFuc2Zvcm0gYXR0cmlidXRlTmFtZT0idHJhbnNmb3JtIiB0eXBlPSJyb3RhdGUiIHJlcGVhdENvdW50PSJpbmRlZmluaXRlIiBkdXI9IjFzIiB2YWx1ZXM9IjAgNTAgNTA7MzYwIDUwIDUwIiBrZXlUaW1lcz0iMDsxIj48L2FuaW1hdGVUcmFuc2Zvcm0+ICA8L2NpcmNsZT48L3N2Zz4=\\\");\\n  background-size: auto calc(min(50%, 400px));\\n}\",{\"type\":\"object\",\"name\":\"ImportedStyleSheet\",\"id\":\"9273d405-de86-4db3-9926-71c58c2223f8\",\"attributes\":{\"url\":\"https://cdn.holoviz.org/panel/1.3.8/dist/css/loading.css\"}},{\"type\":\"object\",\"name\":\"ImportedStyleSheet\",\"id\":\"8e2fbb65-5276-44ab-9588-e104421ae425\",\"attributes\":{\"url\":\"https://cdn.holoviz.org/panel/1.3.8/dist/css/listpanel.css\"}},{\"type\":\"object\",\"name\":\"ImportedStyleSheet\",\"id\":\"3c2e878d-c9e7-44e3-8bf8-616212efe533\",\"attributes\":{\"url\":\"https://cdn.holoviz.org/panel/1.3.8/dist/bundled/theme/default.css\"}},{\"type\":\"object\",\"name\":\"ImportedStyleSheet\",\"id\":\"e42526a0-c4e5-42fc-87a2-37af63294527\",\"attributes\":{\"url\":\"https://cdn.holoviz.org/panel/1.3.8/dist/bundled/theme/native.css\"}}],\"min_width\":1200,\"margin\":0,\"sizing_mode\":\"stretch_width\",\"align\":\"start\",\"children\":[{\"type\":\"object\",\"name\":\"Spacer\",\"id\":\"ecb439fe-94d0-4d8b-a945-921e29fa8735\",\"attributes\":{\"name\":\"HSpacer00883\",\"stylesheets\":[\"\\n:host(.pn-loading.pn-arc):before, .pn-loading.pn-arc:before {\\n  background-image: url(\\\"data:image/svg+xml;base64,PHN2ZyB4bWxucz0iaHR0cDovL3d3dy53My5vcmcvMjAwMC9zdmciIHN0eWxlPSJtYXJnaW46IGF1dG87IGJhY2tncm91bmQ6IG5vbmU7IGRpc3BsYXk6IGJsb2NrOyBzaGFwZS1yZW5kZXJpbmc6IGF1dG87IiB2aWV3Qm94PSIwIDAgMTAwIDEwMCIgcHJlc2VydmVBc3BlY3RSYXRpbz0ieE1pZFlNaWQiPiAgPGNpcmNsZSBjeD0iNTAiIGN5PSI1MCIgZmlsbD0ibm9uZSIgc3Ryb2tlPSIjYzNjM2MzIiBzdHJva2Utd2lkdGg9IjEwIiByPSIzNSIgc3Ryb2tlLWRhc2hhcnJheT0iMTY0LjkzMzYxNDMxMzQ2NDE1IDU2Ljk3Nzg3MTQzNzgyMTM4Ij4gICAgPGFuaW1hdGVUcmFuc2Zvcm0gYXR0cmlidXRlTmFtZT0idHJhbnNmb3JtIiB0eXBlPSJyb3RhdGUiIHJlcGVhdENvdW50PSJpbmRlZmluaXRlIiBkdXI9IjFzIiB2YWx1ZXM9IjAgNTAgNTA7MzYwIDUwIDUwIiBrZXlUaW1lcz0iMDsxIj48L2FuaW1hdGVUcmFuc2Zvcm0+ICA8L2NpcmNsZT48L3N2Zz4=\\\");\\n  background-size: auto calc(min(50%, 400px));\\n}\",{\"id\":\"9273d405-de86-4db3-9926-71c58c2223f8\"},{\"id\":\"3c2e878d-c9e7-44e3-8bf8-616212efe533\"},{\"id\":\"e42526a0-c4e5-42fc-87a2-37af63294527\"}],\"margin\":0,\"sizing_mode\":\"stretch_width\",\"align\":\"start\"}},{\"type\":\"object\",\"name\":\"Figure\",\"id\":\"ced42de2-3a13-402e-ab79-cb3bfbf3a55b\",\"attributes\":{\"width\":1200,\"height\":400,\"margin\":[5,10],\"sizing_mode\":\"fixed\",\"align\":\"start\",\"x_range\":{\"type\":\"object\",\"name\":\"Range1d\",\"id\":\"4bfab2cd-3141-4dbb-a3ed-9c9d79e7676e\",\"attributes\":{\"tags\":[[[\"x\",\"x\",null]],[]],\"start\":-2500.0,\"end\":500.0,\"reset_start\":-2500.0,\"reset_end\":500.0}},\"y_range\":{\"type\":\"object\",\"name\":\"Range1d\",\"id\":\"f998ad49-a9c0-46ae-9653-ae8fb961c188\",\"attributes\":{\"tags\":[[[\"y\",\"y\",null]],{\"type\":\"map\",\"entries\":[[\"invert_yaxis\",false],[\"autorange\",false]]}],\"start\":-10.0,\"end\":110.0,\"reset_start\":-10.0,\"reset_end\":110.0}},\"x_scale\":{\"type\":\"object\",\"name\":\"LinearScale\",\"id\":\"e17339cf-8ac3-4ac5-af67-0fa988dddd26\"},\"y_scale\":{\"type\":\"object\",\"name\":\"LinearScale\",\"id\":\"82cff8a1-c336-4491-95e1-cc5e11f3ce6d\"},\"title\":{\"type\":\"object\",\"name\":\"Title\",\"id\":\"30fbe9c4-4424-43b8-a58e-0ddd906ace2c\",\"attributes\":{\"text_color\":\"black\",\"text_font_size\":\"12pt\"}},\"renderers\":[{\"type\":\"object\",\"name\":\"GlyphRenderer\",\"id\":\"5853f096-7f1a-49ab-b64e-c30fbdcae0cd\",\"attributes\":{\"name\":\"Breakwater\",\"data_source\":{\"type\":\"object\",\"name\":\"ColumnDataSource\",\"id\":\"2593025e-fd41-4a20-a6ec-23787c2eff92\",\"attributes\":{\"selected\":{\"type\":\"object\",\"name\":\"Selection\",\"id\":\"01984006-7618-4054-9149-4696350c13fd\",\"attributes\":{\"indices\":[],\"line_indices\":[]}},\"selection_policy\":{\"type\":\"object\",\"name\":\"UnionRenderers\",\"id\":\"8fcb0fea-6f52-46f3-b2ab-132f9395ae3d\"},\"data\":{\"type\":\"map\",\"entries\":[[\"x\",{\"type\":\"ndarray\",\"array\":{\"type\":\"bytes\",\"data\":\"AAAAAAAAAAA=\"},\"shape\":[2],\"dtype\":\"int32\",\"order\":\"little\"}],[\"y\",{\"type\":\"ndarray\",\"array\":{\"type\":\"bytes\",\"data\":\"AAAAAGQAAAA=\"},\"shape\":[2],\"dtype\":\"int32\",\"order\":\"little\"}]]}}},\"view\":{\"type\":\"object\",\"name\":\"CDSView\",\"id\":\"dcee9248-42d9-47cc-bdd3-345e0374ce29\",\"attributes\":{\"filter\":{\"type\":\"object\",\"name\":\"AllIndices\",\"id\":\"1d11281d-1a79-4938-8e12-4629a8f931e0\"}}},\"glyph\":{\"type\":\"object\",\"name\":\"Line\",\"id\":\"0692dd18-6bc6-40fe-8d16-7064032fc68c\",\"attributes\":{\"tags\":[\"apply_ranges\"],\"x\":{\"type\":\"field\",\"field\":\"x\"},\"y\":{\"type\":\"field\",\"field\":\"y\"},\"line_width\":2}},\"selection_glyph\":{\"type\":\"object\",\"name\":\"Line\",\"id\":\"71c66c3e-d36e-4e5c-a5c6-b04055b319b5\",\"attributes\":{\"tags\":[\"apply_ranges\"],\"x\":{\"type\":\"field\",\"field\":\"x\"},\"y\":{\"type\":\"field\",\"field\":\"y\"},\"line_width\":2}},\"nonselection_glyph\":{\"type\":\"object\",\"name\":\"Line\",\"id\":\"195e3a00-d5c5-4f14-8c5b-84cb9698f08c\",\"attributes\":{\"tags\":[\"apply_ranges\"],\"x\":{\"type\":\"field\",\"field\":\"x\"},\"y\":{\"type\":\"field\",\"field\":\"y\"},\"line_alpha\":0.1,\"line_width\":2}},\"muted_glyph\":{\"type\":\"object\",\"name\":\"Line\",\"id\":\"ed292dce-9fde-461e-908b-cc1d695e133c\",\"attributes\":{\"tags\":[\"apply_ranges\"],\"x\":{\"type\":\"field\",\"field\":\"x\"},\"y\":{\"type\":\"field\",\"field\":\"y\"},\"line_alpha\":0.2,\"line_width\":2}}}},{\"type\":\"object\",\"name\":\"GlyphRenderer\",\"id\":\"ecf6117d-5ed4-494a-8609-c269dd66823a\",\"attributes\":{\"name\":\"Shoreline\",\"data_source\":{\"type\":\"object\",\"name\":\"ColumnDataSource\",\"id\":\"529d23eb-a3c4-4c3f-b403-14ea6f794e3a\",\"attributes\":{\"selected\":{\"type\":\"object\",\"name\":\"Selection\",\"id\":\"4f1a198c-b5c4-45eb-8680-dad5c4f63275\",\"attributes\":{\"indices\":[],\"line_indices\":[]}},\"selection_policy\":{\"type\":\"object\",\"name\":\"UnionRenderers\",\"id\":\"b805bd51-46b8-49d3-85e5-da5bc1c42030\"},\"data\":{\"type\":\"map\",\"entries\":[[\"x\",{\"type\":\"ndarray\",\"array\":{\"type\":\"bytes\",\"data\":\"PPb///QBAAA=\"},\"shape\":[2],\"dtype\":\"int32\",\"order\":\"little\"}],[\"y\",{\"type\":\"ndarray\",\"array\":{\"type\":\"bytes\",\"data\":\"AAAAAAAAAAA=\"},\"shape\":[2],\"dtype\":\"int32\",\"order\":\"little\"}]]}}},\"view\":{\"type\":\"object\",\"name\":\"CDSView\",\"id\":\"e4fceb35-fccd-4aa3-852d-8653b9d1e109\",\"attributes\":{\"filter\":{\"type\":\"object\",\"name\":\"AllIndices\",\"id\":\"92e4f22e-f778-49e4-8c05-21b83f772b4c\"}}},\"glyph\":{\"type\":\"object\",\"name\":\"Line\",\"id\":\"5401190a-2181-4b39-a98d-b53ad88a63a8\",\"attributes\":{\"tags\":[\"apply_ranges\"],\"x\":{\"type\":\"field\",\"field\":\"x\"},\"y\":{\"type\":\"field\",\"field\":\"y\"},\"line_color\":\"#D2B48C\",\"line_width\":2}},\"selection_glyph\":{\"type\":\"object\",\"name\":\"Line\",\"id\":\"b5ea7245-0327-4cf1-b17c-a473dd71728e\",\"attributes\":{\"tags\":[\"apply_ranges\"],\"x\":{\"type\":\"field\",\"field\":\"x\"},\"y\":{\"type\":\"field\",\"field\":\"y\"},\"line_color\":\"#D2B48C\",\"line_width\":2}},\"nonselection_glyph\":{\"type\":\"object\",\"name\":\"Line\",\"id\":\"55f34294-f59d-439f-971b-770457adf130\",\"attributes\":{\"tags\":[\"apply_ranges\"],\"x\":{\"type\":\"field\",\"field\":\"x\"},\"y\":{\"type\":\"field\",\"field\":\"y\"},\"line_color\":\"#D2B48C\",\"line_alpha\":0.1,\"line_width\":2}},\"muted_glyph\":{\"type\":\"object\",\"name\":\"Line\",\"id\":\"4be08952-255f-4eb4-a7f4-1022293646ac\",\"attributes\":{\"tags\":[\"apply_ranges\"],\"x\":{\"type\":\"field\",\"field\":\"x\"},\"y\":{\"type\":\"field\",\"field\":\"y\"},\"line_color\":\"#D2B48C\",\"line_alpha\":0.2,\"line_width\":2}}}}],\"toolbar\":{\"type\":\"object\",\"name\":\"Toolbar\",\"id\":\"07d3e91a-9e96-48f1-a658-f101511b4ebc\",\"attributes\":{\"tools\":[{\"type\":\"object\",\"name\":\"WheelZoomTool\",\"id\":\"e441c81c-11b2-420a-8de4-ac85b0496c3f\",\"attributes\":{\"tags\":[\"hv_created\"],\"renderers\":\"auto\",\"zoom_together\":\"none\"}},{\"type\":\"object\",\"name\":\"SaveTool\",\"id\":\"591e5c68-c984-497a-b887-2b7c425d855d\"},{\"type\":\"object\",\"name\":\"PanTool\",\"id\":\"ed9686eb-0a4c-411b-9298-20ff73bc09e1\"},{\"type\":\"object\",\"name\":\"BoxZoomTool\",\"id\":\"cfa01d9e-a86b-409d-9a7f-804b50b35f8f\",\"attributes\":{\"overlay\":{\"type\":\"object\",\"name\":\"BoxAnnotation\",\"id\":\"e28136dc-02a6-4980-9eb5-2f8fcf6b9b4c\",\"attributes\":{\"syncable\":false,\"level\":\"overlay\",\"visible\":false,\"left\":{\"type\":\"number\",\"value\":\"nan\"},\"right\":{\"type\":\"number\",\"value\":\"nan\"},\"top\":{\"type\":\"number\",\"value\":\"nan\"},\"bottom\":{\"type\":\"number\",\"value\":\"nan\"},\"left_units\":\"canvas\",\"right_units\":\"canvas\",\"top_units\":\"canvas\",\"bottom_units\":\"canvas\",\"line_color\":\"black\",\"line_alpha\":1.0,\"line_width\":2,\"line_dash\":[4,4],\"fill_color\":\"lightgrey\",\"fill_alpha\":0.5}}}},{\"type\":\"object\",\"name\":\"ResetTool\",\"id\":\"2211ccfb-5011-4b19-8feb-9c69c50cf66d\"}],\"active_drag\":{\"id\":\"ed9686eb-0a4c-411b-9298-20ff73bc09e1\"},\"active_scroll\":{\"id\":\"e441c81c-11b2-420a-8de4-ac85b0496c3f\"}}},\"left\":[{\"type\":\"object\",\"name\":\"LinearAxis\",\"id\":\"c4b223f8-9389-4a86-b35c-60acc481473a\",\"attributes\":{\"ticker\":{\"type\":\"object\",\"name\":\"BasicTicker\",\"id\":\"6e81f1a5-c7bf-4aa5-ba01-0edc2eb9df26\",\"attributes\":{\"mantissas\":[1,2,5]}},\"formatter\":{\"type\":\"object\",\"name\":\"BasicTickFormatter\",\"id\":\"62598800-421d-4489-ae88-eb2161970225\"},\"axis_label\":\"cross-shore position [m]\",\"major_label_policy\":{\"type\":\"object\",\"name\":\"AllLabels\",\"id\":\"95005d5c-691a-4bf9-a219-a1a7cf6af101\"}}}],\"below\":[{\"type\":\"object\",\"name\":\"LinearAxis\",\"id\":\"35637d1a-0e58-4738-ade9-06d8dd481fde\",\"attributes\":{\"ticker\":{\"type\":\"object\",\"name\":\"BasicTicker\",\"id\":\"a0ce763a-2d04-48f4-a633-505fad2cc2a5\",\"attributes\":{\"mantissas\":[1,2,5]}},\"formatter\":{\"type\":\"object\",\"name\":\"BasicTickFormatter\",\"id\":\"afe68bff-82e8-439d-a8ef-1e138e030403\"},\"axis_label\":\"alongshore position [m]\",\"major_label_policy\":{\"type\":\"object\",\"name\":\"AllLabels\",\"id\":\"4e4ee30b-16e4-498c-a80e-e09532691751\"}}}],\"center\":[{\"type\":\"object\",\"name\":\"Grid\",\"id\":\"e5b21a4a-d436-48b9-b344-a3825a002a5c\",\"attributes\":{\"axis\":{\"id\":\"35637d1a-0e58-4738-ade9-06d8dd481fde\"},\"grid_line_color\":null}},{\"type\":\"object\",\"name\":\"Grid\",\"id\":\"160d07e3-494e-41f7-830b-4f5f6a8ab416\",\"attributes\":{\"dimension\":1,\"axis\":{\"id\":\"c4b223f8-9389-4a86-b35c-60acc481473a\"},\"grid_line_color\":null}},{\"type\":\"object\",\"name\":\"Legend\",\"id\":\"9c791d70-45a2-4dd0-bf93-004aa49cad55\",\"attributes\":{\"location\":\"top_left\",\"click_policy\":\"mute\",\"items\":[{\"type\":\"object\",\"name\":\"LegendItem\",\"id\":\"988a464c-b760-4d54-876b-23efd8bcf5e3\",\"attributes\":{\"label\":{\"type\":\"value\",\"value\":\"Breakwater\"},\"renderers\":[{\"id\":\"5853f096-7f1a-49ab-b64e-c30fbdcae0cd\"}]}},{\"type\":\"object\",\"name\":\"LegendItem\",\"id\":\"cef39d65-292d-4e95-9c5b-a8e6ca500f0f\",\"attributes\":{\"label\":{\"type\":\"value\",\"value\":\"Shoreline\"},\"renderers\":[{\"id\":\"ecf6117d-5ed4-494a-8609-c269dd66823a\"}]}}]}}],\"min_border_top\":10,\"min_border_bottom\":10,\"min_border_left\":10,\"min_border_right\":10,\"output_backend\":\"webgl\"}},{\"type\":\"object\",\"name\":\"Spacer\",\"id\":\"a4f6bc12-c3d6-4256-82c3-b53b1b183168\",\"attributes\":{\"name\":\"HSpacer00884\",\"stylesheets\":[\"\\n:host(.pn-loading.pn-arc):before, .pn-loading.pn-arc:before {\\n  background-image: url(\\\"data:image/svg+xml;base64,PHN2ZyB4bWxucz0iaHR0cDovL3d3dy53My5vcmcvMjAwMC9zdmciIHN0eWxlPSJtYXJnaW46IGF1dG87IGJhY2tncm91bmQ6IG5vbmU7IGRpc3BsYXk6IGJsb2NrOyBzaGFwZS1yZW5kZXJpbmc6IGF1dG87IiB2aWV3Qm94PSIwIDAgMTAwIDEwMCIgcHJlc2VydmVBc3BlY3RSYXRpbz0ieE1pZFlNaWQiPiAgPGNpcmNsZSBjeD0iNTAiIGN5PSI1MCIgZmlsbD0ibm9uZSIgc3Ryb2tlPSIjYzNjM2MzIiBzdHJva2Utd2lkdGg9IjEwIiByPSIzNSIgc3Ryb2tlLWRhc2hhcnJheT0iMTY0LjkzMzYxNDMxMzQ2NDE1IDU2Ljk3Nzg3MTQzNzgyMTM4Ij4gICAgPGFuaW1hdGVUcmFuc2Zvcm0gYXR0cmlidXRlTmFtZT0idHJhbnNmb3JtIiB0eXBlPSJyb3RhdGUiIHJlcGVhdENvdW50PSJpbmRlZmluaXRlIiBkdXI9IjFzIiB2YWx1ZXM9IjAgNTAgNTA7MzYwIDUwIDUwIiBrZXlUaW1lcz0iMDsxIj48L2FuaW1hdGVUcmFuc2Zvcm0+ICA8L2NpcmNsZT48L3N2Zz4=\\\");\\n  background-size: auto calc(min(50%, 400px));\\n}\",{\"id\":\"9273d405-de86-4db3-9926-71c58c2223f8\"},{\"id\":\"3c2e878d-c9e7-44e3-8bf8-616212efe533\"},{\"id\":\"e42526a0-c4e5-42fc-87a2-37af63294527\"}],\"margin\":0,\"sizing_mode\":\"stretch_width\",\"align\":\"start\"}}]}}],\"defs\":[{\"type\":\"model\",\"name\":\"ReactiveHTML1\"},{\"type\":\"model\",\"name\":\"FlexBox1\",\"properties\":[{\"name\":\"align_content\",\"kind\":\"Any\",\"default\":\"flex-start\"},{\"name\":\"align_items\",\"kind\":\"Any\",\"default\":\"flex-start\"},{\"name\":\"flex_direction\",\"kind\":\"Any\",\"default\":\"row\"},{\"name\":\"flex_wrap\",\"kind\":\"Any\",\"default\":\"wrap\"},{\"name\":\"justify_content\",\"kind\":\"Any\",\"default\":\"flex-start\"}]},{\"type\":\"model\",\"name\":\"FloatPanel1\",\"properties\":[{\"name\":\"config\",\"kind\":\"Any\",\"default\":{\"type\":\"map\"}},{\"name\":\"contained\",\"kind\":\"Any\",\"default\":true},{\"name\":\"position\",\"kind\":\"Any\",\"default\":\"right-top\"},{\"name\":\"offsetx\",\"kind\":\"Any\",\"default\":null},{\"name\":\"offsety\",\"kind\":\"Any\",\"default\":null},{\"name\":\"theme\",\"kind\":\"Any\",\"default\":\"primary\"},{\"name\":\"status\",\"kind\":\"Any\",\"default\":\"normalized\"}]},{\"type\":\"model\",\"name\":\"GridStack1\",\"properties\":[{\"name\":\"mode\",\"kind\":\"Any\",\"default\":\"warn\"},{\"name\":\"ncols\",\"kind\":\"Any\",\"default\":null},{\"name\":\"nrows\",\"kind\":\"Any\",\"default\":null},{\"name\":\"allow_resize\",\"kind\":\"Any\",\"default\":true},{\"name\":\"allow_drag\",\"kind\":\"Any\",\"default\":true},{\"name\":\"state\",\"kind\":\"Any\",\"default\":[]}]},{\"type\":\"model\",\"name\":\"drag1\",\"properties\":[{\"name\":\"slider_width\",\"kind\":\"Any\",\"default\":5},{\"name\":\"slider_color\",\"kind\":\"Any\",\"default\":\"black\"},{\"name\":\"value\",\"kind\":\"Any\",\"default\":50}]},{\"type\":\"model\",\"name\":\"click1\",\"properties\":[{\"name\":\"terminal_output\",\"kind\":\"Any\",\"default\":\"\"},{\"name\":\"debug_name\",\"kind\":\"Any\",\"default\":\"\"},{\"name\":\"clears\",\"kind\":\"Any\",\"default\":0}]},{\"type\":\"model\",\"name\":\"copy_to_clipboard1\",\"properties\":[{\"name\":\"fill\",\"kind\":\"Any\",\"default\":\"none\"},{\"name\":\"value\",\"kind\":\"Any\",\"default\":null}]},{\"type\":\"model\",\"name\":\"FastWrapper1\",\"properties\":[{\"name\":\"object\",\"kind\":\"Any\",\"default\":null},{\"name\":\"style\",\"kind\":\"Any\",\"default\":null}]},{\"type\":\"model\",\"name\":\"NotificationAreaBase1\",\"properties\":[{\"name\":\"js_events\",\"kind\":\"Any\",\"default\":{\"type\":\"map\"}},{\"name\":\"position\",\"kind\":\"Any\",\"default\":\"bottom-right\"},{\"name\":\"_clear\",\"kind\":\"Any\",\"default\":0}]},{\"type\":\"model\",\"name\":\"NotificationArea1\",\"properties\":[{\"name\":\"js_events\",\"kind\":\"Any\",\"default\":{\"type\":\"map\"}},{\"name\":\"notifications\",\"kind\":\"Any\",\"default\":[]},{\"name\":\"position\",\"kind\":\"Any\",\"default\":\"bottom-right\"},{\"name\":\"_clear\",\"kind\":\"Any\",\"default\":0},{\"name\":\"types\",\"kind\":\"Any\",\"default\":[{\"type\":\"map\",\"entries\":[[\"type\",\"warning\"],[\"background\",\"#ffc107\"],[\"icon\",{\"type\":\"map\",\"entries\":[[\"className\",\"fas fa-exclamation-triangle\"],[\"tagName\",\"i\"],[\"color\",\"white\"]]}]]},{\"type\":\"map\",\"entries\":[[\"type\",\"info\"],[\"background\",\"#007bff\"],[\"icon\",{\"type\":\"map\",\"entries\":[[\"className\",\"fas fa-info-circle\"],[\"tagName\",\"i\"],[\"color\",\"white\"]]}]]}]}]},{\"type\":\"model\",\"name\":\"Notification\",\"properties\":[{\"name\":\"background\",\"kind\":\"Any\",\"default\":null},{\"name\":\"duration\",\"kind\":\"Any\",\"default\":3000},{\"name\":\"icon\",\"kind\":\"Any\",\"default\":null},{\"name\":\"message\",\"kind\":\"Any\",\"default\":\"\"},{\"name\":\"notification_type\",\"kind\":\"Any\",\"default\":null},{\"name\":\"_destroyed\",\"kind\":\"Any\",\"default\":false}]},{\"type\":\"model\",\"name\":\"TemplateActions1\",\"properties\":[{\"name\":\"open_modal\",\"kind\":\"Any\",\"default\":0},{\"name\":\"close_modal\",\"kind\":\"Any\",\"default\":0}]},{\"type\":\"model\",\"name\":\"BootstrapTemplateActions1\",\"properties\":[{\"name\":\"open_modal\",\"kind\":\"Any\",\"default\":0},{\"name\":\"close_modal\",\"kind\":\"Any\",\"default\":0}]},{\"type\":\"model\",\"name\":\"MaterialTemplateActions1\",\"properties\":[{\"name\":\"open_modal\",\"kind\":\"Any\",\"default\":0},{\"name\":\"close_modal\",\"kind\":\"Any\",\"default\":0}]}]}};\n",
       "  var render_items = [{\"docid\":\"54c5381e-8033-4545-bc56-48e261cbc444\",\"roots\":{\"29d160cf-5d9e-435c-9682-3847e1a68dcc\":\"f7d59046-f56e-4e97-b368-83e51af4b998\"},\"root_ids\":[\"29d160cf-5d9e-435c-9682-3847e1a68dcc\"]}];\n",
       "  var docs = Object.values(docs_json)\n",
       "  if (!docs) {\n",
       "    return\n",
       "  }\n",
       "  const py_version = docs[0].version.replace('rc', '-rc.').replace('.dev', '-dev.')\n",
       "  function embed_document(root) {\n",
       "    var Bokeh = get_bokeh(root)\n",
       "    Bokeh.embed.embed_items_notebook(docs_json, render_items);\n",
       "    for (const render_item of render_items) {\n",
       "      for (const root_id of render_item.root_ids) {\n",
       "\tconst id_el = document.getElementById(root_id)\n",
       "\tif (id_el.children.length && (id_el.children[0].className === 'bk-root')) {\n",
       "\t  const root_el = id_el.children[0]\n",
       "\t  root_el.id = root_el.id + '-rendered'\n",
       "\t}\n",
       "      }\n",
       "    }\n",
       "  }\n",
       "  function get_bokeh(root) {\n",
       "    if (root.Bokeh === undefined) {\n",
       "      return null\n",
       "    } else if (root.Bokeh.version !== py_version) {\n",
       "      if (root.Bokeh.versions === undefined || !root.Bokeh.versions.has(py_version)) {\n",
       "\treturn null\n",
       "      }\n",
       "      return root.Bokeh.versions.get(py_version);\n",
       "    } else if (root.Bokeh.version === py_version) {\n",
       "      return root.Bokeh\n",
       "    }\n",
       "    return null\n",
       "  }\n",
       "  function is_loaded(root) {\n",
       "    var Bokeh = get_bokeh(root)\n",
       "    return (Bokeh != null && Bokeh.Panel !== undefined)\n",
       "  }\n",
       "  if (is_loaded(root)) {\n",
       "    embed_document(root);\n",
       "  } else {\n",
       "    var attempts = 0;\n",
       "    var timer = setInterval(function(root) {\n",
       "      if (is_loaded(root)) {\n",
       "        clearInterval(timer);\n",
       "        embed_document(root);\n",
       "      } else if (document.readyState == \"complete\") {\n",
       "        attempts++;\n",
       "        if (attempts > 200) {\n",
       "          clearInterval(timer);\n",
       "\t  var Bokeh = get_bokeh(root)\n",
       "\t  if (Bokeh == null || Bokeh.Panel == null) {\n",
       "            console.warn(\"Panel: ERROR: Unable to run Panel code because Bokeh or Panel library is missing\");\n",
       "\t  } else {\n",
       "\t    console.warn(\"Panel: WARNING: Attempting to render but not all required libraries could be resolved.\")\n",
       "\t    embed_document(root)\n",
       "\t  }\n",
       "        }\n",
       "      }\n",
       "    }, 25, root)\n",
       "  }\n",
       "})(window);</script>"
      ],
      "text/plain": [
       ":Overlay\n",
       "   .Curve.Breakwater :Curve   [x]   (y)\n",
       "   .Curve.Shoreline  :Curve   [x]   (y)"
      ]
     },
     "execution_count": 3,
     "metadata": {
      "application/vnd.holoviews_exec.v0+json": {
       "id": "29d160cf-5d9e-435c-9682-3847e1a68dcc"
      }
     },
     "output_type": "execute_result"
    }
   ],
   "source": [
    "breakwater = hv.Curve(((0,0),(0,100)), label='Breakwater').opts(color='black')\n",
    "shoreline  = hv.Curve(((-2500,500),(0,0)), label='Shoreline').opts(color='#D2B48C')\n",
    "(breakwater * shoreline).opts(width=1200, height=400, legend_position='top_left', xlabel='alongshore position [m]', ylabel='cross-shore position [m]')"
   ]
  },
  {
   "cell_type": "markdown",
   "id": "4ccf5398",
   "metadata": {},
   "source": [
    "Firstly, some assumptions need to be made. For simplicity, we will fix the depth of closure to a single value of $d=7$ m. Secondly, let's assume that the wave climate is given by the conditions described above (for which we already calculated the total yearly transport. We also need to impose initial and boundary conditions. These are thoroughly described by Equation 8.21 - 8.23. Briefly, for initial conditions, we assume a horizontal coastline (i.e $y=0$  along the coast). The following two boundary conditions are imposed:\n",
    "* $S_x = S$, for $x=-\\infty$ and for all $t$\n",
    "* $S_x = 0$, for $x=0$ and for all $t$\n",
    "\n",
    "With that, we are ready to do some modelling! We will look at a stretch of coast with a length of 10 km, with timesteps of 0.02 years.\n",
    "\n",
    "**Note:** be careful with changing numerical parameters in the cell below. A relatively small time step is required to ensure numerical stability, changing it could lead to wiggles in the solution. Do feel free to adjust the end time (20 years)!"
   ]
  },
  {
   "cell_type": "code",
   "execution_count": null,
   "id": "d5812ffd-d4ca-4cac-b53e-61d1605011f4",
   "metadata": {},
   "outputs": [],
   "source": [
    "# numerical parameters\n",
    "dx    = 100  # m\n",
    "xmin  = -2500\n",
    "dt    = 0.01  # year\n",
    "tend  = 20  # year\n",
    "\n",
    "# physical parameters\n",
    "d     = 7 #  m\n",
    "\n",
    "# space and time domain\n",
    "X = np.arange(xmin, 0+dx, dx)\n",
    "T = np.arange(0, tend, dt)\n",
    "\n",
    "print(\"x-shape: \", X.shape)\n",
    "print(\"t-shape: \", T.shape)"
   ]
  },
  {
   "cell_type": "markdown",
   "id": "5f3f5e2c-e413-4f2c-92cb-f3ca811abcd5",
   "metadata": {},
   "source": [
    "We create a quick function to determine the transport as a function of the angle of incidence relative to the angle of the coast. The angle phi is defined as positive when it induces positive transport, the same as the image in Table 8.2."
   ]
  },
  {
   "cell_type": "code",
   "execution_count": null,
   "id": "3dea3012-963b-4fd7-9ce9-a1d84fa433b6",
   "metadata": {},
   "outputs": [],
   "source": [
    "def get_S(phi):\n",
    "    \"\"\"\n",
    "    Returns yearly transport for angle phi [degrees]\n",
    "\n",
    "    Transport is already scaled for the relative occurrence of the two conditions.\n",
    "    \"\"\"\n",
    "    # For condition 1\n",
    "    cb1 = find_cb(40 - phi, 1.2, 8)\n",
    "    S1  = CERC(cb1, 40 - phi, 1.2)\n",
    "    \n",
    "    # For condition 2\n",
    "    cb2 = find_cb(-25 - phi, 0.6, 12)\n",
    "    S2  = CERC(cb2, -25 - phi, 0.6)\n",
    "    \n",
    "    return (0.15 * S1 + 0.6 * S2) * 365.25 * 24 * 3600"
   ]
  },
  {
   "cell_type": "markdown",
   "id": "8d9cf3fd-398f-4b1c-943b-ed6b04387743",
   "metadata": {},
   "source": [
    "**Note:** You do not need to understand the function used for numerical modelling. However, each step of the process is described qualitatively, so it might be interesting to go through the function once."
   ]
  },
  {
   "cell_type": "code",
   "execution_count": null,
   "id": "fc73b2ba-44f1-430a-bcf0-07e24385b126",
   "metadata": {},
   "outputs": [],
   "source": [
    "# Maybe don't include numerical model function? Students will spend the first few weeks of Sierd's course on this, so probably don't give students this code :-)\n",
    "\n",
    "def num_model_bw_updrift(X, T, d, print_info=False):\n",
    "\n",
    "    dx = X[1] - X[0]  # m\n",
    "    dt = T[1] - T[0]  # year\n",
    "\n",
    "    # spatial values \n",
    "    phi  = np.zeros(X.shape)\n",
    "    S    = np.zeros(X.shape)\n",
    "    dSdX = np.zeros(X.shape)\n",
    "    Y    = np.zeros((T.shape[0], X.shape[0]))  # 2D, to store all previous timesteps as well\n",
    "\n",
    "    for it in range(len(T)):  # loop through all time steps\n",
    "\n",
    "        for i in range(len(X)):  # loop through all locations to calculate alongshore transport\n",
    "\n",
    "            angle = phi[i]\n",
    "            S[i] = get_S(angle)\n",
    "\n",
    "        S[-1] = 0  # set last value to 0 (boundary condition at breakwater)\n",
    "\n",
    "        for i in range(1, len(X)-1):  # loop through all internal locations to calculate gradient alongshore transport\n",
    "\n",
    "            dSdX[i] = (S[i+1] - S[i-1]) / (2 * dx)\n",
    "\n",
    "        # Use up-/downwind scheme for boundaries\n",
    "        dSdX[0]  = (S[1] - S[0]) / dx\n",
    "        dSdX[-1] = (S[-1] - S[-2]) / dx\n",
    "\n",
    "        dYdt = -1/d * dSdX  # from Equation 8.16\n",
    "        Y[it] = Y[it-1] + dYdt * dt * 0.1  # superposition change with previous coastline\n",
    "\n",
    "        for i in range(1, len(X)-1):  # loop through all internal locations to update the angles of the coastline\n",
    "            phi[i] = np.arctan((Y[it, i+1] - Y[it, i-1]) / (2*dx)) * 360 / (2 * np.pi)\n",
    "        phi[0] = np.arctan((Y[it, 1] - Y[it, 0]) / dx) * 360 / (2 * np.pi)\n",
    "        phi[-1] = np.arctan((Y[it, -1] - Y[it, -2]) / dx) * 360 / (2 * np.pi)\n",
    "\n",
    "    return Y"
   ]
  },
  {
   "cell_type": "code",
   "execution_count": null,
   "id": "99a2f9f7-959c-4d69-802f-28740069a67a",
   "metadata": {},
   "outputs": [],
   "source": [
    "# Running this cell may take a minute. In order to ensure numerical stability for the shoreline angle we need a relatively small time step.\n",
    "\n",
    "Y_t = num_model_bw_updrift(X, T, d)"
   ]
  },
  {
   "cell_type": "markdown",
   "id": "292316f9-3198-4b3c-be18-03d209303745",
   "metadata": {},
   "source": [
    "Let's plot the results for a selection of years. You can modify which years to display if you want. Each line represents the coastline after a certain amount of years."
   ]
  },
  {
   "cell_type": "code",
   "execution_count": null,
   "id": "c09959fd-d39a-406c-9151-869d84e9346d",
   "metadata": {},
   "outputs": [],
   "source": [
    "curve = hv.Curve(((),()))\n",
    "\n",
    "years = [1, 2, 3, 4, 5, 20]\n",
    "# years = np.arange(0, 21, 1)\n",
    "\n",
    "for year in years:\n",
    "\n",
    "    id = np.argmin(np.abs(T - year))\n",
    "    \n",
    "    curve *= hv.Curve((X, Y_t[id]), label=f'Year = {year}') \n",
    "\n",
    "breakwater = hv.Curve(((0,0),(0,100)), label='Breakwater').opts(color='black')\n",
    "shoreline  = hv.Curve(((-2500,500),(0,0)), label='Shoreline').opts(color='#D2B48C')\n",
    "(curve * breakwater * shoreline).opts(width=1200, height=400, legend_position='top_left', xlabel='alongshore position [m]', ylabel='cross-shore position [m]')"
   ]
  },
  {
   "cell_type": "markdown",
   "id": "6b69ab57-38a6-47e7-9af0-3b35b8340252",
   "metadata": {},
   "source": [
    "We see that the angle the shoreline makes with the breakwater is fairly constant throughout the years. This is the angle that leads to zero alongshore transport for the given conditions! As a final step, let us plot the transport as a function of the *shoreline orientation*.\n",
    "\n",
    "**Note:** previously, we plotted the ($S$,$\\phi$)-curve for a single wave condition only. We will now include multiple wave conditions (the two used above). This will result in a different curve, as you will see."
   ]
  },
  {
   "cell_type": "code",
   "execution_count": null,
   "id": "a3ba55c0-d281-46f0-b168-077e8169e6db",
   "metadata": {},
   "outputs": [],
   "source": [
    "phi = np.linspace(-45, 120, 200)\n",
    "S = np.zeros(phi.shape)\n",
    "\n",
    "for i in range(len(phi)):\n",
    "    S[i] = get_S(phi[i])\n",
    "\n",
    "(hv.Curve((phi, S)) * hv.HLine(0).opts(color='black') * hv.VLine(0).opts(color='black')).opts(xlabel='angle [degrees]', ylabel='S [m3/year]', title='(S, phi)-curve', width=800, height=400, show_grid=True)"
   ]
  },
  {
   "cell_type": "markdown",
   "id": "9fce2867-0cf0-472b-9150-ec868d3275bd",
   "metadata": {},
   "source": [
    "Using the plots and code, try to answer the questions below."
   ]
  },
  {
   "cell_type": "code",
   "execution_count": null,
   "id": "308084c3-ef1f-4a63-9016-12bfa267d313",
   "metadata": {},
   "outputs": [],
   "source": [
    "q5 = cd.QuestionFactory(questions[\"Q7-5\"]).serve()\n",
    "q6 = cd.QuestionFactory(questions[\"Q7-6\"]).serve()\n",
    "q7 = cd.QuestionFactory(questions[\"Q7-7\"]).serve()\n",
    "q8 = cd.QuestionFactory(questions[\"Q7-8\"]).serve()\n",
    "\n",
    "pn.Column(q5, q6, q7, q8)"
   ]
  },
  {
   "cell_type": "markdown",
   "id": "a924d4f3-0aa7-4496-b84f-ea2edfe3e247",
   "metadata": {},
   "source": [
    "We have been working with very simple boundary conditions. We could improve this model further by using different boundary conditions. The questions below concern the improvement of boundary conditions."
   ]
  },
  {
   "cell_type": "code",
   "execution_count": null,
   "id": "66f711eb-ed69-4093-8303-7a89909d7a7b",
   "metadata": {},
   "outputs": [],
   "source": [
    "q9 = cd.QuestionFactory(questions[\"Q7-9\"]).serve()\n",
    "q10 = cd.QuestionFactory(questions[\"Q7-10\"]).serve()\n",
    "\n",
    "pn.Column(q9, q10)"
   ]
  },
  {
   "cell_type": "markdown",
   "id": "21b5799b-f284-4c0b-acaa-092eba70c5c0",
   "metadata": {},
   "source": [
    "We could extend this model with all sorts of additional functionality. Perhaps a first step would be to include the down-drift zone into the model. You will learn all about this in the Coastal Modelling unit! "
   ]
  },
  {
   "cell_type": "markdown",
   "id": "9751e401-6431-4760-bd81-3d501f7a217b",
   "metadata": {},
   "source": [
    "You have reached the end of this notebook."
   ]
  }
 ],
 "metadata": {
  "kernelspec": {
   "display_name": "Python 3 (ipykernel)",
   "language": "python",
   "name": "python3"
  },
  "language_info": {
   "codemirror_mode": {
    "name": "ipython",
    "version": 3
   },
   "file_extension": ".py",
   "mimetype": "text/x-python",
   "name": "python",
   "nbconvert_exporter": "python",
   "pygments_lexer": "ipython3",
   "version": "3.11.8"
  }
 },
 "nbformat": 4,
 "nbformat_minor": 5
}
