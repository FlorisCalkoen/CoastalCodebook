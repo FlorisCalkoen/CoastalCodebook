{
 "cells": [
  {
   "cell_type": "markdown",
   "id": "a57196e5-eb53-4eab-8bb2-b11c2a313e56",
   "metadata": {},
   "source": [
    "<figure>\n",
    "  <IMG SRC=\"https://raw.githubusercontent.com/mbakker7/exploratory_computing_with_python/master/tudelft_logo.png\" WIDTH=250 ALIGN=\"right\">\n",
    "</figure>\n",
    "\n",
    "Before you is the Jupiter Notebook of week 3."
   ]
  },
  {
   "cell_type": "code",
   "execution_count": null,
   "id": "fcad68ab-a006-40c5-93ad-5eb0a10e41e8",
   "metadata": {},
   "outputs": [],
   "source": [
    "%run Initialize/Week_3_Initialize.ipynb"
   ]
  },
  {
   "cell_type": "markdown",
   "id": "9a3b7540-f1c8-4188-9321-c162619892e7",
   "metadata": {},
   "source": [
    "## 3.1) Wave and tidal information"
   ]
  },
  {
   "cell_type": "raw",
   "id": "68cd6b43-9174-4862-a334-331835a54184",
   "metadata": {},
   "source": []
  },
  {
   "cell_type": "code",
   "execution_count": null,
   "id": "52d1bbf4-31a0-448d-86d8-a627eb550d41",
   "metadata": {},
   "outputs": [],
   "source": []
  },
  {
   "cell_type": "raw",
   "id": "d72a92e9-7ffb-45a9-9422-b41e2890ef77",
   "metadata": {},
   "source": [
    "part 1 wel, figure pagian 186,187etc/. Hoeven nog niet te progermeeren, moeten wel snappen met tootlje."
   ]
  },
  {
   "cell_type": "markdown",
   "id": "55200145-c32c-444e-b925-9e73e173cf2a",
   "metadata": {},
   "source": [
    "## 3.2) Wave transformation in the near-shore "
   ]
  },
  {
   "cell_type": "markdown",
   "id": "75e92d3c-f6b9-40c4-9fe1-3082483a6ff7",
   "metadata": {},
   "source": [
    "We continue on the application of the dispersion relationship in the cross-shore, which was discussed in week 3 and the Wave course."
   ]
  },
  {
   "cell_type": "markdown",
   "id": "17205ca8-dfd6-4622-8482-c64cfd445857",
   "metadata": {},
   "source": [
    "### 3.2.1) Normal indicent waves"
   ]
  },
  {
   "cell_type": "markdown",
   "id": "e5dd8576-5be2-40dd-916d-32d9d8453cfc",
   "metadata": {},
   "source": [
    "In Waves you should have programmed a function to compute the wave height along the cross-shore for normal incident waves. A similar function is defined below, together with a function to calculate the wavelength. "
   ]
  },
  {
   "cell_type": "code",
   "execution_count": null,
   "id": "a903c1f3-af10-46e5-bfc3-8d086a18923b",
   "metadata": {},
   "outputs": [],
   "source": [
    "def wave_length(T, h):\n",
    "    L = 9.81 * T**2 / (2 * np.pi)\n",
    "    L_all = [L]\n",
    "\n",
    "    for i in range(1500):\n",
    "        L = 9.81 * T**2 / (2 * np.pi) * np.tanh(2 * np.pi * h / L)\n",
    "        L_all.append(L)\n",
    "\n",
    "        # stop the iteration when the error is sufficiently small\n",
    "        if np.abs(L_all[-1] - L_all[-2]) < 0.0005:\n",
    "            break\n",
    "            \n",
    "    return round(L, 13)"
   ]
  },
  {
   "cell_type": "code",
   "execution_count": null,
   "id": "6b4b0fb3-dbac-40cd-b494-57a143b711b4",
   "metadata": {},
   "outputs": [],
   "source": [
    "def W3_normal_indicent_waves(H0, T, d0, slope):\n",
    "\n",
    "    # The environmental conditons\n",
    "    x = np.arange(0,900,.1)   # the horizontal axis\n",
    "    zbed = -(d0 - slope * x)  # bed elevation [m]\n",
    "    h = -zbed                 # still water depth [m]\n",
    "    h[h < 0] = 0              # no negative depths\n",
    "\n",
    "    # given:\n",
    "    gamma = 0.8               # wave breaking ratio\n",
    "    \n",
    "    # The wave characteristics at every location in the cross-section\n",
    "    L = np.array([wave_length(T, h) for h in h])  # The wave length\n",
    "    c = L/T                                       # The wave celerity\n",
    "    k = 2*np.pi/L                                 # The wave number\n",
    "    n = 0.5 + (k*h/np.sinh(2*k*h))                \n",
    "    cg = n*c                                      # The wave group celerity\n",
    "    Ksh = np.sqrt(cg[0]/cg)                       # The shoaling parameter  \n",
    "    H = H0*Ksh                                    # The wave height due to shoaling (only)\n",
    "    Hbreaking = gamma * h                         # The wave-breaking height\n",
    "    H[H>Hbreaking]=Hbreaking[H>Hbreaking]         # The wave height"
   ]
  },
  {
   "cell_type": "markdown",
   "id": "d226190a-a118-413e-87cb-8237866feeff",
   "metadata": {},
   "source": [
    "The graph below shows the outcome of the calculaten. Can you use it to answer the questions?"
   ]
  },
  {
   "cell_type": "code",
   "execution_count": null,
   "id": "aadfa6d4-c1f3-4cd6-a67e-0fba4638c737",
   "metadata": {},
   "outputs": [],
   "source": [
    "W3_plot_normal_indicent_waves()"
   ]
  },
  {
   "cell_type": "raw",
   "id": "cf5f44d1-465a-46bb-924e-6d49f470117e",
   "metadata": {},
   "source": [
    "1) Which method is used to calculate the wave length? --> iterative approach\n",
    "2) Various questions on the influence of H when parameters change."
   ]
  },
  {
   "cell_type": "markdown",
   "id": "42bbaabc-6522-4f63-91ef-82616506db41",
   "metadata": {},
   "source": [
    "### 3.2.2) Wave height for oblique waves"
   ]
  },
  {
   "cell_type": "markdown",
   "id": "7514bb6e-75a4-4580-aff7-6809c44fc018",
   "metadata": {},
   "source": [
    "The influence of refraction should also be considered for waves that approach the shore under an angle. This process should be considered in the functions for oblique waves, in contrast to normal incident waves. Can you include the impact of refraction on the wave height in the function below by completing the code at the dots? The function W3_plot_oblique_waves() will plot the wave height calculated in W3_oblique_waves(), together with the answer."
   ]
  },
  {
   "cell_type": "code",
   "execution_count": null,
   "id": "29643432-a621-4d60-97ff-567b4226f77f",
   "metadata": {},
   "outputs": [],
   "source": [
    "def W3_oblique_waves(H0, T, d0, slope):\n",
    "\n",
    "    # The environmental conditions\n",
    "    x = np.arange(0,900,.1)   # the horizontal axis\n",
    "    zbed = -(d0 - slope * x)  # bed elevation [m]\n",
    "    h = -zbed                 # still water depth [m]\n",
    "    h[h < 0] = 0              # no negative depths\n",
    "\n",
    "    # given conditions\n",
    "    gamma = 0.8               # wave breaking ratio\n",
    "    \n",
    "    # The wave characteristics at every location in the cross-section\n",
    "    L = np.array([wave_length(T, h) for h in h])  # The wavelength\n",
    "    c = L/T                                       # The wave celerity\n",
    "    k = 2*np.pi/L                                 # The wave number\n",
    "    n = 0.5 + (k*h/np.sinh(2*k*h))                \n",
    "    cg = n*c                                      # The wave group celerity\n",
    "    Ksh = np.sqrt(cg[0]/cg)                       # The shoaling parameter  \n",
    "    H = H0*Ksh                                    # The wave height due to shoaling (only)\n",
    "    Hbreaking = gamma * h                         # The wave-breaking height\n",
    "    H[H>Hbreaking]=Hbreaking[H>Hbreaking]         # Adjusting the wave height\n",
    "    H = ..."
   ]
  },
  {
   "cell_type": "code",
   "execution_count": null,
   "id": "3d5fc846-4186-4c8a-95dc-56d587e73d3d",
   "metadata": {},
   "outputs": [],
   "source": [
    "#W3_plot_oblique_waves()   "
   ]
  },
  {
   "cell_type": "markdown",
   "id": "a6835219-6247-45d7-a269-752c309909a5",
   "metadata": {},
   "source": [
    "### 3.2.3) radiation stresses for oblique waves"
   ]
  },
  {
   "cell_type": "raw",
   "id": "7f7921f8-b65e-47ef-b205-2f7bfa926993",
   "metadata": {},
   "source": [
    "Describe parameter, give how to calculate, ask to finish the function.\n",
    "    E= 1/8*1000*g*H**2                            # The wave energy\n",
    "    Sxx = (2*n-0.5)*E                             # ? Radiant stesses?\n",
    "\n",
    "adjust for oblique incident waves"
   ]
  },
  {
   "cell_type": "code",
   "execution_count": null,
   "id": "1b8e0c4f-f24d-4311-a366-42f84cbe41f9",
   "metadata": {},
   "outputs": [],
   "source": [
    "def W3_oblique_waves(H0, T, d0, slope):\n",
    "\n",
    "    # The environmental conditions\n",
    "    x = np.arange(0,900,.1)   # the horizontal axis\n",
    "    zbed = -(d0 - slope * x)  # bed elevation [m]\n",
    "    h = -zbed                 # still water depth [m]\n",
    "    h[h < 0] = 0              # no negative depths\n",
    "\n",
    "    # given conditions\n",
    "    gamma = 0.8               # wave breaking ratio\n",
    "    \n",
    "    # The wave characteristics at every location in the cross-section\n",
    "    L = np.array([wave_length(T, h) for h in h])  # The wavelength\n",
    "    c = L/T                                       # The wave celerity\n",
    "    k = 2*np.pi/L                                 # The wave number\n",
    "    n = 0.5 + (k*h/np.sinh(2*k*h))                \n",
    "    cg = n*c                                      # The wave group celerity\n",
    "    Ksh = np.sqrt(cg[0]/cg)                       # The shoaling parameter  \n",
    "    H = H0*Ksh                                    # The wave height due to shoaling (only)\n",
    "    Hbreaking = gamma * h                         # The wave-breaking height\n",
    "    H[H>Hbreaking]=Hbreaking[H>Hbreaking]         # Adjusting the wave height\n",
    "    \n",
    "    '''Complete the code here'''"
   ]
  },
  {
   "cell_type": "code",
   "execution_count": null,
   "id": "b1aa6e2b-95bd-4e49-b39e-2ee263be2339",
   "metadata": {},
   "outputs": [],
   "source": []
  },
  {
   "cell_type": "raw",
   "id": "4877cc39-712f-4539-8d3f-1eeb94cf1d36",
   "metadata": {},
   "source": [
    "1.\tContinue from the notebook in week 3 on Application of dispersion relationship in the cross-shore (could make sense to have it in the same notebook). \n",
    "2.\tProvide students with the code that they should have programmed in Waves to obtain the cross-shore distribution of H for normally incident waves.\n",
    "3.\tVisualize their answers\n",
    "4.\tAsk students to reflect on H(x) for different variables (slope, H0, gamma, T, mean water level) by means of multiple choice or multiple selection questions. In order to answer these questions let students vary their code in step 2. and redo step 3 (or if handier with sliders). For instance: which of the following changes in parameters will increase the width of the surf zone (give multiple answer options, more than one can be correct, for instance increase H, decrease slope)\n",
    "5.\tNow change to obliquely incident waves and ask students to add the effect of refraction in the code and replot H(x). \n",
    "6.\tAsk a reflective question about the effect of refraction (we will add this later)\n",
    "7.\tContinue with same wave conditions or repeat. Provide students with the code that they should have programmed in Waves to obtain the cross-shore distribution of Sxx. Ask them to adjust this for obliquely incident waves. \n",
    "8.\tVisualize their code\n",
    "9.\tProvide students with the code that they should have programmed to obtain the cross-shore distribution of mean water level eta (discretizing forward Euler from week 1.5 MUDE) and visualize this. Ask them to:\n",
    "a.\tAdjust this for obliquely incident waves. \n",
    "b.\tAdd the computation and plot of Fx as intermediate step. \n",
    "10.\tAsk some reflective questions (we will add these later)\n",
    "11.\tLet students add code and plot Syx and Fy (varying on the above code)\n",
    "12.\tAdd reflective questions\n",
    "13.\tLet students add code and plot V(x) according to Eq. 5.82\n",
    "14.\tAdd reflective question\n",
    "15.\tLet students add code and plot orbital velocity magnitude in cross-shore direction \n",
    "16.\tTo be detailed: provide code and plot for undertow velocity (Eq. 5.41, the latter needs an estimation of the roller energy dissipation and roller area, I will provide the equations)\n",
    "--> 16 Doet Judith uitdenken (dus voor nu evne)"
   ]
  },
  {
   "cell_type": "raw",
   "id": "c9b72d80-1bf1-4693-a1ef-a152395802c1",
   "metadata": {},
   "source": [
    "tot 2.7 computerlab, maak functies, daarna  reflective . what is the effect of ...\n",
    "refraction coeficient for refraction.  refractie op golfhoogte --> wordt kleiner\n",
    "3.1 gegeven, aanpassen... \n",
    "8) plot tegenoverelkaar.\n",
    "9) 3.3 (computerlab) eta --> pagina 215.  Fx --> daarna eta uitrekenenen.\n",
    "11) uit boek/slides. (voorkeur zelfde waar als slides.)"
   ]
  },
  {
   "cell_type": "code",
   "execution_count": null,
   "id": "5588ebbe-8d34-4bb9-8cd6-2350c0fb5b9d",
   "metadata": {},
   "outputs": [],
   "source": []
  },
  {
   "cell_type": "raw",
   "id": "3bf06788-3e36-43b1-8380-697d2988057e",
   "metadata": {},
   "source": []
  },
  {
   "cell_type": "code",
   "execution_count": null,
   "id": "b3b47a7c-339f-46db-a607-8293c85de50b",
   "metadata": {},
   "outputs": [],
   "source": []
  },
  {
   "cell_type": "raw",
   "id": "2f134374-25cf-4d5e-b889-989ed4bb5ec6",
   "metadata": {},
   "source": [
    "gebouw gesloten tot ma 8 januari"
   ]
  },
  {
   "cell_type": "code",
   "execution_count": null,
   "id": "271860fc-886d-4193-a3b7-a4adf2ea1715",
   "metadata": {},
   "outputs": [],
   "source": []
  },
  {
   "cell_type": "markdown",
   "id": "1091162f-11da-40d7-84ed-e21911f92e6a",
   "metadata": {},
   "source": [
    "# week 4"
   ]
  },
  {
   "cell_type": "raw",
   "id": "53970be3-e2b2-4f18-89df-14b0e7d18971",
   "metadata": {},
   "source": [
    "slide 21\n",
    "slide 22-> fluctuatie enegery golfgroepschaal (zelf codereren --> plot)\n",
    "slide 26, sxx --> formule foto\n",
    "als voor 9 januari klaar, laat weten.\n",
    "\n",
    "deze week status update. op 9e "
   ]
  },
  {
   "cell_type": "code",
   "execution_count": null,
   "id": "3206e466-84e8-450e-9552-eb5937bbf349",
   "metadata": {},
   "outputs": [],
   "source": []
  },
  {
   "cell_type": "code",
   "execution_count": null,
   "id": "211e97dc-15ac-40c1-a459-e5445e8cdf26",
   "metadata": {},
   "outputs": [],
   "source": []
  }
 ],
 "metadata": {
  "kernelspec": {
   "display_name": "Python 3 (ipykernel)",
   "language": "python",
   "name": "python3"
  },
  "language_info": {
   "codemirror_mode": {
    "name": "ipython",
    "version": 3
   },
   "file_extension": ".py",
   "mimetype": "text/x-python",
   "name": "python",
   "nbconvert_exporter": "python",
   "pygments_lexer": "ipython3",
   "version": "3.11.6"
  }
 },
 "nbformat": 4,
 "nbformat_minor": 5
}
