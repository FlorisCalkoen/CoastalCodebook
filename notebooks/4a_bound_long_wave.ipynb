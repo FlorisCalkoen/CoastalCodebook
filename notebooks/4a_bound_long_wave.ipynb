{
 "cells": [
  {
   "cell_type": "markdown",
   "id": "f3d741e9-49d7-4883-a38f-c92cfe5e28c3",
   "metadata": {},
   "source": [
    "# Bound long waves"
   ]
  },
  {
   "cell_type": "markdown",
   "id": "8416fbae-3e93-4859-b994-ae772de885ac",
   "metadata": {},
   "source": [
    "<figure>\n",
    "  <IMG SRC=\"https://raw.githubusercontent.com/mbakker7/exploratory_computing_with_python/master/tudelft_logo.png\" WIDTH=250 ALIGN=\"right\">\n",
    "</figure>"
   ]
  },
  {
   "cell_type": "code",
   "execution_count": null,
   "id": "c582dda6-554e-488c-a067-444adbf14179",
   "metadata": {},
   "outputs": [],
   "source": [
    "run Initialize/init_4a.ipynb"
   ]
  },
  {
   "cell_type": "markdown",
   "id": "e540699a-ae38-493c-93e9-619d9d992539",
   "metadata": {},
   "source": [
    "Welcome at the first part of week 4, were we use the expression of the wave envelope to compute the fluctuating part of the wave energy, radiation stress, and the bound long wave."
   ]
  },
  {
   "cell_type": "markdown",
   "id": "928be89c-c3dc-4d1e-8832-a68a90e692ba",
   "metadata": {},
   "source": [
    "## 1) Wave Envelope"
   ]
  },
  {
   "cell_type": "markdown",
   "id": "2571c7ef-9492-4e11-bd84-cc4a3689f829",
   "metadata": {},
   "source": [
    "We discussed the wave envelope in week 2 for two harmonic components with equal amplitude. We will continue here on the functions you made in week 2, for this wave envelope (envelope_t and envelope_x). Can you paste these in the envelope_eta_t and envelope_eta_x below? The envelope_eta_t(t) will describe the time series of the wave envelope, while the envelope_eta_x(x) will be used to calculate the surface elevation along a spatial axis. The function Show_W4_Q1 will check your functions' returned values and plot them on top of the components' surface elevation ($\\eta$)."
   ]
  },
  {
   "cell_type": "code",
   "execution_count": null,
   "id": "0c74f830-203c-432e-966f-391be3652861",
   "metadata": {},
   "outputs": [],
   "source": [
    "a1, a2 = 0.5, 0.5\n",
    "T1, T2 = 5, 6\n",
    "tp = 0  # the time point of interest for a spatial analysis\n",
    "xp = 0  # the spatial location of interest for a time analysis\n",
    "h = 50\n",
    "\n",
    "# These can be used to build your function.\n",
    "t = np.arange(0, 80, 5)\n",
    "x = np.arange(0, 350, 20)\n",
    "\n",
    "\n",
    "def envelope_eta_t(a1, a2, T1, T2, t, xp):\n",
    "    ...\n",
    "    return eta\n",
    "\n",
    "\n",
    "def envelope_eta_x(a1, a2, T1, T2, tp, x):\n",
    "    ...\n",
    "\n",
    "    return eta\n",
    "\n",
    "\n",
    "Show_W4_Q1()"
   ]
  },
  {
   "cell_type": "markdown",
   "id": "8a0e0ec1-7b46-4027-94f4-82599c81a6ec",
   "metadata": {},
   "source": [
    "## 2) Fluctuating wave energy (E)"
   ]
  },
  {
   "cell_type": "markdown",
   "id": "42740dad-9f9a-4cbe-a4af-4376c9ecc8f7",
   "metadata": {},
   "source": [
    "Can you use the expression of the wave envelope to compute the fluctuating part of the wave energy?"
   ]
  },
  {
   "cell_type": "code",
   "execution_count": null,
   "id": "f9025e58-c07e-49bd-8fe1-52c59f5561d6",
   "metadata": {},
   "outputs": [],
   "source": [
    "rho = 1025  # kg/m3\n",
    "\n",
    "\n",
    "def envelope_E_t(a1, a2, T1, T2, t, xp, rho):\n",
    "    eta = envelope_eta_t(a1, a2, T1, T2, t, xp)\n",
    "    ...\n",
    "    return E\n",
    "\n",
    "\n",
    "def envelope_E_x(a1, a2, T1, T2, t, xp, rho):\n",
    "    eta = envelope_eta_x(a1, a2, T1, T2, tp, x)\n",
    "    ...\n",
    "    return E\n",
    "\n",
    "\n",
    "Show_W4_Q2()"
   ]
  },
  {
   "cell_type": "markdown",
   "id": "4d8f2022-826f-47ab-89fc-dd991986eb9d",
   "metadata": {},
   "source": [
    "## 3) Fluctuating radiant stress (Sxx)"
   ]
  },
  {
   "cell_type": "markdown",
   "id": "42a815f1-d2ca-4f6b-aa7c-4d0944f4b810",
   "metadata": {},
   "source": [
    "Can you calculate the radiant stress (Sxx) that includes that effect of bound long waves? You may for this bound long wave assume that: \n",
    "\n",
    "\n",
    "\\begin{equation}\n",
    "\\tag{1}\n",
    "n = \\frac{c_g}{c_{average}}\n",
    "\\end{equation}\n",
    "\n",
    "\n",
    "\\begin{equation}\n",
    "\\tag{2}\n",
    "c_{average} =\\frac{c_1 + c_2}{2}\n",
    "\\end{equation}"
   ]
  },
  {
   "cell_type": "code",
   "execution_count": null,
   "id": "da50e870-9d73-4b35-839c-1a7adfdb5c7e",
   "metadata": {},
   "outputs": [],
   "source": [
    "def envelope_Sxx_t(a1, a2, T1, T2, t, xp, rho):\n",
    "    E = envelope_E_t(a1, a2, T1, T2, t, xp, rho)\n",
    "\n",
    "    ...\n",
    "\n",
    "    Sxx = ...\n",
    "\n",
    "    return Sxx\n",
    "\n",
    "\n",
    "envelope_Sxx_t(a1, a2, T1, T2, t, xp, rho)\n",
    "\n",
    "\n",
    "def envelope_Sxx_x(a1, a2, T1, T2, tp, x, rho):\n",
    "    E = envelope_E_x(a1, a2, T1, T2, tp, x, rho)\n",
    "\n",
    "    ...\n",
    "\n",
    "    Sxx = ...\n",
    "\n",
    "    return Sxx\n",
    "\n",
    "\n",
    "Show_W4_Q3()"
   ]
  },
  {
   "cell_type": "markdown",
   "id": "5c9bc0b0-8d07-4ccd-9bd5-606d933f6baf",
   "metadata": {},
   "source": [
    "## 4) Bound long wave"
   ]
  },
  {
   "cell_type": "markdown",
   "id": "9af4976c-9d35-4fdb-b6d7-0f982c58513a",
   "metadata": {},
   "source": [
    "The bound long wave surface elevation amplitude for this situation was derived by Longuet-Higgens and Stewart (1962). This is expression 3 below, and Eq. 3.134 in Coastal Morphodynamic modelling guide.\n",
    "\n",
    "\\begin{equation}\n",
    "\\tag{3}\n",
    "\\eta_b = \\frac{\\Delta k^2 ga^2 (2n-0.5)}{\\Delta \\omega^2-gh\\Delta k^2} = \\frac{-ga^2(2n-0.5)}{gh-\\frac{\\Delta \\omega^2}{\\Delta k^2}} = \\frac{-ga^2(2n-0.5)}{gh-c_g^2}\n",
    "\\end{equation}\n",
    "\n",
    "Due to the wave height variations in the group, the wave energy and radiation stresses vary in the group. This also that the set-down in the shoaling zone varies within the group, with the larger set-down under the higher waves in the group. This results in a mean water level fluctuation on the scale of the wave group with the largest depression under the highest waves in the group. This leads to a long wave motion, the so-called bound long wave, which is forced by the group and travels at the speed of this group. For a perfect bound long wave, the phase-shift between the long wave and the short-wave envelope is $\\pi$ ; the wave trough of the bound long waves coincides with the maximum of the wave envelope. This negative correlation changes to a positive correlation as the waves enter the surf zone. This can be understood from intermittent wave-breaking in the group, generating a time-varying set-up. See also section 5.8.2 in the textbook.\n",
    "\n",
    "Can you compute the bound long wave surface elevation amplitude? You can check your answer by running the cell and then pressing the button \"Check loaded values\". We recommend you write a function for this, which can be used in the follow-up question. "
   ]
  },
  {
   "cell_type": "code",
   "execution_count": null,
   "id": "2a08b8e7-27a5-4c5a-be35-c5ab1f2c62d1",
   "metadata": {},
   "outputs": [],
   "source": [
    "eta_b = None\n",
    "\n",
    "Check_W4_Q4()"
   ]
  },
  {
   "cell_type": "markdown",
   "id": "33b00757-5ff0-4123-ba1e-789fce1179f1",
   "metadata": {},
   "source": [
    "Can you calculate the temporal and spatial signals of the bound long wave? Show_W4_Q4() will plot the outcome on top of the surface elevation ($\\eta$) and the envelope."
   ]
  },
  {
   "cell_type": "code",
   "execution_count": null,
   "id": "fb3e7368-2928-45aa-b613-9cc249c773e3",
   "metadata": {},
   "outputs": [],
   "source": [
    "def boundwave_eta_t(a1, a2, T1, T2, t, xp, rho):\n",
    "    eta = ...\n",
    "    return eta\n",
    "\n",
    "\n",
    "def boundwave_eta_x(a1, a2, T1, T2, tp, x, rho):\n",
    "    eta = ...\n",
    "    return eta\n",
    "\n",
    "\n",
    "Show_W4_Q4()"
   ]
  },
  {
   "cell_type": "markdown",
   "id": "5037b055-acd7-4bf6-9999-20a52cbc67bf",
   "metadata": {},
   "source": [
    "You can see in the figure that the trough of the bound long wave coincides with the highest waves in the group. What would that mean for the direction of the orbital velocities of the bound long wave under the highest waves in the group? We are going to use this in chapter 7 to explain the role of long waves in cross-shore sediment transport."
   ]
  }
 ],
 "metadata": {
  "kernelspec": {
   "display_name": "Python 3 (ipykernel)",
   "language": "python",
   "name": "python3"
  },
  "language_info": {
   "codemirror_mode": {
    "name": "ipython",
    "version": 3
   },
   "file_extension": ".py",
   "mimetype": "text/x-python",
   "name": "python",
   "nbconvert_exporter": "python",
   "pygments_lexer": "ipython3",
   "version": "3.11.6"
  }
 },
 "nbformat": 4,
 "nbformat_minor": 5
}
