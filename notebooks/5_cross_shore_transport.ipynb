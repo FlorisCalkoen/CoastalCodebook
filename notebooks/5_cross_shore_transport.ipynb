{
 "cells": [
  {
   "cell_type": "code",
   "execution_count": null,
   "id": "5e606d71-8522-424c-afed-03c2c0446e4c",
   "metadata": {},
   "outputs": [],
   "source": [
    "# %run initialize/5_cross_shore_transport.ipynb"
   ]
  },
  {
   "cell_type": "markdown",
   "id": "968bd444-a7c0-44f6-8648-60b84b483abf",
   "metadata": {},
   "source": [
    "## First import some necessary packages"
   ]
  },
  {
   "cell_type": "code",
   "execution_count": null,
   "id": "7d6f5660-3939-4d95-b5bd-79b770efb391",
   "metadata": {},
   "outputs": [],
   "source": [
    "import os\n",
    "import pathlib\n",
    "\n",
    "import colorcet as cc\n",
    "import dask.dataframe as dd\n",
    "import geopandas as gpd\n",
    "import holoviews as hv\n",
    "import hvplot.pandas  # noqa: API import\n",
    "import hvplot.xarray  # noqa: API import\n",
    "import ipyleaflet\n",
    "import numpy as np\n",
    "import pandas as pd\n",
    "import panel as pn\n",
    "\n",
    "from random import shuffle, uniform\n",
    "\n",
    "import IPython\n",
    "import ipywidgets as widgets\n",
    "import matplotlib.animation as animation\n",
    "import matplotlib.pyplot as plt\n",
    "from IPython.display import HTML, display\n",
    "from ipywidgets import interact\n",
    "from matplotlib.animation import FuncAnimation\n",
    "from matplotlib.ticker import MultipleLocator"
   ]
  },
  {
   "cell_type": "markdown",
   "id": "0ab15b81-15ce-4f27-8f82-04338a14cfb9",
   "metadata": {},
   "source": [
    "# (Cross-shore) sediment transport\n",
    "Welcome to the notebook of week 5! This notebook covers chapter 6 and 7 from the book. The layout of this notebook is as follows:\n",
    "* Modes of sediment transport (Chapter 6)\n",
    "* Net transport for secondary flow (Chapter 6)\n",
    "* Equillibrium states (Chapter 7)\n",
    "* Beach states (Chapter 7)\n",
    "\n",
    "Each section contains questions for you to practice with (cross-shore) sediment transport. Let's get started!"
   ]
  },
  {
   "cell_type": "markdown",
   "id": "af8b08d4-5d25-43a0-95ad-d7d7f3a2a43e",
   "metadata": {},
   "source": [
    "## Modes of sediment transport"
   ]
  },
  {
   "cell_type": "code",
   "execution_count": null,
   "id": "88beaa75-eb1c-4434-bb04-f11ed63c8ec0",
   "metadata": {},
   "outputs": [],
   "source": []
  },
  {
   "cell_type": "code",
   "execution_count": null,
   "id": "b2dd9273-ff8e-40ef-bcc9-2f4de48f2759",
   "metadata": {},
   "outputs": [],
   "source": []
  },
  {
   "cell_type": "code",
   "execution_count": null,
   "id": "7371762f-02f9-4a04-99fd-587ba0240f17",
   "metadata": {},
   "outputs": [],
   "source": []
  },
  {
   "cell_type": "markdown",
   "id": "1eafeac4-9de6-4f01-a6fc-d51021245129",
   "metadata": {},
   "source": [
    "## Net transport for secondary flow"
   ]
  },
  {
   "cell_type": "code",
   "execution_count": null,
   "id": "0a4e5d83-e396-47df-a2ed-6a3877ae20ee",
   "metadata": {},
   "outputs": [],
   "source": []
  },
  {
   "cell_type": "code",
   "execution_count": null,
   "id": "171ee9a0-1670-4030-8aeb-ffc7a8ed8458",
   "metadata": {},
   "outputs": [],
   "source": []
  },
  {
   "cell_type": "code",
   "execution_count": null,
   "id": "b6287bf6-fb8a-4811-add6-c8324e6904a2",
   "metadata": {},
   "outputs": [],
   "source": []
  },
  {
   "cell_type": "markdown",
   "id": "3bd0725c-6883-4bfc-aa8b-e16be9cf3a26",
   "metadata": {},
   "source": [
    "## Equillirium states\n",
    "This section considers equillibrium shoreline profiles (section 7.2 from the book). As you know, the shoreface is highly dynamic and can be subject to change on both short and long time scales. We often choose to model this as a dynamic equillibrium profile. Different formulations exist for the equillibrium profile, and most are derived at least somewhat empirically."
   ]
  },
  {
   "cell_type": "code",
   "execution_count": null,
   "id": "1a1d96d8-7e73-45f5-82e9-f9aa3ccd2b4c",
   "metadata": {},
   "outputs": [],
   "source": []
  },
  {
   "cell_type": "code",
   "execution_count": null,
   "id": "5ee9ada3-b3e6-45f9-b0a9-316d626ae603",
   "metadata": {},
   "outputs": [],
   "source": []
  },
  {
   "cell_type": "code",
   "execution_count": null,
   "id": "1927ab2b-5fe3-4a90-a2ff-9566d2d21d9c",
   "metadata": {},
   "outputs": [],
   "source": []
  },
  {
   "cell_type": "code",
   "execution_count": null,
   "id": "515286ae-54d6-4888-aed2-8fa7ff0caa88",
   "metadata": {},
   "outputs": [],
   "source": []
  },
  {
   "cell_type": "code",
   "execution_count": null,
   "id": "ba2dd74d-4080-4fd9-8397-7e68153356d7",
   "metadata": {},
   "outputs": [],
   "source": []
  },
  {
   "cell_type": "markdown",
   "id": "736718bc-f613-417e-8fca-fdcb96e72160",
   "metadata": {},
   "source": [
    "## Beach states\n",
    "This section considers beach states (section 7.3 from the book). We have previously discussed equillibrium profiles of the upper shoreface. However, a beach is hardly in equillibrium. In this section, the focus is on the high variability of the upper shoreface, for instance following an episodic event."
   ]
  },
  {
   "cell_type": "code",
   "execution_count": null,
   "id": "f1adb27b-122a-4b20-b633-926e19cc18d6",
   "metadata": {},
   "outputs": [],
   "source": []
  },
  {
   "cell_type": "code",
   "execution_count": null,
   "id": "5a84e0bf-ba26-4697-b697-a17fe8fa2cae",
   "metadata": {},
   "outputs": [],
   "source": []
  },
  {
   "cell_type": "code",
   "execution_count": null,
   "id": "aa870bbd-72f6-4fe8-8e01-3547d26d0c00",
   "metadata": {},
   "outputs": [],
   "source": []
  },
  {
   "cell_type": "code",
   "execution_count": null,
   "id": "8dd00ae2-4995-4e7e-9603-f5b3f0e8674a",
   "metadata": {},
   "outputs": [],
   "source": []
  }
 ],
 "metadata": {
  "kernelspec": {
   "display_name": "Python 3 (ipykernel)",
   "language": "python",
   "name": "python3"
  },
  "language_info": {
   "codemirror_mode": {
    "name": "ipython",
    "version": 3
   },
   "file_extension": ".py",
   "mimetype": "text/x-python",
   "name": "python",
   "nbconvert_exporter": "python",
   "pygments_lexer": "ipython3",
   "version": "3.11.6"
  }
 },
 "nbformat": 4,
 "nbformat_minor": 5
}
