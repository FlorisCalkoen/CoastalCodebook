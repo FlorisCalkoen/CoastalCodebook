{
 "cells": [
  {
   "cell_type": "markdown",
   "id": "403408c8-6f05-4e20-aa8e-6fd33a1be02e",
   "metadata": {},
   "source": [
    "## Comment Floris: \n",
    "I would only import packages that you use"
   ]
  },
  {
   "cell_type": "markdown",
   "id": "297694e4-4215-4f65-aecc-afd612b34310",
   "metadata": {},
   "source": [
    "### Import Packages\n",
    "Start with some generally useful packages."
   ]
  },
  {
   "cell_type": "code",
   "execution_count": null,
   "id": "b52b50dc-b572-4bc7-9168-424f1ef5b94b",
   "metadata": {},
   "outputs": [],
   "source": [
    "from random import shuffle, uniform\n",
    "\n",
    "import holoviews as hv\n",
    "import hvplot.pandas\n",
    "import IPython\n",
    "import ipywidgets as widgets\n",
    "import matplotlib.animation as animation\n",
    "import matplotlib.pyplot as plt\n",
    "import numpy as np\n",
    "import pandas as pd\n",
    "import panel as pn\n",
    "from IPython.display import HTML, display\n",
    "from ipywidgets import interact\n",
    "from matplotlib.animation import FuncAnimation\n",
    "from matplotlib.ticker import MultipleLocator"
   ]
  },
  {
   "cell_type": "code",
   "execution_count": null,
   "id": "b353e9c6",
   "metadata": {},
   "outputs": [],
   "source": [
    "# THESE PACKAGES ARE NO LONGER USED\n",
    "\n",
    "# import os\n",
    "\n",
    "# import hvplot.xarray  # noqa: API import\n",
    "# import ipyleaflet\n",
    "# import pandas as pd\n",
    "# import matplotlib.pyplot as plt\n",
    "# import matplotlib.animation as animation\n",
    "# from geoviews import tile_sources as gvts\n",
    "# from ipyleaflet import Map, Marker, ScaleControl, basemaps\n",
    "# import ipywidgets as widgets\n",
    "# from ipywidgets import HTML, interact, fixed, interact_manual, interactive\n",
    "# import IPython\n",
    "# from IPython.display import HTML, display\n",
    "# from random import shuffle, uniform\n",
    "# from coastal_dynamics.geometries import geo_bbox\n",
    "# from PIL import Image"
   ]
  },
  {
   "cell_type": "markdown",
   "id": "f5a9dc63-e0ea-4ed4-9c5a-8e1b64a5b784",
   "metadata": {},
   "source": [
    "Import other packages in order to let the different question classes run."
   ]
  },
  {
   "cell_type": "markdown",
   "id": "0d61894c-fd9a-4ea8-962e-9e02f6f72abc",
   "metadata": {},
   "source": [
    "## Comment Floris: \n",
    "I don't think you need the code in the cell below. That coastal_dynamics.hidden is something that Mario used last year for something different (Escofier curves)."
   ]
  },
  {
   "cell_type": "code",
   "execution_count": null,
   "id": "8b27eeb8-285e-451f-91cf-0d5ce6bef1fc",
   "metadata": {},
   "outputs": [],
   "source": [
    "import pathlib\n",
    "import sys\n",
    "\n",
    "from PIL import Image\n",
    "\n",
    "from coastal_dynamics.hidden import *\n",
    "\n",
    "# NOTE: this is also now outdated because we have the package as pip install\n",
    "# make functions for src folder importable\n",
    "cwd = pathlib.Path().resolve()\n",
    "proj_dir = cwd.parent  # this is the notebooks folder\n",
    "sys.path.append(str(proj_dir / \"src\"))"
   ]
  },
  {
   "cell_type": "markdown",
   "id": "494b923e-ecee-4fb9-a3fe-b9ba9c4ff200",
   "metadata": {},
   "source": [
    "And import the question types."
   ]
  },
  {
   "cell_type": "markdown",
   "id": "c8fd8e51-ecb3-4899-8f24-5d9d027fdfe3",
   "metadata": {},
   "source": [
    "# Comment Floris:\n",
    "Please see an example below of how to load questions from the JSON file. For some reason this does not work for me in VS Code yet (I just noticed), is that for you the same? \n",
    "\n"
   ]
  },
  {
   "cell_type": "code",
   "execution_count": null,
   "id": "b5e7a1e4-1061-4998-8bc1-11d93ed29b76",
   "metadata": {},
   "outputs": [],
   "source": [
    "import pathlib\n",
    "\n",
    "import panel as pn\n",
    "\n",
    "import coastal_dynamics as cd\n",
    "from coastal_dynamics.io import load_questions\n",
    "\n",
    "# Activate the Panel widget to make the visualizations.\n",
    "pn.extension()\n",
    "\n",
    "# You can save your questions here. Please follow same naming conventions as the notebooks. When converting a Python dictionary\n",
    "# with the questions as they are ATM to a JSON file, watch out for trailing comma's. Your code error will warn you. But if you\n",
    "# cannot read the JSON file with the function, it's probably related to that.\n",
    "QUESTION_DIR = pathlib.Path.cwd().parent / \"questions\"\n",
    "question_fp = QUESTION_DIR / \"01_coastal_classification.json\"\n",
    "\n",
    "# The coastal dynamics package now contains a small utilty function to load the questions from a JSON file\n",
    "questions = load_questions(question_fp)\n",
    "\n",
    "# The QuestionFactory can handle the four question types.\n",
    "q1 = cd.QuestionFactory(\n",
    "    questions[\"Q1-1\"]\n",
    ").serve()  # Here 1-1 refers to notebook 1 question 1.\n",
    "q2 = cd.QuestionFactory(questions[\"Q1-2\"]).serve()\n",
    "pn.Column(q1, q2)"
   ]
  },
  {
   "cell_type": "markdown",
   "id": "140c4563-0cc2-439f-895f-61e3e6d576b6",
   "metadata": {},
   "source": [
    "Finally import the imports for the widgets.\n",
    "\n",
    "In the next cell we enable the interactive mode on the data dataframe, create widgets to explore the data and filter the dataframe accordingly. To explore the eartquake data we create an overlay of the eartquakes on a tileset of ESRI Imagery. Please note that the code in the next cell will only do the computations and store the result in an object called `panel`. To actually see the results you have to run one more cell; the one that calls this object panel. "
   ]
  },
  {
   "cell_type": "code",
   "execution_count": null,
   "id": "8ee00f0f-577f-41f3-a031-dfb21d68c27e",
   "metadata": {},
   "outputs": [],
   "source": [
    "import ipywidgets as ipw\n",
    "from ipywidgets import fixed, interact, interact_manual, interactive\n",
    "\n",
    "pn.extension()"
   ]
  },
  {
   "cell_type": "code",
   "execution_count": null,
   "id": "ddcc66a5-4b10-4d6f-a225-00d88c854897",
   "metadata": {},
   "outputs": [],
   "source": [
    "print(\"Packages succesfully loaded\")"
   ]
  },
  {
   "cell_type": "markdown",
   "id": "237e19b0-59d7-490a-a3b2-451665f591f7",
   "metadata": {},
   "source": [
    "# Comment Floris: \n",
    "\n",
    "When you use figures or data, please name them in line with the notebook"
   ]
  },
  {
   "cell_type": "markdown",
   "id": "bf87ab4c-e627-4e7e-b2c9-53e264fbc98d",
   "metadata": {},
   "source": [
    "### Directories\n",
    "Set the right directories such that the figures work correctly."
   ]
  },
  {
   "cell_type": "code",
   "execution_count": null,
   "id": "5893e3ca-edfe-48f4-9313-74dbdfe55084",
   "metadata": {},
   "outputs": [],
   "source": [
    "DATA_DIR = proj_dir / \"data\"\n",
    "FIG_DIR = proj_dir / \"coastalcodebook\" / \"assignments\" / \"figures\""
   ]
  },
  {
   "cell_type": "markdown",
   "id": "93f25bc4-d826-44e5-a965-fe63499bd321",
   "metadata": {},
   "source": [
    "### Initialize\n",
    "Initialize such that the panel works."
   ]
  },
  {
   "cell_type": "code",
   "execution_count": null,
   "id": "f3a72f57-9ca1-42b6-9bdd-3cbdeb45ff15",
   "metadata": {},
   "outputs": [],
   "source": []
  },
  {
   "cell_type": "markdown",
   "id": "d5a7bcbf-1cc2-4760-91c5-537ec76bfe3d",
   "metadata": {},
   "source": [
    "### Question functions\n",
    "The questions where students are asked to reproduce plots contain functions are defined below. The functions are defined in the same order as they are asked in the notebook."
   ]
  },
  {
   "cell_type": "markdown",
   "id": "5c550559-452a-4d20-bd94-005fa0572047",
   "metadata": {},
   "source": [
    "#### Section 1\n",
    "Question data for questions in section 1."
   ]
  },
  {
   "cell_type": "code",
   "execution_count": null,
   "id": "2de38515-e7fc-4d75-97c3-b97fba421e85",
   "metadata": {},
   "outputs": [],
   "source": [
    "# To be moved to initializer"
   ]
  },
  {
   "cell_type": "markdown",
   "id": "38056b14-eabc-4a13-bd11-84e9bc5bc9f2",
   "metadata": {},
   "source": [
    "#### Section 2\n",
    "Question data for questions in section 2."
   ]
  },
  {
   "cell_type": "code",
   "execution_count": null,
   "id": "6ccfe4d0-ecf6-4151-8aa8-48fdeded821e",
   "metadata": {},
   "outputs": [],
   "source": [
    "# To be moved to initializer"
   ]
  },
  {
   "cell_type": "code",
   "execution_count": null,
   "id": "e302a97a-aa10-4150-8782-a3e336ecde95",
   "metadata": {},
   "outputs": [],
   "source": []
  },
  {
   "cell_type": "markdown",
   "id": "5e641024",
   "metadata": {},
   "source": [
    "### BELOW OLD QUESTION AND CODE"
   ]
  },
  {
   "cell_type": "markdown",
   "id": "795bdbad",
   "metadata": {},
   "source": [
    "####################################################\n",
    "\n",
    "TO BE REMOVED\n",
    "\n",
    "1) How do the earthquake magnitude and earthquake depth relate to the coasts that we see? (Hint: See Figure 2.3 in the textbook and consider how deep under the ground the plates are moving. Extra hint: How do earthquake magnitude and depth differ for convergent and divergent plate boundaries?)\n",
    "\n",
    "2) Earthquake data support one of the most fundamental processes in the geology: plate tectonics. Although plate tectonics is a relatively slow process that acts on the [geological time scale](https://cdn.britannica.com/67/73167-050-B9A74092/chart.jpg), it has had an enormous impact on the formation of coastlines and determines the broadest features of the coast. What are two important inherited aspects of this process? (Hint: see Figure 2.10 and Sec. 2.3.3 in the textbook.) \n",
    "\n",
    "3) In 1971 Inman, D. L. & Nordstrom, C. E. used plate tectonics to classify the coast. Explain the classification that they introduced. What are the three different classes that they distinguish? How do they match with the earthquake data as you can explore in the panel? \n",
    "\n",
    "4) Can you identify or predict areas around the world where you will find the coasts that are distinguished by Inman, D. L. & Nordstrom, C. E.? For instance, what kind of coasts do you have in Chili? And how are they different to the east coast of the USA? And what is characteristic about the East China sea? \n",
    "\n",
    "5) Inman, D. L. & Nordstrom (1971) further distinguish Afro-trailing-edge coasts and Amero-trailing-edge coasts based on differences in sediment supplies. What is the main cause of these differences in sediment supply? And how do you expect the differences in sediment input to show in the coastal geomorphology?\n",
    "####################################################"
   ]
  },
  {
   "cell_type": "markdown",
   "id": "1f4459de",
   "metadata": {},
   "source": [
    "############################################################################\n",
    "\n",
    "TO BE REMOVED\n",
    "\n",
    "### Explore the coastal systems\n",
    "\n",
    "While sampling over a range of coastal systems, try to answer the following questions. \n",
    "\n",
    "1. Find and compare a heavily engineered river-dominated delta and a more natural river-dominated delta\n",
    "2. Compare the scale of the biggest and smallest tidal basin in the dataset\n",
    "3. Find the estuarine and deltaic systems with a spit\n",
    "4. Compare and contrast wave-dominated deltas with high and low sediment supply. How can you tell?\n",
    "5. Find a tidal estuary with large fine (muddy) sediment supply, then find one with a large coarse (sandy) sediment supply. How can you tell the difference?\n",
    "6. The eastern and western tips of the Dutch and German Wadden Islands are very different beach ridge environments. How might differences in sediment supply explain this? Where is the sediment coming from?\n",
    "7. The Dune du Pilat in France is one of the world's largest coastal sand dunes (it is also one of the coolest and you should definitely visit if you get the chance!). Why is it located on the east side of Arcachon Inlet and not the west?\n",
    "8. Look at the northern Jiangsu coast in China. What might explain the limited sediment supply in this location?\n",
    "9. Find an estuary or tidal bay with extensive intertidal flats. Do you see salt marshes or mangrove forests nearby?  Why or why not?\n",
    "10. Find an inlet with jetties. How might this affect the way it evolves?\n",
    "11. Find a delta/estuary/inlet whose shape is constrained by the presence of rocky coastal features.  \n",
    "12. The Albufeira Lagoon in Portugal opens and closes seasonally. In the image shown, is it open or closed? When and how might it open or close? \n",
    "13. Find examples of heavily urbanized estuaries. How might these human interventions influence the natural processes there?\n",
    "14. Based on these satellite images, which is the most beautiful site? Taking a moment to appreciate the beauty of these natural systems is an important part of your job as coastal engineers.\n",
    "\n",
    "############################################################################"
   ]
  },
  {
   "cell_type": "markdown",
   "id": "e3c4cd0a",
   "metadata": {},
   "source": []
  }
 ],
 "metadata": {
  "kernelspec": {
   "display_name": "jl-full",
   "language": "python",
   "name": "python3"
  },
  "language_info": {
   "codemirror_mode": {
    "name": "ipython",
    "version": 3
   },
   "file_extension": ".py",
   "mimetype": "text/x-python",
   "name": "python",
   "nbconvert_exporter": "python",
   "pygments_lexer": "ipython3",
   "version": "3.11.6"
  }
 },
 "nbformat": 4,
 "nbformat_minor": 5
}
