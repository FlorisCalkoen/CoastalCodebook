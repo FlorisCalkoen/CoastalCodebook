{
 "cells": [
  {
   "cell_type": "markdown",
   "id": "403408c8-6f05-4e20-aa8e-6fd33a1be02e",
   "metadata": {},
   "source": [
    "## Comment Floris: \n",
    "I would only import packages that you use"
   ]
  },
  {
   "cell_type": "markdown",
   "id": "297694e4-4215-4f65-aecc-afd612b34310",
   "metadata": {},
   "source": [
    "### Import Packages\n",
    "Start with some generally useful packages."
   ]
  },
  {
   "cell_type": "code",
   "execution_count": null,
   "id": "b52b50dc-b572-4bc7-9168-424f1ef5b94b",
   "metadata": {},
   "outputs": [],
   "source": [
    "from random import shuffle, uniform\n",
    "\n",
    "import holoviews as hv\n",
    "import hvplot.pandas\n",
    "import IPython\n",
    "import ipywidgets as widgets\n",
    "import matplotlib.animation as animation\n",
    "import matplotlib.pyplot as plt\n",
    "import numpy as np\n",
    "import pandas as pd\n",
    "import panel as pn\n",
    "from IPython.display import HTML, display\n",
    "from ipywidgets import interact\n",
    "from matplotlib.animation import FuncAnimation\n",
    "from matplotlib.ticker import MultipleLocator"
   ]
  },
  {
   "cell_type": "markdown",
   "id": "f5a9dc63-e0ea-4ed4-9c5a-8e1b64a5b784",
   "metadata": {},
   "source": [
    "Import other packages in order to let the different question classes run."
   ]
  },
  {
   "cell_type": "markdown",
   "id": "0d61894c-fd9a-4ea8-962e-9e02f6f72abc",
   "metadata": {},
   "source": [
    "## Comment Floris: \n",
    "I don't think you need the code in the cell below. That coastal_dynamics.hidden is something that Mario used last year for something different (Escofier curves)."
   ]
  },
  {
   "cell_type": "code",
   "execution_count": null,
   "id": "8b27eeb8-285e-451f-91cf-0d5ce6bef1fc",
   "metadata": {},
   "outputs": [],
   "source": [
    "import pathlib\n",
    "import sys\n",
    "\n",
    "from PIL import Image\n",
    "\n",
    "from coastal_dynamics.hidden import *\n",
    "\n",
    "# NOTE: this is also now outdated because we have the package as pip install\n",
    "# make functions for src folder importable\n",
    "cwd = pathlib.Path().resolve()\n",
    "proj_dir = cwd.parent  # this is the notebooks folder\n",
    "sys.path.append(str(proj_dir / \"src\"))"
   ]
  },
  {
   "cell_type": "markdown",
   "id": "494b923e-ecee-4fb9-a3fe-b9ba9c4ff200",
   "metadata": {},
   "source": [
    "And import the question types."
   ]
  },
  {
   "cell_type": "markdown",
   "id": "c8fd8e51-ecb3-4899-8f24-5d9d027fdfe3",
   "metadata": {},
   "source": [
    "# Comment Floris:\n",
    "Please see an example below of how to load questions from the JSON file. For some reason this does not work for me in VS Code yet (I just noticed), is that for you the same? \n",
    "\n"
   ]
  },
  {
   "cell_type": "code",
   "execution_count": null,
   "id": "b5e7a1e4-1061-4998-8bc1-11d93ed29b76",
   "metadata": {},
   "outputs": [],
   "source": [
    "import pathlib\n",
    "\n",
    "import panel as pn\n",
    "\n",
    "import coastal_dynamics as cd\n",
    "from coastal_dynamics.io import load_questions\n",
    "\n",
    "# Activate the Panel widget to make the visualizations.\n",
    "pn.extension()\n",
    "\n",
    "# You can save your questions here. Please follow same naming conventions as the notebooks. When converting a Python dictionary\n",
    "# with the questions as they are ATM to a JSON file, watch out for trailing comma's. Your code error will warn you. But if you\n",
    "# cannot read the JSON file with the function, it's probably related to that.\n",
    "QUESTION_DIR = pathlib.Path.cwd().parent / \"questions\"\n",
    "question_fp = QUESTION_DIR / \"01_coastal_classification.json\"\n",
    "\n",
    "# The coastal dynamics package now contains a small utilty function to load the questions from a JSON file\n",
    "questions = load_questions(question_fp)\n",
    "\n",
    "# The QuestionFactory can handle the four question types.\n",
    "q1 = cd.QuestionFactory(\n",
    "    questions[\"Q1-1\"]\n",
    ").serve()  # Here 1-1 refers to notebook 1 question 1.\n",
    "q2 = cd.QuestionFactory(questions[\"Q1-2\"]).serve()\n",
    "pn.Column(q1, q2)"
   ]
  },
  {
   "cell_type": "markdown",
   "id": "140c4563-0cc2-439f-895f-61e3e6d576b6",
   "metadata": {},
   "source": [
    "Finally import the imports for the widgets."
   ]
  },
  {
   "cell_type": "code",
   "execution_count": null,
   "id": "8ee00f0f-577f-41f3-a031-dfb21d68c27e",
   "metadata": {},
   "outputs": [],
   "source": [
    "import ipywidgets as ipw\n",
    "from ipywidgets import fixed, interact, interact_manual, interactive"
   ]
  },
  {
   "cell_type": "code",
   "execution_count": null,
   "id": "ddcc66a5-4b10-4d6f-a225-00d88c854897",
   "metadata": {},
   "outputs": [],
   "source": [
    "print(\"Packages succesfully loaded\")"
   ]
  },
  {
   "cell_type": "markdown",
   "id": "237e19b0-59d7-490a-a3b2-451665f591f7",
   "metadata": {},
   "source": [
    "# Comment Floris: \n",
    "\n",
    "When you use figures or data, please name them in line with the notebook"
   ]
  },
  {
   "cell_type": "markdown",
   "id": "bf87ab4c-e627-4e7e-b2c9-53e264fbc98d",
   "metadata": {},
   "source": [
    "### Directories\n",
    "Set the right directories such that the figures work correctly."
   ]
  },
  {
   "cell_type": "code",
   "execution_count": null,
   "id": "5893e3ca-edfe-48f4-9313-74dbdfe55084",
   "metadata": {},
   "outputs": [],
   "source": [
    "DATA_DIR = proj_dir / \"data\"\n",
    "FIG_DIR = proj_dir / \"coastalcodebook\" / \"assignments\" / \"figures\""
   ]
  },
  {
   "cell_type": "markdown",
   "id": "93f25bc4-d826-44e5-a965-fe63499bd321",
   "metadata": {},
   "source": [
    "### Initialize\n",
    "Initialize such that the panel works."
   ]
  },
  {
   "cell_type": "code",
   "execution_count": null,
   "id": "f3a72f57-9ca1-42b6-9bdd-3cbdeb45ff15",
   "metadata": {},
   "outputs": [],
   "source": [
    "pn.extension()"
   ]
  },
  {
   "cell_type": "markdown",
   "id": "d5a7bcbf-1cc2-4760-91c5-537ec76bfe3d",
   "metadata": {},
   "source": [
    "### Question functions\n",
    "The questions where students are asked to reproduce plots contain functions are defined below. The functions are defined in the same order as they are asked in the notebook."
   ]
  },
  {
   "cell_type": "markdown",
   "id": "5c550559-452a-4d20-bd94-005fa0572047",
   "metadata": {},
   "source": [
    "#### Section 1\n",
    "Question data for questions in section 1."
   ]
  },
  {
   "cell_type": "code",
   "execution_count": null,
   "id": "2de38515-e7fc-4d75-97c3-b97fba421e85",
   "metadata": {},
   "outputs": [],
   "source": [
    "# To be moved to initializer"
   ]
  },
  {
   "cell_type": "markdown",
   "id": "38056b14-eabc-4a13-bd11-84e9bc5bc9f2",
   "metadata": {},
   "source": [
    "#### Section 2\n",
    "Question data for questions in section 2."
   ]
  },
  {
   "cell_type": "code",
   "execution_count": null,
   "id": "6ccfe4d0-ecf6-4151-8aa8-48fdeded821e",
   "metadata": {},
   "outputs": [],
   "source": [
    "# To be moved to initializer"
   ]
  },
  {
   "cell_type": "code",
   "execution_count": null,
   "id": "e302a97a-aa10-4150-8782-a3e336ecde95",
   "metadata": {},
   "outputs": [],
   "source": [
    "print(\"Functions succesfully loaded\")"
   ]
  }
 ],
 "metadata": {
  "kernelspec": {
   "display_name": "jl-full",
   "language": "python",
   "name": "python3"
  },
  "language_info": {
   "codemirror_mode": {
    "name": "ipython",
    "version": 3
   },
   "file_extension": ".py",
   "mimetype": "text/x-python",
   "name": "python",
   "nbconvert_exporter": "python",
   "pygments_lexer": "ipython3",
   "version": "3.11.6"
  }
 },
 "nbformat": 4,
 "nbformat_minor": 5
}
