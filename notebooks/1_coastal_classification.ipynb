{
 "cells": [
  {
   "cell_type": "code",
   "execution_count": 1,
   "id": "2b073407-5430-4071-b9f3-92aeabc484e9",
   "metadata": {},
   "outputs": [],
   "source": [
    "# %run initialize/1_coastal_classification.ipynb"
   ]
  },
  {
   "cell_type": "markdown",
   "id": "c5ee3b6d-9a37-4e12-be67-40d150c235c2",
   "metadata": {},
   "source": [
    "# Characterization of Coastal Systems\n",
    "\n",
    "Welcome to the first notebook exercise of Coastal Systems (TU Delft, MSc Coastal Engineering)! This is the first year that we will experiment with notebooks in this course. With these notebooks we hope to provide you with interactive course material that helps you better understand the processes and concepts that we teach in this course. Please let us know how you find the notebooks - we appreciate your feedback!\n",
    "\n",
    "Chapter 2 of [Coastal Dynamics Open Textbook](https://textbooks.open.tudelft.nl/textbooks/catalog/view/37/92/383-1) describes the large geographical variation of coasts across the world. It explains how the coasts that we have today are shaped by both present-day processes and processes millions years ago. It distinguishes between three different order of features, which are associated to different orders of of time. In this notebook we will look at coastal systems at these different orders of scale. "
   ]
  },
  {
   "cell_type": "markdown",
   "id": "78c55ce4-8013-45c6-9ad4-8dfd4fa53890",
   "metadata": {},
   "source": [
    "## Import libraries that we use for our analysis\n",
    "\n",
    "In the two cells below we import the libraries that we need for the analysis. We also set some path settings to load the data and source code. For example, in the cell below we add the `src` directory to the system path, which allows us to import generic functions from `../../src/coastpy`. "
   ]
  },
  {
   "cell_type": "code",
   "execution_count": 1,
   "id": "ee2ffe05-66ec-43f8-b7e6-2db9302dee83",
   "metadata": {
    "tags": []
   },
   "outputs": [
    {
     "name": "stderr",
     "output_type": "stream",
     "text": [
      "c:\\Users\\khdeb\\miniforge-pypy3\\envs\\coastal\\Lib\\site-packages\\dask\\dataframe\\_pyarrow_compat.py:17: FutureWarning: Minimal version of pyarrow will soon be increased to 14.0.1. You are using 10.0.1. Please consider upgrading.\n",
      "  warnings.warn(\n"
     ]
    },
    {
     "data": {
      "application/javascript": "(function(root) {\n  function now() {\n    return new Date();\n  }\n\n  var force = true;\n  var py_version = '3.3.4'.replace('rc', '-rc.').replace('.dev', '-dev.');\n  var reloading = false;\n  var Bokeh = root.Bokeh;\n\n  if (typeof (root._bokeh_timeout) === \"undefined\" || force) {\n    root._bokeh_timeout = Date.now() + 5000;\n    root._bokeh_failed_load = false;\n  }\n\n  function run_callbacks() {\n    try {\n      root._bokeh_onload_callbacks.forEach(function(callback) {\n        if (callback != null)\n          callback();\n      });\n    } finally {\n      delete root._bokeh_onload_callbacks;\n    }\n    console.debug(\"Bokeh: all callbacks have finished\");\n  }\n\n  function load_libs(css_urls, js_urls, js_modules, js_exports, callback) {\n    if (css_urls == null) css_urls = [];\n    if (js_urls == null) js_urls = [];\n    if (js_modules == null) js_modules = [];\n    if (js_exports == null) js_exports = {};\n\n    root._bokeh_onload_callbacks.push(callback);\n\n    if (root._bokeh_is_loading > 0) {\n      console.debug(\"Bokeh: BokehJS is being loaded, scheduling callback at\", now());\n      return null;\n    }\n    if (js_urls.length === 0 && js_modules.length === 0 && Object.keys(js_exports).length === 0) {\n      run_callbacks();\n      return null;\n    }\n    if (!reloading) {\n      console.debug(\"Bokeh: BokehJS not loaded, scheduling load and callback at\", now());\n    }\n\n    function on_load() {\n      root._bokeh_is_loading--;\n      if (root._bokeh_is_loading === 0) {\n        console.debug(\"Bokeh: all BokehJS libraries/stylesheets loaded\");\n        run_callbacks()\n      }\n    }\n    window._bokeh_on_load = on_load\n\n    function on_error() {\n      console.error(\"failed to load \" + url);\n    }\n\n    var skip = [];\n    if (window.requirejs) {\n      window.requirejs.config({'packages': {}, 'paths': {'jspanel': 'https://cdn.jsdelivr.net/npm/jspanel4@4.12.0/dist/jspanel', 'jspanel-modal': 'https://cdn.jsdelivr.net/npm/jspanel4@4.12.0/dist/extensions/modal/jspanel.modal', 'jspanel-tooltip': 'https://cdn.jsdelivr.net/npm/jspanel4@4.12.0/dist/extensions/tooltip/jspanel.tooltip', 'jspanel-hint': 'https://cdn.jsdelivr.net/npm/jspanel4@4.12.0/dist/extensions/hint/jspanel.hint', 'jspanel-layout': 'https://cdn.jsdelivr.net/npm/jspanel4@4.12.0/dist/extensions/layout/jspanel.layout', 'jspanel-contextmenu': 'https://cdn.jsdelivr.net/npm/jspanel4@4.12.0/dist/extensions/contextmenu/jspanel.contextmenu', 'jspanel-dock': 'https://cdn.jsdelivr.net/npm/jspanel4@4.12.0/dist/extensions/dock/jspanel.dock', 'gridstack': 'https://cdn.jsdelivr.net/npm/gridstack@7.2.3/dist/gridstack-all', 'notyf': 'https://cdn.jsdelivr.net/npm/notyf@3/notyf.min'}, 'shim': {'jspanel': {'exports': 'jsPanel'}, 'gridstack': {'exports': 'GridStack'}}});\n      require([\"jspanel\"], function(jsPanel) {\n\twindow.jsPanel = jsPanel\n\ton_load()\n      })\n      require([\"jspanel-modal\"], function() {\n\ton_load()\n      })\n      require([\"jspanel-tooltip\"], function() {\n\ton_load()\n      })\n      require([\"jspanel-hint\"], function() {\n\ton_load()\n      })\n      require([\"jspanel-layout\"], function() {\n\ton_load()\n      })\n      require([\"jspanel-contextmenu\"], function() {\n\ton_load()\n      })\n      require([\"jspanel-dock\"], function() {\n\ton_load()\n      })\n      require([\"gridstack\"], function(GridStack) {\n\twindow.GridStack = GridStack\n\ton_load()\n      })\n      require([\"notyf\"], function() {\n\ton_load()\n      })\n      root._bokeh_is_loading = css_urls.length + 9;\n    } else {\n      root._bokeh_is_loading = css_urls.length + js_urls.length + js_modules.length + Object.keys(js_exports).length;\n    }\n\n    var existing_stylesheets = []\n    var links = document.getElementsByTagName('link')\n    for (var i = 0; i < links.length; i++) {\n      var link = links[i]\n      if (link.href != null) {\n\texisting_stylesheets.push(link.href)\n      }\n    }\n    for (var i = 0; i < css_urls.length; i++) {\n      var url = css_urls[i];\n      if (existing_stylesheets.indexOf(url) !== -1) {\n\ton_load()\n\tcontinue;\n      }\n      const element = document.createElement(\"link\");\n      element.onload = on_load;\n      element.onerror = on_error;\n      element.rel = \"stylesheet\";\n      element.type = \"text/css\";\n      element.href = url;\n      console.debug(\"Bokeh: injecting link tag for BokehJS stylesheet: \", url);\n      document.body.appendChild(element);\n    }    if (((window['jsPanel'] !== undefined) && (!(window['jsPanel'] instanceof HTMLElement))) || window.requirejs) {\n      var urls = ['https://cdn.holoviz.org/panel/1.3.8/dist/bundled/floatpanel/jspanel4@4.12.0/dist/jspanel.js', 'https://cdn.holoviz.org/panel/1.3.8/dist/bundled/floatpanel/jspanel4@4.12.0/dist/extensions/modal/jspanel.modal.js', 'https://cdn.holoviz.org/panel/1.3.8/dist/bundled/floatpanel/jspanel4@4.12.0/dist/extensions/tooltip/jspanel.tooltip.js', 'https://cdn.holoviz.org/panel/1.3.8/dist/bundled/floatpanel/jspanel4@4.12.0/dist/extensions/hint/jspanel.hint.js', 'https://cdn.holoviz.org/panel/1.3.8/dist/bundled/floatpanel/jspanel4@4.12.0/dist/extensions/layout/jspanel.layout.js', 'https://cdn.holoviz.org/panel/1.3.8/dist/bundled/floatpanel/jspanel4@4.12.0/dist/extensions/contextmenu/jspanel.contextmenu.js', 'https://cdn.holoviz.org/panel/1.3.8/dist/bundled/floatpanel/jspanel4@4.12.0/dist/extensions/dock/jspanel.dock.js'];\n      for (var i = 0; i < urls.length; i++) {\n        skip.push(urls[i])\n      }\n    }    if (((window['GridStack'] !== undefined) && (!(window['GridStack'] instanceof HTMLElement))) || window.requirejs) {\n      var urls = ['https://cdn.holoviz.org/panel/1.3.8/dist/bundled/gridstack/gridstack@7.2.3/dist/gridstack-all.js'];\n      for (var i = 0; i < urls.length; i++) {\n        skip.push(urls[i])\n      }\n    }    if (((window['Notyf'] !== undefined) && (!(window['Notyf'] instanceof HTMLElement))) || window.requirejs) {\n      var urls = ['https://cdn.holoviz.org/panel/1.3.8/dist/bundled/notificationarea/notyf@3/notyf.min.js'];\n      for (var i = 0; i < urls.length; i++) {\n        skip.push(urls[i])\n      }\n    }    var existing_scripts = []\n    var scripts = document.getElementsByTagName('script')\n    for (var i = 0; i < scripts.length; i++) {\n      var script = scripts[i]\n      if (script.src != null) {\n\texisting_scripts.push(script.src)\n      }\n    }\n    for (var i = 0; i < js_urls.length; i++) {\n      var url = js_urls[i];\n      if (skip.indexOf(url) !== -1 || existing_scripts.indexOf(url) !== -1) {\n\tif (!window.requirejs) {\n\t  on_load();\n\t}\n\tcontinue;\n      }\n      var element = document.createElement('script');\n      element.onload = on_load;\n      element.onerror = on_error;\n      element.async = false;\n      element.src = url;\n      console.debug(\"Bokeh: injecting script tag for BokehJS library: \", url);\n      document.head.appendChild(element);\n    }\n    for (var i = 0; i < js_modules.length; i++) {\n      var url = js_modules[i];\n      if (skip.indexOf(url) !== -1 || existing_scripts.indexOf(url) !== -1) {\n\tif (!window.requirejs) {\n\t  on_load();\n\t}\n\tcontinue;\n      }\n      var element = document.createElement('script');\n      element.onload = on_load;\n      element.onerror = on_error;\n      element.async = false;\n      element.src = url;\n      element.type = \"module\";\n      console.debug(\"Bokeh: injecting script tag for BokehJS library: \", url);\n      document.head.appendChild(element);\n    }\n    for (const name in js_exports) {\n      var url = js_exports[name];\n      if (skip.indexOf(url) >= 0 || root[name] != null) {\n\tif (!window.requirejs) {\n\t  on_load();\n\t}\n\tcontinue;\n      }\n      var element = document.createElement('script');\n      element.onerror = on_error;\n      element.async = false;\n      element.type = \"module\";\n      console.debug(\"Bokeh: injecting script tag for BokehJS library: \", url);\n      element.textContent = `\n      import ${name} from \"${url}\"\n      window.${name} = ${name}\n      window._bokeh_on_load()\n      `\n      document.head.appendChild(element);\n    }\n    if (!js_urls.length && !js_modules.length) {\n      on_load()\n    }\n  };\n\n  function inject_raw_css(css) {\n    const element = document.createElement(\"style\");\n    element.appendChild(document.createTextNode(css));\n    document.body.appendChild(element);\n  }\n\n  var js_urls = [\"https://cdn.bokeh.org/bokeh/release/bokeh-3.3.4.min.js\", \"https://cdn.bokeh.org/bokeh/release/bokeh-gl-3.3.4.min.js\", \"https://cdn.bokeh.org/bokeh/release/bokeh-widgets-3.3.4.min.js\", \"https://cdn.bokeh.org/bokeh/release/bokeh-tables-3.3.4.min.js\", \"https://cdn.holoviz.org/panel/1.3.8/dist/panel.min.js\"];\n  var js_modules = [];\n  var js_exports = {};\n  var css_urls = [];\n  var inline_js = [    function(Bokeh) {\n      Bokeh.set_log_level(\"info\");\n    },\nfunction(Bokeh) {} // ensure no trailing comma for IE\n  ];\n\n  function run_inline_js() {\n    if ((root.Bokeh !== undefined) || (force === true)) {\n      for (var i = 0; i < inline_js.length; i++) {\n\ttry {\n          inline_js[i].call(root, root.Bokeh);\n\t} catch(e) {\n\t  if (!reloading) {\n\t    throw e;\n\t  }\n\t}\n      }\n      // Cache old bokeh versions\n      if (Bokeh != undefined && !reloading) {\n\tvar NewBokeh = root.Bokeh;\n\tif (Bokeh.versions === undefined) {\n\t  Bokeh.versions = new Map();\n\t}\n\tif (NewBokeh.version !== Bokeh.version) {\n\t  Bokeh.versions.set(NewBokeh.version, NewBokeh)\n\t}\n\troot.Bokeh = Bokeh;\n      }} else if (Date.now() < root._bokeh_timeout) {\n      setTimeout(run_inline_js, 100);\n    } else if (!root._bokeh_failed_load) {\n      console.log(\"Bokeh: BokehJS failed to load within specified timeout.\");\n      root._bokeh_failed_load = true;\n    }\n    root._bokeh_is_initializing = false\n  }\n\n  function load_or_wait() {\n    // Implement a backoff loop that tries to ensure we do not load multiple\n    // versions of Bokeh and its dependencies at the same time.\n    // In recent versions we use the root._bokeh_is_initializing flag\n    // to determine whether there is an ongoing attempt to initialize\n    // bokeh, however for backward compatibility we also try to ensure\n    // that we do not start loading a newer (Panel>=1.0 and Bokeh>3) version\n    // before older versions are fully initialized.\n    if (root._bokeh_is_initializing && Date.now() > root._bokeh_timeout) {\n      root._bokeh_is_initializing = false;\n      root._bokeh_onload_callbacks = undefined;\n      console.log(\"Bokeh: BokehJS was loaded multiple times but one version failed to initialize.\");\n      load_or_wait();\n    } else if (root._bokeh_is_initializing || (typeof root._bokeh_is_initializing === \"undefined\" && root._bokeh_onload_callbacks !== undefined)) {\n      setTimeout(load_or_wait, 100);\n    } else {\n      root._bokeh_is_initializing = true\n      root._bokeh_onload_callbacks = []\n      var bokeh_loaded = Bokeh != null && (Bokeh.version === py_version || (Bokeh.versions !== undefined && Bokeh.versions.has(py_version)));\n      if (!reloading && !bokeh_loaded) {\n\troot.Bokeh = undefined;\n      }\n      load_libs(css_urls, js_urls, js_modules, js_exports, function() {\n\tconsole.debug(\"Bokeh: BokehJS plotting callback run at\", now());\n\trun_inline_js();\n      });\n    }\n  }\n  // Give older versions of the autoload script a head-start to ensure\n  // they initialize before we start loading newer version.\n  setTimeout(load_or_wait, 100)\n}(window));",
      "application/vnd.holoviews_load.v0+json": ""
     },
     "metadata": {},
     "output_type": "display_data"
    },
    {
     "data": {
      "application/javascript": "\nif ((window.PyViz === undefined) || (window.PyViz instanceof HTMLElement)) {\n  window.PyViz = {comms: {}, comm_status:{}, kernels:{}, receivers: {}, plot_index: []}\n}\n\n\n    function JupyterCommManager() {\n    }\n\n    JupyterCommManager.prototype.register_target = function(plot_id, comm_id, msg_handler) {\n      if (window.comm_manager || ((window.Jupyter !== undefined) && (Jupyter.notebook.kernel != null))) {\n        var comm_manager = window.comm_manager || Jupyter.notebook.kernel.comm_manager;\n        comm_manager.register_target(comm_id, function(comm) {\n          comm.on_msg(msg_handler);\n        });\n      } else if ((plot_id in window.PyViz.kernels) && (window.PyViz.kernels[plot_id])) {\n        window.PyViz.kernels[plot_id].registerCommTarget(comm_id, function(comm) {\n          comm.onMsg = msg_handler;\n        });\n      } else if (typeof google != 'undefined' && google.colab.kernel != null) {\n        google.colab.kernel.comms.registerTarget(comm_id, (comm) => {\n          var messages = comm.messages[Symbol.asyncIterator]();\n          function processIteratorResult(result) {\n            var message = result.value;\n            console.log(message)\n            var content = {data: message.data, comm_id};\n            var buffers = []\n            for (var buffer of message.buffers || []) {\n              buffers.push(new DataView(buffer))\n            }\n            var metadata = message.metadata || {};\n            var msg = {content, buffers, metadata}\n            msg_handler(msg);\n            return messages.next().then(processIteratorResult);\n          }\n          return messages.next().then(processIteratorResult);\n        })\n      }\n    }\n\n    JupyterCommManager.prototype.get_client_comm = function(plot_id, comm_id, msg_handler) {\n      if (comm_id in window.PyViz.comms) {\n        return window.PyViz.comms[comm_id];\n      } else if (window.comm_manager || ((window.Jupyter !== undefined) && (Jupyter.notebook.kernel != null))) {\n        var comm_manager = window.comm_manager || Jupyter.notebook.kernel.comm_manager;\n        var comm = comm_manager.new_comm(comm_id, {}, {}, {}, comm_id);\n        if (msg_handler) {\n          comm.on_msg(msg_handler);\n        }\n      } else if ((plot_id in window.PyViz.kernels) && (window.PyViz.kernels[plot_id])) {\n        var comm = window.PyViz.kernels[plot_id].connectToComm(comm_id);\n        comm.open();\n        if (msg_handler) {\n          comm.onMsg = msg_handler;\n        }\n      } else if (typeof google != 'undefined' && google.colab.kernel != null) {\n        var comm_promise = google.colab.kernel.comms.open(comm_id)\n        comm_promise.then((comm) => {\n          window.PyViz.comms[comm_id] = comm;\n          if (msg_handler) {\n            var messages = comm.messages[Symbol.asyncIterator]();\n            function processIteratorResult(result) {\n              var message = result.value;\n              var content = {data: message.data};\n              var metadata = message.metadata || {comm_id};\n              var msg = {content, metadata}\n              msg_handler(msg);\n              return messages.next().then(processIteratorResult);\n            }\n            return messages.next().then(processIteratorResult);\n          }\n        }) \n        var sendClosure = (data, metadata, buffers, disposeOnDone) => {\n          return comm_promise.then((comm) => {\n            comm.send(data, metadata, buffers, disposeOnDone);\n          });\n        };\n        var comm = {\n          send: sendClosure\n        };\n      }\n      window.PyViz.comms[comm_id] = comm;\n      return comm;\n    }\n    window.PyViz.comm_manager = new JupyterCommManager();\n    \n\n\nvar JS_MIME_TYPE = 'application/javascript';\nvar HTML_MIME_TYPE = 'text/html';\nvar EXEC_MIME_TYPE = 'application/vnd.holoviews_exec.v0+json';\nvar CLASS_NAME = 'output';\n\n/**\n * Render data to the DOM node\n */\nfunction render(props, node) {\n  var div = document.createElement(\"div\");\n  var script = document.createElement(\"script\");\n  node.appendChild(div);\n  node.appendChild(script);\n}\n\n/**\n * Handle when a new output is added\n */\nfunction handle_add_output(event, handle) {\n  var output_area = handle.output_area;\n  var output = handle.output;\n  if ((output.data == undefined) || (!output.data.hasOwnProperty(EXEC_MIME_TYPE))) {\n    return\n  }\n  var id = output.metadata[EXEC_MIME_TYPE][\"id\"];\n  var toinsert = output_area.element.find(\".\" + CLASS_NAME.split(' ')[0]);\n  if (id !== undefined) {\n    var nchildren = toinsert.length;\n    var html_node = toinsert[nchildren-1].children[0];\n    html_node.innerHTML = output.data[HTML_MIME_TYPE];\n    var scripts = [];\n    var nodelist = html_node.querySelectorAll(\"script\");\n    for (var i in nodelist) {\n      if (nodelist.hasOwnProperty(i)) {\n        scripts.push(nodelist[i])\n      }\n    }\n\n    scripts.forEach( function (oldScript) {\n      var newScript = document.createElement(\"script\");\n      var attrs = [];\n      var nodemap = oldScript.attributes;\n      for (var j in nodemap) {\n        if (nodemap.hasOwnProperty(j)) {\n          attrs.push(nodemap[j])\n        }\n      }\n      attrs.forEach(function(attr) { newScript.setAttribute(attr.name, attr.value) });\n      newScript.appendChild(document.createTextNode(oldScript.innerHTML));\n      oldScript.parentNode.replaceChild(newScript, oldScript);\n    });\n    if (JS_MIME_TYPE in output.data) {\n      toinsert[nchildren-1].children[1].textContent = output.data[JS_MIME_TYPE];\n    }\n    output_area._hv_plot_id = id;\n    if ((window.Bokeh !== undefined) && (id in Bokeh.index)) {\n      window.PyViz.plot_index[id] = Bokeh.index[id];\n    } else {\n      window.PyViz.plot_index[id] = null;\n    }\n  } else if (output.metadata[EXEC_MIME_TYPE][\"server_id\"] !== undefined) {\n    var bk_div = document.createElement(\"div\");\n    bk_div.innerHTML = output.data[HTML_MIME_TYPE];\n    var script_attrs = bk_div.children[0].attributes;\n    for (var i = 0; i < script_attrs.length; i++) {\n      toinsert[toinsert.length - 1].childNodes[1].setAttribute(script_attrs[i].name, script_attrs[i].value);\n    }\n    // store reference to server id on output_area\n    output_area._bokeh_server_id = output.metadata[EXEC_MIME_TYPE][\"server_id\"];\n  }\n}\n\n/**\n * Handle when an output is cleared or removed\n */\nfunction handle_clear_output(event, handle) {\n  var id = handle.cell.output_area._hv_plot_id;\n  var server_id = handle.cell.output_area._bokeh_server_id;\n  if (((id === undefined) || !(id in PyViz.plot_index)) && (server_id !== undefined)) { return; }\n  var comm = window.PyViz.comm_manager.get_client_comm(\"hv-extension-comm\", \"hv-extension-comm\", function () {});\n  if (server_id !== null) {\n    comm.send({event_type: 'server_delete', 'id': server_id});\n    return;\n  } else if (comm !== null) {\n    comm.send({event_type: 'delete', 'id': id});\n  }\n  delete PyViz.plot_index[id];\n  if ((window.Bokeh !== undefined) & (id in window.Bokeh.index)) {\n    var doc = window.Bokeh.index[id].model.document\n    doc.clear();\n    const i = window.Bokeh.documents.indexOf(doc);\n    if (i > -1) {\n      window.Bokeh.documents.splice(i, 1);\n    }\n  }\n}\n\n/**\n * Handle kernel restart event\n */\nfunction handle_kernel_cleanup(event, handle) {\n  delete PyViz.comms[\"hv-extension-comm\"];\n  window.PyViz.plot_index = {}\n}\n\n/**\n * Handle update_display_data messages\n */\nfunction handle_update_output(event, handle) {\n  handle_clear_output(event, {cell: {output_area: handle.output_area}})\n  handle_add_output(event, handle)\n}\n\nfunction register_renderer(events, OutputArea) {\n  function append_mime(data, metadata, element) {\n    // create a DOM node to render to\n    var toinsert = this.create_output_subarea(\n    metadata,\n    CLASS_NAME,\n    EXEC_MIME_TYPE\n    );\n    this.keyboard_manager.register_events(toinsert);\n    // Render to node\n    var props = {data: data, metadata: metadata[EXEC_MIME_TYPE]};\n    render(props, toinsert[0]);\n    element.append(toinsert);\n    return toinsert\n  }\n\n  events.on('output_added.OutputArea', handle_add_output);\n  events.on('output_updated.OutputArea', handle_update_output);\n  events.on('clear_output.CodeCell', handle_clear_output);\n  events.on('delete.Cell', handle_clear_output);\n  events.on('kernel_ready.Kernel', handle_kernel_cleanup);\n\n  OutputArea.prototype.register_mime_type(EXEC_MIME_TYPE, append_mime, {\n    safe: true,\n    index: 0\n  });\n}\n\nif (window.Jupyter !== undefined) {\n  try {\n    var events = require('base/js/events');\n    var OutputArea = require('notebook/js/outputarea').OutputArea;\n    if (OutputArea.prototype.mime_types().indexOf(EXEC_MIME_TYPE) == -1) {\n      register_renderer(events, OutputArea);\n    }\n  } catch(err) {\n  }\n}\n",
      "application/vnd.holoviews_load.v0+json": ""
     },
     "metadata": {},
     "output_type": "display_data"
    },
    {
     "data": {
      "text/html": [
       "<style>*[data-root-id],\n",
       "*[data-root-id] > * {\n",
       "  box-sizing: border-box;\n",
       "  font-family: var(--jp-ui-font-family);\n",
       "  font-size: var(--jp-ui-font-size1);\n",
       "  color: var(--vscode-editor-foreground, var(--jp-ui-font-color1));\n",
       "}\n",
       "\n",
       "/* Override VSCode background color */\n",
       ".cell-output-ipywidget-background:has(\n",
       "    > .cell-output-ipywidget-background > .lm-Widget > *[data-root-id]\n",
       "  ),\n",
       ".cell-output-ipywidget-background:has(> .lm-Widget > *[data-root-id]) {\n",
       "  background-color: transparent !important;\n",
       "}\n",
       "</style>"
      ]
     },
     "metadata": {},
     "output_type": "display_data"
    },
    {
     "data": {
      "application/vnd.holoviews_exec.v0+json": "",
      "text/html": [
       "<div id='p1002'>\n",
       "  <div id=\"ea51caf1-5291-4ab8-b0a3-0dcbf584370a\" data-root-id=\"p1002\" style=\"display: contents;\"></div>\n",
       "</div>\n",
       "<script type=\"application/javascript\">(function(root) {\n",
       "  var docs_json = {\"d438d91e-1688-4794-8c4e-664356fadcfe\":{\"version\":\"3.3.4\",\"title\":\"Bokeh Application\",\"roots\":[{\"type\":\"object\",\"name\":\"panel.models.browser.BrowserInfo\",\"id\":\"p1002\"},{\"type\":\"object\",\"name\":\"panel.models.comm_manager.CommManager\",\"id\":\"p1003\",\"attributes\":{\"plot_id\":\"p1002\",\"comm_id\":\"93c8188a29ce4fe4a5dda67897c637c3\",\"client_comm_id\":\"f92a6a5e7cb7437f87d6c7a62414d06b\"}}],\"defs\":[{\"type\":\"model\",\"name\":\"ReactiveHTML1\"},{\"type\":\"model\",\"name\":\"FlexBox1\",\"properties\":[{\"name\":\"align_content\",\"kind\":\"Any\",\"default\":\"flex-start\"},{\"name\":\"align_items\",\"kind\":\"Any\",\"default\":\"flex-start\"},{\"name\":\"flex_direction\",\"kind\":\"Any\",\"default\":\"row\"},{\"name\":\"flex_wrap\",\"kind\":\"Any\",\"default\":\"wrap\"},{\"name\":\"justify_content\",\"kind\":\"Any\",\"default\":\"flex-start\"}]},{\"type\":\"model\",\"name\":\"FloatPanel1\",\"properties\":[{\"name\":\"config\",\"kind\":\"Any\",\"default\":{\"type\":\"map\"}},{\"name\":\"contained\",\"kind\":\"Any\",\"default\":true},{\"name\":\"position\",\"kind\":\"Any\",\"default\":\"right-top\"},{\"name\":\"offsetx\",\"kind\":\"Any\",\"default\":null},{\"name\":\"offsety\",\"kind\":\"Any\",\"default\":null},{\"name\":\"theme\",\"kind\":\"Any\",\"default\":\"primary\"},{\"name\":\"status\",\"kind\":\"Any\",\"default\":\"normalized\"}]},{\"type\":\"model\",\"name\":\"GridStack1\",\"properties\":[{\"name\":\"mode\",\"kind\":\"Any\",\"default\":\"warn\"},{\"name\":\"ncols\",\"kind\":\"Any\",\"default\":null},{\"name\":\"nrows\",\"kind\":\"Any\",\"default\":null},{\"name\":\"allow_resize\",\"kind\":\"Any\",\"default\":true},{\"name\":\"allow_drag\",\"kind\":\"Any\",\"default\":true},{\"name\":\"state\",\"kind\":\"Any\",\"default\":[]}]},{\"type\":\"model\",\"name\":\"drag1\",\"properties\":[{\"name\":\"slider_width\",\"kind\":\"Any\",\"default\":5},{\"name\":\"slider_color\",\"kind\":\"Any\",\"default\":\"black\"},{\"name\":\"value\",\"kind\":\"Any\",\"default\":50}]},{\"type\":\"model\",\"name\":\"click1\",\"properties\":[{\"name\":\"terminal_output\",\"kind\":\"Any\",\"default\":\"\"},{\"name\":\"debug_name\",\"kind\":\"Any\",\"default\":\"\"},{\"name\":\"clears\",\"kind\":\"Any\",\"default\":0}]},{\"type\":\"model\",\"name\":\"copy_to_clipboard1\",\"properties\":[{\"name\":\"fill\",\"kind\":\"Any\",\"default\":\"none\"},{\"name\":\"value\",\"kind\":\"Any\",\"default\":null}]},{\"type\":\"model\",\"name\":\"FastWrapper1\",\"properties\":[{\"name\":\"object\",\"kind\":\"Any\",\"default\":null},{\"name\":\"style\",\"kind\":\"Any\",\"default\":null}]},{\"type\":\"model\",\"name\":\"NotificationAreaBase1\",\"properties\":[{\"name\":\"js_events\",\"kind\":\"Any\",\"default\":{\"type\":\"map\"}},{\"name\":\"position\",\"kind\":\"Any\",\"default\":\"bottom-right\"},{\"name\":\"_clear\",\"kind\":\"Any\",\"default\":0}]},{\"type\":\"model\",\"name\":\"NotificationArea1\",\"properties\":[{\"name\":\"js_events\",\"kind\":\"Any\",\"default\":{\"type\":\"map\"}},{\"name\":\"notifications\",\"kind\":\"Any\",\"default\":[]},{\"name\":\"position\",\"kind\":\"Any\",\"default\":\"bottom-right\"},{\"name\":\"_clear\",\"kind\":\"Any\",\"default\":0},{\"name\":\"types\",\"kind\":\"Any\",\"default\":[{\"type\":\"map\",\"entries\":[[\"type\",\"warning\"],[\"background\",\"#ffc107\"],[\"icon\",{\"type\":\"map\",\"entries\":[[\"className\",\"fas fa-exclamation-triangle\"],[\"tagName\",\"i\"],[\"color\",\"white\"]]}]]},{\"type\":\"map\",\"entries\":[[\"type\",\"info\"],[\"background\",\"#007bff\"],[\"icon\",{\"type\":\"map\",\"entries\":[[\"className\",\"fas fa-info-circle\"],[\"tagName\",\"i\"],[\"color\",\"white\"]]}]]}]}]},{\"type\":\"model\",\"name\":\"Notification\",\"properties\":[{\"name\":\"background\",\"kind\":\"Any\",\"default\":null},{\"name\":\"duration\",\"kind\":\"Any\",\"default\":3000},{\"name\":\"icon\",\"kind\":\"Any\",\"default\":null},{\"name\":\"message\",\"kind\":\"Any\",\"default\":\"\"},{\"name\":\"notification_type\",\"kind\":\"Any\",\"default\":null},{\"name\":\"_destroyed\",\"kind\":\"Any\",\"default\":false}]},{\"type\":\"model\",\"name\":\"TemplateActions1\",\"properties\":[{\"name\":\"open_modal\",\"kind\":\"Any\",\"default\":0},{\"name\":\"close_modal\",\"kind\":\"Any\",\"default\":0}]},{\"type\":\"model\",\"name\":\"BootstrapTemplateActions1\",\"properties\":[{\"name\":\"open_modal\",\"kind\":\"Any\",\"default\":0},{\"name\":\"close_modal\",\"kind\":\"Any\",\"default\":0}]},{\"type\":\"model\",\"name\":\"MaterialTemplateActions1\",\"properties\":[{\"name\":\"open_modal\",\"kind\":\"Any\",\"default\":0},{\"name\":\"close_modal\",\"kind\":\"Any\",\"default\":0}]}]}};\n",
       "  var render_items = [{\"docid\":\"d438d91e-1688-4794-8c4e-664356fadcfe\",\"roots\":{\"p1002\":\"ea51caf1-5291-4ab8-b0a3-0dcbf584370a\"},\"root_ids\":[\"p1002\"]}];\n",
       "  var docs = Object.values(docs_json)\n",
       "  if (!docs) {\n",
       "    return\n",
       "  }\n",
       "  const py_version = docs[0].version.replace('rc', '-rc.').replace('.dev', '-dev.')\n",
       "  function embed_document(root) {\n",
       "    var Bokeh = get_bokeh(root)\n",
       "    Bokeh.embed.embed_items_notebook(docs_json, render_items);\n",
       "    for (const render_item of render_items) {\n",
       "      for (const root_id of render_item.root_ids) {\n",
       "\tconst id_el = document.getElementById(root_id)\n",
       "\tif (id_el.children.length && (id_el.children[0].className === 'bk-root')) {\n",
       "\t  const root_el = id_el.children[0]\n",
       "\t  root_el.id = root_el.id + '-rendered'\n",
       "\t}\n",
       "      }\n",
       "    }\n",
       "  }\n",
       "  function get_bokeh(root) {\n",
       "    if (root.Bokeh === undefined) {\n",
       "      return null\n",
       "    } else if (root.Bokeh.version !== py_version) {\n",
       "      if (root.Bokeh.versions === undefined || !root.Bokeh.versions.has(py_version)) {\n",
       "\treturn null\n",
       "      }\n",
       "      return root.Bokeh.versions.get(py_version);\n",
       "    } else if (root.Bokeh.version === py_version) {\n",
       "      return root.Bokeh\n",
       "    }\n",
       "    return null\n",
       "  }\n",
       "  function is_loaded(root) {\n",
       "    var Bokeh = get_bokeh(root)\n",
       "    return (Bokeh != null && Bokeh.Panel !== undefined)\n",
       "  }\n",
       "  if (is_loaded(root)) {\n",
       "    embed_document(root);\n",
       "  } else {\n",
       "    var attempts = 0;\n",
       "    var timer = setInterval(function(root) {\n",
       "      if (is_loaded(root)) {\n",
       "        clearInterval(timer);\n",
       "        embed_document(root);\n",
       "      } else if (document.readyState == \"complete\") {\n",
       "        attempts++;\n",
       "        if (attempts > 200) {\n",
       "          clearInterval(timer);\n",
       "\t  var Bokeh = get_bokeh(root)\n",
       "\t  if (Bokeh == null || Bokeh.Panel == null) {\n",
       "            console.warn(\"Panel: ERROR: Unable to run Panel code because Bokeh or Panel library is missing\");\n",
       "\t  } else {\n",
       "\t    console.warn(\"Panel: WARNING: Attempting to render but not all required libraries could be resolved.\")\n",
       "\t    embed_document(root)\n",
       "\t  }\n",
       "        }\n",
       "      }\n",
       "    }, 25, root)\n",
       "  }\n",
       "})(window);</script>"
      ]
     },
     "metadata": {
      "application/vnd.holoviews_exec.v0+json": {
       "id": "p1002"
      }
     },
     "output_type": "display_data"
    },
    {
     "name": "stdout",
     "output_type": "stream",
     "text": [
      "Packages succesfully loaded\n"
     ]
    }
   ],
   "source": [
    "import pathlib\n",
    "import sys\n",
    "\n",
    "import colorcet as cc\n",
    "import dask.dataframe as dd\n",
    "import geopandas as gpd\n",
    "import numpy as np\n",
    "import panel as pn\n",
    "import holoviews as hv\n",
    "import hvplot.pandas  # noqa: API import\n",
    "from bokeh.models import PanTool, WheelZoomTool\n",
    "\n",
    "print(\"Packages succesfully loaded\")"
   ]
  },
  {
   "cell_type": "code",
   "execution_count": 2,
   "id": "d5e278d9",
   "metadata": {},
   "outputs": [],
   "source": [
    "# THESE PACKAGES ARE NO LONGER USED\n",
    "\n",
    "# import os\n",
    "\n",
    "# import hvplot.xarray  # noqa: API import\n",
    "# import ipyleaflet\n",
    "# import pandas as pd\n",
    "# import matplotlib.pyplot as plt\n",
    "# import matplotlib.animation as animation\n",
    "# from geoviews import tile_sources as gvts\n",
    "# from ipyleaflet import Map, Marker, ScaleControl, basemaps\n",
    "# import ipywidgets as widgets\n",
    "# from ipywidgets import HTML, interact, fixed, interact_manual, interactive\n",
    "# import IPython\n",
    "# from IPython.display import HTML, display\n",
    "# from random import shuffle, uniform\n",
    "# from coastal_dynamics.geometries import geo_bbox\n",
    "# from PIL import Image"
   ]
  },
  {
   "cell_type": "code",
   "execution_count": 3,
   "id": "6244aec6",
   "metadata": {},
   "outputs": [],
   "source": [
    "# Set project directory\n",
    "cwd = pathlib.Path().resolve()\n",
    "proj_dir = cwd.parent  # this is the root of the CoastalCodeBook\n",
    "sys.path.append(str(proj_dir / \"src\"))\n",
    "\n",
    "DATA_DIR = proj_dir / \"data\"\n",
    "coastal_systems_fp = DATA_DIR / \"01_coastal_systems.gpkg\""
   ]
  },
  {
   "cell_type": "code",
   "execution_count": 4,
   "id": "bf5a59ac",
   "metadata": {},
   "outputs": [
    {
     "data": {
      "application/javascript": "(function(root) {\n  function now() {\n    return new Date();\n  }\n\n  var force = true;\n  var py_version = '3.3.4'.replace('rc', '-rc.').replace('.dev', '-dev.');\n  var reloading = true;\n  var Bokeh = root.Bokeh;\n\n  if (typeof (root._bokeh_timeout) === \"undefined\" || force) {\n    root._bokeh_timeout = Date.now() + 5000;\n    root._bokeh_failed_load = false;\n  }\n\n  function run_callbacks() {\n    try {\n      root._bokeh_onload_callbacks.forEach(function(callback) {\n        if (callback != null)\n          callback();\n      });\n    } finally {\n      delete root._bokeh_onload_callbacks;\n    }\n    console.debug(\"Bokeh: all callbacks have finished\");\n  }\n\n  function load_libs(css_urls, js_urls, js_modules, js_exports, callback) {\n    if (css_urls == null) css_urls = [];\n    if (js_urls == null) js_urls = [];\n    if (js_modules == null) js_modules = [];\n    if (js_exports == null) js_exports = {};\n\n    root._bokeh_onload_callbacks.push(callback);\n\n    if (root._bokeh_is_loading > 0) {\n      console.debug(\"Bokeh: BokehJS is being loaded, scheduling callback at\", now());\n      return null;\n    }\n    if (js_urls.length === 0 && js_modules.length === 0 && Object.keys(js_exports).length === 0) {\n      run_callbacks();\n      return null;\n    }\n    if (!reloading) {\n      console.debug(\"Bokeh: BokehJS not loaded, scheduling load and callback at\", now());\n    }\n\n    function on_load() {\n      root._bokeh_is_loading--;\n      if (root._bokeh_is_loading === 0) {\n        console.debug(\"Bokeh: all BokehJS libraries/stylesheets loaded\");\n        run_callbacks()\n      }\n    }\n    window._bokeh_on_load = on_load\n\n    function on_error() {\n      console.error(\"failed to load \" + url);\n    }\n\n    var skip = [];\n    if (window.requirejs) {\n      window.requirejs.config({'packages': {}, 'paths': {'jspanel': 'https://cdn.jsdelivr.net/npm/jspanel4@4.12.0/dist/jspanel', 'jspanel-modal': 'https://cdn.jsdelivr.net/npm/jspanel4@4.12.0/dist/extensions/modal/jspanel.modal', 'jspanel-tooltip': 'https://cdn.jsdelivr.net/npm/jspanel4@4.12.0/dist/extensions/tooltip/jspanel.tooltip', 'jspanel-hint': 'https://cdn.jsdelivr.net/npm/jspanel4@4.12.0/dist/extensions/hint/jspanel.hint', 'jspanel-layout': 'https://cdn.jsdelivr.net/npm/jspanel4@4.12.0/dist/extensions/layout/jspanel.layout', 'jspanel-contextmenu': 'https://cdn.jsdelivr.net/npm/jspanel4@4.12.0/dist/extensions/contextmenu/jspanel.contextmenu', 'jspanel-dock': 'https://cdn.jsdelivr.net/npm/jspanel4@4.12.0/dist/extensions/dock/jspanel.dock', 'gridstack': 'https://cdn.jsdelivr.net/npm/gridstack@7.2.3/dist/gridstack-all', 'notyf': 'https://cdn.jsdelivr.net/npm/notyf@3/notyf.min'}, 'shim': {'jspanel': {'exports': 'jsPanel'}, 'gridstack': {'exports': 'GridStack'}}});\n      require([\"jspanel\"], function(jsPanel) {\n\twindow.jsPanel = jsPanel\n\ton_load()\n      })\n      require([\"jspanel-modal\"], function() {\n\ton_load()\n      })\n      require([\"jspanel-tooltip\"], function() {\n\ton_load()\n      })\n      require([\"jspanel-hint\"], function() {\n\ton_load()\n      })\n      require([\"jspanel-layout\"], function() {\n\ton_load()\n      })\n      require([\"jspanel-contextmenu\"], function() {\n\ton_load()\n      })\n      require([\"jspanel-dock\"], function() {\n\ton_load()\n      })\n      require([\"gridstack\"], function(GridStack) {\n\twindow.GridStack = GridStack\n\ton_load()\n      })\n      require([\"notyf\"], function() {\n\ton_load()\n      })\n      root._bokeh_is_loading = css_urls.length + 9;\n    } else {\n      root._bokeh_is_loading = css_urls.length + js_urls.length + js_modules.length + Object.keys(js_exports).length;\n    }\n\n    var existing_stylesheets = []\n    var links = document.getElementsByTagName('link')\n    for (var i = 0; i < links.length; i++) {\n      var link = links[i]\n      if (link.href != null) {\n\texisting_stylesheets.push(link.href)\n      }\n    }\n    for (var i = 0; i < css_urls.length; i++) {\n      var url = css_urls[i];\n      if (existing_stylesheets.indexOf(url) !== -1) {\n\ton_load()\n\tcontinue;\n      }\n      const element = document.createElement(\"link\");\n      element.onload = on_load;\n      element.onerror = on_error;\n      element.rel = \"stylesheet\";\n      element.type = \"text/css\";\n      element.href = url;\n      console.debug(\"Bokeh: injecting link tag for BokehJS stylesheet: \", url);\n      document.body.appendChild(element);\n    }    if (((window['jsPanel'] !== undefined) && (!(window['jsPanel'] instanceof HTMLElement))) || window.requirejs) {\n      var urls = ['https://cdn.holoviz.org/panel/1.3.8/dist/bundled/floatpanel/jspanel4@4.12.0/dist/jspanel.js', 'https://cdn.holoviz.org/panel/1.3.8/dist/bundled/floatpanel/jspanel4@4.12.0/dist/extensions/modal/jspanel.modal.js', 'https://cdn.holoviz.org/panel/1.3.8/dist/bundled/floatpanel/jspanel4@4.12.0/dist/extensions/tooltip/jspanel.tooltip.js', 'https://cdn.holoviz.org/panel/1.3.8/dist/bundled/floatpanel/jspanel4@4.12.0/dist/extensions/hint/jspanel.hint.js', 'https://cdn.holoviz.org/panel/1.3.8/dist/bundled/floatpanel/jspanel4@4.12.0/dist/extensions/layout/jspanel.layout.js', 'https://cdn.holoviz.org/panel/1.3.8/dist/bundled/floatpanel/jspanel4@4.12.0/dist/extensions/contextmenu/jspanel.contextmenu.js', 'https://cdn.holoviz.org/panel/1.3.8/dist/bundled/floatpanel/jspanel4@4.12.0/dist/extensions/dock/jspanel.dock.js'];\n      for (var i = 0; i < urls.length; i++) {\n        skip.push(urls[i])\n      }\n    }    if (((window['GridStack'] !== undefined) && (!(window['GridStack'] instanceof HTMLElement))) || window.requirejs) {\n      var urls = ['https://cdn.holoviz.org/panel/1.3.8/dist/bundled/gridstack/gridstack@7.2.3/dist/gridstack-all.js'];\n      for (var i = 0; i < urls.length; i++) {\n        skip.push(urls[i])\n      }\n    }    if (((window['Notyf'] !== undefined) && (!(window['Notyf'] instanceof HTMLElement))) || window.requirejs) {\n      var urls = ['https://cdn.holoviz.org/panel/1.3.8/dist/bundled/notificationarea/notyf@3/notyf.min.js'];\n      for (var i = 0; i < urls.length; i++) {\n        skip.push(urls[i])\n      }\n    }    var existing_scripts = []\n    var scripts = document.getElementsByTagName('script')\n    for (var i = 0; i < scripts.length; i++) {\n      var script = scripts[i]\n      if (script.src != null) {\n\texisting_scripts.push(script.src)\n      }\n    }\n    for (var i = 0; i < js_urls.length; i++) {\n      var url = js_urls[i];\n      if (skip.indexOf(url) !== -1 || existing_scripts.indexOf(url) !== -1) {\n\tif (!window.requirejs) {\n\t  on_load();\n\t}\n\tcontinue;\n      }\n      var element = document.createElement('script');\n      element.onload = on_load;\n      element.onerror = on_error;\n      element.async = false;\n      element.src = url;\n      console.debug(\"Bokeh: injecting script tag for BokehJS library: \", url);\n      document.head.appendChild(element);\n    }\n    for (var i = 0; i < js_modules.length; i++) {\n      var url = js_modules[i];\n      if (skip.indexOf(url) !== -1 || existing_scripts.indexOf(url) !== -1) {\n\tif (!window.requirejs) {\n\t  on_load();\n\t}\n\tcontinue;\n      }\n      var element = document.createElement('script');\n      element.onload = on_load;\n      element.onerror = on_error;\n      element.async = false;\n      element.src = url;\n      element.type = \"module\";\n      console.debug(\"Bokeh: injecting script tag for BokehJS library: \", url);\n      document.head.appendChild(element);\n    }\n    for (const name in js_exports) {\n      var url = js_exports[name];\n      if (skip.indexOf(url) >= 0 || root[name] != null) {\n\tif (!window.requirejs) {\n\t  on_load();\n\t}\n\tcontinue;\n      }\n      var element = document.createElement('script');\n      element.onerror = on_error;\n      element.async = false;\n      element.type = \"module\";\n      console.debug(\"Bokeh: injecting script tag for BokehJS library: \", url);\n      element.textContent = `\n      import ${name} from \"${url}\"\n      window.${name} = ${name}\n      window._bokeh_on_load()\n      `\n      document.head.appendChild(element);\n    }\n    if (!js_urls.length && !js_modules.length) {\n      on_load()\n    }\n  };\n\n  function inject_raw_css(css) {\n    const element = document.createElement(\"style\");\n    element.appendChild(document.createTextNode(css));\n    document.body.appendChild(element);\n  }\n\n  var js_urls = [];\n  var js_modules = [];\n  var js_exports = {};\n  var css_urls = [];\n  var inline_js = [    function(Bokeh) {\n      Bokeh.set_log_level(\"info\");\n    },\nfunction(Bokeh) {} // ensure no trailing comma for IE\n  ];\n\n  function run_inline_js() {\n    if ((root.Bokeh !== undefined) || (force === true)) {\n      for (var i = 0; i < inline_js.length; i++) {\n\ttry {\n          inline_js[i].call(root, root.Bokeh);\n\t} catch(e) {\n\t  if (!reloading) {\n\t    throw e;\n\t  }\n\t}\n      }\n      // Cache old bokeh versions\n      if (Bokeh != undefined && !reloading) {\n\tvar NewBokeh = root.Bokeh;\n\tif (Bokeh.versions === undefined) {\n\t  Bokeh.versions = new Map();\n\t}\n\tif (NewBokeh.version !== Bokeh.version) {\n\t  Bokeh.versions.set(NewBokeh.version, NewBokeh)\n\t}\n\troot.Bokeh = Bokeh;\n      }} else if (Date.now() < root._bokeh_timeout) {\n      setTimeout(run_inline_js, 100);\n    } else if (!root._bokeh_failed_load) {\n      console.log(\"Bokeh: BokehJS failed to load within specified timeout.\");\n      root._bokeh_failed_load = true;\n    }\n    root._bokeh_is_initializing = false\n  }\n\n  function load_or_wait() {\n    // Implement a backoff loop that tries to ensure we do not load multiple\n    // versions of Bokeh and its dependencies at the same time.\n    // In recent versions we use the root._bokeh_is_initializing flag\n    // to determine whether there is an ongoing attempt to initialize\n    // bokeh, however for backward compatibility we also try to ensure\n    // that we do not start loading a newer (Panel>=1.0 and Bokeh>3) version\n    // before older versions are fully initialized.\n    if (root._bokeh_is_initializing && Date.now() > root._bokeh_timeout) {\n      root._bokeh_is_initializing = false;\n      root._bokeh_onload_callbacks = undefined;\n      console.log(\"Bokeh: BokehJS was loaded multiple times but one version failed to initialize.\");\n      load_or_wait();\n    } else if (root._bokeh_is_initializing || (typeof root._bokeh_is_initializing === \"undefined\" && root._bokeh_onload_callbacks !== undefined)) {\n      setTimeout(load_or_wait, 100);\n    } else {\n      root._bokeh_is_initializing = true\n      root._bokeh_onload_callbacks = []\n      var bokeh_loaded = Bokeh != null && (Bokeh.version === py_version || (Bokeh.versions !== undefined && Bokeh.versions.has(py_version)));\n      if (!reloading && !bokeh_loaded) {\n\troot.Bokeh = undefined;\n      }\n      load_libs(css_urls, js_urls, js_modules, js_exports, function() {\n\tconsole.debug(\"Bokeh: BokehJS plotting callback run at\", now());\n\trun_inline_js();\n      });\n    }\n  }\n  // Give older versions of the autoload script a head-start to ensure\n  // they initialize before we start loading newer version.\n  setTimeout(load_or_wait, 100)\n}(window));",
      "application/vnd.holoviews_load.v0+json": ""
     },
     "metadata": {},
     "output_type": "display_data"
    },
    {
     "data": {
      "application/javascript": "\nif ((window.PyViz === undefined) || (window.PyViz instanceof HTMLElement)) {\n  window.PyViz = {comms: {}, comm_status:{}, kernels:{}, receivers: {}, plot_index: []}\n}\n\n\n    function JupyterCommManager() {\n    }\n\n    JupyterCommManager.prototype.register_target = function(plot_id, comm_id, msg_handler) {\n      if (window.comm_manager || ((window.Jupyter !== undefined) && (Jupyter.notebook.kernel != null))) {\n        var comm_manager = window.comm_manager || Jupyter.notebook.kernel.comm_manager;\n        comm_manager.register_target(comm_id, function(comm) {\n          comm.on_msg(msg_handler);\n        });\n      } else if ((plot_id in window.PyViz.kernels) && (window.PyViz.kernels[plot_id])) {\n        window.PyViz.kernels[plot_id].registerCommTarget(comm_id, function(comm) {\n          comm.onMsg = msg_handler;\n        });\n      } else if (typeof google != 'undefined' && google.colab.kernel != null) {\n        google.colab.kernel.comms.registerTarget(comm_id, (comm) => {\n          var messages = comm.messages[Symbol.asyncIterator]();\n          function processIteratorResult(result) {\n            var message = result.value;\n            console.log(message)\n            var content = {data: message.data, comm_id};\n            var buffers = []\n            for (var buffer of message.buffers || []) {\n              buffers.push(new DataView(buffer))\n            }\n            var metadata = message.metadata || {};\n            var msg = {content, buffers, metadata}\n            msg_handler(msg);\n            return messages.next().then(processIteratorResult);\n          }\n          return messages.next().then(processIteratorResult);\n        })\n      }\n    }\n\n    JupyterCommManager.prototype.get_client_comm = function(plot_id, comm_id, msg_handler) {\n      if (comm_id in window.PyViz.comms) {\n        return window.PyViz.comms[comm_id];\n      } else if (window.comm_manager || ((window.Jupyter !== undefined) && (Jupyter.notebook.kernel != null))) {\n        var comm_manager = window.comm_manager || Jupyter.notebook.kernel.comm_manager;\n        var comm = comm_manager.new_comm(comm_id, {}, {}, {}, comm_id);\n        if (msg_handler) {\n          comm.on_msg(msg_handler);\n        }\n      } else if ((plot_id in window.PyViz.kernels) && (window.PyViz.kernels[plot_id])) {\n        var comm = window.PyViz.kernels[plot_id].connectToComm(comm_id);\n        comm.open();\n        if (msg_handler) {\n          comm.onMsg = msg_handler;\n        }\n      } else if (typeof google != 'undefined' && google.colab.kernel != null) {\n        var comm_promise = google.colab.kernel.comms.open(comm_id)\n        comm_promise.then((comm) => {\n          window.PyViz.comms[comm_id] = comm;\n          if (msg_handler) {\n            var messages = comm.messages[Symbol.asyncIterator]();\n            function processIteratorResult(result) {\n              var message = result.value;\n              var content = {data: message.data};\n              var metadata = message.metadata || {comm_id};\n              var msg = {content, metadata}\n              msg_handler(msg);\n              return messages.next().then(processIteratorResult);\n            }\n            return messages.next().then(processIteratorResult);\n          }\n        }) \n        var sendClosure = (data, metadata, buffers, disposeOnDone) => {\n          return comm_promise.then((comm) => {\n            comm.send(data, metadata, buffers, disposeOnDone);\n          });\n        };\n        var comm = {\n          send: sendClosure\n        };\n      }\n      window.PyViz.comms[comm_id] = comm;\n      return comm;\n    }\n    window.PyViz.comm_manager = new JupyterCommManager();\n    \n\n\nvar JS_MIME_TYPE = 'application/javascript';\nvar HTML_MIME_TYPE = 'text/html';\nvar EXEC_MIME_TYPE = 'application/vnd.holoviews_exec.v0+json';\nvar CLASS_NAME = 'output';\n\n/**\n * Render data to the DOM node\n */\nfunction render(props, node) {\n  var div = document.createElement(\"div\");\n  var script = document.createElement(\"script\");\n  node.appendChild(div);\n  node.appendChild(script);\n}\n\n/**\n * Handle when a new output is added\n */\nfunction handle_add_output(event, handle) {\n  var output_area = handle.output_area;\n  var output = handle.output;\n  if ((output.data == undefined) || (!output.data.hasOwnProperty(EXEC_MIME_TYPE))) {\n    return\n  }\n  var id = output.metadata[EXEC_MIME_TYPE][\"id\"];\n  var toinsert = output_area.element.find(\".\" + CLASS_NAME.split(' ')[0]);\n  if (id !== undefined) {\n    var nchildren = toinsert.length;\n    var html_node = toinsert[nchildren-1].children[0];\n    html_node.innerHTML = output.data[HTML_MIME_TYPE];\n    var scripts = [];\n    var nodelist = html_node.querySelectorAll(\"script\");\n    for (var i in nodelist) {\n      if (nodelist.hasOwnProperty(i)) {\n        scripts.push(nodelist[i])\n      }\n    }\n\n    scripts.forEach( function (oldScript) {\n      var newScript = document.createElement(\"script\");\n      var attrs = [];\n      var nodemap = oldScript.attributes;\n      for (var j in nodemap) {\n        if (nodemap.hasOwnProperty(j)) {\n          attrs.push(nodemap[j])\n        }\n      }\n      attrs.forEach(function(attr) { newScript.setAttribute(attr.name, attr.value) });\n      newScript.appendChild(document.createTextNode(oldScript.innerHTML));\n      oldScript.parentNode.replaceChild(newScript, oldScript);\n    });\n    if (JS_MIME_TYPE in output.data) {\n      toinsert[nchildren-1].children[1].textContent = output.data[JS_MIME_TYPE];\n    }\n    output_area._hv_plot_id = id;\n    if ((window.Bokeh !== undefined) && (id in Bokeh.index)) {\n      window.PyViz.plot_index[id] = Bokeh.index[id];\n    } else {\n      window.PyViz.plot_index[id] = null;\n    }\n  } else if (output.metadata[EXEC_MIME_TYPE][\"server_id\"] !== undefined) {\n    var bk_div = document.createElement(\"div\");\n    bk_div.innerHTML = output.data[HTML_MIME_TYPE];\n    var script_attrs = bk_div.children[0].attributes;\n    for (var i = 0; i < script_attrs.length; i++) {\n      toinsert[toinsert.length - 1].childNodes[1].setAttribute(script_attrs[i].name, script_attrs[i].value);\n    }\n    // store reference to server id on output_area\n    output_area._bokeh_server_id = output.metadata[EXEC_MIME_TYPE][\"server_id\"];\n  }\n}\n\n/**\n * Handle when an output is cleared or removed\n */\nfunction handle_clear_output(event, handle) {\n  var id = handle.cell.output_area._hv_plot_id;\n  var server_id = handle.cell.output_area._bokeh_server_id;\n  if (((id === undefined) || !(id in PyViz.plot_index)) && (server_id !== undefined)) { return; }\n  var comm = window.PyViz.comm_manager.get_client_comm(\"hv-extension-comm\", \"hv-extension-comm\", function () {});\n  if (server_id !== null) {\n    comm.send({event_type: 'server_delete', 'id': server_id});\n    return;\n  } else if (comm !== null) {\n    comm.send({event_type: 'delete', 'id': id});\n  }\n  delete PyViz.plot_index[id];\n  if ((window.Bokeh !== undefined) & (id in window.Bokeh.index)) {\n    var doc = window.Bokeh.index[id].model.document\n    doc.clear();\n    const i = window.Bokeh.documents.indexOf(doc);\n    if (i > -1) {\n      window.Bokeh.documents.splice(i, 1);\n    }\n  }\n}\n\n/**\n * Handle kernel restart event\n */\nfunction handle_kernel_cleanup(event, handle) {\n  delete PyViz.comms[\"hv-extension-comm\"];\n  window.PyViz.plot_index = {}\n}\n\n/**\n * Handle update_display_data messages\n */\nfunction handle_update_output(event, handle) {\n  handle_clear_output(event, {cell: {output_area: handle.output_area}})\n  handle_add_output(event, handle)\n}\n\nfunction register_renderer(events, OutputArea) {\n  function append_mime(data, metadata, element) {\n    // create a DOM node to render to\n    var toinsert = this.create_output_subarea(\n    metadata,\n    CLASS_NAME,\n    EXEC_MIME_TYPE\n    );\n    this.keyboard_manager.register_events(toinsert);\n    // Render to node\n    var props = {data: data, metadata: metadata[EXEC_MIME_TYPE]};\n    render(props, toinsert[0]);\n    element.append(toinsert);\n    return toinsert\n  }\n\n  events.on('output_added.OutputArea', handle_add_output);\n  events.on('output_updated.OutputArea', handle_update_output);\n  events.on('clear_output.CodeCell', handle_clear_output);\n  events.on('delete.Cell', handle_clear_output);\n  events.on('kernel_ready.Kernel', handle_kernel_cleanup);\n\n  OutputArea.prototype.register_mime_type(EXEC_MIME_TYPE, append_mime, {\n    safe: true,\n    index: 0\n  });\n}\n\nif (window.Jupyter !== undefined) {\n  try {\n    var events = require('base/js/events');\n    var OutputArea = require('notebook/js/outputarea').OutputArea;\n    if (OutputArea.prototype.mime_types().indexOf(EXEC_MIME_TYPE) == -1) {\n      register_renderer(events, OutputArea);\n    }\n  } catch(err) {\n  }\n}\n",
      "application/vnd.holoviews_load.v0+json": ""
     },
     "metadata": {},
     "output_type": "display_data"
    },
    {
     "data": {
      "text/html": [
       "<style>*[data-root-id],\n",
       "*[data-root-id] > * {\n",
       "  box-sizing: border-box;\n",
       "  font-family: var(--jp-ui-font-family);\n",
       "  font-size: var(--jp-ui-font-size1);\n",
       "  color: var(--vscode-editor-foreground, var(--jp-ui-font-color1));\n",
       "}\n",
       "\n",
       "/* Override VSCode background color */\n",
       ".cell-output-ipywidget-background:has(\n",
       "    > .cell-output-ipywidget-background > .lm-Widget > *[data-root-id]\n",
       "  ),\n",
       ".cell-output-ipywidget-background:has(> .lm-Widget > *[data-root-id]) {\n",
       "  background-color: transparent !important;\n",
       "}\n",
       "</style>"
      ]
     },
     "metadata": {},
     "output_type": "display_data"
    },
    {
     "data": {
      "application/vnd.holoviews_exec.v0+json": "",
      "text/html": [
       "<div id='e748032b-8416-4e47-ab3a-d799072961f0'>\n",
       "  <div id=\"e614ddc8-6f5d-4a8b-9330-361f9a46df17\" data-root-id=\"e748032b-8416-4e47-ab3a-d799072961f0\" style=\"display: contents;\"></div>\n",
       "</div>\n",
       "<script type=\"application/javascript\">(function(root) {\n",
       "  var docs_json = {\"52ed3860-f09e-4a0a-bc1c-aab9abc9fec3\":{\"version\":\"3.3.4\",\"title\":\"Bokeh Application\",\"roots\":[{\"type\":\"object\",\"name\":\"panel.models.browser.BrowserInfo\",\"id\":\"e748032b-8416-4e47-ab3a-d799072961f0\"},{\"type\":\"object\",\"name\":\"panel.models.comm_manager.CommManager\",\"id\":\"a7c945c6-5163-4ce6-8900-1dcee2006e3a\",\"attributes\":{\"plot_id\":\"e748032b-8416-4e47-ab3a-d799072961f0\",\"comm_id\":\"6b0ad9dbe5544acb9375f4a88a03a60b\",\"client_comm_id\":\"ee610f426eb74b2faf667c34f655381b\"}}],\"defs\":[{\"type\":\"model\",\"name\":\"ReactiveHTML1\"},{\"type\":\"model\",\"name\":\"FlexBox1\",\"properties\":[{\"name\":\"align_content\",\"kind\":\"Any\",\"default\":\"flex-start\"},{\"name\":\"align_items\",\"kind\":\"Any\",\"default\":\"flex-start\"},{\"name\":\"flex_direction\",\"kind\":\"Any\",\"default\":\"row\"},{\"name\":\"flex_wrap\",\"kind\":\"Any\",\"default\":\"wrap\"},{\"name\":\"justify_content\",\"kind\":\"Any\",\"default\":\"flex-start\"}]},{\"type\":\"model\",\"name\":\"FloatPanel1\",\"properties\":[{\"name\":\"config\",\"kind\":\"Any\",\"default\":{\"type\":\"map\"}},{\"name\":\"contained\",\"kind\":\"Any\",\"default\":true},{\"name\":\"position\",\"kind\":\"Any\",\"default\":\"right-top\"},{\"name\":\"offsetx\",\"kind\":\"Any\",\"default\":null},{\"name\":\"offsety\",\"kind\":\"Any\",\"default\":null},{\"name\":\"theme\",\"kind\":\"Any\",\"default\":\"primary\"},{\"name\":\"status\",\"kind\":\"Any\",\"default\":\"normalized\"}]},{\"type\":\"model\",\"name\":\"GridStack1\",\"properties\":[{\"name\":\"mode\",\"kind\":\"Any\",\"default\":\"warn\"},{\"name\":\"ncols\",\"kind\":\"Any\",\"default\":null},{\"name\":\"nrows\",\"kind\":\"Any\",\"default\":null},{\"name\":\"allow_resize\",\"kind\":\"Any\",\"default\":true},{\"name\":\"allow_drag\",\"kind\":\"Any\",\"default\":true},{\"name\":\"state\",\"kind\":\"Any\",\"default\":[]}]},{\"type\":\"model\",\"name\":\"drag1\",\"properties\":[{\"name\":\"slider_width\",\"kind\":\"Any\",\"default\":5},{\"name\":\"slider_color\",\"kind\":\"Any\",\"default\":\"black\"},{\"name\":\"value\",\"kind\":\"Any\",\"default\":50}]},{\"type\":\"model\",\"name\":\"click1\",\"properties\":[{\"name\":\"terminal_output\",\"kind\":\"Any\",\"default\":\"\"},{\"name\":\"debug_name\",\"kind\":\"Any\",\"default\":\"\"},{\"name\":\"clears\",\"kind\":\"Any\",\"default\":0}]},{\"type\":\"model\",\"name\":\"copy_to_clipboard1\",\"properties\":[{\"name\":\"fill\",\"kind\":\"Any\",\"default\":\"none\"},{\"name\":\"value\",\"kind\":\"Any\",\"default\":null}]},{\"type\":\"model\",\"name\":\"FastWrapper1\",\"properties\":[{\"name\":\"object\",\"kind\":\"Any\",\"default\":null},{\"name\":\"style\",\"kind\":\"Any\",\"default\":null}]},{\"type\":\"model\",\"name\":\"NotificationAreaBase1\",\"properties\":[{\"name\":\"js_events\",\"kind\":\"Any\",\"default\":{\"type\":\"map\"}},{\"name\":\"position\",\"kind\":\"Any\",\"default\":\"bottom-right\"},{\"name\":\"_clear\",\"kind\":\"Any\",\"default\":0}]},{\"type\":\"model\",\"name\":\"NotificationArea1\",\"properties\":[{\"name\":\"js_events\",\"kind\":\"Any\",\"default\":{\"type\":\"map\"}},{\"name\":\"notifications\",\"kind\":\"Any\",\"default\":[]},{\"name\":\"position\",\"kind\":\"Any\",\"default\":\"bottom-right\"},{\"name\":\"_clear\",\"kind\":\"Any\",\"default\":0},{\"name\":\"types\",\"kind\":\"Any\",\"default\":[{\"type\":\"map\",\"entries\":[[\"type\",\"warning\"],[\"background\",\"#ffc107\"],[\"icon\",{\"type\":\"map\",\"entries\":[[\"className\",\"fas fa-exclamation-triangle\"],[\"tagName\",\"i\"],[\"color\",\"white\"]]}]]},{\"type\":\"map\",\"entries\":[[\"type\",\"info\"],[\"background\",\"#007bff\"],[\"icon\",{\"type\":\"map\",\"entries\":[[\"className\",\"fas fa-info-circle\"],[\"tagName\",\"i\"],[\"color\",\"white\"]]}]]}]}]},{\"type\":\"model\",\"name\":\"Notification\",\"properties\":[{\"name\":\"background\",\"kind\":\"Any\",\"default\":null},{\"name\":\"duration\",\"kind\":\"Any\",\"default\":3000},{\"name\":\"icon\",\"kind\":\"Any\",\"default\":null},{\"name\":\"message\",\"kind\":\"Any\",\"default\":\"\"},{\"name\":\"notification_type\",\"kind\":\"Any\",\"default\":null},{\"name\":\"_destroyed\",\"kind\":\"Any\",\"default\":false}]},{\"type\":\"model\",\"name\":\"TemplateActions1\",\"properties\":[{\"name\":\"open_modal\",\"kind\":\"Any\",\"default\":0},{\"name\":\"close_modal\",\"kind\":\"Any\",\"default\":0}]},{\"type\":\"model\",\"name\":\"BootstrapTemplateActions1\",\"properties\":[{\"name\":\"open_modal\",\"kind\":\"Any\",\"default\":0},{\"name\":\"close_modal\",\"kind\":\"Any\",\"default\":0}]},{\"type\":\"model\",\"name\":\"MaterialTemplateActions1\",\"properties\":[{\"name\":\"open_modal\",\"kind\":\"Any\",\"default\":0},{\"name\":\"close_modal\",\"kind\":\"Any\",\"default\":0}]}]}};\n",
       "  var render_items = [{\"docid\":\"52ed3860-f09e-4a0a-bc1c-aab9abc9fec3\",\"roots\":{\"e748032b-8416-4e47-ab3a-d799072961f0\":\"e614ddc8-6f5d-4a8b-9330-361f9a46df17\"},\"root_ids\":[\"e748032b-8416-4e47-ab3a-d799072961f0\"]}];\n",
       "  var docs = Object.values(docs_json)\n",
       "  if (!docs) {\n",
       "    return\n",
       "  }\n",
       "  const py_version = docs[0].version.replace('rc', '-rc.').replace('.dev', '-dev.')\n",
       "  function embed_document(root) {\n",
       "    var Bokeh = get_bokeh(root)\n",
       "    Bokeh.embed.embed_items_notebook(docs_json, render_items);\n",
       "    for (const render_item of render_items) {\n",
       "      for (const root_id of render_item.root_ids) {\n",
       "\tconst id_el = document.getElementById(root_id)\n",
       "\tif (id_el.children.length && (id_el.children[0].className === 'bk-root')) {\n",
       "\t  const root_el = id_el.children[0]\n",
       "\t  root_el.id = root_el.id + '-rendered'\n",
       "\t}\n",
       "      }\n",
       "    }\n",
       "  }\n",
       "  function get_bokeh(root) {\n",
       "    if (root.Bokeh === undefined) {\n",
       "      return null\n",
       "    } else if (root.Bokeh.version !== py_version) {\n",
       "      if (root.Bokeh.versions === undefined || !root.Bokeh.versions.has(py_version)) {\n",
       "\treturn null\n",
       "      }\n",
       "      return root.Bokeh.versions.get(py_version);\n",
       "    } else if (root.Bokeh.version === py_version) {\n",
       "      return root.Bokeh\n",
       "    }\n",
       "    return null\n",
       "  }\n",
       "  function is_loaded(root) {\n",
       "    var Bokeh = get_bokeh(root)\n",
       "    return (Bokeh != null && Bokeh.Panel !== undefined)\n",
       "  }\n",
       "  if (is_loaded(root)) {\n",
       "    embed_document(root);\n",
       "  } else {\n",
       "    var attempts = 0;\n",
       "    var timer = setInterval(function(root) {\n",
       "      if (is_loaded(root)) {\n",
       "        clearInterval(timer);\n",
       "        embed_document(root);\n",
       "      } else if (document.readyState == \"complete\") {\n",
       "        attempts++;\n",
       "        if (attempts > 200) {\n",
       "          clearInterval(timer);\n",
       "\t  var Bokeh = get_bokeh(root)\n",
       "\t  if (Bokeh == null || Bokeh.Panel == null) {\n",
       "            console.warn(\"Panel: ERROR: Unable to run Panel code because Bokeh or Panel library is missing\");\n",
       "\t  } else {\n",
       "\t    console.warn(\"Panel: WARNING: Attempting to render but not all required libraries could be resolved.\")\n",
       "\t    embed_document(root)\n",
       "\t  }\n",
       "        }\n",
       "      }\n",
       "    }, 25, root)\n",
       "  }\n",
       "})(window);</script>"
      ]
     },
     "metadata": {
      "application/vnd.holoviews_exec.v0+json": {
       "id": "e748032b-8416-4e47-ab3a-d799072961f0"
      }
     },
     "output_type": "display_data"
    }
   ],
   "source": [
    "# Set up the questions\n",
    "import coastal_dynamics as cd\n",
    "from coastal_dynamics.io import load_questions\n",
    "\n",
    "# Activate the Panel widget to make the visualizations.\n",
    "pn.extension()\n",
    "\n",
    "QUESTION_DIR = pathlib.Path.cwd().parent / \"notebooks\" / \"questions\"\n",
    "question_fp = QUESTION_DIR / \"1_coastal_classification.json\"\n",
    "\n",
    "questions = load_questions(question_fp)"
   ]
  },
  {
   "cell_type": "markdown",
   "id": "0aba7093-28fd-44dc-97f6-a626f50f1b2e",
   "metadata": {},
   "source": [
    "## Part 1: Tectonic classification"
   ]
  },
  {
   "cell_type": "markdown",
   "id": "5964cab0-7e98-47c6-b3b5-f03e563cfd5c",
   "metadata": {},
   "source": [
    "In this notebook we will start with the broadest (or first order) features of the coast that cover large geographical distances (thousands of kilometres) and are linked to the long-term geological process of plate tectonics. We will do so by using earthquake data from the [USGS](https://earthquake.usgs.gov/earthquakes/search/). The dataset we load contains a sample (10\\%) of observed eartquakes between Jan 2000 and Dec 2018. Why earthquake data? Earthquake data reveals geologists the mysteries of the deep, but also for coastal researchers the data is insightful. Let's first load the data by running the next cells. "
   ]
  },
  {
   "cell_type": "markdown",
   "id": "afef8413-6aaf-417a-9151-96bec27d8ae6",
   "metadata": {},
   "source": [
    "### Load the earthquake data\n",
    "\n",
    "We load the data (tabular data including geometries) and index the columns to only keep the data in memory that we actually need. In total the dataset contains 2.2 million earthquakes, but here we use a sample (10\\%), so the data contains approx. 220k eartquake entries. If you find that the interactive panel responds slow to how you adjust the widgets, please consider to take another sample. You can do so by uncommenting the sample line in the next cell. So if you set frac=0.1 you have a dataframe with approx. 22k unique earthquakes over the world. \n",
    " "
   ]
  },
  {
   "cell_type": "code",
   "execution_count": 5,
   "id": "4938443e-bf3c-4c14-b171-5b721b19b9c7",
   "metadata": {
    "tags": []
   },
   "outputs": [],
   "source": [
    "WEB_MERCATOR_LIMITS = (\n",
    "    -20037508.342789244,\n",
    "    20037508.342789244,\n",
    ")  # max polar latitudes that can be handled in World Mercator\n",
    "\n",
    "df = (\n",
    "    dd.read_parquet(DATA_DIR / \"01_earthquakes_sample.parquet\")\n",
    "    .sample(\n",
    "        frac=0.1\n",
    "    )  # uncomment this line if loading the data takes too long on your computer\n",
    "    .set_index(\"time\")\n",
    "    .compute()\n",
    "    .tz_localize(None)\n",
    "    .sort_index()\n",
    ")\n",
    "\n",
    "\n",
    "# To save memory we drop most of the columns. Also we drop the polar latitudes that cannot be displayed in the web mercator projection.\n",
    "df = df[[\"mag\", \"depth\", \"latitude\", \"longitude\", \"place\", \"type\"]][\n",
    "    df[\"northing\"] < WEB_MERCATOR_LIMITS[1]\n",
    "]\n",
    "# df.head()"
   ]
  },
  {
   "cell_type": "code",
   "execution_count": 8,
   "id": "096a65ce",
   "metadata": {},
   "outputs": [],
   "source": [
    "# Let's get data for the -200m isobaths!\n",
    "\n",
    "data200 = gpd.read_file(str(proj_dir / \"data/01_coastal_systems_isobaths200.gpkg\"))"
   ]
  },
  {
   "cell_type": "code",
   "execution_count": 9,
   "id": "197d1c76",
   "metadata": {},
   "outputs": [],
   "source": [
    "# To make plotting a bit faster, we only use isobaths longer than a certain length. We therefore first\n",
    "# have to project to a new coordinate system to get the lengths of the isobaths, and use that as a\n",
    "# mask to select the isobaths we want to keep\n",
    "data200['length'] = data200.to_crs('EPSG:3857').geometry.length\n",
    "data200 = data200[data200['length']>5*10**6]"
   ]
  },
  {
   "cell_type": "markdown",
   "id": "2fd26216-4946-495d-8b81-66c90dcf08f2",
   "metadata": {},
   "source": [
    "### Visualization of the earthquake data\n",
    "\n",
    "To explore the data we use visualization tools from the [Holoviz project](https://holoviz.org/) that makes high-level tools to simplify visualization in Python. In the next cell we enable the interactive mode on the data dataframe, create widgets to explore the data and filter the dataframe accordingly. To explore the eartquake data we create an overlay of the eartquakes on a tileset of ESRI Imagery. Please note that the code in the next cell will only do the computations and store the result in an object called `panel`. To actually see the results you have to run one more cell; the one that calls this object panel. \n",
    "\n"
   ]
  },
  {
   "cell_type": "code",
   "execution_count": 14,
   "id": "7edf870f-1082-4b16-922f-e46fb7297d24",
   "metadata": {
    "tags": []
   },
   "outputs": [],
   "source": [
    "title_bar =  pn.pane.Markdown(\n",
    "        \"## Part 1: Tectonic classification\",\n",
    "        styles={\"color\": \"black\"},\n",
    "        width=400,\n",
    "        # margin=(10, 5, 10, 15),\n",
    "    )\n",
    "\n",
    "# define widgets that can be used to index the data\n",
    "magnitude_slider = pn.widgets.RangeSlider(\n",
    "    name=\"Earthquake magnitude [Richter]\", start=0.1, end=10\n",
    ")\n",
    "depth_slider = pn.widgets.RangeSlider(name=\"Earthquake depth [km]\", start=0.1, end=650)\n",
    "date_slider = pn.widgets.DateRangeSlider(\n",
    "    name=\"Date\", start=df.index[0], end=df.index[-1]\n",
    ")\n",
    "column_types = pn.widgets.Select(name='Show earthquake magnitude or depth?', options=[\"mag\", \"depth\"])\n",
    "\n",
    "plot_isobaths = pn.widgets.Select(name='Plot isobaths -200m?', options=['no', 'yes'])\n",
    "\n",
    "\n",
    "@pn.depends(\n",
    "    magnitude_slider.param.value_start,\n",
    "    magnitude_slider.param.value_end,\n",
    "    depth_slider.param.value_start,\n",
    "    depth_slider.param.value_end,\n",
    "    date_slider.param.value_start,\n",
    "    date_slider.param.value_end,\n",
    "    column_types.param.value,\n",
    "    plot_isobaths.param.value,\n",
    ")\n",
    "def plot_earthquake_panel(\n",
    "    magnitude_start,\n",
    "    magnitude_end,\n",
    "    depth_start,\n",
    "    depth_end,\n",
    "    date_start,\n",
    "    date_end,\n",
    "    column_type,\n",
    "    plot_isobath\n",
    "):\n",
    "    panel = df[\n",
    "        (df.mag > magnitude_start)\n",
    "        & (df.mag < magnitude_end)\n",
    "        & (df.depth > depth_start)\n",
    "        & (df.depth < depth_end)\n",
    "        & (df.index >= date_start)\n",
    "        & (df.index <= date_end)\n",
    "    ]\n",
    "    # inverted fire colormap from colorcet\n",
    "    cmap = cc.CET_L4[::-1]\n",
    "    colorbar_labels = {\"mag\": \"Magnitude [Richter]\", \"depth\": \"Earthquake depth [km]\"}\n",
    "\n",
    "    p = panel.hvplot.points(\n",
    "        x=\"longitude\",\n",
    "        y=\"latitude\",\n",
    "        geo=True,\n",
    "        color=column_type,\n",
    "        global_extent=True,\n",
    "        tiles=\"ESRI\",\n",
    "        # frame_width=900,\n",
    "        ylabel=\"Latitude [deg]\",\n",
    "        xlabel=\"Longitude [deg]\",\n",
    "        cmap=cmap,\n",
    "        tools=[\"tap\"],\n",
    "        hover_cols=[\"place\", \"time\"],\n",
    "        logz=True,\n",
    "        clim=(1, None),\n",
    "        clabel=colorbar_labels[column_type],\n",
    "    )\n",
    "\n",
    "    if plot_isobath=='yes':\n",
    "        baths = data200.hvplot(geo=True, line_width=2, line_color='white', line_dash='dashed')\n",
    "        p = p*baths\n",
    "\n",
    "    p.opts(width=1000, height=500, tools=[\"wheel_zoom\"])\n",
    "\n",
    "    return p\n",
    "\n",
    "\n",
    "earthquake_panel = pn.Column(pn.Row(\n",
    "    pn.Column(\n",
    "    pn.Row(title_bar, align='start'),\n",
    "    pn.Row(plot_isobaths, align=\"start\"),\n",
    "    pn.Row(column_types, align=\"start\"),\n",
    "    ),\n",
    "    pn.Column(\n",
    "    pn.Row(magnitude_slider, align=\"start\"),\n",
    "    pn.Row(depth_slider, align=\"start\"),\n",
    "    pn.Row(date_slider, align=\"start\"),\n",
    "    ), pn.Column()\n",
    "    ),\n",
    "    pn.Row(plot_earthquake_panel, align=\"center\"),\n",
    ")"
   ]
  },
  {
   "cell_type": "code",
   "execution_count": 15,
   "id": "ab73e969-86c6-4145-b408-93189c5df66f",
   "metadata": {},
   "outputs": [],
   "source": [
    "# change value of 'plot_where' to:\n",
    "# 'inline' if you would like the plot to show in the notebook\n",
    "# 'pop-out' if you would like the plot to show in a new tab (i.e. seperate window)\n",
    "\n",
    "plot_where = \"pop-out\""
   ]
  },
  {
   "cell_type": "markdown",
   "id": "6677f6fa-4fae-4b9a-8a7a-457cda4e306e",
   "metadata": {},
   "source": [
    "**If the visualization is too slow, please follow the instructions in loading the data for taking a sample.**\n",
    "\n",
    "After running the cell below you will have a panel with several widgets to index the eartquake data; by magnitude, depth and time, while the colors on the map show either the magintude or the depth of the earthquakes. "
   ]
  },
  {
   "cell_type": "code",
   "execution_count": 16,
   "id": "bae161ca-3551-42bb-b8bd-75d2a34392a3",
   "metadata": {
    "tags": []
   },
   "outputs": [
    {
     "name": "stdout",
     "output_type": "stream",
     "text": [
      "Launching server at http://localhost:61512\n"
     ]
    }
   ],
   "source": [
    "def show_earthquake(plot_where):\n",
    "    if plot_where == \"inline\":\n",
    "        return earthquake_panel\n",
    "    elif plot_where == \"pop-out\":\n",
    "        earthquake_panel.show()\n",
    "    else:\n",
    "        print(\"please use either inline or pop-out for the plot_where variable\")\n",
    "\n",
    "\n",
    "show_earthquake(plot_where)"
   ]
  },
  {
   "cell_type": "markdown",
   "id": "133e45b2-9b87-4f73-a97a-e79313bae052",
   "metadata": {},
   "source": [
    "### Explore the earthquake data & questions\n",
    "Using the earthquake plot, try to answer the questions below. In order to view the questions, run the code cell."
   ]
  },
  {
   "cell_type": "code",
   "execution_count": null,
   "id": "1d8454ca-ab07-4b54-ab89-88f9b0c52fdc",
   "metadata": {},
   "outputs": [
    {
     "ename": "TypeError",
     "evalue": "standalone_docs_json_and_render_items() takes 1 positional argument but 2 were given",
     "output_type": "error",
     "traceback": [
      "\u001b[1;31m---------------------------------------------------------------------------\u001b[0m",
      "\u001b[1;31mTypeError\u001b[0m                                 Traceback (most recent call last)",
      "File \u001b[1;32mc:\\Users\\khdeb\\miniforge-pypy3\\envs\\coastal\\Lib\\site-packages\\IPython\\core\\formatters.py:974\u001b[0m, in \u001b[0;36mMimeBundleFormatter.__call__\u001b[1;34m(self, obj, include, exclude)\u001b[0m\n\u001b[0;32m    971\u001b[0m     method \u001b[38;5;241m=\u001b[39m get_real_method(obj, \u001b[38;5;28mself\u001b[39m\u001b[38;5;241m.\u001b[39mprint_method)\n\u001b[0;32m    973\u001b[0m     \u001b[38;5;28;01mif\u001b[39;00m method \u001b[38;5;129;01mis\u001b[39;00m \u001b[38;5;129;01mnot\u001b[39;00m \u001b[38;5;28;01mNone\u001b[39;00m:\n\u001b[1;32m--> 974\u001b[0m         \u001b[38;5;28;01mreturn\u001b[39;00m \u001b[43mmethod\u001b[49m\u001b[43m(\u001b[49m\u001b[43minclude\u001b[49m\u001b[38;5;241;43m=\u001b[39;49m\u001b[43minclude\u001b[49m\u001b[43m,\u001b[49m\u001b[43m \u001b[49m\u001b[43mexclude\u001b[49m\u001b[38;5;241;43m=\u001b[39;49m\u001b[43mexclude\u001b[49m\u001b[43m)\u001b[49m\n\u001b[0;32m    975\u001b[0m     \u001b[38;5;28;01mreturn\u001b[39;00m \u001b[38;5;28;01mNone\u001b[39;00m\n\u001b[0;32m    976\u001b[0m \u001b[38;5;28;01melse\u001b[39;00m:\n",
      "File \u001b[1;32mc:\\Users\\khdeb\\miniforge-pypy3\\envs\\coastal\\Lib\\site-packages\\panel\\viewable.py:782\u001b[0m, in \u001b[0;36mViewable._repr_mimebundle_\u001b[1;34m(self, include, exclude)\u001b[0m\n\u001b[0;32m    779\u001b[0m     loaded \u001b[38;5;241m=\u001b[39m hv\u001b[38;5;241m.\u001b[39mextension\u001b[38;5;241m.\u001b[39m_loaded\n\u001b[0;32m    781\u001b[0m \u001b[38;5;28;01mif\u001b[39;00m config\u001b[38;5;241m.\u001b[39mcomms \u001b[38;5;129;01min\u001b[39;00m (\u001b[38;5;124m'\u001b[39m\u001b[38;5;124mvscode\u001b[39m\u001b[38;5;124m'\u001b[39m, \u001b[38;5;124m'\u001b[39m\u001b[38;5;124mipywidgets\u001b[39m\u001b[38;5;124m'\u001b[39m):\n\u001b[1;32m--> 782\u001b[0m     widget \u001b[38;5;241m=\u001b[39m \u001b[43mipywidget\u001b[49m\u001b[43m(\u001b[49m\u001b[38;5;28;43mself\u001b[39;49m\u001b[43m)\u001b[49m\n\u001b[0;32m    783\u001b[0m     \u001b[38;5;28;01mif\u001b[39;00m \u001b[38;5;28mhasattr\u001b[39m(widget, \u001b[38;5;124m'\u001b[39m\u001b[38;5;124m_repr_mimebundle_\u001b[39m\u001b[38;5;124m'\u001b[39m):\n\u001b[0;32m    784\u001b[0m         \u001b[38;5;28;01mreturn\u001b[39;00m widget\u001b[38;5;241m.\u001b[39m_repr_mimebundle_(include\u001b[38;5;241m=\u001b[39minclude, exclude\u001b[38;5;241m=\u001b[39mexclude), {}\n",
      "File \u001b[1;32mc:\\Users\\khdeb\\miniforge-pypy3\\envs\\coastal\\Lib\\site-packages\\panel\\io\\notebook.py:555\u001b[0m, in \u001b[0;36mipywidget\u001b[1;34m(obj, doc, **kwargs)\u001b[0m\n\u001b[0;32m    553\u001b[0m doc \u001b[38;5;241m=\u001b[39m doc \u001b[38;5;28;01mif\u001b[39;00m doc \u001b[38;5;28;01melse\u001b[39;00m Document()\n\u001b[0;32m    554\u001b[0m model \u001b[38;5;241m=\u001b[39m panel(obj, \u001b[38;5;241m*\u001b[39m\u001b[38;5;241m*\u001b[39mkwargs)\u001b[38;5;241m.\u001b[39mget_root(doc\u001b[38;5;241m=\u001b[39mdoc)\n\u001b[1;32m--> 555\u001b[0m widget \u001b[38;5;241m=\u001b[39m \u001b[43mBokehModel\u001b[49m\u001b[43m(\u001b[49m\u001b[43mmodel\u001b[49m\u001b[43m,\u001b[49m\u001b[43m \u001b[49m\u001b[43mcombine_events\u001b[49m\u001b[38;5;241;43m=\u001b[39;49m\u001b[38;5;28;43;01mTrue\u001b[39;49;00m\u001b[43m)\u001b[49m\n\u001b[0;32m    556\u001b[0m \u001b[38;5;28;01mif\u001b[39;00m \u001b[38;5;28mhasattr\u001b[39m(widget, \u001b[38;5;124m'\u001b[39m\u001b[38;5;124m_view_count\u001b[39m\u001b[38;5;124m'\u001b[39m):\n\u001b[0;32m    557\u001b[0m     widget\u001b[38;5;241m.\u001b[39m_view_count \u001b[38;5;241m=\u001b[39m \u001b[38;5;241m0\u001b[39m\n",
      "File \u001b[1;32mc:\\Users\\khdeb\\miniforge-pypy3\\envs\\coastal\\Lib\\site-packages\\jupyter_bokeh\\widgets.py:68\u001b[0m, in \u001b[0;36mBokehModel.__init__\u001b[1;34m(self, model, **kwargs)\u001b[0m\n\u001b[0;32m     66\u001b[0m \u001b[38;5;28;01mdef\u001b[39;00m \u001b[38;5;21m__init__\u001b[39m(\u001b[38;5;28mself\u001b[39m, model, \u001b[38;5;241m*\u001b[39m\u001b[38;5;241m*\u001b[39mkwargs):\n\u001b[0;32m     67\u001b[0m     \u001b[38;5;28;01massert\u001b[39;00m \u001b[38;5;28misinstance\u001b[39m(model, LayoutDOM)\n\u001b[1;32m---> 68\u001b[0m     \u001b[38;5;28;43mself\u001b[39;49m\u001b[38;5;241;43m.\u001b[39;49m\u001b[43mupdate_from_model\u001b[49m\u001b[43m(\u001b[49m\u001b[43mmodel\u001b[49m\u001b[43m)\u001b[49m\n\u001b[0;32m     69\u001b[0m     \u001b[38;5;28msuper\u001b[39m(BokehModel, \u001b[38;5;28mself\u001b[39m)\u001b[38;5;241m.\u001b[39m\u001b[38;5;21m__init__\u001b[39m(\u001b[38;5;241m*\u001b[39m\u001b[38;5;241m*\u001b[39mkwargs)\n\u001b[0;32m     70\u001b[0m     \u001b[38;5;28mself\u001b[39m\u001b[38;5;241m.\u001b[39mon_msg(\u001b[38;5;28mself\u001b[39m\u001b[38;5;241m.\u001b[39m_sync_model)\n",
      "File \u001b[1;32mc:\\Users\\khdeb\\miniforge-pypy3\\envs\\coastal\\Lib\\site-packages\\jupyter_bokeh\\widgets.py:91\u001b[0m, in \u001b[0;36mBokehModel.update_from_model\u001b[1;34m(self, model)\u001b[0m\n\u001b[0;32m     89\u001b[0m \u001b[38;5;28;01mdef\u001b[39;00m \u001b[38;5;21mupdate_from_model\u001b[39m(\u001b[38;5;28mself\u001b[39m, model):\n\u001b[0;32m     90\u001b[0m     \u001b[38;5;28mself\u001b[39m\u001b[38;5;241m.\u001b[39m_model \u001b[38;5;241m=\u001b[39m model\n\u001b[1;32m---> 91\u001b[0m     \u001b[38;5;28mself\u001b[39m\u001b[38;5;241m.\u001b[39mrender_bundle \u001b[38;5;241m=\u001b[39m \u001b[38;5;28;43mself\u001b[39;49m\u001b[38;5;241;43m.\u001b[39;49m\u001b[43m_model_to_traits\u001b[49m\u001b[43m(\u001b[49m\u001b[43mmodel\u001b[49m\u001b[43m)\u001b[49m\n\u001b[0;32m     92\u001b[0m     \u001b[38;5;28mself\u001b[39m\u001b[38;5;241m.\u001b[39m_document\u001b[38;5;241m.\u001b[39mon_change_dispatch_to(\u001b[38;5;28mself\u001b[39m)\n",
      "File \u001b[1;32mc:\\Users\\khdeb\\miniforge-pypy3\\envs\\coastal\\Lib\\site-packages\\jupyter_bokeh\\widgets.py:81\u001b[0m, in \u001b[0;36mBokehModel._model_to_traits\u001b[1;34m(cls, model)\u001b[0m\n\u001b[0;32m     79\u001b[0m     document \u001b[38;5;241m=\u001b[39m Document()\n\u001b[0;32m     80\u001b[0m     document\u001b[38;5;241m.\u001b[39madd_root(model)\n\u001b[1;32m---> 81\u001b[0m (docs_json, [render_item]) \u001b[38;5;241m=\u001b[39m \u001b[43mstandalone_docs_json_and_render_items\u001b[49m\u001b[43m(\u001b[49m\u001b[43m[\u001b[49m\u001b[43mmodel\u001b[49m\u001b[43m]\u001b[49m\u001b[43m,\u001b[49m\u001b[43m \u001b[49m\u001b[38;5;28;43;01mTrue\u001b[39;49;00m\u001b[43m)\u001b[49m\n\u001b[0;32m     82\u001b[0m render_bundle \u001b[38;5;241m=\u001b[39m \u001b[38;5;28mdict\u001b[39m(\n\u001b[0;32m     83\u001b[0m     docs_json\u001b[38;5;241m=\u001b[39mdocs_json,\n\u001b[0;32m     84\u001b[0m     render_items\u001b[38;5;241m=\u001b[39m[render_item\u001b[38;5;241m.\u001b[39mto_json()],\n\u001b[0;32m     85\u001b[0m     div\u001b[38;5;241m=\u001b[39mdiv_for_render_item(render_item),\n\u001b[0;32m     86\u001b[0m )\n\u001b[0;32m     87\u001b[0m \u001b[38;5;28;01mreturn\u001b[39;00m render_bundle\n",
      "\u001b[1;31mTypeError\u001b[0m: standalone_docs_json_and_render_items() takes 1 positional argument but 2 were given"
     ]
    },
    {
     "data": {
      "text/plain": [
       "Column\n",
       "    [0] Column\n",
       "        [0] StaticText(name='Q1-1', value='At what depth d...)\n",
       "        [1] RadioBoxGroup(name='Options', options=['less than 33 km', ...], value='less than 33 km')\n",
       "        [2] Button(name='Submit')\n",
       "        [3] StaticText()\n",
       "    [1] Column\n",
       "        [0] StaticText(name='Q1-2', value='Where do earthquakes w...)\n",
       "        [1] CheckBoxGroup(name='Options', options=['wherever two oceanic pla...])\n",
       "        [2] Button(name='Submit')\n",
       "        [3] StaticText()\n",
       "    [2] Column\n",
       "        [0] StaticText(name='Q1-3', value='How should one s...)\n",
       "        [1] RadioBoxGroup(name='Options', options=['0 - 33 km', ...], value='0 - 33 km')\n",
       "        [2] Button(name='Submit')\n",
       "        [3] StaticText()\n",
       "    [3] Column\n",
       "        [0] StaticText(name='Q1-4', value='How can one d...)\n",
       "        [1] CheckBoxGroup(name='Options', options=['width of earthquake zone...])\n",
       "        [2] Button(name='Submit')\n",
       "        [3] StaticText()"
      ]
     },
     "execution_count": 10,
     "metadata": {},
     "output_type": "execute_result"
    }
   ],
   "source": [
    "q1 = cd.QuestionFactory(questions[\"Q1-1\"]).serve()\n",
    "q2 = cd.QuestionFactory(questions[\"Q1-2\"]).serve()\n",
    "q3 = cd.QuestionFactory(questions[\"Q1-3\"]).serve()\n",
    "q4 = cd.QuestionFactory(questions[\"Q1-4\"]).serve()\n",
    "\n",
    "\n",
    "pn.Column(q1, q2, q3, q4)"
   ]
  },
  {
   "cell_type": "markdown",
   "id": "9fcedf73-e886-4916-a886-9adf5a2515de",
   "metadata": {},
   "source": [
    "Earthquake data support one of the most fundamental processes in the geology: plate tectonics. Although plate tectonics is a relatively slow process that acts on the geological time scale, it has had an enormous impact on the formation of coastlines and determines the broadest features of the coast."
   ]
  },
  {
   "cell_type": "code",
   "execution_count": null,
   "id": "f937bf51-4f58-48c4-a6fa-a5fe64c70e73",
   "metadata": {},
   "outputs": [],
   "source": [
    "q5 = cd.QuestionFactory(questions[\"Q1-5\"]).serve()\n",
    "\n",
    "pn.Column(q5)"
   ]
  },
  {
   "cell_type": "markdown",
   "id": "52f05014-d83f-4ea8-b742-39427682b695",
   "metadata": {},
   "source": [
    "For the upcoming questions, consider the east Australian \"Gold Coast\"."
   ]
  },
  {
   "cell_type": "code",
   "execution_count": null,
   "id": "8d503057-e8df-4446-9b2c-3812ee988210",
   "metadata": {},
   "outputs": [],
   "source": [
    "q6 = cd.QuestionFactory(questions[\"Q1-6\"]).serve()\n",
    "q7 = cd.QuestionFactory(questions[\"Q1-7\"]).serve()\n",
    "q8 = cd.QuestionFactory(questions[\"Q1-8\"]).serve()\n",
    "q9 = cd.QuestionFactory(questions[\"Q1-9\"]).serve()\n",
    "\n",
    "pn.Column(q6, q7, q8, q9)"
   ]
  },
  {
   "cell_type": "markdown",
   "id": "f60a5c37-420e-4507-a8f1-ccb6a6e159d7",
   "metadata": {},
   "source": [
    "In 1971 Inman, D. L. & Nordstrom, C. E. used plate tectonics to classify the coast. They distinguish three main types of coasts: leading edge, trailing edge and marginal sea. In the questions below, match the correct characteristics to each class."
   ]
  },
  {
   "cell_type": "code",
   "execution_count": null,
   "id": "b9583771-20ce-41cd-841f-5970f68ba261",
   "metadata": {},
   "outputs": [],
   "source": [
    "q10 = cd.QuestionFactory(questions[\"Q1-10\"]).serve()\n",
    "q11 = cd.QuestionFactory(questions[\"Q1-11\"]).serve()\n",
    "q12 = cd.QuestionFactory(questions[\"Q1-12\"]).serve()\n",
    "\n",
    "pn.Column(q10, q11, q12)"
   ]
  },
  {
   "cell_type": "markdown",
   "id": "5ba87a25-7120-4658-b0cf-152365fb8100",
   "metadata": {},
   "source": [
    "Now that we have looked at the typical characteristics of each coastal type, we will look at some examples. Each question below specifies a different location. Use the earthquake panel to zoom to the locations specified, and classify the coasts to the correct classes. "
   ]
  },
  {
   "cell_type": "code",
   "execution_count": null,
   "id": "b58fe7fd-e7cf-4670-bc02-702efd6c4d80",
   "metadata": {},
   "outputs": [],
   "source": [
    "q13 = cd.QuestionFactory(questions[\"Q1-13\"]).serve()\n",
    "q14 = cd.QuestionFactory(questions[\"Q1-14\"]).serve()\n",
    "q15 = cd.QuestionFactory(questions[\"Q1-15\"]).serve()\n",
    "q16 = cd.QuestionFactory(questions[\"Q1-16\"]).serve()\n",
    "\n",
    "pn.Column(q13, q14, q15, q16)"
   ]
  },
  {
   "cell_type": "markdown",
   "id": "3060d2bc-ce5a-468a-8219-d41a5b6c602f",
   "metadata": {},
   "source": [
    "Inman, D. L. & Nordstrom (1971) further distinguish Afro-trailing-edge coasts and Amero-trailing-edge coasts based on differences in sediment supplies."
   ]
  },
  {
   "cell_type": "code",
   "execution_count": null,
   "id": "0a428122-eb63-4bf2-b82c-d07de785e1db",
   "metadata": {},
   "outputs": [],
   "source": [
    "q17 = cd.QuestionFactory(questions[\"Q1-17\"]).serve()\n",
    "q18 = cd.QuestionFactory(questions[\"Q1-18\"]).serve()\n",
    "q19 = cd.QuestionFactory(questions[\"Q1-19\"]).serve()\n",
    "\n",
    "pn.Column(q17, q18, q19)"
   ]
  },
  {
   "cell_type": "markdown",
   "id": "a12d60a7-59dc-4a2f-b7a0-9cd1a3ed5bfa",
   "metadata": {},
   "source": [
    "####################################################\n",
    "\n",
    "TO BE REMOVED\n",
    "\n",
    "1) How do the earthquake magnitude and earthquake depth relate to the coasts that we see? (Hint: See Figure 2.3 in the textbook and consider how deep under the ground the plates are moving. Extra hint: How do earthquake magnitude and depth differ for convergent and divergent plate boundaries?)\n",
    "\n",
    "2) Earthquake data support one of the most fundamental processes in the geology: plate tectonics. Although plate tectonics is a relatively slow process that acts on the [geological time scale](https://cdn.britannica.com/67/73167-050-B9A74092/chart.jpg), it has had an enormous impact on the formation of coastlines and determines the broadest features of the coast. What are two important inherited aspects of this process? (Hint: see Figure 2.10 and Sec. 2.3.3 in the textbook.) \n",
    "\n",
    "3) In 1971 Inman, D. L. & Nordstrom, C. E. used plate tectonics to classify the coast. Explain the classification that they introduced. What are the three different classes that they distinguish? How do they match with the earthquake data as you can explore in the panel? \n",
    "\n",
    "4) Can you identify or predict areas around the world where you will find the coasts that are distinguished by Inman, D. L. & Nordstrom, C. E.? For instance, what kind of coasts do you have in Chili? And how are they different to the east coast of the USA? And what is characteristic about the East China sea? \n",
    "\n",
    "5) Inman, D. L. & Nordstrom (1971) further distinguish Afro-trailing-edge coasts and Amero-trailing-edge coasts based on differences in sediment supplies. What is the main cause of these differences in sediment supply? And how do you expect the differences in sediment input to show in the coastal geomorphology?\n",
    "####################################################"
   ]
  },
  {
   "cell_type": "markdown",
   "id": "bdf2a34d-2edd-43f4-a45b-793a3779ec74",
   "metadata": {},
   "source": [
    "## Part 2: Process-based coastal classification\n",
    "\n",
    "In the section part of this notebook we will explore several coastal systems around the world considering the second and third order scale of features. In chapter two of the Coastal Dynamics open textbook it is explained how coastal systems can be classified according to the processes that characterize these systems. For example, one of the figures (below) shows how the relative influence of fluvial, wave and tidal processes influences the shape of coastal features. The idea of this exercise is that you identify the signatures of the processes that are introduced in chapter 2 in several coastal systems around the world. \n",
    "\n",
    "![image](./figures/01_coastal_forcing.png)"
   ]
  },
  {
   "cell_type": "markdown",
   "id": "5704aa4c-3b92-4618-8e45-b2daccf72c7b",
   "metadata": {},
   "source": [
    "### The coastal systems data\n",
    "\n",
    "In the cell below we define a small plot function that generates a ESRI World Imagery basemap given a longitude, latitude, zoom level and name. Also, a small sheet of coastal systems around the world is loaded into `geopandas`, a Python library for geospatial tabular data. In the cells afterwards we sample this dataframe and show the coastal system on a map. Since the sample is random you might encounter the same coastal system multiple times; then you can just run the cell again to get another 'coastal draw'.  \n"
   ]
  },
  {
   "cell_type": "code",
   "execution_count": 17,
   "id": "7bb4af63-03f7-4df1-8fd8-4c6a7930b95e",
   "metadata": {
    "tags": []
   },
   "outputs": [],
   "source": [
    "coastal_systems = gpd.read_file(coastal_systems_fp)"
   ]
  },
  {
   "cell_type": "code",
   "execution_count": 21,
   "id": "e6732048-50e9-4f28-a553-f4221cccdb95",
   "metadata": {
    "tags": []
   },
   "outputs": [],
   "source": [
    "title_bar = pn.Row(\n",
    "    pn.pane.Markdown(\n",
    "        \"## Exercise 2: Coastal system characterization\",\n",
    "        styles={\"color\": \"black\"},\n",
    "        width=800,\n",
    "        sizing_mode=\"fixed\",\n",
    "        margin=(10, 5, 10, 15),\n",
    "    ),\n",
    "    pn.Spacer(),\n",
    ")\n",
    "\n",
    "options = coastal_systems.name.to_list()\n",
    "coastal_systems_slider = pn.widgets.Select(\n",
    "    name=\"Coastal system\", options=options, value=np.random.choice(options)\n",
    ")\n",
    "\n",
    "plot_isobaths = pn.widgets.Select(name='Plot isobaths -200m?', options=['no', 'yes'])\n",
    "\n",
    "@pn.depends(coastal_systems_slider.param.value, plot_isobaths.param.value)\n",
    "def plot_coastal_system(name, plot_isobath):\n",
    "    system = coastal_systems.loc[coastal_systems[\"name\"] == name].copy()\n",
    "    west, south, east, north = system[\n",
    "        [\"west\", \"south\", \"east\", \"north\"]\n",
    "    ].values.flatten()\n",
    "\n",
    "    p = system.hvplot.points(\n",
    "        x=\"lon\",\n",
    "        y=\"lat\",\n",
    "        geo=True,\n",
    "        color=\"red\",\n",
    "        alpha=0,\n",
    "        xlim=(west, east),\n",
    "        ylim=(south, north),\n",
    "        tiles=\"ESRI\",\n",
    "        frame_width=1100,\n",
    "        ylabel=\"Latitude [deg]\",\n",
    "        xlabel=\"Longitude [deg]\",\n",
    "    )\n",
    "\n",
    "    if plot_isobath=='yes':\n",
    "        baths = data200.hvplot(geo=True, line_width=2, line_color='white', line_dash='dashed')\n",
    "        p = p*baths\n",
    "\n",
    "    p.opts(frame_width=1000, frame_height=500, tools=[\"pan\", \"wheel_zoom\"])\n",
    "\n",
    "    return p\n",
    "\n",
    "\n",
    "app = pn.Column(\n",
    "    # title_bar,\n",
    "    pn.Row(plot_isobaths, align=\"center\"),\n",
    "    pn.Row(coastal_systems_slider, align=\"center\"),\n",
    "    pn.Row(plot_coastal_system, align=\"center\"),\n",
    ")"
   ]
  },
  {
   "cell_type": "markdown",
   "id": "1dff7b26-b616-4add-91c5-1f1bfba2f6ce",
   "metadata": {},
   "source": [
    "After running the cell below you will have a panel showing sattelite images of different coastal systems."
   ]
  },
  {
   "cell_type": "code",
   "execution_count": 22,
   "id": "8465c61c-5ced-4498-8e7f-7b8f28a73be8",
   "metadata": {},
   "outputs": [],
   "source": [
    "# change value of 'plot_where' to:\n",
    "# 'inline' if you would like the plot to show in the notebook\n",
    "# 'pop-out' if you would like the plot to show in a new tab (i.e. seperate window)\n",
    "\n",
    "plot_where = \"pop-out\""
   ]
  },
  {
   "cell_type": "code",
   "execution_count": null,
   "id": "0f18a18f-d7dc-4824-bf92-60a827370c38",
   "metadata": {},
   "outputs": [
    {
     "name": "stdout",
     "output_type": "stream",
     "text": [
      "Launching server at http://localhost:61657\n"
     ]
    },
    {
     "name": "stderr",
     "output_type": "stream",
     "text": [
      "WARNING:root:Dropping a patch because it contains a previously known reference (id='cb313fce-b41c-460e-baea-8907c96ab9e7'). Most of the time this is harmless and usually a result of updating a model on one side of a communications channel while it was being removed on the other end.\n",
      "WARNING:root:Dropping a patch because it contains a previously known reference (id='b4a44832-b0b6-444f-a1e6-6488ddf965be'). Most of the time this is harmless and usually a result of updating a model on one side of a communications channel while it was being removed on the other end.\n",
      "WARNING:root:Dropping a patch because it contains a previously known reference (id='cb313fce-b41c-460e-baea-8907c96ab9e7'). Most of the time this is harmless and usually a result of updating a model on one side of a communications channel while it was being removed on the other end.\n",
      "WARNING:root:Dropping a patch because it contains a previously known reference (id='b4a44832-b0b6-444f-a1e6-6488ddf965be'). Most of the time this is harmless and usually a result of updating a model on one side of a communications channel while it was being removed on the other end.\n",
      "WARNING:root:Dropping a patch because it contains a previously known reference (id='cb313fce-b41c-460e-baea-8907c96ab9e7'). Most of the time this is harmless and usually a result of updating a model on one side of a communications channel while it was being removed on the other end.\n",
      "WARNING:root:Dropping a patch because it contains a previously known reference (id='b4a44832-b0b6-444f-a1e6-6488ddf965be'). Most of the time this is harmless and usually a result of updating a model on one side of a communications channel while it was being removed on the other end.\n",
      "WARNING:root:Dropping a patch because it contains a previously known reference (id='cb313fce-b41c-460e-baea-8907c96ab9e7'). Most of the time this is harmless and usually a result of updating a model on one side of a communications channel while it was being removed on the other end.\n",
      "WARNING:root:Dropping a patch because it contains a previously known reference (id='b4a44832-b0b6-444f-a1e6-6488ddf965be'). Most of the time this is harmless and usually a result of updating a model on one side of a communications channel while it was being removed on the other end.\n",
      "WARNING:root:Dropping a patch because it contains a previously known reference (id='cb313fce-b41c-460e-baea-8907c96ab9e7'). Most of the time this is harmless and usually a result of updating a model on one side of a communications channel while it was being removed on the other end.\n",
      "WARNING:root:Dropping a patch because it contains a previously known reference (id='b4a44832-b0b6-444f-a1e6-6488ddf965be'). Most of the time this is harmless and usually a result of updating a model on one side of a communications channel while it was being removed on the other end.\n",
      "WARNING:root:Dropping a patch because it contains a previously known reference (id='cb313fce-b41c-460e-baea-8907c96ab9e7'). Most of the time this is harmless and usually a result of updating a model on one side of a communications channel while it was being removed on the other end.\n",
      "WARNING:root:Dropping a patch because it contains a previously known reference (id='b4a44832-b0b6-444f-a1e6-6488ddf965be'). Most of the time this is harmless and usually a result of updating a model on one side of a communications channel while it was being removed on the other end.\n",
      "WARNING:root:Dropping a patch because it contains a previously known reference (id='cb313fce-b41c-460e-baea-8907c96ab9e7'). Most of the time this is harmless and usually a result of updating a model on one side of a communications channel while it was being removed on the other end.\n",
      "WARNING:root:Dropping a patch because it contains a previously known reference (id='b4a44832-b0b6-444f-a1e6-6488ddf965be'). Most of the time this is harmless and usually a result of updating a model on one side of a communications channel while it was being removed on the other end.\n",
      "WARNING:root:Dropping a patch because it contains a previously known reference (id='cb313fce-b41c-460e-baea-8907c96ab9e7'). Most of the time this is harmless and usually a result of updating a model on one side of a communications channel while it was being removed on the other end.\n",
      "WARNING:root:Dropping a patch because it contains a previously known reference (id='b4a44832-b0b6-444f-a1e6-6488ddf965be'). Most of the time this is harmless and usually a result of updating a model on one side of a communications channel while it was being removed on the other end.\n",
      "WARNING:root:Dropping a patch because it contains a previously known reference (id='cb313fce-b41c-460e-baea-8907c96ab9e7'). Most of the time this is harmless and usually a result of updating a model on one side of a communications channel while it was being removed on the other end.\n",
      "WARNING:root:Dropping a patch because it contains a previously known reference (id='b4a44832-b0b6-444f-a1e6-6488ddf965be'). Most of the time this is harmless and usually a result of updating a model on one side of a communications channel while it was being removed on the other end.\n",
      "WARNING:root:Dropping a patch because it contains a previously known reference (id='cb313fce-b41c-460e-baea-8907c96ab9e7'). Most of the time this is harmless and usually a result of updating a model on one side of a communications channel while it was being removed on the other end.\n",
      "WARNING:root:Dropping a patch because it contains a previously known reference (id='b4a44832-b0b6-444f-a1e6-6488ddf965be'). Most of the time this is harmless and usually a result of updating a model on one side of a communications channel while it was being removed on the other end.\n"
     ]
    }
   ],
   "source": [
    "def show_coastal_system(plot_where):\n",
    "    if plot_where == \"inline\":\n",
    "        return app\n",
    "    elif plot_where == \"pop-out\":\n",
    "        app.show()\n",
    "    else:\n",
    "        print(\"please use either 'inline' or 'pop-out' for the 'plot_where' variable\")\n",
    "\n",
    "\n",
    "show_coastal_system(plot_where=\"pop-out\")"
   ]
  },
  {
   "cell_type": "markdown",
   "id": "bc77c2cd-0e7c-4733-aa20-20e8518010fa",
   "metadata": {},
   "source": [
    "Using this panel, try to answer the questions below. The questions are seperated by 'theory' and 'application'."
   ]
  },
  {
   "cell_type": "markdown",
   "id": "93daa1d8-3464-4537-b71b-692fdf548017",
   "metadata": {},
   "source": [
    "### Questions 2a: theory\n",
    "Running the cell below will generate theory questions. Use the sattelite images of different coastal systems to answer the questions."
   ]
  },
  {
   "cell_type": "code",
   "execution_count": null,
   "id": "7e325199-e3e8-49ba-950f-bf43634fdc9f",
   "metadata": {},
   "outputs": [],
   "source": [
    "# Questions 2a\n",
    "q20 = cd.QuestionFactory(questions[\"Q1-20\"]).serve()\n",
    "q21 = cd.QuestionFactory(questions[\"Q1-21\"]).serve()\n",
    "q22 = cd.QuestionFactory(questions[\"Q1-22\"]).serve()\n",
    "q23 = cd.QuestionFactory(questions[\"Q1-23\"]).serve()\n",
    "q24 = cd.QuestionFactory(questions[\"Q1-24\"]).serve()\n",
    "q25 = cd.QuestionFactory(questions[\"Q1-25\"]).serve()\n",
    "q26 = cd.QuestionFactory(questions[\"Q1-26\"]).serve()\n",
    "q27 = cd.QuestionFactory(questions[\"Q1-27\"]).serve()\n",
    "q28 = cd.QuestionFactory(questions[\"Q1-28\"]).serve()\n",
    "q29 = cd.QuestionFactory(questions[\"Q1-29\"]).serve()\n",
    "q30 = cd.QuestionFactory(questions[\"Q1-30\"]).serve()\n",
    "q31 = cd.QuestionFactory(questions[\"Q1-31\"]).serve()\n",
    "q32 = cd.QuestionFactory(questions[\"Q1-32\"]).serve()\n",
    "q33 = cd.QuestionFactory(questions[\"Q1-33\"]).serve()\n",
    "\n",
    "pn.Column(q20, q21, q22, q23, q24, q25, q26, q27, q28, q29, q30, q31, q32, q33)"
   ]
  },
  {
   "cell_type": "markdown",
   "id": "657487e3-8e41-48db-b061-96b43c9f7ec9",
   "metadata": {},
   "source": [
    "### Questions 2b: application\n",
    "Running the cell below will generate application questions. Use the sattelite images of different coastal systems to answer the questions."
   ]
  },
  {
   "cell_type": "code",
   "execution_count": null,
   "id": "8fc19be0-0dbc-4420-b6f1-f1adfdadc724",
   "metadata": {},
   "outputs": [],
   "source": [
    "# Questions 2b\n",
    "q34 = cd.QuestionFactory(questions[\"Q1-34\"]).serve()\n",
    "q35 = cd.QuestionFactory(questions[\"Q1-35\"]).serve()\n",
    "q36 = cd.QuestionFactory(questions[\"Q1-36\"]).serve()\n",
    "q37 = cd.QuestionFactory(questions[\"Q1-37\"]).serve()\n",
    "q38 = cd.QuestionFactory(questions[\"Q1-38\"]).serve()\n",
    "q39 = cd.QuestionFactory(questions[\"Q1-39\"]).serve()\n",
    "q40 = cd.QuestionFactory(questions[\"Q1-40\"]).serve()\n",
    "q41 = cd.QuestionFactory(questions[\"Q1-41\"]).serve()\n",
    "q42 = cd.QuestionFactory(questions[\"Q1-42\"]).serve()\n",
    "q43 = cd.QuestionFactory(questions[\"Q1-43\"]).serve()\n",
    "q44 = cd.QuestionFactory(questions[\"Q1-44\"]).serve()\n",
    "q45 = cd.QuestionFactory(questions[\"Q1-45\"]).serve()\n",
    "q46 = cd.QuestionFactory(questions[\"Q1-46\"]).serve()\n",
    "q47 = cd.QuestionFactory(questions[\"Q1-47\"]).serve()\n",
    "\n",
    "pn.Column(q34, q35, q36, q37, q38, q39, q40, q41, q42, q43, q44, q45, q46, q47)"
   ]
  },
  {
   "cell_type": "markdown",
   "id": "7d1e3fdb-e1e5-40f4-8ac8-6ae418ce809f",
   "metadata": {},
   "source": [
    "This is the end of the notebook for week 1. We discussed tectonic and process-based classification of coastal systems. For further reading, see chapter 2 of the book. We hope you had fun!"
   ]
  },
  {
   "cell_type": "markdown",
   "id": "a8171c69-ab76-47d0-8c9e-5aea130944d5",
   "metadata": {},
   "source": [
    "############################################################################\n",
    "\n",
    "TO BE REMOVED\n",
    "\n",
    "### Explore the coastal systems\n",
    "\n",
    "While sampling over a range of coastal systems, try to answer the following questions. \n",
    "\n",
    "1. Find and compare a heavily engineered river-dominated delta and a more natural river-dominated delta\n",
    "2. Compare the scale of the biggest and smallest tidal basin in the dataset\n",
    "3. Find the estuarine and deltaic systems with a spit\n",
    "4. Compare and contrast wave-dominated deltas with high and low sediment supply. How can you tell?\n",
    "5. Find a tidal estuary with large fine (muddy) sediment supply, then find one with a large coarse (sandy) sediment supply. How can you tell the difference?\n",
    "6. The eastern and western tips of the Dutch and German Wadden Islands are very different beach ridge environments. How might differences in sediment supply explain this? Where is the sediment coming from?\n",
    "7. The Dune du Pilat in France is one of the world's largest coastal sand dunes (it is also one of the coolest and you should definitely visit if you get the chance!). Why is it located on the east side of Arcachon Inlet and not the west?\n",
    "8. Look at the northern Jiangsu coast in China. What might explain the limited sediment supply in this location?\n",
    "9. Find an estuary or tidal bay with extensive intertidal flats. Do you see salt marshes or mangrove forests nearby?  Why or why not?\n",
    "10. Find an inlet with jetties. How might this affect the way it evolves?\n",
    "11. Find a delta/estuary/inlet whose shape is constrained by the presence of rocky coastal features.  \n",
    "12. The Albufeira Lagoon in Portugal opens and closes seasonally. In the image shown, is it open or closed? When and how might it open or close? \n",
    "13. Find examples of heavily urbanized estuaries. How might these human interventions influence the natural processes there?\n",
    "14. Based on these satellite images, which is the most beautiful site? Taking a moment to appreciate the beauty of these natural systems is an important part of your job as coastal engineers.\n",
    "\n",
    "############################################################################"
   ]
  },
  {
   "cell_type": "code",
   "execution_count": null,
   "id": "eec0ac86-cc6f-4ddb-b1c0-545ff52f08c5",
   "metadata": {},
   "outputs": [],
   "source": []
  },
  {
   "cell_type": "code",
   "execution_count": null,
   "id": "ceb791dc-c60d-40b3-bdd7-5da642fe2bed",
   "metadata": {},
   "outputs": [],
   "source": []
  }
 ],
 "metadata": {
  "kernelspec": {
   "display_name": "Python 3 (ipykernel)",
   "language": "python",
   "name": "python3"
  },
  "language_info": {
   "codemirror_mode": {
    "name": "ipython",
    "version": 3
   },
   "file_extension": ".py",
   "mimetype": "text/x-python",
   "name": "python",
   "nbconvert_exporter": "python",
   "pygments_lexer": "ipython3",
   "version": "3.11.7"
  }
 },
 "nbformat": 4,
 "nbformat_minor": 5
}
