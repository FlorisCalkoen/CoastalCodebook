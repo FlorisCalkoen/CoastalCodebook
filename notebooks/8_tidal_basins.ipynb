{
 "cells": [
  {
   "cell_type": "markdown",
   "metadata": {},
   "source": [
    "# Tidal Basins"
   ]
  },
  {
   "cell_type": "markdown",
   "metadata": {},
   "source": [
    "## First import some necessary packages"
   ]
  },
  {
   "cell_type": "code",
   "execution_count": null,
   "metadata": {},
   "outputs": [],
   "source": [
    "import pathlib\n",
    "import sys\n",
    "from random import shuffle, uniform\n",
    "import logging\n",
    "import warnings\n",
    "\n",
    "import IPython\n",
    "import ipywidgets as widgets\n",
    "import matplotlib.animation as animations\n",
    "import matplotlib.pyplot as plt\n",
    "import numpy as np\n",
    "from IPython.display import HTML, display\n",
    "from ipywidgets import interact, interactive, fixed, interact_manual\n",
    "import ipywidgets as ipw\n",
    "from matplotlib.animation import FuncAnimation\n",
    "from matplotlib.ticker import MultipleLocator\n",
    "\n",
    "import pooch\n",
    "import pandas as pd\n",
    "import hvplot.pandas\n",
    "import panel as pn\n",
    "import holoviews as hv\n",
    "from PIL import Image\n",
    "\n",
    "import coastal_dynamics as cd\n",
    "\n",
    "pn.extension()"
   ]
  },
  {
   "cell_type": "code",
   "execution_count": null,
   "metadata": {},
   "outputs": [],
   "source": [
    "# # Read questions from cloud storage\n",
    "questions = cd.read_questions(\n",
    "    \"az://coastal-dynamics/questions/8_tidal_basins_hashed.json\",\n",
    "    storage_options={\"account_name\": \"coclico\"},\n",
    ")"
   ]
  },
  {
   "cell_type": "code",
   "execution_count": null,
   "metadata": {
    "tags": []
   },
   "outputs": [],
   "source": [
    "%run initialize/init_8.ipynb"
   ]
  },
  {
   "cell_type": "markdown",
   "metadata": {},
   "source": [
    "Before you is the Jupiter Notebook of week 8. This notebook consists of 4 parts:\n",
    "\n",
    "1. Escoffier curve\n",
    "2. Van de Kreeke and Robaczewska\n",
    "3. Equilibrium concentration versus lag\n",
    "4. Interventions\n",
    "\n",
    "\n",
    "The student will practice with these topics through questions and interactive figures."
   ]
  },
  {
   "cell_type": "markdown",
   "metadata": {},
   "source": [
    "## Part 1: Escoffier curve\n",
    "\n",
    "In chapter 9 of the [Coastal Dynamics Open Textbook](https://textbooks.open.tudelft.nl/textbooks/catalog/view/37/92/383-1), we learned about tidal inlets and their stability. Tidal inlets are very dynamic and their stability depends on a lot of factors. Escoffier was the first to study the stability of tidal inlets. More specifically, he studied the cross-sectional area of tidal inlets as they change throughout the tidal cycle. From his studies, Escoffier developed the now well-known Escoffier curve. In this notebook we will use an interactive approach to better understand the Escoffier curve. Afterwards you are tasked to answer some questions to verify your knowledge on the topic.\n",
    "\n",
    "Before starting this notebook, make sure you followed the lectures on chapter 9 (or read the slides) and read section 9.5.1 of the book."
   ]
  },
  {
   "cell_type": "markdown",
   "metadata": {},
   "source": [
    "Escoffier’s curve is a so-called closure curve and describes the relationship between maximum channel velocity $u_e$ and the parameter $X$, which is primarily, but not solely, a function of the channel cross-section. If we consider a sinusoidal tidal velocity signal:\n",
    "\n",
    "$$\n",
    "\\begin{aligned}\n",
    "u_e = \\hat{u}_e = \\frac{\\pi P}{A_e T}\n",
    "\\end{aligned}\n",
    "$$\n",
    "\n",
    "Where $\\hat{u}_e$ is the tidal signal amplitude, $P$ the tidal prism, $A_e$ the channel cross-section and $T$ the tidal period (see Intermezzo 9.4 of the book, equation 9.5).\n",
    "\n",
    "\n",
    "The process that leads to the Escoffier curve is explained in the book. In this notebook we provide a short visualisation, see the interactive plot below. We start with an imaginary channel cross-section that is very small, close to point A, such that the tidal difference in the estuary is smaller than the tidal range. Increasing the cross-section ($A_e$) results in an increase of the tidal prism ($P$) so large that $u_e$ increases too (recall eq. 9.5). At some point the tidal difference in the estuary is equal to the tidal range and we reach the peak of the closure curve. A larger cross-section now reduces $u_e$ as $P$ remains constant (again, recall eq. 9.5)."
   ]
  },
  {
   "cell_type": "code",
   "execution_count": null,
   "metadata": {
    "tags": []
   },
   "outputs": [],
   "source": [
    "# Load the images\n",
    "fp1 = pooch.retrieve(\"https://coclico.blob.core.windows.net/coastal-dynamics/8_tidal_basins/8_Escoffier_interactive_1.png\",\n",
    "                     known_hash=\"5540ff5bda7c3c816c53068525a73cb90a90be9e612d41a21f59a11d2512128e\")\n",
    "fp2 = pooch.retrieve(\"https://coclico.blob.core.windows.net/coastal-dynamics/8_tidal_basins/8_Escoffier_interactive_2.png\",\n",
    "                     known_hash=\"cc0ab29e6aebab08c15cfd82e413a99222503815000bfd62304c5c8f0925b660\")\n",
    "fp3 = pooch.retrieve(\"https://coclico.blob.core.windows.net/coastal-dynamics/8_tidal_basins/8_Escoffier_interactive_3.png\",\n",
    "                     known_hash=\"97866f1e5f895b3932d625e88b614259a6d9c3016624f70ff16c9455f2cc54b9\")\n",
    "fp4 = pooch.retrieve(\"https://coclico.blob.core.windows.net/coastal-dynamics/8_tidal_basins/8_Escoffier_interactive_4.png\",\n",
    "                     known_hash=\"1033c627634bee2c871196aec72d090ea80ae17612d58663c1edd327ea499ea3\")\n",
    "fp5 = pooch.retrieve(\"https://coclico.blob.core.windows.net/coastal-dynamics/8_tidal_basins/8_Escoffier_interactive_5.png\",\n",
    "                     known_hash=\"b31b7799fba86c790692d97743279e2306f3f7943093e80627714fab268d82f3\")\n",
    "fp6 = pooch.retrieve(\"https://coclico.blob.core.windows.net/coastal-dynamics/8_tidal_basins/8_Escoffier_interactive_6.png\",\n",
    "                     known_hash=\"31aeef48459a1d582865570a50d0b57df748a4eb8a922fbc6048d5ac4938d8c5\")\n",
    "fp7 = pooch.retrieve(\"https://coclico.blob.core.windows.net/coastal-dynamics/8_tidal_basins/8_Escoffier_interactive_7.png\",\n",
    "                     known_hash=\"bcce2ca9e2cf99cbd3ca5c3e407399c80b0b6a2ecbc1a647e73390765029c7e2\")\n",
    "\n",
    "images = [\n",
    "    Image.open(fp1),\n",
    "    Image.open(fp2),\n",
    "    Image.open(fp3),\n",
    "    Image.open(fp4),\n",
    "    Image.open(fp5),\n",
    "    Image.open(fp6),\n",
    "    Image.open(fp7),\n",
    "]\n",
    "\n",
    "# Create the slider widget\n",
    "slider = widgets.IntSlider(min=0, max=len(images)-1, step=1, value=0)\n",
    "\n",
    "# Display the current image\n",
    "image_widget = widgets.Image(value=images[slider.value]._repr_png_(), format='png', width='95%')\n",
    "\n",
    "# Define the update function\n",
    "def update_image(change):\n",
    "    image_widget.value = images[change.new]._repr_png_()\n",
    "\n",
    "# Attach the update function to the slider\n",
    "slider.observe(update_image, names='value')\n",
    "\n",
    "# Display the widgets\n",
    "display(slider)\n",
    "display(image_widget)"
   ]
  },
  {
   "cell_type": "markdown",
   "metadata": {},
   "source": [
    "The next step is to determine an equilibrium channel velocity $u_{eq}$ below which no erosion of the channel occurs. This velocity is only slightly dependent on the cross-section and can be approximated as just a function of sediment size. Larger sediment size leads to a larger $u_{eq}$ and vice versa. The closure curve and a value for $u_{eq}$ leads to the well-known Escoffier curve as depicted in Figure 9.22 in the book, as depicted below:\n",
    "\n",
    "![04_Ch9_Escoffier_type_1.png](./figures/04_Ch9_Escoffier_type_1.png)\n"
   ]
  },
  {
   "cell_type": "markdown",
   "metadata": {},
   "source": [
    "### Questions\n",
    "\n",
    "Now that you know how an Escoffier curve is created and some of the physical processes behind it, it's time to test your understanding. Try to answer the questions below and give your answers in the corresponding codeblock."
   ]
  },
  {
   "cell_type": "markdown",
   "metadata": {},
   "source": [
    "#### Channel stability\n",
    "\n",
    "Consider the Escoffier curve below with points A, B, C, D and E. What happens to the channel cross-section ($X$) at locations 1, 2, 3, 4 and 5? Where does it move to, point A, B, C, D, E or neither (N)? Give your answers below and run the codeblock to validate your answers and view your feedback.\n",
    "\n",
    "![04_Ch9_Escoffier_stability_1](./figures/04_Ch9_Escoffier_stability_1.png)"
   ]
  },
  {
   "cell_type": "code",
   "execution_count": null,
   "metadata": {
    "nbgrader": {
     "grade": true,
     "grade_id": "cell-01496058bec596fd",
     "locked": true,
     "points": 5,
     "schema_version": 3,
     "solution": false,
     "task": false
    },
    "tags": []
   },
   "outputs": [],
   "source": [
    "q1 = cd.QuestionFactory(questions[\"Q8-1\"]).serve()\n",
    "q2 = cd.QuestionFactory(questions[\"Q8-2\"]).serve()\n",
    "q3 = cd.QuestionFactory(questions[\"Q8-3\"]).serve()\n",
    "q4 = cd.QuestionFactory(questions[\"Q8-4\"]).serve()\n",
    "q5 = cd.QuestionFactory(questions[\"Q8-5\"]).serve()\n",
    "\n",
    "\n",
    "pn.Column(q1, q2, q3, q4, q5)"
   ]
  },
  {
   "cell_type": "markdown",
   "metadata": {},
   "source": [
    "#### Escoffier curve \"types\"\n",
    "\n",
    "Below three Escoffier curves are shown. So far we have only considered the scenario where Point C lies above $u_{eq}$ (scenario I). However, two other scenarios can also exist: II where point C coincides with $u_{eq}$ and III where point C is below $u_{eq}$. Similar to the previous question, what happens now at locations 1, 2, and 3 for scenarios II and III?\n",
    "\n",
    "![04_Ch9_Escoffier_type_1.png](./figures/04_Ch9_Escoffier_type_1.png)\n",
    "\n",
    "![04_Ch9_Escoffier_type_2.png](./figures/04_Ch9_Escoffier_type_2.png)\n",
    "\n",
    "![04_Ch9_Escoffier_type_3.png](./figures/04_Ch9_Escoffier_type_3.png)"
   ]
  },
  {
   "cell_type": "markdown",
   "metadata": {},
   "source": [
    "Answer the questions below."
   ]
  },
  {
   "cell_type": "code",
   "execution_count": null,
   "metadata": {
    "tags": []
   },
   "outputs": [],
   "source": [
    "q6 = cd.QuestionFactory(questions[\"Q8-6\"]).serve()\n",
    "q7 = cd.QuestionFactory(questions[\"Q8-7\"]).serve()\n",
    "q8 = cd.QuestionFactory(questions[\"Q8-8\"]).serve()\n",
    "q9 = cd.QuestionFactory(questions[\"Q8-9\"]).serve()\n",
    "q10 = cd.QuestionFactory(questions[\"Q8-10\"]).serve()\n",
    "q11 = cd.QuestionFactory(questions[\"Q8-11\"]).serve()\n",
    "\n",
    "pn.Column(q6, q7, q8, q9, q10, q11)"
   ]
  },
  {
   "cell_type": "markdown",
   "metadata": {
    "tags": []
   },
   "source": [
    "#### Changes to the Escoffier curve\n",
    "\n",
    "So far we have considered the typical Escoffier curve and asked you some questions on what happens with the tidal inlet. You have mastered working with the Escoffier curve, but are you also able to answer the questions below?"
   ]
  },
  {
   "cell_type": "code",
   "execution_count": null,
   "metadata": {},
   "outputs": [],
   "source": [
    "q12 = cd.QuestionFactory(questions[\"Q8-12\"]).serve()\n",
    "q13 = cd.QuestionFactory(questions[\"Q8-13\"]).serve()\n",
    "\n",
    "pn.Column(q12, q13)"
   ]
  },
  {
   "cell_type": "markdown",
   "metadata": {},
   "source": [
    "## Part 2: Van de Kreeke and Robaczewska\n",
    "In this section, we dive deeper into tide-induced residual transport of medium to coarse sediment using the equations derived by Van de Kreeke and Robaczewska (1993). We predominantly focus on sediment moving as bedload transport, since considering sediment travelling in suspension introduced other complications, as we shall see later. \n",
    "\n",
    "$$u(t) = u_0 + \\hat{u}_{M2} \\cos(\\omega_{M2} t) + \\hat{u}_{M4} \\cos(\\omega_{M4} t - \\phi_{M4-2}) + \\hat{u}_{M6} \\cos(\\omega_{M6} t - \\phi_{M6-2})$$\n",
    "\n",
    "Let us now consider how these velocity signals vary in time, and what that means for sediment transport. A velocity plot is generated by running the cell below. Flood velocities are positive."
   ]
  },
  {
   "cell_type": "code",
   "execution_count": null,
   "metadata": {},
   "outputs": [],
   "source": [
    "slider_u();"
   ]
  },
  {
   "cell_type": "markdown",
   "metadata": {},
   "source": [
    "Using this figure, try to answer the questions."
   ]
  },
  {
   "cell_type": "code",
   "execution_count": null,
   "metadata": {},
   "outputs": [],
   "source": [
    "q14 = cd.QuestionFactory(questions[\"Q8-14\"]).serve()\n",
    "q15 = cd.QuestionFactory(questions[\"Q8-15\"]).serve()\n",
    "q16 = cd.QuestionFactory(questions[\"Q8-16\"]).serve()\n",
    "q17 = cd.QuestionFactory(questions[\"Q8-17\"]).serve()\n",
    "\n",
    "pn.Column(q14, q15, q16, q17)"
   ]
  },
  {
   "cell_type": "markdown",
   "metadata": {},
   "source": [
    "It is assumed that the sediment transport depends on the third power of the velocity signal: $S \\approx c u^3 \\sim u^3$.\n",
    "Let's plot the third power of the velocity."
   ]
  },
  {
   "cell_type": "code",
   "execution_count": null,
   "metadata": {},
   "outputs": [],
   "source": [
    "slider_u3();"
   ]
  },
  {
   "cell_type": "markdown",
   "metadata": {},
   "source": [
    "Have a look at figures 9.28 - 9.31 in the book.\n",
    "\n",
    "Using this plot, try to answer the questions below."
   ]
  },
  {
   "cell_type": "code",
   "execution_count": null,
   "metadata": {},
   "outputs": [],
   "source": [
    "q18 = cd.QuestionFactory(questions[\"Q8-18\"]).serve()\n",
    "\n",
    "pn.Column(q18)"
   ]
  },
  {
   "cell_type": "markdown",
   "metadata": {},
   "source": [
    "The table below contains velocity and phase data for an (imaginary) estuary.\n",
    "\n",
    "| *Amplitude [cm/s]* |     | *Phase [degrees]* |     |\n",
    "| :----------------- | :-- | :---------------- | :-- |\n",
    "| M0                 | -5  | phi42             | 240 |\n",
    "| M2                 | 80  | phi62             | 200 |\n",
    "| M4                 | 15  |                   |     |\n",
    "| M6                 | 25  |                   |     |"
   ]
  },
  {
   "cell_type": "markdown",
   "metadata": {},
   "source": [
    "Let us now consider the example of a hypothetical estuary, whose tidal components can be found in the table below. Calculate the answers to the questions below using the space provided and the van de Kreeke & Robaczewska equations from Chapter 9.7.2 of the textbook. \n",
    "\n",
    "Calculate the total transport as a function of t. Use all harmonic components for this. Use a value of $10^{-4}$ for the coefficient $c$."
   ]
  },
  {
   "cell_type": "code",
   "execution_count": null,
   "metadata": {},
   "outputs": [],
   "source": [
    "t = np.linspace(0, 24*3600, 250)\n",
    "\n",
    "# CORRECT THE FORMULA FOR THE TOTAL TRANSPORT HERE\n",
    "total_transport = np.zeros(t.shape)"
   ]
  },
  {
   "cell_type": "code",
   "execution_count": null,
   "metadata": {},
   "outputs": [],
   "source": [
    "warnings.filterwarnings(\"ignore\")\n",
    "logging.getLogger().setLevel(logging.ERROR)\n",
    "\n",
    "plot_S(total_transport)"
   ]
  },
  {
   "cell_type": "code",
   "execution_count": null,
   "metadata": {},
   "outputs": [],
   "source": [
    "q19 = cd.QuestionFactory(questions[\"Q8-19\"]).serve()\n",
    "q20 = cd.QuestionFactory(questions[\"Q8-20\"]).serve()\n",
    "q21 = cd.QuestionFactory(questions[\"Q8-21\"]).serve()\n",
    "q22 = cd.QuestionFactory(questions[\"Q8-22\"]).serve()\n",
    "\n",
    "pn.Column(q19, q20, q21, q22)"
   ]
  },
  {
   "cell_type": "markdown",
   "metadata": {},
   "source": [
    "## Part 3: Equilibrium concentration versus lag\n",
    "As we mentioned in Part 2, things get a little more complicated when we consider finer sediment travelling in suspension. First, we consider the equilibrium concentration that would be reached under constant flow conditions. "
   ]
  },
  {
   "cell_type": "markdown",
   "metadata": {},
   "source": [
    "The table below gives velocity amplitudes and phases of the first and second harmonic of the tide.\n",
    "\n",
    "| *Amplitude [cm/s]* |     | *Phase [degrees]* |     |\n",
    "| :----------------- | :-- | :---------------- | :-- |\n",
    "| M0                 | 0   | phi42             | 180 |\n",
    "| M2                 | 40  |                   |     |\n",
    "| M4                 | 10  |                   |     |"
   ]
  },
  {
   "cell_type": "markdown",
   "metadata": {},
   "source": [
    "Complete the code below to plot the tidal velocities."
   ]
  },
  {
   "cell_type": "code",
   "execution_count": null,
   "metadata": {},
   "outputs": [],
   "source": [
    "t = np.linspace(0, 24*3600, 250)\n",
    "\n",
    "# CORRECT THE FORMULA FOR THE TIDAL VELOCITIES U BELOW\n",
    "u = np.zeros(t.shape)"
   ]
  },
  {
   "cell_type": "code",
   "execution_count": null,
   "metadata": {},
   "outputs": [],
   "source": [
    "plot_u_int(u)"
   ]
  },
  {
   "cell_type": "markdown",
   "metadata": {},
   "source": [
    "Use equation 9.29 to plot the equillibrium concentration. Use values of $10^{-4}$ and $5$ for $\\beta$ and $n$ respectively."
   ]
  },
  {
   "cell_type": "code",
   "execution_count": null,
   "metadata": {},
   "outputs": [],
   "source": [
    "beta = 10**-4\n",
    "n = 5\n",
    "\n",
    "# Correct the formula for the equillibrium concentration below\n",
    "c_eq = np.zeros(t.shape)"
   ]
  },
  {
   "cell_type": "code",
   "execution_count": null,
   "metadata": {},
   "outputs": [],
   "source": [
    "plot_c_eq(c_eq, beta, n)"
   ]
  },
  {
   "cell_type": "markdown",
   "metadata": {},
   "source": [
    "Imagine we increase the sediment size. Answer the questions below."
   ]
  },
  {
   "cell_type": "code",
   "execution_count": null,
   "metadata": {},
   "outputs": [],
   "source": [
    "q23 = cd.QuestionFactory(questions[\"Q8-23\"]).serve()\n",
    "\n",
    "pn.Column(q23)"
   ]
  },
  {
   "cell_type": "markdown",
   "metadata": {},
   "source": [
    "Because fine sediment (mud), it does not respond instantaneously to the flow conditions. We need to account for this lag in our concentration and hence sediment transport calculations"
   ]
  },
  {
   "cell_type": "markdown",
   "metadata": {},
   "source": [
    "Looking at equation 9.28 in the book, we can see that the equation for the the actual concentration contains a time derivative. Therefore, in order to obtain a solution for the concentration, a discretization is required. Use the following discretization (Forward Euler) for quantity u in order to model the sediment concentration:\n",
    "\n",
    "$\\frac{D u}{D t} \\approx \\frac{u_{n+1} - u_{n}}{\\Delta t}$. \n",
    "\n",
    "The timestep $\\Delta t$ is already given in the code. Use a relaxation time scale of 12000 seconds. Use your solution for the equillibrium concentration from earlier.\n",
    "\n",
    "Complete the code below to plot the concentration as a function of time."
   ]
  },
  {
   "cell_type": "code",
   "execution_count": null,
   "metadata": {},
   "outputs": [],
   "source": [
    "t = np.linspace(0, 2*24*3600, 1000)\n",
    "dt = t[1]-t[0]\n",
    "\n",
    "c = np.zeros(t.shape)\n",
    "\n",
    "for n in range(len(c)-1):\n",
    "\n",
    "    # Add your code here\n",
    "    ..."
   ]
  },
  {
   "cell_type": "code",
   "execution_count": null,
   "metadata": {},
   "outputs": [],
   "source": [
    "plot_c(c)"
   ]
  },
  {
   "cell_type": "markdown",
   "metadata": {},
   "source": [
    "Reflect on the plots you created with the questions below."
   ]
  },
  {
   "cell_type": "code",
   "execution_count": null,
   "metadata": {},
   "outputs": [],
   "source": [
    "q24 = cd.QuestionFactory(questions[\"Q8-24\"]).serve()\n",
    "q25 = cd.QuestionFactory(questions[\"Q8-25\"]).serve()\n",
    "q26 = cd.QuestionFactory(questions[\"Q8-26\"]).serve()\n",
    "\n",
    "pn.Column(q24, q25, q26)"
   ]
  },
  {
   "cell_type": "markdown",
   "metadata": {},
   "source": [
    "If we remove the phase difference, i.e. $\\phi=0$, the sediment response is expected to change. Adjust the code above to reflect this. Run your code again. What happens? Compare to figure 9.32 of the textbook."
   ]
  },
  {
   "cell_type": "code",
   "execution_count": null,
   "metadata": {},
   "outputs": [],
   "source": [
    "q27 = cd.QuestionFactory(questions[\"Q8-27\"]).serve()\n",
    "\n",
    "pn.Column(q27)"
   ]
  },
  {
   "cell_type": "markdown",
   "metadata": {},
   "source": [
    "## Part 4: Interventions\n",
    "Now we are going to bring together many of the concepts covered in Chapter 9 to examine how natural changes and human interventions (like closing off part of the basin with a storm surge barrier) modify the morphology of tidal basins and their surrounding coastal systems. When a change occurs, the system may shift to a new equilibrium and result in a supply or demand of sediment. That relative supply or demand will determine the impact on the rest of the coastal system. \n",
    "\n",
    "Figure 9.35 shows the effect of two different closures on the subtidal (below MLW) volume of the channels (eq. 9.17) and the ebb-tidal delta volume (eq. 9.3) as a function of the tidal prism. The figure (without interventions) is shown also below. We are going to try to reproduce the interventions made in Figure 9.35.   \n",
    "\n",
    "The most important concept is to be able to estimate how the relative supply or demand changes as the tidal prism, channels, and ebb-tidal delta change. These components are dynamically coupled in a sediment-sharing system. "
   ]
  },
  {
   "cell_type": "markdown",
   "metadata": {},
   "source": [
    "### Closures\n",
    "We will first look at three different closures."
   ]
  },
  {
   "cell_type": "code",
   "execution_count": null,
   "metadata": {},
   "outputs": [],
   "source": [
    "# Show figures 9.35 and 9.36.\n",
    "P = np.logspace(5, 11, 100)\n",
    "Cv = 65 * 10**-6\n",
    "Cod = 65.7 * 10**-4\n",
    "\n",
    "Vod = Cod * P**1.23\n",
    "Vc  = Cv  * P**1.5\n",
    "\n",
    "df = pd.DataFrame({\"P\":P/10**6, \"V_od\":Vod/10**6, \"V_c\":Vc/10**6})\n",
    "\n",
    "plot = df.hvplot.line(x='P', y=['V_od', 'V_c'], grid=True, loglog=True, xlim=(10, 5000), ylim=(2, 5000), xlabel=\"P [10^6 m^3]\", ylabel=\"V [10^6 m^3]\").opts(width=600, height=600)\n",
    "\n",
    "plot"
   ]
  },
  {
   "cell_type": "markdown",
   "metadata": {},
   "source": [
    "Table 9.6 is (partly) given below for Closure 1. All variables are in $10^6$ m$^3$.\n",
    "\n",
    "|                        | closure 1 |\r\n",
    "| :--------------------- | :-------- |\r\n",
    "| Prism before           | 600       |\r\n",
    "| Prism after            | 300       |\r\n",
    "| Difference in Vc <br>  | 300       |   |   |   |\n",
    "\n",
    "\n",
    "Note that we also need to account for the subtidal channel volume inside the area that was closed off (Vch,closure in the figure below). \n",
    "\n",
    "![8_basin_schematic](./figures/8_basin_schematic.png)   |"
   ]
  },
  {
   "cell_type": "markdown",
   "metadata": {},
   "source": [
    "Complete the code below to calculate the $V_{od}$ and $V_c$ for closure 1. Also, calculate the sediment demand of the channel $a$ and the surplus of sand in the outer delta $b$. Use values of $65 \\times 10^{-6}$ and $65.7 \\times 10^{-4}$ for $C_V$ and $C_{od}$ respectively. Replace the values of $V_{c, before}$, $V_{c, after}$, $V_{od, before}$, $V_{od, after}$, $a$, and $b$ with the correct values and answer the questions below."
   ]
  },
  {
   "cell_type": "code",
   "execution_count": null,
   "metadata": {},
   "outputs": [],
   "source": [
    "V_c_before  = 0\n",
    "V_c_after   = 0\n",
    "\n",
    "V_od_before = 0\n",
    "V_od_after  = 0\n",
    "\n",
    "a = 0\n",
    "b = 0"
   ]
  },
  {
   "cell_type": "code",
   "execution_count": null,
   "metadata": {},
   "outputs": [],
   "source": [
    "closure_1(V_c_before, V_od_before, V_c_after, V_od_after, a, b)"
   ]
  },
  {
   "cell_type": "code",
   "execution_count": null,
   "metadata": {},
   "outputs": [],
   "source": [
    "q28 = cd.QuestionFactory(questions[\"Q8-28\"]).serve()\n",
    "q29 = cd.QuestionFactory(questions[\"Q8-29\"]).serve()\n",
    "\n",
    "pn.Column(q28, q29)"
   ]
  },
  {
   "cell_type": "markdown",
   "metadata": {},
   "source": [
    "The code below allows you to vary axes type (linear and log-log ), plotting range, coefficients and power. Try running the cells below to replot, and test the sensitivity of these parameters and plot settings. Why do we show this as a log-log plot?  What details can you see when you plot it with a linear scale? What happens when you adjust the C coefficient or power term? Which one controls the steepness and which the intercept?  "
   ]
  },
  {
   "cell_type": "code",
   "execution_count": null,
   "metadata": {},
   "outputs": [],
   "source": [
    "# Choose between 'linear' or 'loglog'                        (default: 'loglog')\n",
    "axes_type = 'loglog'\n",
    "\n",
    "# Give your answer in the format [[x1, x2], [y1, y2]]        (default: [[10, 5000], [2, 5000]])\n",
    "range = [[10, 5000], [2, 5000]]\n",
    "\n",
    "# Give your answer in the format [C_V, C_od]                 (default: [65 * 10**-6, 65.7 * 10**-4])\n",
    "coefficients = [65 * 10**-6, 65.7 * 10**-4]\n",
    "\n",
    "# Powers used for calculation of V_c and V_od respectively.  (default: [1.5, 1.23])\n",
    "powers = [1.5, 1.23]"
   ]
  },
  {
   "cell_type": "code",
   "execution_count": null,
   "metadata": {},
   "outputs": [],
   "source": [
    "P_before = 600 * 10**6\n",
    "P_after = 300 * 10**6\n",
    "dV_c = 300 * 10**6\n",
    "\n",
    "plot, __, __, __, __, __, __ = plot_fig935(P_before, P_after, dV_c, axes_type=axes_type, range=range, coefficients=coefficients, powers=powers, title='')\n",
    "    \n",
    "plot"
   ]
  },
  {
   "cell_type": "markdown",
   "metadata": {},
   "source": [
    "Now let’s connect this to the underlying physical concepts."
   ]
  },
  {
   "cell_type": "code",
   "execution_count": null,
   "metadata": {},
   "outputs": [],
   "source": [
    "q30 = cd.QuestionFactory(questions[\"Q8-30\"]).serve()\n",
    "q31 = cd.QuestionFactory(questions[\"Q8-31\"]).serve()\n",
    "\n",
    "pn.Column(q30, q31)"
   ]
  },
  {
   "cell_type": "markdown",
   "metadata": {},
   "source": [
    "Now let's consider Closure 2 from the book (Figure 9.35b). The required values are given in the table below. Again, recreate the figure using the values from the table by completing the code below. \n",
    "\n",
    "|                        | closure 2 |\r\n",
    "| :--------------------- | :-------- |\r\n",
    "| Prism before           | 600       |\r\n",
    "| Prism after            | 300       |\r\n",
    "| Difference in Vc <br>  | 470       |"
   ]
  },
  {
   "cell_type": "code",
   "execution_count": null,
   "metadata": {},
   "outputs": [],
   "source": [
    "V_c_before  = 0\n",
    "V_c_after   = 0\n",
    "\n",
    "V_od_before = 0\n",
    "V_od_after  = 0\n",
    "\n",
    "a = 0\n",
    "b = 0"
   ]
  },
  {
   "cell_type": "code",
   "execution_count": null,
   "metadata": {},
   "outputs": [],
   "source": [
    "closure_2(V_c_before, V_od_before, V_c_after, V_od_after, a, b)"
   ]
  },
  {
   "cell_type": "markdown",
   "metadata": {},
   "source": [
    "Using the plots generated above, answer the following reflective questions."
   ]
  },
  {
   "cell_type": "code",
   "execution_count": null,
   "metadata": {},
   "outputs": [],
   "source": [
    "q32 = cd.QuestionFactory(questions[\"Q8-32\"]).serve()\n",
    "q33 = cd.QuestionFactory(questions[\"Q8-33\"]).serve()\n",
    "q34 = cd.QuestionFactory(questions[\"Q8-34\"]).serve()\n",
    "q35 = cd.QuestionFactory(questions[\"Q8-35\"]).serve()\n",
    "\n",
    "pn.Column(q32, q33, q34, q35)"
   ]
  },
  {
   "cell_type": "markdown",
   "metadata": {},
   "source": [
    "Let's consider one more closure. Use the numbers from the table below and complete the code below. Run the code to generate a figure.\n",
    "|                        | closure 3 |\n",
    "| :--------------------- | :-------- |\n",
    "| Prism before           | 600       |\n",
    "| Prism after            | 300       |\n",
    "| Difference in Vc       | 300       |"
   ]
  },
  {
   "cell_type": "code",
   "execution_count": null,
   "metadata": {},
   "outputs": [],
   "source": [
    "V_c_before  = 0\n",
    "V_c_after   = 0\n",
    "\n",
    "V_od_before = 0\n",
    "V_od_after  = 0\n",
    "\n",
    "a = 0\n",
    "b = 0"
   ]
  },
  {
   "cell_type": "code",
   "execution_count": null,
   "metadata": {},
   "outputs": [],
   "source": [
    "closure_3(V_c_before, V_od_before, V_c_after, V_od_after, a, b)"
   ]
  },
  {
   "cell_type": "markdown",
   "metadata": {},
   "source": [
    "We have seen three closures now. Did you get correct values for $V_{c, before}$, $V_{c, after}$, $V_{od, before}$, $V_{od, after}$, $a$, and $b$?"
   ]
  },
  {
   "cell_type": "markdown",
   "metadata": {},
   "source": [
    "### Land reclamation\n",
    "\n",
    "Now let us consider a land reclamation. The table below provides the required numbers. Finish the code below to produce a figure.\n",
    "\n",
    "|                        | accretion |\n",
    "| :--------------------- | :-------- |\n",
    "| Prism before           | 500       |\n",
    "| Prism after            | 250       |\n",
    "| Difference in Vc       | 0         |"
   ]
  },
  {
   "cell_type": "code",
   "execution_count": null,
   "metadata": {},
   "outputs": [],
   "source": [
    "V_c_before  = 0\n",
    "V_c_after   = 0\n",
    "\n",
    "V_od_before = 0\n",
    "V_od_after  = 0\n",
    "\n",
    "a = 0\n",
    "b = 0"
   ]
  },
  {
   "cell_type": "code",
   "execution_count": null,
   "metadata": {},
   "outputs": [],
   "source": [
    "land_reclamation(V_c_before, V_od_before, V_c_after, V_od_after, a, b)"
   ]
  },
  {
   "cell_type": "markdown",
   "metadata": {},
   "source": [
    "Using the generated plots, answer the questions below."
   ]
  },
  {
   "cell_type": "code",
   "execution_count": null,
   "metadata": {},
   "outputs": [],
   "source": [
    "q36 = cd.QuestionFactory(questions[\"Q8-36\"]).serve()\n",
    "q37 = cd.QuestionFactory(questions[\"Q8-37\"]).serve()\n",
    "\n",
    "pn.Column(q36, q37)"
   ]
  },
  {
   "cell_type": "markdown",
   "metadata": {},
   "source": [
    "### Relative sea level rise\n",
    "\n",
    "Finally, let us consider relative sea level rise. Use the numbers from the table below to finish the code.\n",
    "\n",
    "|                        | relative sea level rise |\r\n",
    "| :--------------------- | :---------------------- |\r\n",
    "| Prism before           | 750                     |\r\n",
    "| Prism after            | 750                     |\r\n",
    "| Difference in Vc <br>  | -200                    |"
   ]
  },
  {
   "cell_type": "code",
   "execution_count": null,
   "metadata": {},
   "outputs": [],
   "source": [
    "V_c_before  = 0\n",
    "V_c_after   = 0\n",
    "\n",
    "V_od_before = 0\n",
    "V_od_after  = 0\n",
    "\n",
    "a = 0\n",
    "b = 0"
   ]
  },
  {
   "cell_type": "code",
   "execution_count": null,
   "metadata": {},
   "outputs": [],
   "source": [
    "relative_sea_level_rise(V_c_before, V_od_before, V_c_after, V_od_after, a, b)"
   ]
  },
  {
   "cell_type": "markdown",
   "metadata": {},
   "source": [
    "Finally, answer the question below."
   ]
  },
  {
   "cell_type": "code",
   "execution_count": null,
   "metadata": {},
   "outputs": [],
   "source": [
    "q38 = cd.QuestionFactory(questions[\"Q8-38\"]).serve()\n",
    "q39 = cd.QuestionFactory(questions[\"Q8-39\"]).serve()\n",
    "\n",
    "pn.Column(q38, q39)"
   ]
  },
  {
   "cell_type": "markdown",
   "metadata": {},
   "source": [
    "You have reached the end of this notebook."
   ]
  }
 ],
 "metadata": {
  "kernelspec": {
   "display_name": "Python [conda env:coastal] *",
   "language": "python",
   "name": "conda-env-coastal-py"
  },
  "language_info": {
   "codemirror_mode": {
    "name": "ipython",
    "version": 3
   },
   "file_extension": ".py",
   "mimetype": "text/x-python",
   "name": "python",
   "nbconvert_exporter": "python",
   "pygments_lexer": "ipython3",
   "version": "3.11.7"
  },
  "vscode": {
   "interpreter": {
    "hash": "c4f1a03a2decb15b8959128502e8669e58fcf5cfa6b940068ba2ce59115bdbbc"
   }
  }
 },
 "nbformat": 4,
 "nbformat_minor": 4
}
