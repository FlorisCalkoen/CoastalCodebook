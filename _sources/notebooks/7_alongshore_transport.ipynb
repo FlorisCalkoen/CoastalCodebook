{
 "cells": [
  {
   "cell_type": "markdown",
   "id": "45d5d526-02fc-4a48-ae9e-eefadf1116ed",
   "metadata": {},
   "source": [
    "# Alongshore transport"
   ]
  },
  {
   "cell_type": "markdown",
   "id": "5deb9fd0-bc1a-4041-b543-582c154ee46e",
   "metadata": {},
   "source": [
    "## First import some necessary packages"
   ]
  },
  {
   "cell_type": "code",
   "execution_count": null,
   "id": "28f630ce-af5d-4344-8f85-422ddc7a990c",
   "metadata": {},
   "outputs": [],
   "source": [
    "import logging\n",
    "import pathlib\n",
    "import sys\n",
    "import warnings\n",
    "\n",
    "import bokeh.io\n",
    "import colorcet as cc\n",
    "import dotenv\n",
    "import geopandas as gpd\n",
    "import holoviews as hv\n",
    "import hvplot.pandas  # noqa: API import\n",
    "import numpy as np\n",
    "import pandas as pd\n",
    "import panel as pn\n",
    "import pooch\n",
    "from bokeh.models import HoverTool, PanTool, WheelZoomTool\n",
    "from bokeh.resources import INLINE\n",
    "\n",
    "import coastal_dynamics as cd\n",
    "\n",
    "# Activate Panel extension to make interactive visualizations\n",
    "pn.extension()"
   ]
  },
  {
   "cell_type": "code",
   "execution_count": null,
   "id": "60e482f0-a6ac-4a23-959e-42dc9f36864f",
   "metadata": {},
   "outputs": [],
   "source": [
    "# # Read questions from cloud storage\n",
    "questions = cd.read_questions(\n",
    "    # \"./7_alongshore_transport.json\"\n",
    "    \"az://coastal-dynamics/questions/7_alongshore_transport_hashed.json\",\n",
    "    storage_options={\"account_name\": \"coclico\"},\n",
    ")"
   ]
  },
  {
   "cell_type": "code",
   "execution_count": null,
   "id": "44549334-9a75-42ef-a3b6-62e2800aa52f",
   "metadata": {},
   "outputs": [],
   "source": [
    "%run initialize/init_7.ipynb"
   ]
  },
  {
   "cell_type": "markdown",
   "id": "92498551-5eb6-4347-9fd2-47aa7d295f11",
   "metadata": {},
   "source": [
    "## Alongshore sediment transport\n",
    "\n",
    "Welcome to the notebook of week 7! The main topic of this notebook is alongshore sediment transport. This notebook is relatively short. We will look into the CERC formula, and how to use it to obtain an (S, $\\phi$-curve. Afterwards, we will use the (S, $\\phi$-curve to determine coastal evolution around a breakwater."
   ]
  },
  {
   "cell_type": "markdown",
   "id": "53fd4788-c212-43b5-acd9-a3e1603446d0",
   "metadata": {},
   "source": [
    "## CERC formula and ($S$,$\\phi$)-curve\n",
    "Many different formulas exist to calculate bulk longshore sediment transport. One widely used formula is the CERC formula (Equation 8.4 in the book). We will use a version here which uses deep-water values for the wave height and wave angle (Equation 8.10 in the book). This formula, which is applicable for straight, parallel depth contours, is defined as:\n",
    "$$S = \\frac{K}{32(s-1)(1-p)} c_b \\sin{2 \\phi_0} H_0^2 $$\n",
    "For a complete description of each parameter, see section 8.2.3 of the book."
   ]
  },
  {
   "cell_type": "markdown",
   "id": "bf403dfa-f7e5-479c-a9b2-a2f05225b2b4",
   "metadata": {},
   "source": [
    "In line with Example 8.1 in the book, we will assume that the offshore wave height $H_0$ is equal to the deep-water root-mean-square wave height $H_{rms,0}$, and can be represented by a single value of 2 m, with a period T of 7 s. The corresponding value for $K$ is given by $K_{rms} \\approx 0.7$. We further use a porosity $p = 0.4$ and relative density $s = 2.65$. We use $\\gamma = H_{rms,b}/h_b = 0.8$.\n",
    "\n",
    "You might notice that, given the offshore wave height, the only variables left in the CERC formula are the wave celerity at breaking $c_b$ and the offshore wave angle $\\phi_0$. Starting from our values for $H_0$ and $T$, we can use linear wave theory to compute values for $c_b$ as a function of $\\phi_0$. The computation procedure is described in Example 8.1 in the book. The function below takes care of this computation. Each step in the function is explained and it is instructive to see if you can follow the function step-by-step. The result of the function is $c_b$ for a certain deep water wave angle of incidence $\\phi_0$. Once $c_b$ is known, we can compute the transport $S$. Note that the function also outputs $\\phi_b$.\n",
    "\n",
    "In the computation, we use an efficient solver for the dispersion relationship (&copy; Gert Klopman, 1994; conversion to Python by M. van der Lugt). You could also use the dispersion relationship that you programmed in Waves or in the notebooks of week 2. If you would like to do so, implement a function by uncommenting the cell below and adding your code."
   ]
  },
  {
   "cell_type": "code",
   "execution_count": null,
   "id": "66b0582a-eaee-459f-8e7a-7a45615e34cf",
   "metadata": {},
   "outputs": [],
   "source": [
    "# def disper(w, h, g):\n",
    "#     \"\"\"\n",
    "#     Input:\n",
    "#     w = 2*pi/T, were T is wave period\n",
    "#     h = water depth\n",
    "#     g = gravity constant\n",
    "\n",
    "#     Output:\n",
    "#     k = wave number\n",
    "#     \"\"\"\n",
    "\n",
    "#     k = ...\n",
    "\n",
    "#     return k"
   ]
  },
  {
   "cell_type": "code",
   "execution_count": null,
   "id": "0700682e-af25-4a7f-b88f-3d6a63925e64",
   "metadata": {},
   "outputs": [],
   "source": [
    "def find_cb_phib(\n",
    "    phi0, H0, T, g=9.81, gamma=0.8, hb=np.arange(0.1, 5.0, 0.01), print_report=False\n",
    "):\n",
    "    \"\"\"\n",
    "    Returns breaking wave celerity cb [m/s] and angle of incidence at breaking phib [degrees] for given:\n",
    "    - phi0 : angle of incidence [degrees]\n",
    "    - H0   : deep water wave height [m]\n",
    "    - T    : period [s]\n",
    "\n",
    "    The parameter hb_guess is used as guessed values for the breaking depth.\n",
    "    From this array, the best-fitting value is chosen in the end. You can adjust this\n",
    "    array to make estimates more accurate at the cost of computational efficiency.\n",
    "    \"\"\"\n",
    "    # First convert the angle of incidence to radians\n",
    "    phi_rad = phi0 / 360 * 2 * np.pi\n",
    "\n",
    "    # We start with calculating deep water celerity, wavelength, and angular frequency\n",
    "    c0 = g * T / (2 * np.pi)\n",
    "    L0 = c0 * T\n",
    "    w = T / (2 * np.pi)\n",
    "\n",
    "    # For every value of hb_guess, the wavenumber k is determined using the dispersion relation\n",
    "    k = disper(w, hb, g=g)  # Feel free to use your own implementation from week 2!\n",
    "\n",
    "    # Next we calculate the celerity and group celerity for each breaking depth\n",
    "    c = np.sqrt(g / k * np.tanh(k * hb))\n",
    "    n = 1 / 2 * (1 + (2 * k * hb) / (np.sinh(2 * k * hb)))\n",
    "    cg = n * c\n",
    "\n",
    "    # In order to correctly shoal the waves, we also need the deep water group celerity\n",
    "    n0 = 1 / 2\n",
    "    cg0 = n0 * c0\n",
    "\n",
    "    # And to account for refraction we need the angle of incidence at breaking using Snell's law\n",
    "    phi = np.arcsin(np.sin(phi_rad) / c0 * c)\n",
    "\n",
    "    # Shoaling & refraction coefficients\n",
    "    Ksh = np.sqrt(cg0 / cg)\n",
    "    Kref = np.sqrt(np.cos(phi_rad) / np.cos(phi))\n",
    "\n",
    "    # Wave heights Hb at depth hb\n",
    "    Hb = Ksh * Kref * H0\n",
    "\n",
    "    # We are looking for an hb where the breaker parameter is 0.8\n",
    "    # We can determine which value of hb in our array gets closest using the\n",
    "    # following line of code:\n",
    "    i = np.argmin(np.abs(Hb / hb - gamma))\n",
    "    Hb_pred, hb_pred = Hb[i], hb[i]\n",
    "\n",
    "    # Let's print what we found\n",
    "    if print_report:\n",
    "        print(f\"predicted breaking depth: {hb_pred:.2f} m\")\n",
    "        print(f\"predicted breaking wave height: {Hb_pred:.2f} m\")\n",
    "        print(f\"gamma = {Hb_pred / hb_pred:.2f} [-]\")\n",
    "\n",
    "    # And finally return the associated value cb for the celerity at breaking, as well as the angle of incidence at breaking phib\n",
    "    return c[i], phi[i] / (2 * np.pi) * 360"
   ]
  },
  {
   "cell_type": "markdown",
   "id": "d25551d4-86b1-4bdf-adf1-1905fe48a54d",
   "metadata": {},
   "source": [
    "Let's check that it works. The cell below shows that for an offshore wave height of 2 m, a period of 7 s, and a deep water angle of incidence of 5 degrees, we get a $c_b$ of 4.92 m/s. You can check that this is in reasonable agreement with Example 8.1 in the book. Also check the other values that the cell below prints. "
   ]
  },
  {
   "cell_type": "code",
   "execution_count": null,
   "id": "dc573eba-306b-47fd-a278-94bf912861a7",
   "metadata": {},
   "outputs": [],
   "source": [
    "phi0 = 5  # degrees\n",
    "H0 = 2  # m\n",
    "T = 7  # s\n",
    "\n",
    "cb, phib = find_cb_phib(phi0, H0, T, print_report=True)\n",
    "\n",
    "print(f\"cb: {cb:.2f} m/s\")\n",
    "print(f\"phib: {phib:.2f} degrees\")"
   ]
  },
  {
   "cell_type": "markdown",
   "id": "9053a9b2-e412-4303-9fc6-9980918625c0",
   "metadata": {},
   "source": [
    "Now that we have this function, we can calculate a breaking wave celerity for each angle of incidence. We use a range from negative to positive angles here, but this is strictly not necessary since the transport S for negative angles only differs in sign from the result for positive angles ."
   ]
  },
  {
   "cell_type": "code",
   "execution_count": null,
   "id": "9a9cda92-3599-4ada-bb7f-51c96b565ba9",
   "metadata": {},
   "outputs": [],
   "source": [
    "# Set the range for which we want to calculate cb\n",
    "phi_array = np.arange(-80, 81, 1)\n",
    "\n",
    "# Initialize cb array\n",
    "cb_array = np.zeros(phi_array.shape)\n",
    "phib_array = np.zeros(phi_array.shape)\n",
    "\n",
    "# Loop through each phi and compute associated value for cb\n",
    "for i in range(len(phi_array)):\n",
    "    cb_array[i], phib_array[i] = find_cb_phib(phi_array[i], H0, T)"
   ]
  },
  {
   "cell_type": "markdown",
   "id": "5be28a22-f0d9-48a2-a57c-ef8661d7dc18",
   "metadata": {},
   "source": [
    "With $c_b$ as a function of $\\phi_0$, we can calculate our transport $S$ as a function of $\\phi_0$, which means we can generate an ($S$,$\\phi$)-curve! \n",
    "\n",
    "Remember that we can use the CERC formulation of Equation 8.10 for this. We use typical values of $K=0.7$, $p=0.4$, and $s=2.65$. \n",
    "\n",
    "Check the equation below to compute the bulk sediment transport S."
   ]
  },
  {
   "cell_type": "code",
   "execution_count": null,
   "id": "df6aa53b-e8a4-4ad7-a61c-4c78dfa02f85",
   "metadata": {},
   "outputs": [],
   "source": [
    "def CERC(cb, phi0, H0, K=0.7, s=2.65, p=0.4):\n",
    "    \"\"\"\n",
    "    cb:   celerity at breaking\n",
    "    phi0: offshore angle of incidence (degrees)\n",
    "    H0:   offshore wave height\n",
    "\n",
    "    K:    coefficient\n",
    "    s:    relative density\n",
    "    p:    porosity\n",
    "    \"\"\"\n",
    "\n",
    "    return (\n",
    "        K / (32 * (s - 1) * (1 - p)) * cb * np.sin(2 * (phi0 / 360 * 2 * np.pi)) * H0**2\n",
    "    )"
   ]
  },
  {
   "cell_type": "markdown",
   "id": "5c558f9f-a365-4e4b-9439-99d0c442655b",
   "metadata": {},
   "source": [
    "First, let's see what our value for transport is for the previously used angle of incidence of 5 degrees."
   ]
  },
  {
   "cell_type": "code",
   "execution_count": null,
   "id": "a508bcc4-3b60-479f-ac57-dd5cf2ee74e1",
   "metadata": {},
   "outputs": [],
   "source": [
    "S_5 = CERC(cb, 5, H0)\n",
    "\n",
    "print(f\"S for angle of incidence of 5 degrees: {S_5:.4f} m3/s\")"
   ]
  },
  {
   "cell_type": "markdown",
   "id": "09844376-0ad9-47cd-a1b5-8f55b781f25b",
   "metadata": {},
   "source": [
    "This is in reasonable agreement with Example 8.1 from the book! You can of course also change $\\phi_0$ in the above computation of $c_b$ and $S$ to check the values for other deep water angles. \n",
    "\n",
    "Let's continue with calculating S for a range of values of $\\phi$, in order to generate an ($S$, $\\phi$)-curve."
   ]
  },
  {
   "cell_type": "code",
   "execution_count": null,
   "id": "8abe9297-7b89-4637-aec1-bef9b7eb7b19",
   "metadata": {},
   "outputs": [],
   "source": [
    "S = CERC(cb_array, phi_array, H0)"
   ]
  },
  {
   "cell_type": "code",
   "execution_count": null,
   "id": "7f021d5d-76a1-4d8e-bb48-3769fed84ec7",
   "metadata": {},
   "outputs": [],
   "source": [
    "warnings.filterwarnings(\"ignore\")\n",
    "logging.getLogger().setLevel(logging.ERROR)\n",
    "\n",
    "(\n",
    "    hv.Curve((phi_array, S))\n",
    "    * hv.HLine(0).opts(color=\"black\")\n",
    "    * hv.VLine(0).opts(color=\"black\")\n",
    ").opts(\n",
    "    xlabel=\"deep water angle [degrees]\",\n",
    "    ylabel=\"S [m3/s]\",\n",
    "    title=\"(S, phi_0)-curve\",\n",
    "    width=800,\n",
    "    height=400,\n",
    "    show_grid=True,\n",
    ")"
   ]
  },
  {
   "cell_type": "markdown",
   "id": "cab1b23d-d3ec-4829-b113-efd18fc68a5a",
   "metadata": {},
   "source": [
    "This plot is comparable to Figure 8.4 in Example 8.1 in the book. \n",
    "\n",
    "Using this plot and the code above, try to answer the questions below."
   ]
  },
  {
   "cell_type": "code",
   "execution_count": null,
   "id": "f7131b7b-5141-4145-aa94-58e8f52c6158",
   "metadata": {},
   "outputs": [],
   "source": [
    "q1 = cd.QuestionFactory(questions[\"Q7-1\"]).serve()\n",
    "q2 = cd.QuestionFactory(questions[\"Q7-2\"]).serve()\n",
    "q3 = cd.QuestionFactory(questions[\"Q7-3\"]).serve()\n",
    "q4 = cd.QuestionFactory(questions[\"Q7-4\"]).serve()\n",
    "\n",
    "pn.Column(q1, q2, q3, q4)"
   ]
  },
  {
   "cell_type": "markdown",
   "id": "cb65adf9-76b1-45a4-84cb-99710cd5fcbb",
   "metadata": {},
   "source": [
    "This is the end of the first part of this notebook."
   ]
  },
  {
   "cell_type": "markdown",
   "id": "0a01ade9-fb43-4876-8242-a83ba1b1c6e0",
   "metadata": {},
   "source": [
    "## Coastal evolution around a breakwater\n",
    "We will now use the ($S$,$\\phi$)-curve generated above to predict the  coastal evolution updrift of a breakwater using single-line theory. For now, we will consider only a single wave condition, which is thought to be representative:\n",
    "\n",
    "* $H_0=1.2$\n",
    "* $T=7$\n",
    "* $\\phi_0=10$\n",
    "\n",
    "The angle is quite small, but it simplifies our notebook and helps a comparison that we will make below between a numerical and analytical solution.\n",
    "\n",
    "This condition occurs roughly 10% of the time. Note that that means that for 90% of the time no significant transport occurs. Remember that positive angles result in positive transport (see also the image in Table 8.2). \n",
    "\n",
    "Let's determine the average yearly transport for this. We just calculate the transport S, and convert it to m3/year:"
   ]
  },
  {
   "cell_type": "code",
   "execution_count": null,
   "id": "1bac6a5c-b5e4-4c41-9188-592fe0a1e749",
   "metadata": {},
   "outputs": [],
   "source": [
    "H0 = 1.2\n",
    "T = 7\n",
    "phi0 = 10\n",
    "\n",
    "cb, phib = find_cb_phib(phi0, H0, T)\n",
    "S = CERC(cb, phi0, H0)\n",
    "\n",
    "# This transports S is given in m3/s. Remember that the wave climate occurs 10% of the year. For 1 year, the contribution is:\n",
    "S_total = (0.1 * S) * 365.25 * 24 * 3600\n",
    "\n",
    "print(f\"Breaking wave celerity {cb:.2f} m/s\")\n",
    "print(f\"Angle at breaking {phib:.2f} degrees\")\n",
    "print(f\"Transport per second: {S:.3f} m3/s\")\n",
    "print(f\"Total yearly transport: {S_total:.0f} m3/year\")"
   ]
  },
  {
   "cell_type": "markdown",
   "id": "552c6d23-1976-4d05-a361-699e5b8f004b",
   "metadata": {},
   "source": [
    "This total transport is positive, which means the cumulative transport is in the positive direction. But what does this mean for the coastal morphology? According to Equation 8.16, we know the coastline will evolve by:\n",
    "$$\\frac{\\partial Y}{\\partial t} + \\frac{1}{d} \\frac{\\partial S_x}{\\partial x}=0$$\n",
    "with $S_x$ the sediment transport in the $x$-direction. This equation means that the temporal evolution of the coastline position Y is determined by the *alongshore gradient* of the alongshore transport. For any location $x$ along the coastline and a given active profile height $d$, we can determine the coastline evolution through the following steps:\n",
    "1) Determine the angle of wave attack relative to the coastline $\\phi$ \n",
    "2) Determine the sediment transport, which is a function of the local angle $\\phi$\n",
    "3) Determine the alongshore gradient of the alongshore sediment transport \n",
    "4) Determine the expected morphological change in a certain short time interval\n",
    "\n",
    "However, when the coastline orientation changes, the angle of wave attack relative to the coastline changes as well and therewith the transport. We thus need to iterate through these steps. This is called the *morphological feedback loop*. When repeated, for example through a numerical model, this strategy can help predict morphological changes. This is useful for predicting the shoreline evolution due to for instance human interventions! Let us for example consider a breakwater perpendicular to the shore. We will try to use a numerical model to determine the shoreline evolution. Don't worry too much about the numerical model, for now, we will focus on the concepts here! Therefore, and because it may take a little while to run, we have run the model already for you, and will simply load the results. You will learn more about the numerical modelling part in the **Coastal Modelling unit** of the Coastal Engineering track and also do this yourself. "
   ]
  },
  {
   "cell_type": "markdown",
   "id": "b7f6d5cf",
   "metadata": {},
   "source": [
    "Let's place the breakwater at $x=0$, and consider the domain $x \\leq 0$. The breakwater extends into the water from $y=0$ m to $y=500$ m. An overview of the situation is provided by running the cell below."
   ]
  },
  {
   "cell_type": "code",
   "execution_count": null,
   "id": "62b2d711-b2c0-4396-b920-218a5e7489ab",
   "metadata": {},
   "outputs": [],
   "source": [
    "breakwater = hv.Curve(((0, 0), (0, 500)), label=\"Breakwater\").opts(color=\"black\")\n",
    "shoreline = hv.Curve(((-10000, 500), (0, 0)), label=\"Shoreline\").opts(color=\"#D2B48C\")\n",
    "(breakwater * shoreline).opts(\n",
    "    width=1200,\n",
    "    height=400,\n",
    "    legend_position=\"top_left\",\n",
    "    xlabel=\"alongshore position [m]\",\n",
    "    ylabel=\"cross-shore position [m]\",\n",
    ")"
   ]
  },
  {
   "cell_type": "markdown",
   "id": "4ccf5398",
   "metadata": {},
   "source": [
    "Firstly, some assumptions need to be made. For simplicity, we set $d$ to an assumed depth of closure of $d=7$ m. Secondly, let's assume that the wave climate is given by the single condition described above (for which we already calculated the total yearly transport). We also need to impose initial and boundary conditions. These are thoroughly described by Equation 8.21 - 8.23. Briefly, for initial conditions, we assume a horizontal coastline (i.e $y=0$  along the coast). The following two boundary conditions are imposed:\n",
    "* $S_x = S$, for $x=-\\infty$ and for all $t$\n",
    "* $S_x = 0$, for $x=0$ and for all $t$\n",
    "\n",
    "We will look at a stretch of coast with a length of order 10 km. As mentioned, we have already run the numerical model for you. Using the cell below, you can simply load the results!"
   ]
  },
  {
   "cell_type": "markdown",
   "id": "5f3f5e2c-e413-4f2c-92cb-f3ca811abcd5",
   "metadata": {},
   "source": [
    "Remember, the angle $\\phi$ is defined as positive when it induces positive transport, the same as the image in Table 8.2."
   ]
  },
  {
   "cell_type": "code",
   "execution_count": null,
   "id": "c7a95cbe-6c1b-4870-ae37-c61a83e2908d",
   "metadata": {},
   "outputs": [],
   "source": [
    "fp_X = pooch.retrieve(\n",
    "    \"https://coclico.blob.core.windows.net/coastal-dynamics/7_alongshore_transport/7_X.txt\",\n",
    "    known_hash=\"908f9b3871098c0446fb3b6c8933bd62cfeb83df33db5469814f6516be596767\",\n",
    ")\n",
    "fp_T = pooch.retrieve(\n",
    "    \"https://coclico.blob.core.windows.net/coastal-dynamics/7_alongshore_transport/7_T.txt\",\n",
    "    known_hash=\"5e71b53e92b4493c5e8a0b2b29fcd1bcd1620645a561896df309883982155ff9\",\n",
    ")\n",
    "fp_Y = pooch.retrieve(\n",
    "    \"https://coclico.blob.core.windows.net/coastal-dynamics/7_alongshore_transport/7_Y_t.txt\",\n",
    "    known_hash=\"480eb21ccfad136acc81ced0c915cc4ebcaed36259ec22148f5c0d295ed32f16\",\n",
    ")\n",
    "fp_S = pooch.retrieve(\n",
    "    \"https://coclico.blob.core.windows.net/coastal-dynamics/7_alongshore_transport/7_S_t.txt\",\n",
    "    known_hash=\"47500101458117c5041cb9a0afd96fd15306fa7d9bb7e48ae25c91ec3ad63970\",\n",
    ")\n",
    "\n",
    "X = np.loadtxt(fp_X)\n",
    "T = np.loadtxt(fp_T)\n",
    "Y_t = np.loadtxt(fp_Y)\n",
    "S_t = np.loadtxt(fp_S)"
   ]
  },
  {
   "cell_type": "markdown",
   "id": "292316f9-3198-4b3c-be18-03d209303745",
   "metadata": {},
   "source": [
    "Let's plot the results for a selection of years. You can modify which years to display if you want. We plot the total yearly transport (in the top plot), as well as the coastline (in the bottom plot). Each line represents the coastline after a certain amount of years."
   ]
  },
  {
   "cell_type": "code",
   "execution_count": null,
   "id": "c09959fd-d39a-406c-9151-869d84e9346d",
   "metadata": {},
   "outputs": [],
   "source": [
    "years = [0, 5, 10, 15, 20]\n",
    "# years = np.arange(0, 21, 1)   # Uncomment this line if you want a visualization for every year!\n",
    "\n",
    "transport_plot = hv.Curve(((), ()))\n",
    "coastline_plot = hv.Curve(((), ()))\n",
    "\n",
    "for year in years:\n",
    "\n",
    "    id = np.argmin(np.abs(T - year))\n",
    "\n",
    "    transport_plot *= hv.Curve((X, S_t[id]), label=f\"Year = {year}\")\n",
    "    coastline_plot *= hv.Curve((X, Y_t[id]), label=f\"Year = {year}\")\n",
    "\n",
    "breakwater = hv.Curve(((0, 0), (0, 500)), label=\"Breakwater\").opts(color=\"black\")\n",
    "shoreline = hv.Curve(((np.min(X), 500), (0, 0)), label=\"Shoreline\").opts(\n",
    "    color=\"#D2B48C\"\n",
    ")\n",
    "\n",
    "(\n",
    "    transport_plot.opts(\n",
    "        width=1200,\n",
    "        height=400,\n",
    "        legend_position=\"bottom_left\",\n",
    "        xlabel=\"alongshore position [m]\",\n",
    "        ylabel=\"transport S [m3/year]\",\n",
    "        show_grid=True,\n",
    "    )\n",
    "    + (coastline_plot * breakwater * shoreline).opts(\n",
    "        width=1200,\n",
    "        height=400,\n",
    "        legend_position=\"top_left\",\n",
    "        xlabel=\"alongshore position [m]\",\n",
    "        ylabel=\"cross-shore position [m]\",\n",
    "        show_grid=True,\n",
    "    )\n",
    ").opts(shared_axes=False).cols(1)"
   ]
  },
  {
   "cell_type": "markdown",
   "id": "6b69ab57-38a6-47e7-9af0-3b35b8340252",
   "metadata": {},
   "source": [
    "This numerical solution looks quite nice. You can verify the transport magnitude far away from the breakwater and at the breakwater from the boundary conditions and the above-computed value for the total yearly transport. Have a look at how the shoreline and transport changes over the years and compare this also to the more qualitative Figures 8.11 and 8.13 in the book. You can see that the development of the shoreline slows down in time. You can also see the difference between the initial transport at t = 0 and the transport after some time.\n",
    "\n",
    "In the plot with the morphological evolution through time, we see that the angle the shoreline makes with the breakwater is fairly constant throughout the years. This is the angle that leads to zero alongshore transport for the given conditions at this location! Can you estimate the shoreline angle at the breakwater, explain its value and why it is constant in time? \n",
    "\n",
    "Note that in the textbook, lectures and exercises, we often only consider the initial transport and the morphological change as a consequence of this initial transport. So that would correspond to the first morphodynamic time step only. \n",
    "\n",
    "Above we have considered a simplified situation, for which the textbook also presents some analytical solutions, for 1) the accretion length L(t) at the breakwater, and 2) the region of influence of the breakwater X = $5 \\sqrt{at}$ (see Figure 8.12 and Equation 8.25). Let's see how they compare with the numerical solution. In the first cell below we get the accretion length and region of influence for the modelled time. In the second cell, we calculate these same values analytically. Then we plot both to compare."
   ]
  },
  {
   "cell_type": "code",
   "execution_count": null,
   "id": "20fd0cb0-3155-43fa-8807-bbf6790e5cef",
   "metadata": {},
   "outputs": [],
   "source": [
    "# minimal accretion to include it in region of influence\n",
    "\n",
    "threshold = 0.0001  # times accretion length at\n",
    "\n",
    "acc_num = Y_t[:, -1]\n",
    "roi_num = np.zeros(T.shape)\n",
    "\n",
    "for it in range(len(T)):\n",
    "    X_influence = X[Y_t[it, :] > threshold * acc_num[it]]\n",
    "    roi_num[it] = np.max(X_influence) - np.min(X_influence)"
   ]
  },
  {
   "cell_type": "markdown",
   "id": "9896f203-794c-4ee2-a117-cb69ffdeedb5",
   "metadata": {},
   "source": [
    "In Equation 8.25, $\\phi$' is the angle of incidence at the closure depth of $h = 7$ m. Here we will use $\\phi$'$≈ \\phi_0$, where $\\phi_0$ is a small angle in line with the assumptions behind the analytical solution.\n",
    "\n",
    "We also need (yearly) transport in the undisturbed zone (where the coastline still has its original orientation). We already computed this above as $S_{total}$ as follows:\n",
    "$S  = CERC(c_b, 10, 1.2)$\n",
    "This transport S is given in m$^3$/s. Remember that the wave climate occurs 10% of the year. For 1 year, the contribution is:\n",
    "$S_{total} = (0.1 * S) * 365.25 * 24 * 3600$"
   ]
  },
  {
   "cell_type": "code",
   "execution_count": null,
   "id": "87fe631d-5d5c-4b77-a984-2db896e5e40a",
   "metadata": {},
   "outputs": [],
   "source": [
    "phi_prime = phi0\n",
    "\n",
    "# For the depth of closure, we have previously assumed d=7\n",
    "d = 7  #  m\n",
    "\n",
    "# We can calculate our accretion length analytically\n",
    "acc_ana = 2 * np.sqrt((phi_prime / 360 * 2 * np.pi) * S_total * T / (np.pi * d))\n",
    "\n",
    "# And from that we can calculate our region of influence analytically\n",
    "roi_ana = 2.5 * np.sqrt(np.pi) * acc_ana / (phi_prime / 360 * 2 * np.pi)"
   ]
  },
  {
   "cell_type": "markdown",
   "id": "56663091-7375-4f6d-8600-fd02b0220858",
   "metadata": {},
   "source": [
    "Let's plot these solutions in the same plot. Note that the numerical solution in the right plot is influenced by the threshold chosen above as 0.01% of the accretion length at the breakwater at each time. This is the minimum accretion length before we count it as change. You can change it if you'd like and see how it affects the results."
   ]
  },
  {
   "cell_type": "code",
   "execution_count": null,
   "id": "12d17e1a-34db-4be4-8135-06c1c7c1cfa0",
   "metadata": {},
   "outputs": [],
   "source": [
    "acc_plot = (\n",
    "    hv.Curve((T, acc_num), label=\"numerical\")\n",
    "    * hv.Curve((T, acc_ana), label=\"analytical\")\n",
    ").opts(\n",
    "    width=600,\n",
    "    height=400,\n",
    "    legend_position=\"top_left\",\n",
    "    xlabel=\"time [years]\",\n",
    "    ylabel=\"Accretion length at breakwater L [m]\",\n",
    "    show_grid=True,\n",
    ")\n",
    "roi_plot = (\n",
    "    hv.Curve((T, roi_num), label=\"numerical\")\n",
    "    * hv.Curve((T, roi_ana), label=\"analytical\")\n",
    ").opts(\n",
    "    width=600,\n",
    "    height=400,\n",
    "    legend_position=\"bottom_right\",\n",
    "    xlabel=\"time [years]\",\n",
    "    ylabel=\"Region of influence X of breakwater [m]\",\n",
    "    show_grid=True,\n",
    ")\n",
    "\n",
    "(acc_plot + roi_plot).opts(shared_axes=False)"
   ]
  },
  {
   "cell_type": "markdown",
   "id": "b31b7ea1-edd8-41b9-8c67-c2cdabd51f26",
   "metadata": {},
   "source": [
    "Using these plots, try to answer the questions below."
   ]
  },
  {
   "cell_type": "code",
   "execution_count": null,
   "id": "14d225bd-3944-430d-8320-8253516b17ae",
   "metadata": {},
   "outputs": [],
   "source": [
    "q5 = cd.QuestionFactory(questions[\"Q7-5\"]).serve()\n",
    "q6 = cd.QuestionFactory(questions[\"Q7-6\"]).serve()\n",
    "q7 = cd.QuestionFactory(questions[\"Q7-7\"]).serve()\n",
    "q8 = cd.QuestionFactory(questions[\"Q7-8\"]).serve()\n",
    "\n",
    "pn.Column(q5, q6, q7, q8)"
   ]
  },
  {
   "cell_type": "markdown",
   "id": "9e96c4c8-8a5b-46a6-9cc6-96bac3b0cdff",
   "metadata": {},
   "source": [
    "We have been working with very simple wave conditions and boundary conditions. We could improve and extend this model further by using more wave conditions and different boundary conditions. The questions below concern this extension. "
   ]
  },
  {
   "cell_type": "code",
   "execution_count": null,
   "id": "dd8916c7-26e2-402b-9767-cb3249c2de22",
   "metadata": {},
   "outputs": [],
   "source": [
    "q9 = cd.QuestionFactory(questions[\"Q7-9\"]).serve()\n",
    "q10 = cd.QuestionFactory(questions[\"Q7-10\"]).serve()\n",
    "\n",
    "pn.Column(q9, q10)"
   ]
  },
  {
   "cell_type": "markdown",
   "id": "db23064c-9a0f-496b-b8f4-06f926537880",
   "metadata": {},
   "source": [
    "We could extend this model with all sorts of additional functionality. Perhaps a first step would be to include the down-drift zone into the model. You will learn all about this in the Coastal Modelling unit! "
   ]
  },
  {
   "cell_type": "markdown",
   "id": "24197b9a-0854-4a01-b758-0d139a08ed57",
   "metadata": {},
   "source": [
    "You have reached the end of this section of the notebook."
   ]
  },
  {
   "cell_type": "markdown",
   "id": "4a6e15f8-8945-4311-9a27-25db1a426763",
   "metadata": {},
   "source": [
    "## Transport for wave climate as a function of coastline orientation\n",
    "In the numerical coastline model, a full wave climate is often taken into account. Further, the transport is computed by changing the coastline orientation relative to the waves. First, the transport for the full climate is computed for zero coastline orientation. Then, the coastline orientation changes a bit and the transport for the full climate is recomputed. This is equivalent to constructing an ($S$,$\\phi$)-curve. \n",
    "\n",
    "As a final step, let's use an entire wave climate and plot the transport as a function of the *shoreline orientation*.\n",
    "\n",
    "**Note:** previously, we plotted the ($S$,$\\phi$)-curve for a single wave condition only. We will now include multiple wave conditions (the same as Intermezzo 8.2) and will determine the transport as a function of the coastline orientation. This will result in a different curve, as you will see. For the wave climate, see Table 8.2. Each wave height and offshore angle of incidence is associated with a period assumed to be 7 seconds.\n",
    "\n",
    "First, we define a dataset containing the entire wave climate."
   ]
  },
  {
   "cell_type": "code",
   "execution_count": null,
   "id": "d9ea55c5-b418-4868-84a3-0aedf5e6cd7c",
   "metadata": {},
   "outputs": [],
   "source": [
    "Hs_array = np.array([0.5, 0.5, 0.5, 0.5, 1, 1, 1, 1, 2, 2, 2, 2, 4, 4, 4, 4])\n",
    "\n",
    "phi_array = np.array(\n",
    "    [-45, -15, 15, 45, -45, -15, 15, 45, -45, -15, 15, 45, -45, -15, 15, 45]\n",
    ")\n",
    "\n",
    "days_array = np.array([10, 10, 25, 8, 8, 15, 35, 16, 4, 10, 21, 11, 1, 1, 4, 2])\n",
    "\n",
    "df = pd.DataFrame(\n",
    "    data=zip(Hs_array, phi_array, days_array), columns=[\"Hs\", \"phi\", \"days\"]\n",
    ")"
   ]
  },
  {
   "cell_type": "markdown",
   "id": "4e3b64f7-be3e-4d19-9107-f8ff1d19b7a7",
   "metadata": {},
   "source": [
    "And we define a function that calculates the transport S for that wave climate, given a *coastline orientation*."
   ]
  },
  {
   "cell_type": "code",
   "execution_count": null,
   "id": "a2a40465-a37b-4452-8267-12f01e2b78be",
   "metadata": {},
   "outputs": [],
   "source": [
    "def get_S_coastline(coastline_orientation, wave_climate):\n",
    "    \"\"\"\n",
    "    Returns yearly transport for angle phi [degrees]\n",
    "\n",
    "    Transport is already scaled for the relative occurrence of the conditions.\n",
    "    \"\"\"\n",
    "    total_transport = 0\n",
    "\n",
    "    for index, row in df.iterrows():\n",
    "\n",
    "        Hs, angle, days = row\n",
    "\n",
    "        # Our formulation of the CERC formula (the choice of K) was based on Hrms, so we determine Hrms from Hs\n",
    "        Hrms = Hs / np.sqrt(2)\n",
    "        cb, phib = find_cb_phib(angle - coastline_orientation, Hrms, 7)\n",
    "        S = CERC(cb, angle - coastline_orientation, Hrms)\n",
    "\n",
    "        total_transport += days / 365.25 * S\n",
    "    return total_transport * 365.25 * 24 * 3600"
   ]
  },
  {
   "cell_type": "markdown",
   "id": "c5a46338-9778-47ec-ac8e-5d339f1e4630",
   "metadata": {},
   "source": [
    "The cell below loops through different values of coastal orientation, and calculates the total yearly transport for each of these orientations."
   ]
  },
  {
   "cell_type": "code",
   "execution_count": null,
   "id": "a3ba55c0-d281-46f0-b168-077e8169e6db",
   "metadata": {},
   "outputs": [],
   "source": [
    "orientations = np.linspace(-45, 45, 200)\n",
    "transports = np.zeros(orientations.shape)\n",
    "\n",
    "for i in range(len(orientations)):\n",
    "    transports[i] = get_S_coastline(orientations[i], df)"
   ]
  },
  {
   "cell_type": "code",
   "execution_count": null,
   "id": "8cb57ee0-7981-4ef9-817c-cd95430335b0",
   "metadata": {},
   "outputs": [],
   "source": [
    "(\n",
    "    hv.Curve((orientations, transports))\n",
    "    * hv.HLine(0).opts(color=\"black\")\n",
    "    * hv.VLine(0).opts(color=\"black\")\n",
    ").opts(\n",
    "    xlabel=\"coastline orientation [degrees]\",\n",
    "    ylabel=\"S [m3/year]\",\n",
    "    title=\"(S, phi)-curve\",\n",
    "    width=800,\n",
    "    height=400,\n",
    "    show_grid=True,\n",
    ")"
   ]
  },
  {
   "cell_type": "markdown",
   "id": "9fce2867-0cf0-472b-9150-ec868d3275bd",
   "metadata": {},
   "source": [
    "The above figure is quite similar to Figure 8.10 in the book. Now you can try to answer the following questions. You can use the cell below for this if you'd like."
   ]
  },
  {
   "cell_type": "code",
   "execution_count": null,
   "id": "b6c65018-8789-472f-8cc7-90fe84e1e08c",
   "metadata": {},
   "outputs": [],
   "source": [
    "coastline_orientation = 15\n",
    "\n",
    "print(\n",
    "    f\"Total yearly transport: {get_S_coastline(coastline_orientation, df):.0f} [m3/year]\"\n",
    ")"
   ]
  },
  {
   "cell_type": "code",
   "execution_count": null,
   "id": "a4f9fe9e-4b84-418f-b631-774a9259f8a8",
   "metadata": {},
   "outputs": [],
   "source": [
    "q11 = cd.QuestionFactory(questions[\"Q7-11\"]).serve()\n",
    "q12 = cd.QuestionFactory(questions[\"Q7-12\"]).serve()\n",
    "\n",
    "pn.Column(q11, q12)"
   ]
  },
  {
   "cell_type": "markdown",
   "id": "00d79f91-dd9c-4b9f-9b72-7cc631c750a3",
   "metadata": {},
   "source": [
    "You will obtain more insight in how to use such a transport curve is used in a coastline model in the B1 Coastal Engineering module. "
   ]
  },
  {
   "cell_type": "markdown",
   "id": "9751e401-6431-4760-bd81-3d501f7a217b",
   "metadata": {},
   "source": [
    "You have reached the end of this notebook."
   ]
  }
 ],
 "metadata": {
  "kernelspec": {
   "display_name": "Python [conda env:coastal] *",
   "language": "python",
   "name": "conda-env-coastal-py"
  },
  "language_info": {
   "codemirror_mode": {
    "name": "ipython",
    "version": 3
   },
   "file_extension": ".py",
   "mimetype": "text/x-python",
   "name": "python",
   "nbconvert_exporter": "python",
   "pygments_lexer": "ipython3",
   "version": "3.11.7"
  }
 },
 "nbformat": 4,
 "nbformat_minor": 5
}
