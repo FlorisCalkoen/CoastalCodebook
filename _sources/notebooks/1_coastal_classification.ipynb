{
 "cells": [
  {
   "cell_type": "markdown",
   "id": "c5ee3b6d-9a37-4e12-be67-40d150c235c2",
   "metadata": {},
   "source": [
    "# Characterization of Coastal Systems\n",
    "\n",
    "Welcome to the first notebook exercise of Coastal Systems (TU Delft, MSc Coastal Engineering)! This is only the second year that we experiment with notebooks in Coastal Systems. With these notebooks we hope to support the textbook with interactive material that helps you better understand the coastal processes and concepts explained in this course. Please let us know how you find the notebooks - we appreciate your feedback!\n",
    "\n",
    "Chapter 2 of [Coastal Dynamics Open Textbook](https://textbooks.open.tudelft.nl/textbooks/catalog/view/37/92/383-1) describes the large geographical variation of coasts across the world. It explains how the coasts that we have today are shaped by both present-day processes and processes millions years ago. It distinguishes between three different order of features, which are associated to different orders of of time. In this notebook we will look at coastal systems at these different orders of scale. "
   ]
  },
  {
   "cell_type": "markdown",
   "id": "78c55ce4-8013-45c6-9ad4-8dfd4fa53890",
   "metadata": {},
   "source": [
    "## Import libraries that we use for our analysis"
   ]
  },
  {
   "cell_type": "code",
   "execution_count": null,
   "id": "ee2ffe05-66ec-43f8-b7e6-2db9302dee83",
   "metadata": {
    "tags": []
   },
   "outputs": [],
   "source": [
    "import logging\n",
    "import pathlib\n",
    "import sys\n",
    "import warnings\n",
    "import colorcet as cc\n",
    "\n",
    "import dotenv\n",
    "import geopandas as gpd\n",
    "import holoviews as hv\n",
    "import hvplot.pandas  # noqa: API import\n",
    "import numpy as np\n",
    "import pandas as pd\n",
    "import panel as pn\n",
    "import pooch\n",
    "from bokeh.models import PanTool, WheelZoomTool\n",
    "\n",
    "import coastal_dynamics as cd\n",
    "\n",
    "# Silence DeprecationWarning # Future TODO: in spring 2024 rm this silence and check status \n",
    "with warnings.catch_warnings():\n",
    "    warnings.filterwarnings(\"ignore\", category=DeprecationWarning)\n",
    "    import dask.dataframe as dd\n",
    "\n",
    "# Activate Panel extension to make interactive visualizations\n",
    "pn.extension()\n",
    "\n",
    "# Read questions from cloud storage\n",
    "questions = cd.read_questions(\n",
    "    \"az://coastal-dynamics/questions/1_coastal_classification_hashed.json\",\n",
    "    storage_options={\"account_name\": \"coclico\"},\n",
    ")"
   ]
  },
  {
   "cell_type": "markdown",
   "id": "0aba7093-28fd-44dc-97f6-a626f50f1b2e",
   "metadata": {},
   "source": [
    "## Part 1: Tectonic classification"
   ]
  },
  {
   "cell_type": "markdown",
   "id": "5964cab0-7e98-47c6-b3b5-f03e563cfd5c",
   "metadata": {},
   "source": [
    "In this notebook we will start with the broadest (or first order) features of the coast that cover large geographical distances (thousands of kilometres) and are linked to the long-term geological process of plate tectonics. We will do so by using earthquake data from the [USGS](https://earthquake.usgs.gov/earthquakes/search/). The dataset we load contains a sample (10\\%) of observed eartquakes between Jan 2000 and Dec 2018. Why earthquake data? Earthquake data reveals geologists the mysteries of the deep, but also for coastal researchers the data is insightful. Let's first load the data by running the next cells. "
   ]
  },
  {
   "cell_type": "markdown",
   "id": "afef8413-6aaf-417a-9151-96bec27d8ae6",
   "metadata": {},
   "source": [
    "### Load the earthquake data\n",
    "\n",
    "We load the data (tabular data including geometries) and index the columns to only keep the data in memory that we actually need. In total the dataset contains 2.2 million earthquakes, but here we use a sample (10\\%), so the data contains approx. 220k eartquake entries. If you find that the interactive panel responds slow to how you adjust the widgets, please consider to take another sample. You can do so by uncommenting the sample line in the next cell. So if you set frac=0.1 you have a dataframe with approx. 22k unique earthquakes over the world. \n",
    " "
   ]
  },
  {
   "cell_type": "code",
   "execution_count": null,
   "id": "4938443e-bf3c-4c14-b171-5b721b19b9c7",
   "metadata": {
    "tags": []
   },
   "outputs": [],
   "source": [
    "eartquakes_fp = pooch.retrieve(\n",
    "    \"https://coclico.blob.core.windows.net/coastal-dynamics/1_coastal_classification/earthquakes_sample.parquet\",\n",
    "    known_hash=\"30dadc107887022464625be5a0d709894c57ec78c8cdfa9d2b697d2580c3c424\",\n",
    ")\n",
    "\n",
    "WEB_MERCATOR_LIMITS = (\n",
    "    -20037508.342789244,\n",
    "    20037508.342789244,\n",
    ")  # max polar latitudes that can be handled in World Mercator\n",
    "\n",
    "df = (\n",
    "    dd.read_parquet(eartquakes_fp)\n",
    "    .sample(\n",
    "        frac=0.1\n",
    "    )  # uncomment this line if loading the data takes too long on your computer\n",
    "    .set_index(\"time\")\n",
    "    .compute()\n",
    "    .tz_localize(None)\n",
    "    .sort_index()\n",
    ")\n",
    "\n",
    "\n",
    "# To save memory we drop most of the columns. Also we drop the polar latitudes that cannot be displayed in the web mercator projection.\n",
    "df = df[[\"mag\", \"depth\", \"latitude\", \"longitude\", \"place\", \"type\"]][\n",
    "    df[\"northing\"] < WEB_MERCATOR_LIMITS[1]\n",
    "]"
   ]
  },
  {
   "cell_type": "markdown",
   "id": "50f41e8e",
   "metadata": {},
   "source": [
    "We also get the bathymetric contours for a water depth of -200m, which we will use as a proxy to find the boundary of the continental shelf."
   ]
  },
  {
   "cell_type": "code",
   "execution_count": null,
   "id": "e4684097",
   "metadata": {},
   "outputs": [],
   "source": [
    "isobath_fp = pooch.retrieve(\n",
    "    \"https://coclico.blob.core.windows.net/coastal-dynamics/1_coastal_classification/isobaths200.gpkg\",\n",
    "    known_hash=\"2b25adb7d3923e3969f6fb0c1f53e5e5850acd3bf6a3468722f0a1434a395ae5\",\n",
    ")\n",
    "\n",
    "data200 = gpd.read_file(isobath_fp)"
   ]
  },
  {
   "cell_type": "code",
   "execution_count": null,
   "id": "197d1c76",
   "metadata": {},
   "outputs": [],
   "source": [
    "# To make plotting a bit faster, we only use isobaths longer than a certain length. We therefore first\n",
    "# have to project to a new coordinate system to get the lengths of the isobaths, and use that as a\n",
    "# mask to select the isobaths we want to keep\n",
    "\n",
    "data200[\"length\"] = data200.to_crs(\"EPSG:3857\").geometry.length\n",
    "data200 = data200[data200[\"length\"] > 5 * 10**6]"
   ]
  },
  {
   "cell_type": "markdown",
   "id": "2fd26216-4946-495d-8b81-66c90dcf08f2",
   "metadata": {},
   "source": [
    "### Plot function for earthquake data\n",
    "\n",
    "To explore the data we use visualization tools from the [Holoviz project](https://holoviz.org/) that makes high-level tools to simplify visualization in Python. Run the cell eblow "
   ]
  },
  {
   "cell_type": "markdown",
   "id": "6677f6fa-4fae-4b9a-8a7a-457cda4e306e",
   "metadata": {},
   "source": [
    "**If the visualization is too slow, please adjust the sliders such that less data is shown.**\n",
    "\n",
    "After running the cell below you will have a panel with several widgets to index the eartquake data; by magnitude, depth and time, while the colors on the map show either the magintude or the depth of the earthquakes. \n",
    "\n",
    "**Note**: Although you don't have to understand the plot method, we include it here so you can see how these interactive plots are made! "
   ]
  },
  {
   "cell_type": "code",
   "execution_count": null,
   "id": "bae161ca-3551-42bb-b8bd-75d2a34392a3",
   "metadata": {
    "tags": []
   },
   "outputs": [],
   "source": [
    "def show_earthquakes(plot_where):\n",
    "    \"\"\"\n",
    "    change value of 'plot_where' to:\n",
    "    'inline' if you would like the plot to show in the notebook\n",
    "    'pop-out' if you would like the plot to show in a new tab (i.e. seperate window)\n",
    "    \"\"\"\n",
    "\n",
    "    # Below we build the earthquake widget\n",
    "    title_bar = pn.pane.Markdown(\n",
    "        \"## Part 1: Tectonic classification\",\n",
    "        styles={\"color\": \"black\"},\n",
    "        width=400,\n",
    "        # margin=(10, 5, 10, 15),\n",
    "    )\n",
    "\n",
    "    # define widgets that can be used to index the data\n",
    "    magnitude_slider = pn.widgets.RangeSlider(\n",
    "        name=\"Earthquake magnitude [Richter]\", start=0.1, end=10\n",
    "    )\n",
    "    depth_slider = pn.widgets.RangeSlider(\n",
    "        name=\"Earthquake depth [km]\", start=0.1, end=650\n",
    "    )\n",
    "    date_slider = pn.widgets.DateRangeSlider(\n",
    "        name=\"Date\", start=df.index[0], end=df.index[-1]\n",
    "    )\n",
    "    column_types = pn.widgets.Select(\n",
    "        name=\"Show earthquake magnitude or depth?\", options=[\"mag\", \"depth\"]\n",
    "    )\n",
    "\n",
    "    plot_isobaths = pn.widgets.Select(\n",
    "        name=\"Plot isobaths -200m?\", options=[\"no\", \"yes\"]\n",
    "    )\n",
    "\n",
    "    @pn.depends(\n",
    "        magnitude_slider.param.value_start,\n",
    "        magnitude_slider.param.value_end,\n",
    "        depth_slider.param.value_start,\n",
    "        depth_slider.param.value_end,\n",
    "        date_slider.param.value_start,\n",
    "        date_slider.param.value_end,\n",
    "        column_types.param.value,\n",
    "        plot_isobaths.param.value,\n",
    "    )\n",
    "    def plot_earthquake_panel(\n",
    "        magnitude_start,\n",
    "        magnitude_end,\n",
    "        depth_start,\n",
    "        depth_end,\n",
    "        date_start,\n",
    "        date_end,\n",
    "        column_type,\n",
    "        plot_isobath,\n",
    "    ):\n",
    "        panel = df[\n",
    "            (df.mag > magnitude_start)\n",
    "            & (df.mag < magnitude_end)\n",
    "            & (df.depth > depth_start)\n",
    "            & (df.depth < depth_end)\n",
    "            & (df.index >= pd.Timestamp(date_start))\n",
    "            & (df.index <= pd.Timestamp(date_end))\n",
    "        ]\n",
    "        # inverted fire colormap from colorcet\n",
    "        cmap = cc.CET_L4[::-1]\n",
    "        colorbar_labels = {\n",
    "            \"mag\": \"Magnitude [Richter]\",\n",
    "            \"depth\": \"Earthquake depth [km]\",\n",
    "        }\n",
    "\n",
    "        p = panel.hvplot.points(\n",
    "            x=\"longitude\",\n",
    "            y=\"latitude\",\n",
    "            geo=True,\n",
    "            color=column_type,\n",
    "            global_extent=True,\n",
    "            tiles=\"ESRI\",\n",
    "            # frame_width=900,\n",
    "            ylabel=\"Latitude [deg]\",\n",
    "            xlabel=\"Longitude [deg]\",\n",
    "            cmap=cmap,\n",
    "            tools=[\"tap\"],\n",
    "            hover_cols=[\"place\", \"time\"],\n",
    "            logz=True,\n",
    "            clim=(1, None),\n",
    "            clabel=colorbar_labels[column_type],\n",
    "        )\n",
    "\n",
    "        if plot_isobath == \"yes\":\n",
    "            baths = data200.hvplot(\n",
    "                geo=True, line_width=2, line_color=\"white\", line_dash=\"dashed\"\n",
    "            )\n",
    "            p = p * baths\n",
    "\n",
    "        p.opts(width=1000, height=500, tools=[\"wheel_zoom\"])\n",
    "\n",
    "        return p\n",
    "\n",
    "    earthquake_panel = pn.Column(\n",
    "        pn.Row(\n",
    "            pn.Column(\n",
    "                pn.Row(title_bar, align=\"start\"),\n",
    "                pn.Row(plot_isobaths, align=\"start\"),\n",
    "                pn.Row(column_types, align=\"start\"),\n",
    "            ),\n",
    "            pn.Column(\n",
    "                pn.Row(magnitude_slider, align=\"start\"),\n",
    "                pn.Row(depth_slider, align=\"start\"),\n",
    "                pn.Row(date_slider, align=\"start\"),\n",
    "            ),\n",
    "            pn.Column(),\n",
    "        ),\n",
    "        pn.Row(plot_earthquake_panel, align=\"center\"),\n",
    "    )\n",
    "\n",
    "    if plot_where == \"inline\":\n",
    "        return earthquake_panel\n",
    "    elif plot_where == \"pop-out\":\n",
    "        earthquake_panel.show()\n",
    "    else:\n",
    "        print(\"please use either inline or pop-out for the plot_where variable\")"
   ]
  },
  {
   "cell_type": "markdown",
   "id": "bb8e883d-3f46-452d-80ed-c79deea932a4",
   "metadata": {},
   "source": [
    "### Now plot the earthquake data \n",
    "\n",
    "Execute the cell below to generate the plot by using the function we defined above. Please note that altering the slider positions or selecting different options from the dropdown menus may trigger a warning; it can safely be ignored, and possibly silenced by the adjusting the logging warning level. \n",
    "\n",
    "For efficiency, the plots are generated without the -200m isobathymetry by default. Enable this feature if you would like to see detailed depth contours, but it will increase the plotting time.\""
   ]
  },
  {
   "cell_type": "code",
   "execution_count": null,
   "id": "79a4214f-f3da-4eed-8f9b-0fe6021ce475",
   "metadata": {},
   "outputs": [],
   "source": [
    "logging.getLogger().setLevel(logging.ERROR)\n",
    "\n",
    "show_earthquakes(plot_where=\"pop-out\")"
   ]
  },
  {
   "cell_type": "markdown",
   "id": "133e45b2-9b87-4f73-a97a-e79313bae052",
   "metadata": {},
   "source": [
    "### Explore the earthquake data & questions\n",
    "\n",
    "Run the code cell below to access the questions that you can answering using the earthquake dashboard. For convenience, you may open the Panel dashboard in a separate browser tab to view the questions and plot side by side."
   ]
  },
  {
   "cell_type": "code",
   "execution_count": null,
   "id": "1d8454ca-ab07-4b54-ab89-88f9b0c52fdc",
   "metadata": {},
   "outputs": [],
   "source": [
    "q1 = cd.QuestionFactory(questions[\"Q1-1\"]).serve()\n",
    "q2 = cd.QuestionFactory(questions[\"Q1-2\"]).serve()\n",
    "q3 = cd.QuestionFactory(questions[\"Q1-3\"]).serve()\n",
    "q4 = cd.QuestionFactory(questions[\"Q1-4\"]).serve()\n",
    "\n",
    "pn.Column(q1, q2, q3, q4)"
   ]
  },
  {
   "cell_type": "markdown",
   "id": "e67f2e35-61b5-4bc8-8b70-a0c0250144a9",
   "metadata": {},
   "source": [
    "#### Plate tectonics\n",
    "Earthquake data support one of the most fundamental processes in the geology: plate tectonics. Although plate tectonics is a relatively slow process that acts on the geological time scale, it has had an enormous impact on the formation of coastlines and determines the broadest features of the coast."
   ]
  },
  {
   "cell_type": "code",
   "execution_count": null,
   "id": "f937bf51-4f58-48c4-a6fa-a5fe64c70e73",
   "metadata": {},
   "outputs": [],
   "source": [
    "q5 = cd.QuestionFactory(questions[\"Q1-5\"]).serve()\n",
    "\n",
    "pn.Column(q5)"
   ]
  },
  {
   "cell_type": "markdown",
   "id": "52f05014-d83f-4ea8-b742-39427682b695",
   "metadata": {},
   "source": [
    "#### Australian Gold Coast\n",
    "\n",
    "For the upcoming questions, consider the east Australian \"Gold Coast\"."
   ]
  },
  {
   "cell_type": "code",
   "execution_count": null,
   "id": "8d503057-e8df-4446-9b2c-3812ee988210",
   "metadata": {},
   "outputs": [],
   "source": [
    "q6 = cd.QuestionFactory(questions[\"Q1-6\"]).serve()\n",
    "q7 = cd.QuestionFactory(questions[\"Q1-7\"]).serve()\n",
    "q8 = cd.QuestionFactory(questions[\"Q1-8\"]).serve()\n",
    "q9 = cd.QuestionFactory(questions[\"Q1-9\"]).serve()\n",
    "\n",
    "pn.Column(q6, q7, q8, q9)"
   ]
  },
  {
   "cell_type": "markdown",
   "id": "f60a5c37-420e-4507-a8f1-ccb6a6e159d7",
   "metadata": {},
   "source": [
    "#### Coastal classification by tectonic regime\n",
    "In 1971 Inman, D. L. & Nordstrom, C. E. used plate tectonics to classify the coast. They distinguish three main types of coasts: leading edge, trailing edge and marginal sea. In the questions below, match the correct characteristics to each class."
   ]
  },
  {
   "cell_type": "code",
   "execution_count": null,
   "id": "b9583771-20ce-41cd-841f-5970f68ba261",
   "metadata": {},
   "outputs": [],
   "source": [
    "q10 = cd.QuestionFactory(questions[\"Q1-10\"]).serve()\n",
    "q11 = cd.QuestionFactory(questions[\"Q1-11\"]).serve()\n",
    "q12 = cd.QuestionFactory(questions[\"Q1-12\"]).serve()\n",
    "\n",
    "pn.Column(q10, q11, q12)"
   ]
  },
  {
   "cell_type": "markdown",
   "id": "5ba87a25-7120-4658-b0cf-152365fb8100",
   "metadata": {},
   "source": [
    "#### Classification challenge! \n",
    "\n",
    "Now that we have looked at the typical characteristics of each coastal type, we will look at some examples. Each question below specifies a different location. Use the earthquake panel to zoom to the locations specified, and classify the coasts to the correct classes. "
   ]
  },
  {
   "cell_type": "code",
   "execution_count": null,
   "id": "b58fe7fd-e7cf-4670-bc02-702efd6c4d80",
   "metadata": {},
   "outputs": [],
   "source": [
    "q13 = cd.QuestionFactory(questions[\"Q1-13\"]).serve()\n",
    "q14 = cd.QuestionFactory(questions[\"Q1-14\"]).serve()\n",
    "q15 = cd.QuestionFactory(questions[\"Q1-15\"]).serve()\n",
    "q16 = cd.QuestionFactory(questions[\"Q1-16\"]).serve()\n",
    "\n",
    "pn.Column(q13, q14, q15, q16)"
   ]
  },
  {
   "cell_type": "markdown",
   "id": "3060d2bc-ce5a-468a-8219-d41a5b6c602f",
   "metadata": {},
   "source": [
    "#### The influence of sediment supply\n",
    "\n",
    "Inman, D. L. & Nordstrom (1971) further distinguish Afro-trailing-edge coasts and Amero-trailing-edge coasts based on differences in sediment supplies."
   ]
  },
  {
   "cell_type": "code",
   "execution_count": null,
   "id": "0a428122-eb63-4bf2-b82c-d07de785e1db",
   "metadata": {},
   "outputs": [],
   "source": [
    "q17 = cd.QuestionFactory(questions[\"Q1-17\"]).serve()\n",
    "q18 = cd.QuestionFactory(questions[\"Q1-18\"]).serve()\n",
    "q19 = cd.QuestionFactory(questions[\"Q1-19\"]).serve()\n",
    "\n",
    "pn.Column(q17, q18, q19)"
   ]
  },
  {
   "cell_type": "markdown",
   "id": "bdf2a34d-2edd-43f4-a45b-793a3779ec74",
   "metadata": {},
   "source": [
    "## Part 2: Process-based coastal classification\n",
    "\n",
    "In the section part of this notebook we will explore several coastal systems around the world considering the second and third order scale of features. In chapter two of the Coastal Dynamics open textbook it is explained how coastal systems can be classified according to the processes that characterize these systems. For example, one of the figures (below) shows how the relative influence of fluvial, wave and tidal processes influences the shape of coastal features. The idea of this exercise is that you identify the signatures of the processes that are introduced in chapter 2 in several coastal systems around the world. \n",
    "\n",
    "![image](./figures/01_coastal_forcing.png)"
   ]
  },
  {
   "cell_type": "markdown",
   "id": "5704aa4c-3b92-4618-8e45-b2daccf72c7b",
   "metadata": {},
   "source": [
    "### Load coastal systems data\n",
    "\n",
    "In the cell below we define a small plot function that generates a ESRI World Imagery basemap given a longitude, latitude, zoom level and name. Also, a small sheet of coastal systems around the world is loaded into `geopandas`, a Python library for geospatial tabular data. In the cells afterwards we sample this dataframe and show the coastal system on a map. \n"
   ]
  },
  {
   "cell_type": "code",
   "execution_count": null,
   "id": "7bb4af63-03f7-4df1-8fd8-4c6a7930b95e",
   "metadata": {
    "tags": []
   },
   "outputs": [],
   "source": [
    "coastal_systems_fp = pooch.retrieve(\n",
    "    \"https://coclico.blob.core.windows.net/coastal-dynamics/1_coastal_classification/coastal_systems.parquet\",\n",
    "    known_hash=\"923fd66cc58b5fbf32abbc51f46af15b179ed06e922bb9ff5efeb5680853900a\",\n",
    ")\n",
    "\n",
    "coastal_systems = gpd.read_parquet(coastal_systems_fp)"
   ]
  },
  {
   "cell_type": "markdown",
   "id": "15247fdf-1399-4788-8afe-dbb0e6f63b26",
   "metadata": {},
   "source": [
    "#### Define plot function for coastal systems  \n",
    "\n",
    "**Note**: Although you don't have to understand the plot method, we include it here so you can see how these interactive plots are made! "
   ]
  },
  {
   "cell_type": "code",
   "execution_count": null,
   "id": "0f18a18f-d7dc-4824-bf92-60a827370c38",
   "metadata": {},
   "outputs": [],
   "source": [
    "def show_coastal_systems(plot_where):\n",
    "    \"\"\"\n",
    "    change value of 'plot_where' to:\n",
    "    'inline' if you would like the plot to show in the notebook\n",
    "    'pop-out' if you would like the plot to show in a new tab (i.e. seperate window)\n",
    "    \"\"\"\n",
    "\n",
    "    # Below we build the widget\n",
    "    title_bar = pn.Row(\n",
    "        pn.pane.Markdown(\n",
    "            \"## Exercise 2: Coastal system characterization\",\n",
    "            styles={\"color\": \"black\"},\n",
    "            width=800,\n",
    "            sizing_mode=\"fixed\",\n",
    "            margin=(10, 5, 10, 15),\n",
    "        ),\n",
    "        pn.Spacer(),\n",
    "    )\n",
    "\n",
    "    options = coastal_systems.name.to_list()\n",
    "    coastal_systems_slider = pn.widgets.Select(\n",
    "        name=\"Coastal system\", options=options, value=np.random.choice(options)\n",
    "    )\n",
    "\n",
    "    plot_isobaths = pn.widgets.Select(\n",
    "        name=\"Plot isobaths -200m?\", options=[\"no\", \"yes\"]\n",
    "    )\n",
    "\n",
    "    @pn.depends(coastal_systems_slider.param.value, plot_isobaths.param.value)\n",
    "    def plot_coastal_system(name, plot_isobath):\n",
    "        system = coastal_systems.loc[coastal_systems[\"name\"] == name].copy()\n",
    "        west, south, east, north = system[\n",
    "            [\"west\", \"south\", \"east\", \"north\"]\n",
    "        ].values.flatten()\n",
    "\n",
    "        p = system.hvplot.points(\n",
    "            x=\"lon\",\n",
    "            y=\"lat\",\n",
    "            geo=True,\n",
    "            color=\"red\",\n",
    "            alpha=0,\n",
    "            xlim=(west, east),\n",
    "            ylim=(south, north),\n",
    "            tiles=\"ESRI\",\n",
    "            frame_width=1100,\n",
    "            ylabel=\"Latitude [deg]\",\n",
    "            xlabel=\"Longitude [deg]\",\n",
    "        )\n",
    "\n",
    "        if plot_isobath == \"yes\":\n",
    "            baths = data200.hvplot(\n",
    "                geo=True, line_width=2, line_color=\"white\", line_dash=\"dashed\"\n",
    "            )\n",
    "            p = p * baths\n",
    "\n",
    "        p.opts(frame_width=1000, frame_height=500, tools=[\"pan\", \"wheel_zoom\"])\n",
    "\n",
    "        return p\n",
    "\n",
    "    app = pn.Column(\n",
    "        # title_bar,\n",
    "        pn.Row(plot_isobaths, align=\"center\"),\n",
    "        pn.Row(coastal_systems_slider, align=\"center\"),\n",
    "        pn.Row(plot_coastal_system, align=\"center\"),\n",
    "    )\n",
    "\n",
    "    if plot_where == \"inline\":\n",
    "        return app\n",
    "    elif plot_where == \"pop-out\":\n",
    "        app.show()\n",
    "    else:\n",
    "        print(\"please use either 'inline' or 'pop-out' for the 'plot_where' variable\")"
   ]
  },
  {
   "cell_type": "markdown",
   "id": "8cfd6788-c0d1-4927-ab74-24ca80562085",
   "metadata": {},
   "source": [
    "### Plot coastal systems\n",
    "\n",
    "Execute the cell below to plot coastal systems using the function we defined above. Please note that altering the slider positions or selecting different options from the dropdown menus may trigger a warning; it can safely be ignored, and possibly silenced by the adjusting the logging warning level. "
   ]
  },
  {
   "cell_type": "code",
   "execution_count": null,
   "id": "f2496568-7300-47a4-b7a8-f74314637a0e",
   "metadata": {},
   "outputs": [],
   "source": [
    "logging.getLogger().setLevel(logging.ERROR)\n",
    "\n",
    "show_coastal_systems(plot_where=\"pop-out\")"
   ]
  },
  {
   "cell_type": "markdown",
   "id": "bc77c2cd-0e7c-4733-aa20-20e8518010fa",
   "metadata": {},
   "source": [
    "#### Exercise time!\n",
    "\n",
    "Try to answer the theoretical and applied questions using the Coastal Systems dashboard. "
   ]
  },
  {
   "cell_type": "markdown",
   "id": "93daa1d8-3464-4537-b71b-692fdf548017",
   "metadata": {},
   "source": [
    "### Questions 2a: theory\n",
    "Running the cell below will generate theory questions. Use the sattelite images of different coastal systems to answer the questions."
   ]
  },
  {
   "cell_type": "code",
   "execution_count": null,
   "id": "7e325199-e3e8-49ba-950f-bf43634fdc9f",
   "metadata": {},
   "outputs": [],
   "source": [
    "# Questions 2a\n",
    "q20 = cd.QuestionFactory(questions[\"Q1-20\"]).serve()\n",
    "q21 = cd.QuestionFactory(questions[\"Q1-21\"]).serve()\n",
    "q22 = cd.QuestionFactory(questions[\"Q1-22\"]).serve()\n",
    "q23 = cd.QuestionFactory(questions[\"Q1-23\"]).serve()\n",
    "q24 = cd.QuestionFactory(questions[\"Q1-24\"]).serve()\n",
    "q25 = cd.QuestionFactory(questions[\"Q1-25\"]).serve()\n",
    "q26 = cd.QuestionFactory(questions[\"Q1-26\"]).serve()\n",
    "q27 = cd.QuestionFactory(questions[\"Q1-27\"]).serve()\n",
    "q28 = cd.QuestionFactory(questions[\"Q1-28\"]).serve()\n",
    "q29 = cd.QuestionFactory(questions[\"Q1-29\"]).serve()\n",
    "q30 = cd.QuestionFactory(questions[\"Q1-30\"]).serve()\n",
    "q31 = cd.QuestionFactory(questions[\"Q1-31\"]).serve()\n",
    "q32 = cd.QuestionFactory(questions[\"Q1-32\"]).serve()\n",
    "q33 = cd.QuestionFactory(questions[\"Q1-33\"]).serve()\n",
    "\n",
    "pn.Column(q20, q21, q22, q23, q24, q25, q26, q27, q28, q29, q30, q31, q32, q33)"
   ]
  },
  {
   "cell_type": "markdown",
   "id": "657487e3-8e41-48db-b061-96b43c9f7ec9",
   "metadata": {},
   "source": [
    "### Questions 2b: application\n",
    "Running the cell below will generate application questions. Use the sattelite images of different coastal systems to answer the questions."
   ]
  },
  {
   "cell_type": "code",
   "execution_count": null,
   "id": "8fc19be0-0dbc-4420-b6f1-f1adfdadc724",
   "metadata": {},
   "outputs": [],
   "source": [
    "# Questions 2b\n",
    "q34 = cd.QuestionFactory(questions[\"Q1-34\"]).serve()\n",
    "q35 = cd.QuestionFactory(questions[\"Q1-35\"]).serve()\n",
    "q36 = cd.QuestionFactory(questions[\"Q1-36\"]).serve()\n",
    "q37 = cd.QuestionFactory(questions[\"Q1-37\"]).serve()\n",
    "q38 = cd.QuestionFactory(questions[\"Q1-38\"]).serve()\n",
    "q39 = cd.QuestionFactory(questions[\"Q1-39\"]).serve()\n",
    "q40 = cd.QuestionFactory(questions[\"Q1-40\"]).serve()\n",
    "q41 = cd.QuestionFactory(questions[\"Q1-41\"]).serve()\n",
    "q42 = cd.QuestionFactory(questions[\"Q1-42\"]).serve()\n",
    "q43 = cd.QuestionFactory(questions[\"Q1-43\"]).serve()\n",
    "q44 = cd.QuestionFactory(questions[\"Q1-44\"]).serve()\n",
    "q45 = cd.QuestionFactory(questions[\"Q1-45\"]).serve()\n",
    "q46 = cd.QuestionFactory(questions[\"Q1-46\"]).serve()\n",
    "q47 = cd.QuestionFactory(questions[\"Q1-47\"]).serve()\n",
    "\n",
    "pn.Column(q34, q35, q36, q37, q38, q39, q40, q41, q42, q43, q44, q45, q46, q47)"
   ]
  },
  {
   "cell_type": "markdown",
   "id": "7d1e3fdb-e1e5-40f4-8ac8-6ae418ce809f",
   "metadata": {},
   "source": [
    "This is the end of the notebook for week 1. We discussed tectonic and process-based classification of coastal systems. For further reading, see chapter 2 of the book. We hope you had fun!"
   ]
  },
  {
   "cell_type": "code",
   "execution_count": null,
   "id": "00c2d086-6be1-41a3-b4a7-72ece4ae5921",
   "metadata": {},
   "outputs": [],
   "source": []
  },
  {
   "cell_type": "code",
   "execution_count": null,
   "id": "0d2b2b1e-270e-449a-9b7e-b21e1860b7cf",
   "metadata": {},
   "outputs": [],
   "source": []
  },
  {
   "cell_type": "code",
   "execution_count": null,
   "id": "9285be89-e8df-4a4e-8c8d-37bb1b3d0f71",
   "metadata": {},
   "outputs": [],
   "source": []
  },
  {
   "cell_type": "code",
   "execution_count": null,
   "id": "f6c21272-3278-4e18-864e-71594373156a",
   "metadata": {},
   "outputs": [],
   "source": []
  },
  {
   "cell_type": "code",
   "execution_count": null,
   "id": "15a6045d-a5a6-4571-9868-9849308c2104",
   "metadata": {},
   "outputs": [],
   "source": []
  }
 ],
 "metadata": {
  "kernelspec": {
   "display_name": "Python [conda env:coastal] *",
   "language": "python",
   "name": "conda-env-coastal-py"
  },
  "language_info": {
   "codemirror_mode": {
    "name": "ipython",
    "version": 3
   },
   "file_extension": ".py",
   "mimetype": "text/x-python",
   "name": "python",
   "nbconvert_exporter": "python",
   "pygments_lexer": "ipython3",
   "version": "3.11.7"
  }
 },
 "nbformat": 4,
 "nbformat_minor": 5
}
