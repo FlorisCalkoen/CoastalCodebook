{
 "cells": [
  {
   "cell_type": "markdown",
   "metadata": {},
   "source": [
    "# Coastal Systems Notebook 3 (week 9): Escoffier curve\n",
    "\n",
    "In chapter 9 of the book and slides, we learned about tidal inlets and their stability. Tidal inlets are very dynamic and their stability depend on a lot of factors. Escoffier was the first to study the stability of tidal inlets. More specifically, he studied the cross-sectional area of tidal inlets as they change throughout the tidal cycle. From his studies, Escoffier developed the now well-known Escoffier curve. In this notebook we will use an interactive approach to better understand the Escoffier curve. Afterwards you are tasked to answer some questions to verify your knowledge on the topic.\n",
    "\n",
    "Before starting this notebook, make sure you followed the lectures on chapter 9 (or read the slides) and read section 9.5.1 of the book. Also, run the code below to import and check the necessary packages."
   ]
  },
  {
   "cell_type": "code",
   "execution_count": 1,
   "metadata": {
    "execution": {
     "iopub.execute_input": "2023-02-16T12:05:01.214875Z",
     "iopub.status.busy": "2023-02-16T12:05:01.214759Z",
     "iopub.status.idle": "2023-02-16T12:05:01.221527Z",
     "shell.execute_reply": "2023-02-16T12:05:01.220506Z",
     "shell.execute_reply.started": "2023-02-16T12:05:01.214863Z"
    },
    "tags": []
   },
   "outputs": [],
   "source": [
    "import os\n",
    "import pathlib\n",
    "import sys\n",
    "\n",
    "# make coastpy library importable by appending root to path\n",
    "cwd = pathlib.Path().resolve()\n",
    "proj_dir = cwd.parent.parent  # this is the root of the CoastalCodeBook\n",
    "sys.path.append(str(proj_dir / \"src\"))"
   ]
  },
  {
   "cell_type": "code",
   "execution_count": 4,
   "metadata": {
    "execution": {
     "iopub.execute_input": "2023-02-16T12:05:13.705204Z",
     "iopub.status.busy": "2023-02-16T12:05:13.704712Z",
     "iopub.status.idle": "2023-02-16T12:05:13.713533Z",
     "shell.execute_reply": "2023-02-16T12:05:13.710779Z",
     "shell.execute_reply.started": "2023-02-16T12:05:13.705178Z"
    },
    "tags": []
   },
   "outputs": [],
   "source": [
    "import numpy as np\n",
    "import matplotlib.pyplot as plt\n",
    "from ipywidgets import interact, interactive, fixed, interact_manual\n",
    "import ipywidgets as widgets\n",
    "from hidden import *\n",
    "\n",
    "DATA_DIR = proj_dir / \"data\"\n",
    "FIG_DIR = proj_dir / \"coastalcodebook\" / \"assignments\" / \"figures\""
   ]
  },
  {
   "cell_type": "markdown",
   "metadata": {},
   "source": [
    "## 1. Creating an Escoffier curve\n",
    "\n",
    "Escoffier’s curve is a so-called closure curve and describes the relationship between maximum channel velocity $u_e$ and the parameter $X$, which is primarily, but not solely, a function of the channel cross-section. If we consider a sinusoidal tidal velocity signal:\n",
    "\n",
    "$$\n",
    "\\begin{aligned}\n",
    "u_e = \\hat{u}_e = \\frac{\\pi P}{A_e T}\n",
    "\\end{aligned}\n",
    "$$\n",
    "\n",
    "Where $\\hat{u}_e$ is the tidal signal amplitude, $P$ the tidal prism, $A_e$ the channel cross-section and $T$ the tidal period (see Intermezzo 9.4 of the book, equation 9.5).\n",
    "\n",
    "\n",
    "The process that leads to the Escoffier curve is explained in the book. In this notebook we provide a short visualisation, see the interactive plot below. We start with an imaginary channel cross-section that is very small, close to point A, such that the tidal difference in the estuary is smaller than the tidal range. Increasing the cross-section ($A_e$) results in an increase of the tidal prism ($P$) so large that $u_e$ increases too (recall eq. 9.5). At some point the tidal difference in the estuary is equal to the tidal range and we reach the peak of the closure curve. A larger cross-section now reduces $u_e$ as $P$ remains constant (again, recall eq. 9.5)."
   ]
  },
  {
   "cell_type": "markdown",
   "metadata": {},
   "source": [
    "```\n",
    "=> @DANIEL: Please insert the interactive plot in the codeblock below. You can find the figures necessary in the folder of this assignment. The idea is to simply display a figure using a slider widget. So in essence you shouldn't have to code anything to create the graphs of the figure, just display the right image when the slider is moved. I suggest to use ipywidgets, see https://github.com/jupyter-widgets/ipywidge\n",
    "ts#readme. Importing the package is done above. I got an error when importing the package because it wasn't installed in the environment. I installed it using Anaconda prompt, activating the environment and running 'pip install ipywidgets'.\n",
    "```"
   ]
  },
  {
   "cell_type": "code",
   "execution_count": 5,
   "metadata": {
    "execution": {
     "iopub.execute_input": "2023-02-16T12:05:14.842608Z",
     "iopub.status.busy": "2023-02-16T12:05:14.842223Z",
     "iopub.status.idle": "2023-02-16T12:05:14.848692Z",
     "shell.execute_reply": "2023-02-16T12:05:14.847964Z",
     "shell.execute_reply.started": "2023-02-16T12:05:14.842584Z"
    },
    "tags": []
   },
   "outputs": [],
   "source": [
    "# from dash import dcc, html, Input, Output,Dash\n",
    "\n",
    "# external_stylesheets = ['https://codepen.io/chriddyp/pen/bWLwgP.css']\n",
    "\n",
    "# app = Dash(__name__, external_stylesheets=external_stylesheets)\n",
    "\n",
    "# app.layout = html.Div([\n",
    "#     dcc.Slider(0, 20, 5,\n",
    "#                value=10,\n",
    "#                id='my-slider'\n",
    "#     ),\n",
    "#     html.Div(id='slider-output-container')\n",
    "# ])\n",
    "\n",
    "# @app.callback(\n",
    "#     Output('slider-output-container', 'children'),\n",
    "#     Input('my-slider', 'value'))\n",
    "# def update_output(value):\n",
    "#     return 'You have selected \"{}\"'.format(value)\n",
    "\n",
    "# if __name__ == '__main__':\n",
    "#     app.run_server(debug=True)"
   ]
  },
  {
   "cell_type": "code",
   "execution_count": 6,
   "metadata": {
    "execution": {
     "iopub.execute_input": "2023-02-16T12:05:15.183175Z",
     "iopub.status.busy": "2023-02-16T12:05:15.182497Z",
     "iopub.status.idle": "2023-02-16T12:05:15.610932Z",
     "shell.execute_reply": "2023-02-16T12:05:15.610564Z",
     "shell.execute_reply.started": "2023-02-16T12:05:15.183146Z"
    },
    "tags": []
   },
   "outputs": [
    {
     "data": {
      "text/plain": [
       "<matplotlib.image.AxesImage at 0x1277ab2e0>"
      ]
     },
     "execution_count": 6,
     "metadata": {},
     "output_type": "execute_result"
    },
    {
     "data": {
      "image/png": "[encoded data removed]",
      "text/plain": [
       "<Figure size 600x400 with 2 Axes>"
      ]
     },
     "metadata": {},
     "output_type": "display_data"
    }
   ],
   "source": [
    "# @DANIEL: this is the codeblock for the interactive plot\n",
    "%matplotlib notebook\n",
    "# %%capture\n",
    "%matplotlib inline\n",
    "from ipywidgets import interact, widgets\n",
    "from IPython.display import display\n",
    "import matplotlib.pyplot as plt\n",
    "import warnings\n",
    "\n",
    "from skimage.morphology import disk\n",
    "from skimage.filters import rank\n",
    "from skimage.color import rgb2gray\n",
    "import skimage.data\n",
    "\n",
    "\n",
    "def f(Median_Size):\n",
    "    selem = disk(int(Median_Size))\n",
    "    with warnings.catch_warnings():\n",
    "        warnings.simplefilter(\"ignore\")\n",
    "        img_median = rank.median(img_gray, selem=selem) \n",
    "\n",
    "    ax_neu.imshow(img_median, cmap=\"gray\")\n",
    "    fig.canvas.draw()\n",
    "    display(fig)\n",
    "\n",
    "image =  plt.imread(FIG_DIR / \"04_Ch9_Escoffier_interactive_3.png\")  #skimage.data.camera()\n",
    "img_gray = rgb2gray(image)\n",
    "\n",
    "fig = plt.figure(figsize=(6, 4))\n",
    "ax_orig = fig.add_subplot(121) \n",
    "ax_neu = fig.add_subplot(122) \n",
    "\n",
    "ax_orig.imshow(img_gray, cmap=\"gray\")\n",
    "ax_neu.imshow(img_gray, cmap=\"gray\")"
   ]
  },
  {
   "cell_type": "code",
   "execution_count": 7,
   "metadata": {
    "execution": {
     "iopub.execute_input": "2023-02-16T12:05:15.706291Z",
     "iopub.status.busy": "2023-02-16T12:05:15.706053Z",
     "iopub.status.idle": "2023-02-16T12:05:15.925034Z",
     "shell.execute_reply": "2023-02-16T12:05:15.924715Z",
     "shell.execute_reply.started": "2023-02-16T12:05:15.706274Z"
    },
    "tags": []
   },
   "outputs": [
    {
     "data": {
      "application/vnd.jupyter.widget-view+json": {
       "model_id": "de84c36146a2490998c2b1ef9a239668",
       "version_major": 2,
       "version_minor": 0
      },
      "text/plain": [
       "interactive(children=(IntSlider(value=1, description='Median_Size', max=21, min=1, step=2), Output()), _dom_cl…"
      ]
     },
     "metadata": {},
     "output_type": "display_data"
    }
   ],
   "source": [
    "interact(f, Median_Size=widgets.IntSlider(min=1,max=21,step=2,value=1));"
   ]
  },
  {
   "cell_type": "markdown",
   "metadata": {},
   "source": [
    "## TODO:\n",
    "\n",
    "The image viewer slider doesn't work really well on MacOS."
   ]
  },
  {
   "cell_type": "code",
   "execution_count": 8,
   "metadata": {
    "execution": {
     "iopub.execute_input": "2023-02-16T12:05:16.288886Z",
     "iopub.status.busy": "2023-02-16T12:05:16.288707Z",
     "iopub.status.idle": "2023-02-16T12:05:18.853018Z",
     "shell.execute_reply": "2023-02-16T12:05:18.852709Z",
     "shell.execute_reply.started": "2023-02-16T12:05:16.288873Z"
    },
    "tags": []
   },
   "outputs": [],
   "source": [
    "from tkinter import *\n",
    "root = Tk()\n",
    "root.title('Photo Slider')\n",
    "root.geometry('630x400')\n",
    "root.resizable(False, False)\n",
    "\n",
    "def on_next():\n",
    "    image_show_box_photo.configure(file=FIG_DIR / \"04_Ch9_Escoffier_interactive_1.png\")\n",
    "    next_button_label.bind(\"<Button>\", lambda e:onclick_back())\n",
    "\n",
    "def onclick_back():\n",
    "    image_show_box_photo.configure(file=FIG_DIR / \"Ch9_Escoffier_interactive_2.png\")\n",
    "    back_button_label.bind(\"<Button>\", lambda e:on_next())\n",
    "\n",
    "# back image button\n",
    "back_button_fig = PhotoImage(file=FIG_DIR / \"04_Back.png\")\n",
    "back_button_label = Label(root, image=back_button_fig, border=0)\n",
    "back_button_label.place(x=50,y=100)\n",
    "\n",
    "# next image button\n",
    "next_button_fig = PhotoImage(file=FIG_DIR / \"04_Next.png\")\n",
    "next_button_label = Label(root, image=next_button_fig, border=0)\n",
    "next_button_label.place(x=50,y=100)\n",
    "\n",
    "#image show box\n",
    "image_show_box_photo = PhotoImage(file=FIG_DIR / \"04_Ch9_Escoffier_interactive_1.png\")\n",
    "image_show_box_label = Label(root, image=image_show_box_photo)\n",
    "image_show_box_label.place(x=150,y=50)\n",
    "\n",
    "#label bind\n",
    "back_button_label.bind(\"<Button>\", lambda e:on_next())\n",
    "next_button_label.bind(\"<Button>\", lambda e:onclick_back())\n",
    "\n",
    "\n",
    "root.mainloop()"
   ]
  },
  {
   "cell_type": "markdown",
   "metadata": {},
   "source": [
    "The next step is to determine an equilibrium channel velocity $u_{eq}$ below which no erosion of the channel occurs. This velocity is only slightly dependent on the cross-section and can be approximated as just a function of sediment size. Larger sediment size leads to a larger $u_{eq}$ and vice versa.\n",
    "\n",
    "The closure curve and a value for u_eq leads to the well-known Escoffier curve as depicted in Figure 9.22 in the book.\n",
    "\n",
    "\n",
    "![](./figures/04_Ch9_Escoffier_type_1.png)\n",
    "```\n",
    "=> @DANIEL: Insert image \"Escoffier_curve_typical.png\"\n",
    "```\n"
   ]
  },
  {
   "cell_type": "markdown",
   "metadata": {},
   "source": [
    "## 2. Questions\n",
    "\n",
    "Now that you know how an Escoffier curve is created and some of the physical processes behind it, it's time to test your understanding. Try to answer the questions below and give your answers in the corresponding codeblock. Run the codeblock to validate your answers and view your feedback."
   ]
  },
  {
   "cell_type": "markdown",
   "metadata": {},
   "source": [
    "### Channel stability\n",
    "\n",
    "Consider the Escoffier curve below with points A, B, C, D and E. What happens to the channel cross-section ($X$) at locations 1, 2, 3, 4 and 5? Where does it move to, point A, B, C, D, E or neither (N)? ):\n",
    "```\n",
    "=> @DANIEL: Insert image \"Escoffier_curve_Qstability.png\"\n",
    "```\n",
    "\n",
    "![put fig title/label here](./figures/04_Ch9_Escoffier_stability_1.png)"
   ]
  },
  {
   "cell_type": "markdown",
   "metadata": {},
   "source": [
    "Put your answers here:\n",
    "\n",
    "```\n",
    "=> @DANIEL: Can you code the processing of the answers? Students give their answers below and run the block. Depending on their answer (correct or incorrect) they get to see a message. If correct something like \"That is correct!\". If incorrect each question should have some specific feedback, or if we want more detailed feedback each incorrect answer has some specific feedback. Feedback text is provided at the bottom of the notebook.\n",
    "```"
   ]
  },
  {
   "cell_type": "code",
   "execution_count": 9,
   "metadata": {
    "execution": {
     "iopub.execute_input": "2023-02-16T12:06:01.211929Z",
     "iopub.status.busy": "2023-02-16T12:06:01.211194Z",
     "iopub.status.idle": "2023-02-16T12:06:01.219380Z",
     "shell.execute_reply": "2023-02-16T12:06:01.218561Z",
     "shell.execute_reply.started": "2023-02-16T12:06:01.211874Z"
    },
    "tags": []
   },
   "outputs": [
    {
     "name": "stdout",
     "output_type": "stream",
     "text": [
      "Answer 1: \t Well done!\n",
      "Answer 2: \t Well done!\n",
      "Answer 3: \t Well done!\n",
      "Answer 4: \t Well done!\n",
      "Answer 5: \t Well done!\n",
      "Nice! You have understood this topic\n"
     ]
    }
   ],
   "source": [
    "ans0 = 'N'  # Example answer\n",
    "\n",
    "ans1 = 'A'  # Your answer for point 1\n",
    "ans2 = 'C'  # Your answer for point 2\n",
    "ans3 = 'D'  # Your answer for point 3\n",
    "ans4 = 'D'  # Your answer for point 4\n",
    "ans5 = 'D'  # Your answer for point 5\n",
    "\n",
    "Check1(ans1,ans2,ans3,ans4,ans5) # Example function to run to validate answers"
   ]
  },
  {
   "cell_type": "markdown",
   "metadata": {},
   "source": [
    "### Escoffier curve \"types\"\n",
    "\n",
    "Below three Escoffier curves are shown. So far we have only considered the scenario where $u_{eq}$ is lower than point C (scenario I). However, two other scenarios can also exist: II where point C coincides with $u_{eq}$ and III where point C is below $u_{eq}$. Similar to the previous question, what happens now at locations 1 and 2 for scenarios II and III?\n",
    "\n",
    "![](./figures/04_Ch9_Escoffier_type_1.png)\n",
    "\n",
    "![](./figures/04_Ch9_Escoffier_type_2.png)\n",
    "\n",
    "![](./figures/04_Ch9_Escoffier_type_3.png)\n",
    "\n",
    "```\n",
    "=> @DANIEL: Insert image \"Escoffier_curve_Qtypes.png\"\n",
    "```"
   ]
  },
  {
   "cell_type": "markdown",
   "metadata": {},
   "source": [
    "Put your answers here:"
   ]
  },
  {
   "cell_type": "code",
   "execution_count": 10,
   "metadata": {
    "execution": {
     "iopub.execute_input": "2023-02-16T12:06:05.354584Z",
     "iopub.status.busy": "2023-02-16T12:06:05.354191Z",
     "iopub.status.idle": "2023-02-16T12:06:05.360736Z",
     "shell.execute_reply": "2023-02-16T12:06:05.359390Z",
     "shell.execute_reply.started": "2023-02-16T12:06:05.354559Z"
    },
    "tags": []
   },
   "outputs": [
    {
     "name": "stdout",
     "output_type": "stream",
     "text": [
      "Answer 1: \t Ops! The answer is incorrect.\n",
      "Answer 2: \t Ops! The answer is incorrect.\n",
      "Answer 3: \t Ops! The answer is incorrect.\n",
      "Answer 4: \t Ops! The answer is incorrect.\n",
      "Mmm... I think you should check the section about this topic again.\n"
     ]
    }
   ],
   "source": [
    "ansII_1  = 'C'  # Your answer for point 1 scenario II\n",
    "ansII_2  = 'A'  # Your answer for point 2 scenario II\n",
    "ansIII_1 = 'A'  # Your answer for point 1 scenario III\n",
    "ansIII_2 = 'A'  # Your answer for point 2 scenario III\n",
    "\n",
    "Check2(ansII_1,ansII_2,ansIII_1,ansIII_2) # Example function to run to validate answers"
   ]
  },
  {
   "cell_type": "markdown",
   "metadata": {},
   "source": [
    "### Theory\n",
    "\n",
    "Answer the questions below and explain your reasoning.\n",
    "1. What would happen if $X$ becomes really large?\n",
    "2. Can $X$ go to inifinity?\n",
    "3. How can you modify the Escoffier curve through engineering?\n",
    "4. Can the (closure) curve vary in Time?"
   ]
  },
  {
   "cell_type": "code",
   "execution_count": 9,
   "metadata": {
    "execution": {
     "iopub.execute_input": "2023-02-16T11:00:12.947867Z",
     "iopub.status.busy": "2023-02-16T11:00:12.947465Z",
     "iopub.status.idle": "2023-02-16T11:00:12.951698Z",
     "shell.execute_reply": "2023-02-16T11:00:12.950837Z",
     "shell.execute_reply.started": "2023-02-16T11:00:12.947842Z"
    }
   },
   "outputs": [],
   "source": [
    "#Check3() # Example function to run to validate answers"
   ]
  },
  {
   "cell_type": "code",
   "execution_count": null,
   "metadata": {},
   "outputs": [],
   "source": []
  },
  {
   "cell_type": "code",
   "execution_count": null,
   "metadata": {},
   "outputs": [],
   "source": []
  },
  {
   "cell_type": "markdown",
   "metadata": {},
   "source": [
    "## TODO: \n",
    "\n",
    "Fucntions are now being called before they are defined. You could also consider to \"hide\" them in the source directory and import them using `from hidden` import check1, check2 etc. Where hidden is refers to `CoastalCodeBook/src/hidden.py` I just added this functionality and to hide it a bit more I did an asterix import instead of importing the functions (but this is really bad practice and should be avoided). I think that providing students feedback on their answers should be implementing using [nbgrader](https://github.com/jupyter/nbgrader), which started at the UvA Amsterdam, but is apparently being included in the Jupyter project. "
   ]
  },
  {
   "cell_type": "code",
   "execution_count": 10,
   "metadata": {
    "execution": {
     "iopub.execute_input": "2023-02-16T11:00:18.123802Z",
     "iopub.status.busy": "2023-02-16T11:00:18.123394Z",
     "iopub.status.idle": "2023-02-16T11:00:18.140480Z",
     "shell.execute_reply": "2023-02-16T11:00:18.139381Z",
     "shell.execute_reply.started": "2023-02-16T11:00:18.123773Z"
    },
    "tags": [
     "remove-cell"
    ]
   },
   "outputs": [],
   "source": [
    "#This is a test cell that should not be displayed because it has the tag \"remove-cell\".\n",
    "#\n",
    "#@DANIEL: Put your code for the questions here\n",
    "\n",
    "# Function for cheking the first exercise:\n",
    "def Check1(ans1,ans2,ans3,ans4,ans5):\n",
    "    c=0\n",
    "    # Checking answer 1:\n",
    "    if ans1=='A':\n",
    "        c=c+1\n",
    "        print('Answer 1: \\t Well done!')\n",
    "    if ans1!='A': print('Answer 1: \\t Ops! The answer is incorrect.')\n",
    "\n",
    "    # Checking answer 2:\n",
    "    if ans2=='C':\n",
    "        c=c+1\n",
    "        print('Answer 2: \\t Well done!')\n",
    "    if ans2!='C': print('Answer 2: \\t Ops! The answer is incorrect.')\n",
    "\n",
    "    # Checking answer 3:\n",
    "    if ans3=='D':\n",
    "        c=c+1\n",
    "        print('Answer 3: \\t Well done!')\n",
    "    if ans3!='D': print('Answer 3: \\t Ops! The answer is incorrect.')\n",
    "\n",
    "    # Checking answer 4:\n",
    "    if ans4=='D':\n",
    "        c=c+1\n",
    "        print('Answer 4: \\t Well done!')\n",
    "    if ans4!='D': print('Answer 4: \\t Ops! The answer is incorrect.')\n",
    "\n",
    "    # Checking answer 5:\n",
    "    if ans5=='D':\n",
    "        c=c+1\n",
    "        print('Answer 5: \\t Well done!')\n",
    "    if ans5!='D': print('Answer 5: \\t Ops! The answer is incorrect.')\n",
    "\n",
    "    if c==5: print('Nice! You have understood this topic')\n",
    "    if c==0: print('Mmm... I think you should check the section about this topic again.')\n",
    "\n",
    "# Function for cheking the second exercise:\n",
    "def Check2(ans1,ans2,ans3,ans4):\n",
    "    c=0\n",
    "    # Checking answer 1:\n",
    "    if ans1=='A':\n",
    "        c=c+1\n",
    "        print('Answer 1: \\t Well done!')\n",
    "    if ans1!='A': print('Answer 1: \\t Ops! The answer is incorrect.')\n",
    "\n",
    "    # Checking answer 2:\n",
    "    if ans2=='C':\n",
    "        c=c+1\n",
    "        print('Answer 2: \\t Well done!')\n",
    "    if ans2!='C': print('Answer 2: \\t Ops! The answer is incorrect.')\n",
    "\n",
    "    # Checking answer 3:\n",
    "    if ans3=='D':\n",
    "        c=c+1\n",
    "        print('Answer 3: \\t Well done!')\n",
    "    if ans3!='D': print('Answer 3: \\t Ops! The answer is incorrect.')\n",
    "\n",
    "    # Checking answer 4:\n",
    "    if ans4=='D':\n",
    "        c=c+1\n",
    "        print('Answer 4: \\t Well done!')\n",
    "    if ans4!='D': print('Answer 4: \\t Ops! The answer is incorrect.')\n",
    "\n",
    "    if c==4: print('Nice! You have understood this topic')\n",
    "    if c==0: print('Mmm... I think you should check the section about this topic again.')\n",
    "\n",
    "# Function for cheking the third exercise:\n",
    "def Check3(ans1,ans2,ans3,ans4):\n",
    "    c=0\n",
    "    # Checking answer 1:\n",
    "    if ans1=='A':\n",
    "        c=c+1\n",
    "        print('Answer 1: \\t Well done!')\n",
    "    if ans1!='A': print('Answer 1: \\t Ops! The answer is incorrect.')\n",
    "\n",
    "    # Checking answer 2:\n",
    "    if ans2=='C':\n",
    "        c=c+1\n",
    "        print('Answer 2: \\t Well done!')\n",
    "    if ans2!='C': print('Answer 2: \\t Ops! The answer is incorrect.')\n",
    "\n",
    "    # Checking answer 3:\n",
    "    if ans3=='D':\n",
    "        c=c+1\n",
    "        print('Answer 3: \\t Well done!')\n",
    "    if ans3!='D': print('Answer 3: \\t Ops! The answer is incorrect.')\n",
    "\n",
    "    # Checking answer 4:\n",
    "    if ans4=='D':\n",
    "        c=c+1\n",
    "        print('Answer 4: \\t Well done!')\n",
    "    if ans4!='D': print('Answer 4: \\t Ops! The answer is incorrect.')\n",
    "\n",
    "    if c==4: print('Nice! You have understood this topic')\n",
    "    if c==0: print('Mmm... I think you should check the section about this topic again.')\n"
   ]
  },
  {
   "cell_type": "code",
   "execution_count": 11,
   "metadata": {
    "execution": {
     "iopub.execute_input": "2023-02-16T11:00:19.188504Z",
     "iopub.status.busy": "2023-02-16T11:00:19.188063Z",
     "iopub.status.idle": "2023-02-16T11:00:19.197200Z",
     "shell.execute_reply": "2023-02-16T11:00:19.196390Z",
     "shell.execute_reply.started": "2023-02-16T11:00:19.188476Z"
    }
   },
   "outputs": [],
   "source": [
    "# Function for cheking the third exercise:\n",
    "def Check3(ans1,ans2,ans3,ans4):\n",
    "    c=0\n",
    "    # Checking answer 1:\n",
    "    if ans1=='A':\n",
    "        c=c+1\n",
    "        print('Answer 1: \\t Well done!')\n",
    "    if ans1!='A': print('Answer 1: \\t Ops! The answer is incorrect.')\n",
    "\n",
    "    # Checking answer 2:\n",
    "    if ans2=='C':\n",
    "        c=c+1\n",
    "        print('Answer 2: \\t Well done!')\n",
    "    if ans2!='C': print('Answer 2: \\t Ops! The answer is incorrect.')\n",
    "\n",
    "    # Checking answer 3:\n",
    "    if ans3=='D':\n",
    "        c=c+1\n",
    "        print('Answer 3: \\t Well done!')\n",
    "    if ans3!='D': print('Answer 3: \\t Ops! The answer is incorrect.')\n",
    "\n",
    "    # Checking answer 4:\n",
    "    if ans4=='D':\n",
    "        c=c+1\n",
    "        print('Answer 4: \\t Well done!')\n",
    "    if ans4!='D': print('Answer 4: \\t Ops! The answer is incorrect.')\n",
    "\n",
    "    if c==4: print('Nice! You have understood this topic')\n",
    "    if c==0: print('Mmm... I think you should check the section about this topic again.')\n",
    "\n"
   ]
  },
  {
   "cell_type": "code",
   "execution_count": null,
   "metadata": {},
   "outputs": [],
   "source": []
  }
 ],
 "metadata": {
  "kernelspec": {
   "display_name": "Python [conda env:coastal]",
   "language": "python",
   "name": "conda-env-coastal-py"
  },
  "language_info": {
   "codemirror_mode": {
    "name": "ipython",
    "version": 3
   },
   "file_extension": ".py",
   "mimetype": "text/x-python",
   "name": "python",
   "nbconvert_exporter": "python",
   "pygments_lexer": "ipython3",
   "version": "3.10.9"
  },
  "vscode": {
   "interpreter": {
    "hash": "552d26e24a5f022569f992dc6162a1ddcd276bc02983bfb314c82a5eb02cca6e"
   }
  },
  "widgets": {
   "application/vnd.jupyter.widget-state+json": {
    "state": {},
    "version_major": 2,
    "version_minor": 0
   }
  }
 },
 "nbformat": 4,
 "nbformat_minor": 4
}
