{
 "cells": [
  {
   "cell_type": "markdown",
   "id": "c5ee3b6d-9a37-4e12-be67-40d150c235c2",
   "metadata": {},
   "source": [
    "# Characterization of Coastal Systems\n",
    "\n",
    "Welcome to the first notebook exercise of Coastal Systems (TU Delft, MSc Coastal Engineering)! This is the first year that we will experiment with notebooks in this course. With these notebooks we hope to provide you with interactive course material that helps you better understand the processes and concepts that we teach in this course. Please let us know how you find the notebooks - we appreciate your feedback!\n",
    "\n",
    "Chapter 2 of [Coastal Dynamics Open Textbook](https://textbooks.open.tudelft.nl/textbooks/catalog/view/37/92/383-1) describes the large geographical variation of coasts across the world. It explains how the coasts that we have today are shaped by both present-day processes and processes millions years ago. It distinguishes between three different order of features, which are associated to different orders of of time. In this notebook we will look at coastal systems at these different orders of scale. "
   ]
  },
  {
   "cell_type": "markdown",
   "id": "78c55ce4-8013-45c6-9ad4-8dfd4fa53890",
   "metadata": {},
   "source": [
    "## Import libraries that we use for our analysis\n",
    "\n",
    "In the two cells below we import the libraries that we need for the analysis. We also set\n",
    "some path settings to load the data and source code. For example, in the cell below we\n",
    "add the `src` directory to the system path, which allows us to import generic functions\n",
    "from `../../src/coastpy`. \n",
    "\n",
    "A little bit of extra text"
   ]
  },
  {
   "cell_type": "code",
   "execution_count": null,
   "id": "14250bf1-5137-4d09-90e1-286ba7c55429",
   "metadata": {
    "tags": []
   },
   "outputs": [],
   "source": [
    "import os\n",
    "import pathlib\n",
    "import sys\n",
    "\n",
    "# make coastpy library importable by appending root to path\n",
    "cwd = pathlib.Path().resolve()\n",
    "proj_dir = cwd.parent.parent  # this is the root of the CoastalCodeBook\n",
    "sys.path.append(str(proj_dir / \"src\"))\n",
    "\n"
   ]
  },
  {
   "cell_type": "code",
   "execution_count": null,
   "id": "ee2ffe05-66ec-43f8-b7e6-2db9302dee83",
   "metadata": {
    "tags": []
   },
   "outputs": [],
   "source": [
    "import warnings\n",
    "\n",
    "os.environ[\"USE_PYGEOS\"] = \"0\"  # use shapely 2.0 instead of PYGEOS and silence warnings\n",
    "\n",
    "import colorcet as cc\n",
    "import dask.dataframe as dd\n",
    "import geopandas as gpd\n",
    "import holoviews as hv\n",
    "import hvplot.pandas  # noqa: API import\n",
    "import hvplot.xarray  # noqa: API import\n",
    "import ipyleaflet\n",
    "import numpy as np\n",
    "import pandas as pd\n",
    "import panel as pn\n",
    "from geoviews import tile_sources as gvts\n",
    "from ipyleaflet import Map, Marker, ScaleControl, basemaps\n",
    "from ipywidgets import HTML\n",
    "\n",
    "pn.extension()\n",
    "\n",
    "from coastalcodebook.geometries import geo_bbox\n",
    "\n",
    "# definitly not a best practice, but a workaround to avoid many warnings triggered by shapely 2.0 release\n",
    "warnings.filterwarnings(\"ignore\", category=RuntimeWarning)\n",
    "warnings.filterwarnings(\"ignore\", category=UserWarning)\n",
    "\n",
    "DATA_DIR = proj_dir / \"data\"\n",
    "coastal_systems_fp = DATA_DIR / \"01_coastal_systems.gpkg\""
   ]
  },
  {
   "cell_type": "markdown",
   "id": "0aba7093-28fd-44dc-97f6-a626f50f1b2e",
   "metadata": {},
   "source": [
    "## Exercise 1: Plate tectonics"
   ]
  },
  {
   "cell_type": "markdown",
   "id": "5964cab0-7e98-47c6-b3b5-f03e563cfd5c",
   "metadata": {},
   "source": [
    "In this notebook we will start with the broadest (or first order) features of the coast that cover large geographical distances (thousands of kilometres) and are linked to the long-term geological process of plate tectonics. We will do so by using earthquake data from the [USGS](https://earthquake.usgs.gov/earthquakes/search/). The dataset we load contains a sample (10\\%) of observed eartquakes between Jan 2000 and Dec 2018. Why earthquake data? Earthquake data reveals geologists the mysteries of the deep, but also for coastal researchers the data is insightful. Let's first load the data by running the next cells. "
   ]
  },
  {
   "cell_type": "markdown",
   "id": "afef8413-6aaf-417a-9151-96bec27d8ae6",
   "metadata": {},
   "source": [
    "### Load the earthquake data\n",
    "\n",
    "We load the data (tabular data including geometries) and index the columns to only keep the data in memory that we actually need. In total the dataset contains 2.2 million earthquakes, but here we use a sample (10\\%), so the data contains approx. 220k eartquake entries. If you find that the interactive panel responds slow to how you adjust the widgets, please consider to take another sample. You can do so by uncommenting the sample line in the next cell. So if you set frac=0.1 you have a dataframe with approx. 22k unique earthquakes over the world. \n",
    " "
   ]
  },
  {
   "cell_type": "code",
   "execution_count": null,
   "id": "4938443e-bf3c-4c14-b171-5b721b19b9c7",
   "metadata": {
    "tags": []
   },
   "outputs": [],
   "source": [
    "WEB_MERCATOR_LIMITS = (\n",
    "    -20037508.342789244,\n",
    "    20037508.342789244,\n",
    ")  # max polar latitudes that can be handled in World Mercator\n",
    "\n",
    "df = (\n",
    "    dd.read_parquet(DATA_DIR / \"01_earthquakes_sample.parquet\")\n",
    "    .sample(\n",
    "        frac=0.1\n",
    "    )  # uncomment this line if loading the data takes too long on your computer\n",
    "    .set_index(\"time\")\n",
    "    .compute()\n",
    "    .tz_localize(None)\n",
    "    .sort_index()\n",
    ")\n",
    "\n",
    "\n",
    "# To save memory we drop most of the columns. Also we drop the polar latitudes that cannot be displayed in the web mercator projection.\n",
    "df = df[[\"mag\", \"depth\", \"latitude\", \"longitude\", \"place\", \"type\"]][\n",
    "    df[\"northing\"] < WEB_MERCATOR_LIMITS[1]\n",
    "]\n",
    "df.head()"
   ]
  },
  {
   "cell_type": "markdown",
   "id": "2fd26216-4946-495d-8b81-66c90dcf08f2",
   "metadata": {},
   "source": [
    "### Visualization of the earthquake data\n",
    "\n",
    "To explore the data we use visualization tools from the [Holoviz project](https://holoviz.org/) that makes high-level tools to simplify visualization in Python. In the next cell we enable the interactive mode on the data dataframe, create widgets to explore the data and filter the dataframe accordingly. To explore the eartquake data we create an overlay of the eartquakes on a tileset of ESRI Imagery. Please note that the code in the next cell will only do the computations and store the result in an object called `panel`. To actually see the results you have to run one more cell; the one that calls this object panel. \n",
    "\n"
   ]
  },
  {
   "cell_type": "code",
   "execution_count": null,
   "id": "7edf870f-1082-4b16-922f-e46fb7297d24",
   "metadata": {
    "tags": []
   },
   "outputs": [],
   "source": [
    "pn.extension()\n",
    "title_bar = pn.Row(\n",
    "    pn.pane.Markdown(\n",
    "        \"## Exercise 1: Plate tectonics & first-order coastal features\",\n",
    "        style={\"color\": \"black\"},\n",
    "        width=800,\n",
    "        sizing_mode=\"fixed\",\n",
    "        margin=(10, 5, 10, 15),\n",
    "    ),\n",
    "    pn.Spacer(),\n",
    ")\n",
    "\n",
    "# define widgets that can be used to index the data\n",
    "magnitude_slider = pn.widgets.RangeSlider(\n",
    "    name=\"Earthquake magnitude [Richter]\", start=0.1, end=10\n",
    ")\n",
    "depth_slider = pn.widgets.RangeSlider(name=\"Earthquake depth [km]\", start=0.1, end=650)\n",
    "date_slider = pn.widgets.DateRangeSlider(\n",
    "    name=\"Date\", start=df.index[0], end=df.index[-1]\n",
    ")\n",
    "column_types = pn.widgets.Select(options=[\"mag\", \"depth\"])\n",
    "\n",
    "\n",
    "@pn.depends(\n",
    "    magnitude_slider.param.value_start,\n",
    "    magnitude_slider.param.value_end,\n",
    "    depth_slider.param.value_start,\n",
    "    depth_slider.param.value_end,\n",
    "    date_slider.param.value_start,\n",
    "    date_slider.param.value_end,\n",
    "    column_types.param.value,\n",
    ")\n",
    "def plot_earthquake_panel(\n",
    "    magnitude_start,\n",
    "    magnitude_end,\n",
    "    depth_start,\n",
    "    depth_end,\n",
    "    date_start,\n",
    "    date_end,\n",
    "    column_type,\n",
    "):\n",
    "\n",
    "    panel = df[\n",
    "        (df.mag > magnitude_start)\n",
    "        & (df.mag < magnitude_end)\n",
    "        & (df.depth > depth_start)\n",
    "        & (df.depth < depth_end)\n",
    "        & (df.index >= date_start)\n",
    "        & (df.index <= date_end)\n",
    "    ]\n",
    "    # inverted fire colormap from colorcet\n",
    "    cmap = cc.CET_L4[::-1]\n",
    "    colorbar_labels = {\"mag\": \"Magnitude [Richter]\", \"depth\": \"Earthquake depth [km]\"}\n",
    "\n",
    "    return panel.hvplot.points(\n",
    "        x=\"longitude\",\n",
    "        y=\"latitude\",\n",
    "        geo=True,\n",
    "        color=column_type,\n",
    "        global_extent=True,\n",
    "        tiles=\"ESRI\",\n",
    "        frame_width=900,\n",
    "        ylabel=\"Latitude [deg]\",\n",
    "        xlabel=\"Longitude [deg]\",\n",
    "        cmap=cmap,\n",
    "        tools=[\"tap\"],\n",
    "        hover_cols=[\"place\", \"time\"],\n",
    "        logz=True,\n",
    "        clim=(1, None),\n",
    "        clabel=colorbar_labels[column_type],\n",
    "    )\n",
    "\n",
    "earthquake_panel = pn.Column(\n",
    "    title_bar,\n",
    "    pn.Row(column_types),\n",
    "    pn.Row(pn.Column(magnitude_slider, depth_slider)),\n",
    "    pn.Row(depth_slider),\n",
    "    pn.Row(date_slider),\n",
    "    pn.Row(plot_earthquake_panel),\n",
    ")"
   ]
  },
  {
   "cell_type": "markdown",
   "id": "6677f6fa-4fae-4b9a-8a7a-457cda4e306e",
   "metadata": {},
   "source": [
    "**If the visualization is too slow, please follow the instructions in loading the data for taking a sample.**\n",
    "\n",
    "After running the cell below you will have a panel with several widgets to index the eartquake data; by magnitude, depth and time, while the colors on the map show either the magintude or the depth of the earthquakes. "
   ]
  },
  {
   "cell_type": "code",
   "execution_count": null,
   "id": "bae161ca-3551-42bb-b8bd-75d2a34392a3",
   "metadata": {
    "tags": []
   },
   "outputs": [],
   "source": [
    "earthquake_panel"
   ]
  },
  {
   "cell_type": "markdown",
   "id": "a12d60a7-59dc-4a2f-b7a0-9cd1a3ed5bfa",
   "metadata": {},
   "source": [
    "### Explore the earthquake data & questions\n",
    "\n",
    "1) How do the earthquake magnitude and earthquake depth relate to the coasts that we see? (Hint: See Figure 2.3 in the textbook and consider how deep under the ground the plates are moving. Extra hint: How do earthquake magnitude and depth differ for convergent and divergent plate boundaries?)\n",
    "\n",
    "2) Earthquake data support one of the most fundamental processes in the geology: plate tectonics. Although plate tectonics is a relatively slow process that acts on the [geological time scale](https://cdn.britannica.com/67/73167-050-B9A74092/chart.jpg), it has had an enormous impact on the formation of coastlines and determines the broadest features of the coast. What are two important inherited aspects of this process? (Hint: see Figure 2.10 and Sec. 2.3.3 in the textbook.) \n",
    "\n",
    "3) In 1971 Inman, D. L. & Nordstrom, C. E. used plate tectonics to classify the coast. Explain the classification that they introduced. What are the three different classes that they distinguish? How do they match with the earthquake data as you can explore in the panel? \n",
    "\n",
    "4) Can you identify or predict areas around the world where you will find the coasts that are distinguished by Inman, D. L. & Nordstrom, C. E.? For instance, what kind of coasts do you have in Chili? And how are they different to the east coast of the USA? And what is characteristic about the East China sea? \n",
    "\n",
    "5) Inman, D. L. & Nordstrom (1971) further distinguish Afro-trailing-edge coasts and Amero-trailing-edge coasts based on differences in sediment supplies. What is the main cause of these differences in sediment supply? And how do you expect the differences in sediment input to show in the coastal geomorphology?"
   ]
  },
  {
   "cell_type": "markdown",
   "id": "bdf2a34d-2edd-43f4-a45b-793a3779ec74",
   "metadata": {},
   "source": [
    "## Exercise 2: Process-based coastal classification\n",
    "\n",
    "In the section part of this notebook we will explore several coastal systems around the world considering the second and third order scale of features. In chapter two of the Coastal Dynamics open textbook it is explained how coastal systems can be classified according to the processes that characterize these systems. For example, one of the figures (below) shows how the relative influence of fluvial, wave and tidal processes influences the shape of coastal features. The idea of this exercise is that you identify the signatures of the processes that are introduced in chapter 2 in several coastal systems around the world. \n",
    "\n",
    "![image](./figures/01_coastal_forcing.png)"
   ]
  },
  {
   "cell_type": "markdown",
   "id": "5704aa4c-3b92-4618-8e45-b2daccf72c7b",
   "metadata": {},
   "source": [
    "### The coastal systems data\n",
    "\n",
    "In the cell below we define a small plot function that generates a ESRI World Imagery basemap given a longitude, latitude, zoom level and name. Also, a small sheet of coastal systems around the world is loaded into `geopandas`, a Python library for geospatial tabular data. In the cells afterwards we sample this dataframe and show the coastal system on a map. Since the sample is random you might encounter the same coastal system multiple times; then you can just run the cell again to get another 'coastal draw'.  \n"
   ]
  },
  {
   "cell_type": "code",
   "execution_count": null,
   "id": "7bb4af63-03f7-4df1-8fd8-4c6a7930b95e",
   "metadata": {
    "tags": []
   },
   "outputs": [],
   "source": [
    "coastal_systems = gpd.read_file(coastal_systems_fp)"
   ]
  },
  {
   "cell_type": "code",
   "execution_count": null,
   "id": "e6732048-50e9-4f28-a553-f4221cccdb95",
   "metadata": {
    "tags": []
   },
   "outputs": [],
   "source": [
    "pn.extension()\n",
    "title_bar = pn.Row(\n",
    "    pn.pane.Markdown(\n",
    "        \"## Exercise 2: Coastal system characterization\",\n",
    "        style={\"color\": \"black\"},\n",
    "        width=800,\n",
    "        sizing_mode=\"fixed\",\n",
    "        margin=(10, 5, 10, 15),\n",
    "    ),\n",
    "    pn.Spacer(),\n",
    ")\n",
    "\n",
    "options = coastal_systems.name.to_list()\n",
    "coastal_systems_slider = pn.widgets.Select(\n",
    "    name=\"Coastal system\", options=options, value=np.random.choice(options)\n",
    ")\n",
    "\n",
    "\n",
    "@pn.depends(coastal_systems_slider.param.value)\n",
    "def plot_coastal_system(name):\n",
    "    system = coastal_systems.loc[coastal_systems[\"name\"] == name].copy()\n",
    "    west, south, east, north = system[\n",
    "        [\"west\", \"south\", \"east\", \"north\"]\n",
    "    ].values.flatten()\n",
    "\n",
    "    return system.hvplot.points(\n",
    "        x=\"lon\",\n",
    "        y=\"lat\",\n",
    "        geo=True,\n",
    "        color=\"red\",\n",
    "        alpha=0,\n",
    "        xlim=(west, east),\n",
    "        ylim=(south, north),\n",
    "        tiles=\"ESRI\",\n",
    "        frame_width=1100,\n",
    "        ylabel=\"Latitude [deg]\",\n",
    "        xlabel=\"Longitude [deg]\",\n",
    "    )\n",
    "\n",
    "\n",
    "app = pn.Column(\n",
    "    title_bar,\n",
    "    pn.Row(coastal_systems_slider),\n",
    "    pn.Row(plot_coastal_system),\n",
    ")\n",
    "app"
   ]
  },
  {
   "cell_type": "markdown",
   "id": "a8171c69-ab76-47d0-8c9e-5aea130944d5",
   "metadata": {},
   "source": [
    "### Explore the coastal systems\n",
    "\n",
    "While sampling over a range of coastal systems, try to answer the following questions. \n",
    "\n",
    "1. Find and compare a heavily engineered river-dominated delta and a more natural river-dominated delta\n",
    "2. Compare the scale of the biggest and smallest tidal basin in the dataset\n",
    "3. Find the estuarine and deltaic systems with a spit\n",
    "4. Compare and contrast wave-dominated deltas with high and low sediment supply. How can you tell?\n",
    "5. Find a tidal estuary with large fine (muddy) sediment supply, then find one with a large coarse (sandy) sediment supply. How can you tell the difference?\n",
    "6. The eastern and western tips of the Dutch and German Wadden Islands are very different beach ridge environments. How might differences in sediment supply explain this? Where is the sediment coming from?\n",
    "7. The Dune du Pilat in France is one of the world's largest coastal sand dunes (it is also one of the coolest and you should definitely visit if you get the chance!). Why is it located on the east side of Arcachon Inlet and not the west?\n",
    "8. Look at the northern Jiangsu coast in China. What might explain the limited sediment supply in this location?\n",
    "9. Find an estuary or tidal bay with extensive intertidal flats. Do you see salt marshes or mangrove forests nearby?  Why or why not?\n",
    "10. Find an inlet with jetties. How might this affect the way it evolves?\n",
    "11. Find a delta/estuary/inlet whose shape is constrained by the presence of rocky coastal features.  \n",
    "12. The Albufeira Lagoon in Portugal opens and closes seasonally. In the image shown, is it open or closed? When and how might it open or close? \n",
    "13. Find examples of heavily urbanized estuaries. How might these human interventions influence the natural processes there?\n",
    "14. Based on these satellite images, which is the most beautiful site? Taking a moment to appreciate the beauty of these natural systems is an important part of your job as coastal engineers."
   ]
  },
  {
   "cell_type": "code",
   "execution_count": null,
   "id": "eec0ac86-cc6f-4ddb-b1c0-545ff52f08c5",
   "metadata": {},
   "outputs": [],
   "source": []
  },
  {
   "cell_type": "code",
   "execution_count": null,
   "id": "ceb791dc-c60d-40b3-bdd7-5da642fe2bed",
   "metadata": {},
   "outputs": [],
   "source": []
  }
 ],
 "metadata": {
  "kernelspec": {
   "display_name": "torchgeo-dev",
   "language": "python",
   "name": "python3"
  },
  "language_info": {
   "codemirror_mode": {
    "name": "ipython",
    "version": 3
   },
   "file_extension": ".py",
   "mimetype": "text/x-python",
   "name": "python",
   "nbconvert_exporter": "python",
   "pygments_lexer": "ipython3",
   "version": "3.11.5"
  }
 },
 "nbformat": 4,
 "nbformat_minor": 5
}
