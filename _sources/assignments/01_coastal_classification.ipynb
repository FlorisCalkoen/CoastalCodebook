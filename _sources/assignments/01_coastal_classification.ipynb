{
 "cells": [
  {
   "cell_type": "markdown",
   "id": "a1433e0d",
   "metadata": {},
   "source": [
    "# Stacking 6 years of imagery into a GIF\n",
    "\n",
    "We'll load all the [Landsat-8 (Collection 2, Level 2)](https://planetarycomputer.microsoft.com/dataset/landsat-8-c2-l2) data that's available from [Microsoft's Planetary Computer](https://planetarycomputer.microsoft.com/) over a small region on the coast of [Cape Cod](https://www.google.com/maps/place/Chatham,+MA/@41.7498076,-70.2026227,10.73z/data=!4m13!1m7!3m6!1s0x89fb15440149e94d:0x1f9c0efa001cb20b!2sCape+Cod!3b1!8m2!3d41.6687897!4d-70.2962408!3m4!1s0x89fb142168afbe53:0x714436ec7d485a53!8m2!3d41.6821432!4d-69.9597359), Massachusetts, USA.\n",
    "\n",
    "\n",
    "Using nothing but standard xarray syntax, we'll mask cloudy pixels with the Landsat QA band and reduce the data down to biannual median composites.\n",
    "\n",
    "[Animated](https://geogif.readthedocs.io/en/latest/) as a GIF, we can watch the coastline move over the years due to [longshore drift](https://en.wikipedia.org/wiki/Longshore_drift).\n",
    "\n",
    "Planetary Computer is Microsoft's open Earth data initiative. It's particularly nice to use, since they also maintain a [STAC API](https://planetarycomputer.microsoft.com/docs/quickstarts/reading-stac/) for searching all the data, as well as a browseable [data catalog](https://planetarycomputer.microsoft.com/catalog). It's free for anyone to use, though you have to [sign your requests](https://planetarycomputer.microsoft.com/docs/concepts/sas/) with the `planetary_computer` package to prevent abuse. If you [sign up](https://planetarycomputer.microsoft.com/account/request), you'll get faster reads."
   ]
  },
  {
   "cell_type": "code",
   "execution_count": 1,
   "id": "e7ca867b-f603-4f2a-8b95-74b81d2b39f4",
   "metadata": {
    "nbsphinx": "hidden",
    "tags": []
   },
   "outputs": [],
   "source": [
    "%config InlineBackend.figure_formats = ['png2x']"
   ]
  },
  {
   "cell_type": "code",
   "execution_count": 2,
   "id": "1f282b25-b790-4c33-bab1-6f479e51d305",
   "metadata": {},
   "outputs": [],
   "source": [
    "# import coiled\n",
    "import distributed\n",
    "import dask\n",
    "import pystac_client\n",
    "import planetary_computer as pc\n",
    "import ipyleaflet\n",
    "import IPython.display as dsp\n",
    "# import geogif\n",
    "import stackstac"
   ]
  },
  {
   "cell_type": "markdown",
   "id": "84b54bc4-cee9-4297-adee-6ef401f8e496",
   "metadata": {},
   "source": [
    "Using a cluster will make this _much_ faster. Particularly if you're not in Europe, which is where this data is stored.\n",
    "\n",
    "You can sign up for a Coiled account and run clusters for free at https://cloud.coiled.io/ — no credit card or username required, just sign in with your GitHub or Google account, then connect to your cloud provider account (AWS or GCP)."
   ]
  },
  {
   "cell_type": "code",
   "execution_count": 3,
   "id": "779d87e1-e10b-4b05-a3ec-04882781a0db",
   "metadata": {},
   "outputs": [],
   "source": [
    "# cluster = coiled.Cluster(\n",
    "#     name=\"stackstac-eu\",\n",
    "#     n_workers=20,\n",
    "#     package_sync=True,\n",
    "#     backend_options={\"region\": \"eu-central-1\"},\n",
    "#     # ^ Coiled doesn't yet support Azure's West Europe region, so instead we'll run on a nearby AWS data center in Frankfurt\n",
    "# )\n",
    "# client = distributed.Client(cluster)\n",
    "# client"
   ]
  },
  {
   "cell_type": "markdown",
   "id": "5c493e73-52eb-4ba5-b1df-ad057fdf42c5",
   "metadata": {},
   "source": [
    "Interactively pick the area of interest from a map. Just move the map around and re-run all cells to generate the timeseries somewhere else!"
   ]
  },
  {
   "cell_type": "code",
   "execution_count": 4,
   "id": "58a1ee5a-87b9-47e0-be05-416f81ab7755",
   "metadata": {},
   "outputs": [
    {
     "data": {
      "application/vnd.jupyter.widget-view+json": {
       "model_id": "179aeabae618420cb899b452c050840d",
       "version_major": 2,
       "version_minor": 0
      },
      "text/plain": [
       "Map(center=[41.64933994767867, -69.94438630063088], controls=(ZoomControl(options=['position', 'zoom_in_text',…"
      ]
     },
     "metadata": {},
     "output_type": "display_data"
    }
   ],
   "source": [
    "m = ipyleaflet.Map(scroll_wheel_zoom=True)\n",
    "m.center = 41.64933994767867, -69.94438630063088\n",
    "m.zoom = 12\n",
    "m.layout.height = \"800px\"\n",
    "m"
   ]
  },
  {
   "cell_type": "raw",
   "id": "07fe1bdb-1cdb-484d-a234-5c849a43fe73",
   "metadata": {
    "raw_mimetype": "text/restructuredtext",
    "tags": []
   },
   "source": [
    ".. Ignore (or just delete) this cell, it's just here to make the map show up in the online docs.\n",
    "\n",
    ".. jupyter-execute::\n",
    "    :hide-code:\n",
    "\n",
    "    import ipyleaflet\n",
    "\n",
    "    m = ipyleaflet.Map(scroll_wheel_zoom=True)\n",
    "    m.center = 41.64933994767867, -69.94438630063088\n",
    "    m.zoom = 12\n",
    "    m.layout.height = \"800px\"\n",
    "    m"
   ]
  },
  {
   "cell_type": "code",
   "execution_count": 5,
   "id": "8dd88e41-860f-4a9a-84ed-c3d075803632",
   "metadata": {},
   "outputs": [],
   "source": [
    "bbox = (m.west, m.south, m.east, m.north)"
   ]
  },
  {
   "cell_type": "markdown",
   "id": "3e7c17dc-7a70-4fdd-bbe9-149fac625559",
   "metadata": {},
   "source": [
    "## Search for STAC items\n",
    "\n",
    "Use [pystac-client](https://github.com/stac-utils/pystac-client) to connect to Microsoft's STAC API endpoint and search for Landsat-8 scenes."
   ]
  },
  {
   "cell_type": "code",
   "execution_count": 6,
   "id": "c0f5cbed-74fb-4110-abf0-311edf6432a8",
   "metadata": {},
   "outputs": [],
   "source": [
    "catalog = pystac_client.Client.open('https://planetarycomputer.microsoft.com/api/stac/v1')\n",
    "\n",
    "search = catalog.search(\n",
    "    collections=['landsat-8-c2-l2'],\n",
    "    bbox=bbox,\n",
    ")"
   ]
  },
  {
   "cell_type": "markdown",
   "id": "6650815b-9745-40ba-9775-e1d33cf5ee94",
   "metadata": {},
   "source": [
    "Load and sign all the STAC items with a token from Planetary Computer. Without this, loading the data will fail."
   ]
  },
  {
   "cell_type": "code",
   "execution_count": 7,
   "id": "c96a7a55-b962-4460-97fd-84c2ddb458e2",
   "metadata": {},
   "outputs": [
    {
     "name": "stdout",
     "output_type": "stream",
     "text": [
      "CPU times: user 2.01 ms, sys: 1.44 ms, total: 3.45 ms\n",
      "Wall time: 385 ms\n"
     ]
    },
    {
     "data": {
      "text/plain": [
       "0"
      ]
     },
     "execution_count": 7,
     "metadata": {},
     "output_type": "execute_result"
    }
   ],
   "source": [
    "%%time\n",
    "items = pc.sign(search)\n",
    "len(items)"
   ]
  },
  {
   "cell_type": "markdown",
   "id": "046d1b98-f5eb-481d-957b-32a7e1ee7484",
   "metadata": {},
   "source": [
    "These are the footprints of all the items we'll use:"
   ]
  },
  {
   "cell_type": "code",
   "execution_count": 8,
   "id": "7580e36a-ce6d-4845-be76-381fee050d3e",
   "metadata": {},
   "outputs": [
    {
     "data": {
      "application/geo+json": {
       "features": [],
       "type": "FeatureCollection"
      },
      "text/plain": [
       "<IPython.display.GeoJSON object>"
      ]
     },
     "metadata": {
      "application/geo+json": {
       "expanded": false,
       "root": "root"
      }
     },
     "output_type": "display_data"
    }
   ],
   "source": [
    "dsp.GeoJSON(items.to_dict())"
   ]
  },
  {
   "cell_type": "markdown",
   "id": "c0cdf4fa-88d8-40ec-83b5-ddeaba95b6e1",
   "metadata": {},
   "source": [
    "## Create an xarray with stacksatc\n",
    "\n",
    "Set `bounds_latlon=bbox` to automatically clip to our area of interest (instead of using the full footprints of the scenes)."
   ]
  },
  {
   "cell_type": "code",
   "execution_count": 9,
   "id": "62e0380d-364c-4012-9cba-d43d7ab73519",
   "metadata": {},
   "outputs": [],
   "source": [
    "# %%time\n",
    "# stack = stackstac.stack(items, bounds_latlon=bbox)\n",
    "# stack"
   ]
  },
  {
   "cell_type": "markdown",
   "id": "a5468d86-de49-4816-9040-f317ba1f33a7",
   "metadata": {},
   "source": [
    "And that's it for stackstac! Everything from here on is just standard xarray operations."
   ]
  },
  {
   "cell_type": "code",
   "execution_count": 10,
   "id": "e33d629e-9fb7-4c19-aacc-7ebef65941cb",
   "metadata": {},
   "outputs": [],
   "source": [
    "# # use common_name for bands\n",
    "# stack = stack.assign_coords(band=stack.common_name.fillna(stack.band).rename(\"band\"))\n",
    "# stack.band"
   ]
  },
  {
   "cell_type": "markdown",
   "id": "06f331ef-c085-4767-94d2-b6ee8caa9315",
   "metadata": {},
   "source": [
    "See how much input data there is for just RGB. This is the amount of data we'll end up processing"
   ]
  },
  {
   "cell_type": "code",
   "execution_count": 11,
   "id": "77bd20be-958e-4d72-9039-1a3584fa2e4f",
   "metadata": {},
   "outputs": [],
   "source": [
    "# stack.sel(band=[\"red\", \"green\", \"blue\"])"
   ]
  },
  {
   "cell_type": "markdown",
   "id": "8e2adca9-853d-43ad-8619-0b169d687b9c",
   "metadata": {},
   "source": [
    "## Mask cloudy pixels using the QA band\n",
    "\n",
    "Use the bit values of the Landsat-8 QA band to mask out bad pixels. We'll mask pixels labeled as dilated cloud, cirrus, cloud, or cloud shadow. (By \"mask\", we mean just replacing those pixels with NaNs).\n",
    "\n",
    "See page 14 on [this PDF](https://d9-wret.s3.us-west-2.amazonaws.com/assets/palladium/production/s3fs-public/media/files/LSDS-1619_Landsat-8-9-C2-L2-ScienceProductGuide-v4.pdf) for the data table describing which bit means what."
   ]
  },
  {
   "cell_type": "code",
   "execution_count": 12,
   "id": "8fec5dd1-4851-4c22-af5e-d677638d686f",
   "metadata": {},
   "outputs": [],
   "source": [
    "# # Make a bitmask---when we bitwise-and it with the data, it leaves just the 4 bits we care about\n",
    "# mask_bitfields = [1, 2, 3, 4]  # dilated cloud, cirrus, cloud, cloud shadow\n",
    "# bitmask = 0\n",
    "# for field in mask_bitfields:\n",
    "#     bitmask |= 1 << field\n",
    "\n",
    "# bin(bitmask)"
   ]
  },
  {
   "cell_type": "code",
   "execution_count": 13,
   "id": "49bc5abc-5f23-4c40-a2d3-c1a314a48162",
   "metadata": {},
   "outputs": [],
   "source": [
    "# qa = stack.sel(band=\"QA_PIXEL\").astype(\"uint16\")\n",
    "# bad = qa & bitmask  # just look at those 4 bits\n",
    "# good = stack.where(bad == 0)  # mask pixels where any one of those bits are set"
   ]
  },
  {
   "cell_type": "code",
   "execution_count": 14,
   "id": "b4419a7d-1efe-45d6-92a0-a07e24eb6b10",
   "metadata": {},
   "outputs": [],
   "source": [
    "# # What's the typical interval between scenes?\n",
    "# good.time.diff(\"time\").dt.days.plot.hist();"
   ]
  },
  {
   "cell_type": "markdown",
   "id": "7edb78de-adf3-41a5-9fb7-e2d90065cea7",
   "metadata": {},
   "source": [
    "## Make biannual median composites\n",
    "\n",
    "The Landsat-8 scenes appear to typically be 5-15 days apart. Let's composite that down to a 6-month interval.\n",
    "\n",
    "Since the cloudy pixels we masked with NaNs will be ignored in the `median`, this should give us a decent cloud-free-ish image for each."
   ]
  },
  {
   "cell_type": "code",
   "execution_count": 15,
   "id": "850986d1-d704-43d4-a910-6ea4fe7c9dad",
   "metadata": {},
   "outputs": [],
   "source": [
    "# # Make biannual median composites (`2Q` means 2 quarters)\n",
    "# composites = good.resample(time=\"2Q\").median(\"time\")\n",
    "# composites"
   ]
  },
  {
   "cell_type": "markdown",
   "id": "f394f510-8da5-41c2-b3a6-d8da2ec75679",
   "metadata": {},
   "source": [
    "Pick the red-green-blue bands to make a true-color image."
   ]
  },
  {
   "cell_type": "code",
   "execution_count": 16,
   "id": "3fca7294-c17e-418f-b29b-74d94e8e5d48",
   "metadata": {},
   "outputs": [],
   "source": [
    "# rgb = composites.sel(band=[\"red\", \"green\", \"blue\"])\n",
    "# rgb"
   ]
  },
  {
   "cell_type": "markdown",
   "id": "f16b0c97-bf46-4b69-a689-21317e9fc73e",
   "metadata": {},
   "source": [
    "Some final cleanup to make a nicer-looking animation:\n",
    "\n",
    "* Forward-fill any NaN pixels from the previous frame, to make the animation look less jumpy.\n",
    "* Also skip the first frame, since its NaNs can't be filled from anywhere."
   ]
  },
  {
   "cell_type": "code",
   "execution_count": 17,
   "id": "2d28eb2b-699d-4881-8664-6e7d73227251",
   "metadata": {},
   "outputs": [],
   "source": [
    "# cleaned = rgb.ffill(\"time\")[1:]"
   ]
  },
  {
   "cell_type": "markdown",
   "id": "2544245a-6f0c-4fee-8db3-a83d2b7b61c7",
   "metadata": {},
   "source": [
    "## Render the GIF\n",
    "\n",
    "Use [GeoGIF](https://geogif.readthedocs.io/en/latest/) to turn the stack into an animation. We'll use [dgif](https://geogif.readthedocs.io/en/latest/api.html#dask-dgif) to render the GIF on the cluster, so there's less data to send back. (GIFs are a lot smaller than NumPy arrays!)"
   ]
  },
  {
   "cell_type": "code",
   "execution_count": 18,
   "id": "f1a1a5d2",
   "metadata": {},
   "outputs": [],
   "source": [
    "# client.wait_for_workers(20)"
   ]
  },
  {
   "cell_type": "code",
   "execution_count": 19,
   "id": "0dd121d2-c3ca-409c-b78d-fbfb7f2f4fe9",
   "metadata": {},
   "outputs": [],
   "source": [
    "# %%time\n",
    "# gif_img = geogif.dgif(cleaned).compute()"
   ]
  },
  {
   "cell_type": "code",
   "execution_count": 20,
   "id": "b0e37ddf-e725-4a28-b1c5-0dc0a1c1a568",
   "metadata": {},
   "outputs": [],
   "source": [
    "# we turned ~7GiB of data into a 4MB GIF!\n",
    "# dask.utils.format_bytes(len(gif_img.data))"
   ]
  },
  {
   "cell_type": "code",
   "execution_count": 21,
   "id": "08cff817-eefe-41de-b12c-57424b418447",
   "metadata": {},
   "outputs": [],
   "source": [
    "# gif_img"
   ]
  },
  {
   "cell_type": "code",
   "execution_count": null,
   "id": "66117484",
   "metadata": {},
   "outputs": [],
   "source": []
  }
 ],
 "metadata": {
  "kernelspec": {
   "display_name": "codebook",
   "language": "python",
   "name": "python3"
  },
  "language_info": {
   "codemirror_mode": {
    "name": "ipython",
    "version": 3
   },
   "file_extension": ".py",
   "mimetype": "text/x-python",
   "name": "python",
   "nbconvert_exporter": "python",
   "pygments_lexer": "ipython3",
   "version": "3.10.8"
  },
  "vscode": {
   "interpreter": {
    "hash": "c93fce58bee601ad3792801bf4155aef0845d4c3534dc8dffbc443bf786baa2e"
   }
  }
 },
 "nbformat": 4,
 "nbformat_minor": 5
}
