{
 "cells": [
  {
   "cell_type": "markdown",
   "id": "c5ee3b6d-9a37-4e12-be67-40d150c235c2",
   "metadata": {},
   "source": [
    "# Question types\n",
    "\n"
   ]
  },
  {
   "cell_type": "code",
   "execution_count": null,
   "id": "ee2ffe05-66ec-43f8-b7e6-2db9302dee83",
   "metadata": {
    "tags": []
   },
   "outputs": [],
   "source": [
    "import pathlib\n",
    "import warnings\n",
    "\n",
    "import geoviews.tile_sources as gvts\n",
    "import hvplot.pandas\n",
    "import hvplot.xarray\n",
    "import panel as pn\n",
    "import requests\n",
    "\n",
    "from coastal_dynamics.geometries import geo_bbox\n",
    "from coastal_dynamics.questions.factory import QuestionWidgetFactory\n",
    "from coastal_dynamics.questions.multiple_choice import MultipleChoiceQuestion\n",
    "from coastal_dynamics.questions.multiple_selection import MultipleSelectionQuestion\n",
    "from coastal_dynamics.questions.numeric import NumericQuestion\n",
    "from coastal_dynamics.visualization import DynamicWavePlot\n",
    "\n",
    "pn.extension()"
   ]
  },
  {
   "cell_type": "code",
   "execution_count": null,
   "id": "fb5cbe03-09f6-4e36-98bb-4304be46a526",
   "metadata": {},
   "outputs": [],
   "source": [
    "def fetch_questions(url):\n",
    "    response = requests.get(url)\n",
    "    response.raise_for_status()\n",
    "    return response.json()\n",
    "\n",
    "\n",
    "url = \"https://coclico.blob.core.windows.net/coastal-dynamics/questions/template.json\"\n",
    "questions = fetch_questions(url)"
   ]
  },
  {
   "cell_type": "code",
   "execution_count": null,
   "id": "a66b25aa-1f04-4dda-bcda-8e3c5f257ba2",
   "metadata": {},
   "outputs": [],
   "source": [
    "questions.keys()"
   ]
  },
  {
   "cell_type": "code",
   "execution_count": null,
   "id": "22c3f14c-fad5-44de-9b82-d29e30c3c083",
   "metadata": {},
   "outputs": [],
   "source": [
    "questions[\"q1\"]"
   ]
  },
  {
   "cell_type": "code",
   "execution_count": null,
   "id": "9bfcb690-ea32-41bd-aa64-96a7d987bee9",
   "metadata": {},
   "outputs": [],
   "source": [
    "question_data = questions[\"q1\"]\n",
    "factory = QuestionWidgetFactory(question_data)\n",
    "factory.create_question_widget().serve()"
   ]
  },
  {
   "cell_type": "code",
   "execution_count": null,
   "id": "8990242d-5bc9-4af7-a3dd-06a60e7c5c0e",
   "metadata": {},
   "outputs": [],
   "source": [
    "warnings.filterwarnings(\"ignore\", category=FutureWarning, module=\"holoviews.core.data\")\n",
    "wave_plot = DynamicWavePlot(amplitude_range=(1, 3, 0.5), wavelength_range=(5, 20, 0.1))\n",
    "wave_plot"
   ]
  },
  {
   "cell_type": "code",
   "execution_count": null,
   "id": "6e5834eb-dd7e-4f50-9d09-008841998cfa",
   "metadata": {},
   "outputs": [],
   "source": [
    "base_plot = gvts.EsriImagery(width=900, height=500)\n",
    "base_plot"
   ]
  },
  {
   "cell_type": "code",
   "execution_count": null,
   "id": "f65284e7-7568-488e-9fc1-2ae96264f1a7",
   "metadata": {},
   "outputs": [],
   "source": []
  }
 ],
 "metadata": {
  "kernelspec": {
   "display_name": "Python [conda env:jl-full] *",
   "language": "python",
   "name": "conda-env-jl-full-py"
  },
  "language_info": {
   "codemirror_mode": {
    "name": "ipython",
    "version": 3
   },
   "file_extension": ".py",
   "mimetype": "text/x-python",
   "name": "python",
   "nbconvert_exporter": "python",
   "pygments_lexer": "ipython3",
   "version": "3.11.6"
  }
 },
 "nbformat": 4,
 "nbformat_minor": 5
}
