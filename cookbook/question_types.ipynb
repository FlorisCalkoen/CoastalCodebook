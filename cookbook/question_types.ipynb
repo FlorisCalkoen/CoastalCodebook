{
 "cells": [
  {
   "cell_type": "markdown",
   "id": "c5ee3b6d-9a37-4e12-be67-40d150c235c2",
   "metadata": {},
   "source": [
    "# Question types\n",
    "\n"
   ]
  },
  {
   "cell_type": "code",
   "execution_count": null,
   "id": "ee2ffe05-66ec-43f8-b7e6-2db9302dee83",
   "metadata": {
    "tags": []
   },
   "outputs": [],
   "source": [
    "import pathlib\n",
    "import warnings\n",
    "\n",
    "import geoviews.tile_sources as gvts\n",
    "import hvplot.pandas\n",
    "import hvplot.xarray\n",
    "import panel as pn\n",
    "import pooch\n",
    "import requests\n",
    "\n",
    "from coastal_dynamics.geometries import geo_bbox\n",
    "from coastal_dynamics.questions.factory import QuestionWidgetFactory\n",
    "from coastal_dynamics.questions.multiple_choice import MultipleChoiceQuestion\n",
    "from coastal_dynamics.questions.multiple_selection import MultipleSelectionQuestion\n",
    "from coastal_dynamics.questions.numeric import NumericQuestion\n",
    "from coastal_dynamics.questions.text import TextQuestion\n",
    "from coastal_dynamics.visualization import DynamicWavePlot\n",
    "\n",
    "pn.extension()"
   ]
  },
  {
   "cell_type": "markdown",
   "id": "a98d5110-c1df-4ccd-93a2-69c0766e1b14",
   "metadata": {},
   "source": [
    "## Examples for all four question types"
   ]
  },
  {
   "cell_type": "markdown",
   "id": "03cd1328-23c5-4cb4-aedb-5e2ccda3d6ca",
   "metadata": {},
   "source": [
    "#### Multiple Choice"
   ]
  },
  {
   "cell_type": "code",
   "execution_count": null,
   "id": "04e8960c-7944-4d2b-8f44-753f212c5712",
   "metadata": {},
   "outputs": [],
   "source": [
    "mcq = MultipleChoiceQuestion(\n",
    "    question_name=\"Q1: Simple Multiple Choice Question\",\n",
    "    question_text=\"What coastal landform do you typically find in tide-dominated environments?\",\n",
    "    question_options={\n",
    "        \"a\": \"Mudflats\",\n",
    "        \"b\": \"Open coasts\",\n",
    "        \"c\": \"Cliffed coasts\",\n",
    "        \"d\": \"Mixed sand and gravel beaches\",\n",
    "    },\n",
    "    question_answer=\"a\",\n",
    ").serve()"
   ]
  },
  {
   "cell_type": "markdown",
   "id": "3680283a-5d46-471b-a53c-c27505fa8693",
   "metadata": {},
   "source": [
    "#### Multiple Selection"
   ]
  },
  {
   "cell_type": "code",
   "execution_count": null,
   "id": "355751fa-03be-4d20-b878-a2405a485696",
   "metadata": {},
   "outputs": [],
   "source": [
    "msq = MultipleSelectionQuestion(\n",
    "    question_name=\"Q1: Simple Multiple Selection Question\",\n",
    "    question_text=\"Select all morphological systems that are commonly in coastal areas.\",\n",
    "    question_options={\n",
    "        \"a\": \"Beaches\",\n",
    "        \"b\": \"Glaciers\",\n",
    "        \"c\": \"Estuaries\",\n",
    "        \"d\": \"Mountains\",\n",
    "        \"e\": \"Sand\", \n",
    "        \"f\": \"Mud\", \n",
    "    },\n",
    "    question_answers=[\"a\", \"c\"],\n",
    ").serve()"
   ]
  },
  {
   "cell_type": "markdown",
   "id": "13127b30-9ca9-4c78-aa2a-734a42570aeb",
   "metadata": {},
   "source": [
    "#### Numeric question"
   ]
  },
  {
   "cell_type": "code",
   "execution_count": null,
   "id": "9407d4b0-517f-4739-86da-c2ff517eda47",
   "metadata": {},
   "outputs": [],
   "source": [
    "nq = NumericQuestion(\n",
    "    question_name=\"Q3: Simple Numeric Question\",\n",
    "    question_text=\"What is the PSU of the global ocean?\",\n",
    "    question_answer=35,\n",
    "    **{\"precision\": 0},\n",
    ").serve()\n"
   ]
  },
  {
   "cell_type": "markdown",
   "id": "5943dba1-e349-4299-9e7d-49c293afe1e3",
   "metadata": {},
   "source": [
    "#### Text Question"
   ]
  },
  {
   "cell_type": "code",
   "execution_count": null,
   "id": "f65284e7-7568-488e-9fc1-2ae96264f1a7",
   "metadata": {},
   "outputs": [],
   "source": [
    "TextQuestion(\n",
    "    question_name=\"Q4: Some simple text question\",\n",
    "    question_text=\"How do you call the force that generates the tide?\",\n",
    "    question_answer=\"Gravitational pull\",\n",
    ").serve()"
   ]
  },
  {
   "cell_type": "markdown",
   "id": "052aeeee-92be-44e8-b3f5-defa0181e437",
   "metadata": {},
   "source": [
    "### Some basis visualization blocks"
   ]
  },
  {
   "cell_type": "code",
   "execution_count": null,
   "id": "8990242d-5bc9-4af7-a3dd-06a60e7c5c0e",
   "metadata": {},
   "outputs": [],
   "source": [
    "warnings.filterwarnings(\"ignore\", category=FutureWarning, module=\"holoviews.core.data\")\n",
    "wave_plot = DynamicWavePlot(amplitude_range=(1, 3, 0.5), wavelength_range=(5, 20, 0.1))\n",
    "wave_plot"
   ]
  },
  {
   "cell_type": "code",
   "execution_count": null,
   "id": "6e5834eb-dd7e-4f50-9d09-008841998cfa",
   "metadata": {},
   "outputs": [],
   "source": [
    "base_plot = gvts.EsriImagery(width=900, height=500)\n",
    "base_plot"
   ]
  },
  {
   "cell_type": "markdown",
   "id": "2d336878-1e9d-4616-ab16-1156f0b7b7cf",
   "metadata": {},
   "source": [
    "### Combine using panel"
   ]
  },
  {
   "cell_type": "code",
   "execution_count": null,
   "id": "0c7c744f-8f0f-41f3-a0bd-41d6f38a585f",
   "metadata": {},
   "outputs": [],
   "source": [
    "pn.Column(wave_plot, base_plot)"
   ]
  },
  {
   "cell_type": "markdown",
   "id": "12f41647-179d-499c-bfd0-b60856307b93",
   "metadata": {},
   "source": [
    "## Make questions from a database (json) that is formatted like below"
   ]
  },
  {
   "cell_type": "code",
   "execution_count": null,
   "id": "fb5cbe03-09f6-4e36-98bb-4304be46a526",
   "metadata": {},
   "outputs": [],
   "source": [
    "import json\n",
    "\n",
    "import pooch\n",
    "\n",
    "template_questions_href = pooch.retrieve(\n",
    "    \"https://coclico.blob.core.windows.net/coastal-dynamics/questions/template.json\",\n",
    "    known_hash=\"9ef56da50895d243cc5bdb2184f838a33706195522fbb8992767defd6b8d0b96\",\n",
    ")\n",
    "\n",
    "with pathlib.Path(template_questions_href).open(\"r\") as f:\n",
    "    questions = json.loads(f.read())"
   ]
  },
  {
   "cell_type": "code",
   "execution_count": null,
   "id": "22c3f14c-fad5-44de-9b82-d29e30c3c083",
   "metadata": {},
   "outputs": [],
   "source": [
    "questions[\"q1\"]"
   ]
  },
  {
   "cell_type": "markdown",
   "id": "1d30b4bf-1feb-4a87-845b-41291c28b8b5",
   "metadata": {},
   "source": [
    "### This is a factory class that builds the quetions based on the question type"
   ]
  },
  {
   "cell_type": "code",
   "execution_count": null,
   "id": "9bfcb690-ea32-41bd-aa64-96a7d987bee9",
   "metadata": {},
   "outputs": [],
   "source": [
    "question_data = questions[\"q1\"]\n",
    "factory = QuestionWidgetFactory(question_data)\n",
    "q1 = factory.create_question_widget().serve()"
   ]
  },
  {
   "cell_type": "markdown",
   "id": "3d26cb47-d55a-40df-a132-0f15af2dc0f6",
   "metadata": {},
   "source": [
    "### Combine all in a dashboard - works also for other questions"
   ]
  },
  {
   "cell_type": "code",
   "execution_count": null,
   "id": "5609798a-52a5-46ff-8a9a-a278973984d6",
   "metadata": {},
   "outputs": [],
   "source": [
    "all_questions_panel = pn.Column(sizing_mode=\"stretch_width\")\n",
    "\n",
    "# Add each question's panel to the main Panel column\n",
    "for key, question_data in questions.items():\n",
    "    question_panel = QuestionWidgetFactory(question_data).create_question_widget().serve()\n",
    "    all_questions_panel.append(question_panel)\n",
    "\n",
    "# Create a wave plot and a base plot\n",
    "wave_plot = DynamicWavePlot(\n",
    "    amplitude_range=(1, 3, 0.5), wavelength_range=(5, 20, 0.1)\n",
    ")\n",
    "base_plot = gvts.EsriImagery(width=900, height=500)\n",
    "\n",
    "# Combine all components into a single dashboard\n",
    "dashboard = pn.Column(\n",
    "    pn.pane.Markdown(\"# Questions\"),\n",
    "    all_questions_panel,\n",
    "    pn.pane.Markdown(\"# Coastal Dynamics Interactive Dashboard\"),\n",
    "    base_plot,\n",
    "    wave_plot.__panel__(),  # Assuming DynamicWavePlot has a __panel__ method\n",
    "    sizing_mode=\"stretch_width\",\n",
    ")\n",
    "# or dashboard.show() for the browser\n",
    "dashboard"
   ]
  },
  {
   "cell_type": "code",
   "execution_count": null,
   "id": "9bd3a82b-7a58-4a13-bd41-97a689f4ecaa",
   "metadata": {},
   "outputs": [],
   "source": []
  },
  {
   "cell_type": "code",
   "execution_count": null,
   "id": "de740776-b50f-47ab-8807-437de0a4c981",
   "metadata": {},
   "outputs": [],
   "source": []
  },
  {
   "cell_type": "code",
   "execution_count": null,
   "id": "b6c6af8b-ce08-41a6-ae0f-b2ad6c59d2a5",
   "metadata": {},
   "outputs": [],
   "source": []
  }
 ],
 "metadata": {
  "kernelspec": {
   "display_name": "Python [conda env:jl-full] *",
   "language": "python",
   "name": "conda-env-jl-full-py"
  },
  "language_info": {
   "codemirror_mode": {
    "name": "ipython",
    "version": 3
   },
   "file_extension": ".py",
   "mimetype": "text/x-python",
   "name": "python",
   "nbconvert_exporter": "python",
   "pygments_lexer": "ipython3",
   "version": "3.11.6"
  }
 },
 "nbformat": 4,
 "nbformat_minor": 5
}
