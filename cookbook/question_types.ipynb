{
 "cells": [
  {
   "cell_type": "markdown",
   "id": "da2c1dc2-faa0-4086-b5e3-2483a6b8f762",
   "metadata": {},
   "source": [
    "## Example of how to make questions from a JSON file"
   ]
  },
  {
   "cell_type": "code",
   "execution_count": null,
   "id": "8c947305-86db-4aa3-aa4d-b0d92eaffbbb",
   "metadata": {},
   "outputs": [],
   "source": [
    "import pathlib\n",
    "\n",
    "import panel as pn\n",
    "\n",
    "import coastal_dynamics as cd\n",
    "from coastal_dynamics.io import load_questions\n",
    "\n",
    "# Activate the Panel widget to make the visualizations.\n",
    "pn.extension()\n",
    "\n",
    "# You can save your questions here. Please follow same naming conventions as the notebooks. When converting a Python dictionary\n",
    "# with the questions as they are ATM to a JSON file, watch out for trailing comma's. Your code error will warn you. But if you\n",
    "# cannot read the JSON file with the function, it's probably related to that.\n",
    "QUESTION_DIR = pathlib.Path.cwd().parent / \"notebooks\" / \"questions\"\n",
    "question_fp = QUESTION_DIR / \"1_coastal_classification.json\"\n",
    "\n",
    "# The coastal dynamics package now contains a small utilty function to load the questions from a JSON file\n",
    "questions = load_questions(question_fp)\n",
    "\n",
    "# The QuestionFactory can handle the four question types.\n",
    "q1 = cd.QuestionFactory(\n",
    "    questions[\"Q1-1\"]\n",
    ").serve()  # Here 1-1 refers to notebook 1 question 1.\n",
    "q2 = cd.QuestionFactory(questions[\"Q1-2\"]).serve()\n",
    "pn.Column(q1, q2)"
   ]
  },
  {
   "cell_type": "markdown",
   "id": "a98d5110-c1df-4ccd-93a2-69c0766e1b14",
   "metadata": {},
   "source": [
    "## Additional examples for all four question types"
   ]
  },
  {
   "cell_type": "code",
   "execution_count": null,
   "id": "bb7b9bac-90cc-45bc-a150-1c8e665ce58a",
   "metadata": {},
   "outputs": [],
   "source": [
    "import pathlib\n",
    "import warnings\n",
    "\n",
    "import geoviews.tile_sources as gvts\n",
    "import hvplot.pandas\n",
    "import hvplot.xarray\n",
    "import pooch\n",
    "import requests\n",
    "\n",
    "from coastal_dynamics.geometries import geo_bbox\n",
    "from coastal_dynamics.visualization import DynamicWavePlot\n",
    "\n",
    "pn.extension()"
   ]
  },
  {
   "cell_type": "markdown",
   "id": "03cd1328-23c5-4cb4-aedb-5e2ccda3d6ca",
   "metadata": {},
   "source": [
    "#### Multiple Choice"
   ]
  },
  {
   "cell_type": "code",
   "execution_count": null,
   "id": "04e8960c-7944-4d2b-8f44-753f212c5712",
   "metadata": {},
   "outputs": [],
   "source": [
    "cd.MultipleChoiceQuestion(\n",
    "    question_name=\"Q1: Simple Multiple Choice Question\",\n",
    "    question_text=\"What coastal landform do you typically find in tide-dominated environments?\",\n",
    "    question_options={\n",
    "        \"a\": \"Mudflats\",\n",
    "        \"b\": \"Open coasts\",\n",
    "        \"c\": \"Cliffed coasts\",\n",
    "        \"d\": \"Mixed sand and gravel beaches\",\n",
    "    },\n",
    "    question_answer=\"a\",\n",
    "    question_feedback={\n",
    "        \"correct\": \"Indeed, ...\",\n",
    "        \"incorrect\": \"Unfortunately incorrect. Please consder...\",\n",
    "    },\n",
    ").serve()"
   ]
  },
  {
   "cell_type": "markdown",
   "id": "3680283a-5d46-471b-a53c-c27505fa8693",
   "metadata": {},
   "source": [
    "#### Multiple Selection"
   ]
  },
  {
   "cell_type": "code",
   "execution_count": null,
   "id": "355751fa-03be-4d20-b878-a2405a485696",
   "metadata": {},
   "outputs": [],
   "source": [
    "cd.MultipleSelectionQuestion(\n",
    "    question_name=\"Q1: Simple Multiple Selection Question\",\n",
    "    question_text=\"Select all morphological systems that are commonly in coastal areas.\",\n",
    "    question_options={\n",
    "        \"a\": \"Beaches\",\n",
    "        \"b\": \"Glaciers\",\n",
    "        \"c\": \"Estuaries\",\n",
    "        \"d\": \"Mountains\",\n",
    "        \"e\": \"Sand\",\n",
    "        \"f\": \"Mud\",\n",
    "    },\n",
    "    question_answers=[\"a\", \"c\"],\n",
    "    question_feedback={\n",
    "        \"correct\": \"Indeed, ...\",\n",
    "        \"incorrect\": \"Unfortunately incorrect. Please consder...\",\n",
    "    },\n",
    ").serve()"
   ]
  },
  {
   "cell_type": "markdown",
   "id": "13127b30-9ca9-4c78-aa2a-734a42570aeb",
   "metadata": {},
   "source": [
    "#### Numeric question"
   ]
  },
  {
   "cell_type": "code",
   "execution_count": null,
   "id": "9407d4b0-517f-4739-86da-c2ff517eda47",
   "metadata": {},
   "outputs": [],
   "source": [
    "kwargs = {\"precision\": 2}\n",
    "cd.NumericQuestion(\n",
    "    question_name=\"Q3: Simple Numeric Question\",\n",
    "    question_text=\"What is the PSU of the global ocean?\",\n",
    "    question_answer=35,\n",
    "    question_feedback={\n",
    "        \"correct\": \"Indeed, ...\",\n",
    "        \"incorrect\": \"Unfortunately incorrect. Please consder...\",\n",
    "    },\n",
    "    **kwargs,\n",
    ").serve()"
   ]
  },
  {
   "cell_type": "markdown",
   "id": "5943dba1-e349-4299-9e7d-49c293afe1e3",
   "metadata": {},
   "source": [
    "#### Text Question"
   ]
  },
  {
   "cell_type": "code",
   "execution_count": null,
   "id": "f65284e7-7568-488e-9fc1-2ae96264f1a7",
   "metadata": {},
   "outputs": [],
   "source": [
    "cd.TextQuestion(\n",
    "    question_name=\"Q4: Some simple text question\",\n",
    "    question_text=\"How do you call the force that generates the tide?\",\n",
    "    question_answer=\"Gravitational pull\",\n",
    "    question_feedback={\n",
    "        \"correct\": \"Indeed, ...\",\n",
    "        \"incorrect\": \"Unfortunately incorrect. Please consder...\",\n",
    "    },\n",
    ").serve().show()"
   ]
  },
  {
   "cell_type": "markdown",
   "id": "052aeeee-92be-44e8-b3f5-defa0181e437",
   "metadata": {},
   "source": [
    "### Some basis visualization blocks"
   ]
  },
  {
   "cell_type": "code",
   "execution_count": null,
   "id": "8990242d-5bc9-4af7-a3dd-06a60e7c5c0e",
   "metadata": {},
   "outputs": [],
   "source": [
    "warnings.filterwarnings(\"ignore\", category=FutureWarning, module=\"holoviews.core.data\")\n",
    "wave_plot = DynamicWavePlot(amplitude_range=(1, 3, 0.5), wavelength_range=(5, 20, 0.1))\n",
    "wave_plot"
   ]
  },
  {
   "cell_type": "code",
   "execution_count": null,
   "id": "6e5834eb-dd7e-4f50-9d09-008841998cfa",
   "metadata": {},
   "outputs": [],
   "source": [
    "base_plot = gvts.EsriImagery(width=900, height=500)\n",
    "base_plot"
   ]
  },
  {
   "cell_type": "markdown",
   "id": "2d336878-1e9d-4616-ab16-1156f0b7b7cf",
   "metadata": {},
   "source": [
    "### Combine using panel"
   ]
  },
  {
   "cell_type": "code",
   "execution_count": null,
   "id": "0c7c744f-8f0f-41f3-a0bd-41d6f38a585f",
   "metadata": {},
   "outputs": [],
   "source": [
    "pn.Column(wave_plot, base_plot)"
   ]
  },
  {
   "cell_type": "markdown",
   "id": "3d26cb47-d55a-40df-a132-0f15af2dc0f6",
   "metadata": {},
   "source": [
    "### Combine all in a dashboard - works also for other questions"
   ]
  },
  {
   "cell_type": "code",
   "execution_count": null,
   "id": "5609798a-52a5-46ff-8a9a-a278973984d6",
   "metadata": {},
   "outputs": [],
   "source": [
    "all_questions_panel = pn.Column(sizing_mode=\"stretch_width\")\n",
    "\n",
    "# Add each question's panel to the main Panel column\n",
    "for key, question_data in questions.items():\n",
    "    question_panel = cd.QuestionFactory(question_data).serve()\n",
    "    all_questions_panel.append(question_panel)\n",
    "\n",
    "# Create a wave plot and a base plot\n",
    "wave_plot = DynamicWavePlot(amplitude_range=(1, 3, 0.5), wavelength_range=(5, 20, 0.1))\n",
    "base_plot = gvts.EsriImagery(width=900, height=500)\n",
    "\n",
    "# Combine all components into a single dashboard\n",
    "dashboard = pn.Column(\n",
    "    pn.pane.Markdown(\"# Questions\"),\n",
    "    all_questions_panel,\n",
    "    pn.pane.Markdown(\"# Coastal Dynamics Interactive Dashboard\"),\n",
    "    base_plot,\n",
    "    wave_plot.__panel__(),  # Assuming DynamicWavePlot has a __panel__ method\n",
    "    sizing_mode=\"stretch_width\",\n",
    ")\n",
    "# or dashboard.show() for the browser\n",
    "dashboard"
   ]
  },
  {
   "cell_type": "code",
   "execution_count": null,
   "id": "9bd3a82b-7a58-4a13-bd41-97a689f4ecaa",
   "metadata": {},
   "outputs": [],
   "source": []
  },
  {
   "cell_type": "code",
   "execution_count": null,
   "id": "de740776-b50f-47ab-8807-437de0a4c981",
   "metadata": {},
   "outputs": [],
   "source": []
  },
  {
   "cell_type": "code",
   "execution_count": null,
   "id": "b6c6af8b-ce08-41a6-ae0f-b2ad6c59d2a5",
   "metadata": {},
   "outputs": [],
   "source": []
  }
 ],
 "metadata": {
  "kernelspec": {
   "display_name": "Python [conda env:jl-full] *",
   "language": "python",
   "name": "conda-env-jl-full-py"
  },
  "language_info": {
   "codemirror_mode": {
    "name": "ipython",
    "version": 3
   },
   "file_extension": ".py",
   "mimetype": "text/x-python",
   "name": "python",
   "nbconvert_exporter": "python",
   "pygments_lexer": "ipython3",
   "version": "3.11.6"
  }
 },
 "nbformat": 4,
 "nbformat_minor": 5
}
