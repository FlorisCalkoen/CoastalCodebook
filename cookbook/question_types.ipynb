{
 "cells": [
  {
   "cell_type": "markdown",
   "id": "da2c1dc2-faa0-4086-b5e3-2483a6b8f762",
   "metadata": {},
   "source": [
    "# Example notebook on how to make questions\n",
    "\n",
    "The SAS token provides access cloud storage. Ask Floris Calkoen if you need one. "
   ]
  },
  {
   "cell_type": "code",
   "execution_count": null,
   "id": "7626b535-d5bb-4859-ad34-0fb5014456c2",
   "metadata": {},
   "outputs": [],
   "source": [
    "import json\n",
    "import os\n",
    "import pathlib\n",
    "\n",
    "import dotenv\n",
    "import fsspec\n",
    "import panel as pn\n",
    "\n",
    "import coastal_dynamics as cd\n",
    "\n",
    "dotenv.load_dotenv(override=True)\n",
    "account_name = \"coclico\"\n",
    "sas_token = os.getenv(\"AZURE_STORAGE_SAS_TOKEN\")\n",
    "storage_options = {\"account_name\": account_name, \"sas_token\": sas_token}"
   ]
  },
  {
   "cell_type": "markdown",
   "id": "326afad5-7b6e-4a0b-abc8-c7866ae11ac7",
   "metadata": {},
   "source": [
    "## Make a database of questions\n",
    "\n",
    "Make your questions in JSON format, following the example.json that is listed below - watch out for trailing comma's.\n",
    "Also please follow the naming convention (keys) as in that example. The answers will be stored in a private cloud\n",
    "container. With scripts/python/hash_questions.py we can hash the questions and store that in a public cloud container"
   ]
  },
  {
   "cell_type": "code",
   "execution_count": null,
   "id": "8c947305-86db-4aa3-aa4d-b0d92eaffbbb",
   "metadata": {},
   "outputs": [],
   "source": [
    "# Activate the Panel widget to make the visualizations.\n",
    "pn.extension()\n",
    "\n",
    "\n",
    "# Read both the unhashed and hashed answers\n",
    "blob_name_non_hashed_answers = \"az://coastal-dynamics/questions/example.json\"\n",
    "blob_name = \"az://coastal-dynamics/questions/example_hashed.json\"\n",
    "\n",
    "questions = cd.read_questions(blob_name, storage_options)\n",
    "\n",
    "# The QuestionFactory can handle the four question types.\n",
    "q1 = cd.QuestionFactory(\n",
    "    questions[\"Q1-1\"]\n",
    ").serve()  # Here 1-1 refers to notebook 1 question 1.\n",
    "q2 = cd.QuestionFactory(questions[\"Q1-2\"]).serve()\n",
    "pn.Column(q1, q2)"
   ]
  },
  {
   "cell_type": "markdown",
   "id": "a98d5110-c1df-4ccd-93a2-69c0766e1b14",
   "metadata": {},
   "source": [
    "## Additional examples for all four question types\n"
   ]
  },
  {
   "cell_type": "code",
   "execution_count": null,
   "id": "bb7b9bac-90cc-45bc-a150-1c8e665ce58a",
   "metadata": {},
   "outputs": [],
   "source": [
    "import pathlib\n",
    "import warnings\n",
    "\n",
    "import geoviews.tile_sources as gvts\n",
    "import hvplot.pandas\n",
    "import hvplot.xarray\n",
    "import pooch\n",
    "import requests\n",
    "\n",
    "from coastal_dynamics.geometries import geo_bbox\n",
    "from coastal_dynamics.visualization import DynamicWavePlot\n",
    "\n",
    "pn.extension()"
   ]
  },
  {
   "cell_type": "markdown",
   "id": "03cd1328-23c5-4cb4-aedb-5e2ccda3d6ca",
   "metadata": {},
   "source": [
    "#### Multiple Choice"
   ]
  },
  {
   "cell_type": "code",
   "execution_count": null,
   "id": "04e8960c-7944-4d2b-8f44-753f212c5712",
   "metadata": {},
   "outputs": [],
   "source": [
    "cd.MultipleChoiceQuestion(\n",
    "    question_name=\"Q1: Simple Multiple Choice Question\",\n",
    "    question_text=\"What coastal landform do you typically find in tide-dominated environments?\",\n",
    "    question_options={\n",
    "        \"a\": \"Mudflats\",\n",
    "        \"b\": \"Open coasts\",\n",
    "        \"c\": \"Cliffed coasts\",\n",
    "        \"d\": \"Mixed sand and gravel beaches\",\n",
    "    },\n",
    "    question_answer=cd.hash_answer(\"a\", \"multiple_choice\"),\n",
    "    question_feedback={\n",
    "        \"correct\": \"Indeed, ...\",\n",
    "        \"incorrect\": \"Unfortunately incorrect. Please consder...\",\n",
    "    },\n",
    ").serve()"
   ]
  },
  {
   "cell_type": "markdown",
   "id": "3680283a-5d46-471b-a53c-c27505fa8693",
   "metadata": {},
   "source": [
    "#### Multiple Selection"
   ]
  },
  {
   "cell_type": "code",
   "execution_count": null,
   "id": "355751fa-03be-4d20-b878-a2405a485696",
   "metadata": {},
   "outputs": [],
   "source": [
    "cd.MultipleSelectionQuestion(\n",
    "    question_name=\"Q1: Simple Multiple Selection Question\",\n",
    "    question_text=\"Select all morphological systems that are commonly in coastal areas.\",\n",
    "    question_options={\n",
    "        \"a\": \"Beaches\",\n",
    "        \"b\": \"Glaciers\",\n",
    "        \"c\": \"Estuaries\",\n",
    "        \"d\": \"Mountains\",\n",
    "        \"e\": \"Sand\",\n",
    "        \"f\": \"Mud\",\n",
    "    },\n",
    "    question_answers=cd.hash_answer([\"a\", \"c\"], \"multiple_selection\"),\n",
    "    question_feedback={\n",
    "        \"correct\": \"Indeed, ...\",\n",
    "        \"incorrect\": \"Unfortunately incorrect. Please consder...\",\n",
    "    },\n",
    ").serve()"
   ]
  },
  {
   "cell_type": "markdown",
   "id": "13127b30-9ca9-4c78-aa2a-734a42570aeb",
   "metadata": {},
   "source": [
    "#### Numeric question"
   ]
  },
  {
   "cell_type": "code",
   "execution_count": null,
   "id": "9407d4b0-517f-4739-86da-c2ff517eda47",
   "metadata": {},
   "outputs": [],
   "source": [
    "kwargs = {\"precision\": 2}\n",
    "cd.NumericQuestion(\n",
    "    question_name=\"Q3: Simple Numeric Question\",\n",
    "    question_text=\"What is the PSU of the global ocean?\",\n",
    "    question_answer=cd.hash_answer(35, \"numeric\", precision=1),\n",
    "    question_feedback={\n",
    "        \"correct\": \"Indeed, ...\",\n",
    "        \"incorrect\": \"Unfortunately incorrect. Please consder...\",\n",
    "    },\n",
    "    precision=1,\n",
    ").serve()"
   ]
  },
  {
   "cell_type": "markdown",
   "id": "5943dba1-e349-4299-9e7d-49c293afe1e3",
   "metadata": {},
   "source": [
    "#### Text Question"
   ]
  },
  {
   "cell_type": "code",
   "execution_count": null,
   "id": "f65284e7-7568-488e-9fc1-2ae96264f1a7",
   "metadata": {},
   "outputs": [],
   "source": [
    "cd.TextQuestion(\n",
    "    question_name=\"Q4: Some simple text question\",\n",
    "    question_text=\"How do you call the force that generates the tide?\",\n",
    "    question_answer=cd.hash_answer(\"Gravitational pull\", \"text\"),\n",
    "    question_feedback={\n",
    "        \"correct\": \"Indeed, ...\",\n",
    "        \"incorrect\": \"Unfortunately incorrect. Please consder...\",\n",
    "    },\n",
    ").serve().show()"
   ]
  },
  {
   "cell_type": "markdown",
   "id": "052aeeee-92be-44e8-b3f5-defa0181e437",
   "metadata": {},
   "source": [
    "### Some basis visualization blocks"
   ]
  },
  {
   "cell_type": "code",
   "execution_count": null,
   "id": "8990242d-5bc9-4af7-a3dd-06a60e7c5c0e",
   "metadata": {},
   "outputs": [],
   "source": [
    "warnings.filterwarnings(\"ignore\", category=FutureWarning, module=\"holoviews.core.data\")\n",
    "wave_plot = DynamicWavePlot(amplitude_range=(1, 3, 0.5), wavelength_range=(5, 20, 0.1))\n",
    "wave_plot"
   ]
  },
  {
   "cell_type": "code",
   "execution_count": null,
   "id": "6e5834eb-dd7e-4f50-9d09-008841998cfa",
   "metadata": {},
   "outputs": [],
   "source": [
    "base_plot = gvts.EsriImagery(width=900, height=500)\n",
    "base_plot"
   ]
  },
  {
   "cell_type": "markdown",
   "id": "2d336878-1e9d-4616-ab16-1156f0b7b7cf",
   "metadata": {},
   "source": [
    "### Combine using panel"
   ]
  },
  {
   "cell_type": "code",
   "execution_count": null,
   "id": "0c7c744f-8f0f-41f3-a0bd-41d6f38a585f",
   "metadata": {},
   "outputs": [],
   "source": [
    "pn.Column(wave_plot, base_plot)"
   ]
  },
  {
   "cell_type": "markdown",
   "id": "3d26cb47-d55a-40df-a132-0f15af2dc0f6",
   "metadata": {},
   "source": [
    "### Combine all in a dashboard - works also for other questions"
   ]
  },
  {
   "cell_type": "code",
   "execution_count": null,
   "id": "5609798a-52a5-46ff-8a9a-a278973984d6",
   "metadata": {},
   "outputs": [],
   "source": [
    "all_questions_panel = pn.Column(sizing_mode=\"stretch_width\")\n",
    "\n",
    "# Add each question's panel to the main Panel column\n",
    "for key, question_data in questions.items():\n",
    "    question_panel = cd.QuestionFactory(question_data).serve()\n",
    "    all_questions_panel.append(question_panel)\n",
    "\n",
    "# Create a wave plot and a base plot\n",
    "wave_plot = DynamicWavePlot(amplitude_range=(1, 3, 0.5), wavelength_range=(5, 20, 0.1))\n",
    "base_plot = gvts.EsriImagery(width=900, height=500)\n",
    "\n",
    "# Combine all components into a single dashboard\n",
    "dashboard = pn.Column(\n",
    "    pn.pane.Markdown(\"# Questions\"),\n",
    "    all_questions_panel,\n",
    "    pn.pane.Markdown(\"# Coastal Dynamics Interactive Dashboard\"),\n",
    "    base_plot,\n",
    "    wave_plot.__panel__(),  # Assuming DynamicWavePlot has a __panel__ method\n",
    "    sizing_mode=\"stretch_width\",\n",
    ")\n",
    "# or dashboard.show() for the browser\n",
    "dashboard"
   ]
  },
  {
   "cell_type": "code",
   "execution_count": null,
   "id": "9bd3a82b-7a58-4a13-bd41-97a689f4ecaa",
   "metadata": {},
   "outputs": [],
   "source": []
  },
  {
   "cell_type": "code",
   "execution_count": null,
   "id": "de740776-b50f-47ab-8807-437de0a4c981",
   "metadata": {},
   "outputs": [],
   "source": []
  },
  {
   "cell_type": "code",
   "execution_count": null,
   "id": "b6c6af8b-ce08-41a6-ae0f-b2ad6c59d2a5",
   "metadata": {},
   "outputs": [],
   "source": []
  }
 ],
 "metadata": {
  "kernelspec": {
   "display_name": "Python 3 (ipykernel)",
   "language": "python",
   "name": "python3"
  },
  "language_info": {
   "codemirror_mode": {
    "name": "ipython",
    "version": 3
   },
   "file_extension": ".py",
   "mimetype": "text/x-python",
   "name": "python",
   "nbconvert_exporter": "python",
   "pygments_lexer": "ipython3",
   "version": "3.11.6"
  }
 },
 "nbformat": 4,
 "nbformat_minor": 5
}
